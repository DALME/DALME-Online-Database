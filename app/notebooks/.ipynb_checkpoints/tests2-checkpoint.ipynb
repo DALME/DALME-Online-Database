{
 "cells": [
  {
   "cell_type": "code",
   "execution_count": 1,
   "id": "aba9e597",
   "metadata": {},
   "outputs": [],
   "source": [
    "import os\n",
    "import re\n",
    "import json\n",
    "import io\n",
    "import copy\n",
    "import datetime\n",
    "import calendar\n",
    "import markdown\n",
    "from bs4 import BeautifulSoup\n",
    "from django_tenants.utils import schema_context\n",
    "\n",
    "from django.apps import apps\n",
    "from django.db import connection\n",
    "from django.contrib.contenttypes.models import ContentType\n",
    "from django.conf import settings\n",
    "from django.core.files import File\n",
    "\n",
    "from django.db import models\n",
    "\n",
    "from ida.models import (\n",
    "    User, Tenant, Scope, Record, Agent, \n",
    "    Attribute, AttributeType, Collection, RecordType, LocaleReference,\n",
    "    Comment)\n",
    "    \n",
    "from django.db.models import Q, Model\n",
    "from ida.context import get_current_tenant\n",
    "\n",
    "from django.db.models import OuterRef, Subquery, F, Value, CharField\n",
    "from django.db.models.functions import Concat, Lower, Cast\n",
    "from decimal import Decimal\n",
    "\n",
    "from operator import itemgetter\n",
    "\n",
    "from domain.historical_date import HistoricalDate, HistoricalDateRange\n",
    "\n",
    "\n",
    "import math\n"
   ]
  },
  {
   "cell_type": "code",
   "execution_count": 2,
   "id": "559e3de1",
   "metadata": {},
   "outputs": [
    {
     "data": {
      "text/plain": [
       "ida.models.abstract.custom_manager.CustomQueryset"
      ]
     },
     "execution_count": 2,
     "metadata": {},
     "output_type": "execute_result"
    }
   ],
   "source": [
    "manager = Collection.objects.all()\n",
    "type(manager)\n"
   ]
  },
  {
   "cell_type": "code",
   "execution_count": 3,
   "id": "96ab7f05",
   "metadata": {},
   "outputs": [
    {
     "name": "stdout",
     "output_type": "stream",
     "text": [
      "None\n",
      "None\n",
      "None\n",
      "None\n",
      "None\n",
      "None\n",
      "None\n"
     ]
    }
   ],
   "source": [
    "for cls in Collection.__bases__:\n",
    "    print(cls._meta.custom_qs if hasattr(cls._meta, 'custom_qs') else None)\n"
   ]
  },
  {
   "cell_type": "code",
   "execution_count": 3,
   "id": "d379532b",
   "metadata": {},
   "outputs": [],
   "source": [
    "#Collection.include_attrs.all()\n",
    "\n",
    "#isinstance(Collection, TenantScopedMixin)\n",
    "#isinstance(Collection.objects, ScopedManager)\n",
    "\n",
    "#isinstance(Collection._meta.default_manager, ScopedManager)\n",
    "#print(Collection._meta.default_manager)\n",
    "\n",
    "# print(Collection._meta.default_manager._queryset_class)\n",
    "# print(Record._meta.default_manager._queryset_class)\n",
    "\n",
    "\n"
   ]
  },
  {
   "cell_type": "code",
   "execution_count": 2,
   "id": "fb97a448",
   "metadata": {},
   "outputs": [
    {
     "data": {
      "text/plain": [
       "64"
      ]
     },
     "execution_count": 2,
     "metadata": {},
     "output_type": "execute_result"
    }
   ],
   "source": [
    "Collection.objects.all().include_attrs('description').count()\n"
   ]
  },
  {
   "cell_type": "code",
   "execution_count": 3,
   "id": "4e5d493f",
   "metadata": {},
   "outputs": [
    {
     "name": "stdout",
     "output_type": "stream",
     "text": [
      "64\n"
     ]
    }
   ],
   "source": [
    "with schema_context('dalme'):\n",
    "    print(Collection.objects.count())\n"
   ]
  },
  {
   "cell_type": "code",
   "execution_count": 4,
   "id": "2ae831a0",
   "metadata": {},
   "outputs": [
    {
     "data": {
      "text/plain": [
       "64"
      ]
     },
     "execution_count": 4,
     "metadata": {},
     "output_type": "execute_result"
    }
   ],
   "source": [
    "\n",
    "Collection.unscoped.count()\n"
   ]
  },
  {
   "cell_type": "code",
   "execution_count": 7,
   "id": "f65af603",
   "metadata": {},
   "outputs": [
    {
     "data": {
      "text/plain": [
       "ida.models.attribute.Attribute"
      ]
     },
     "execution_count": 7,
     "metadata": {},
     "output_type": "execute_result"
    }
   ],
   "source": [
    "test = apps.get_model(app_label='ida', model_name='attribute')\n"
   ]
  },
  {
   "cell_type": "code",
   "execution_count": 6,
   "id": "63f49b22",
   "metadata": {},
   "outputs": [
    {
     "data": {
      "text/plain": [
       "<Options for Attribute>"
      ]
     },
     "execution_count": 6,
     "metadata": {},
     "output_type": "execute_result"
    }
   ],
   "source": [
    "test = Attribute.objects.filter(attribute_type__name='record_type').first()\n",
    "Attribute._meta\n"
   ]
  },
  {
   "cell_type": "code",
   "execution_count": null,
   "id": "8c6f69a8",
   "metadata": {},
   "outputs": [],
   "source": [
    "Record.objects.include_attrs('record_type').order_by('record_type')"
   ]
  },
  {
   "cell_type": "code",
   "execution_count": 2,
   "id": "30db216c",
   "metadata": {},
   "outputs": [
    {
     "data": {
      "text/plain": [
       "<CustomQuerySet [<Record: Inventory of the goods of Franciscus Botelhe (ADBR 56 H 2883)>, <Record: Inventory of Abraham Heller  (Volkert ed.)>, <Record: Inventory of Schalmann (Volkert ed.)>, <Record: Charges against Margherita and Matolda (ASCM, serie C, n. 15)>, <Record: Inventory of Hugh le Coupere>, <Record: Inventory of John de Maltone and Juliana Aunsel>, <Record: Inventory of the widow of Davidin von Kytzing (Volkert ed.)>, <Record: Inventory of Johannes Marini (ADBR 351E 152)>, <Record: Inventory and auction of the estate of Lucas Lefebvre (AGN Comptos, Registros 102)>, <Record: Inventory of Abraham von Munchen (Volkert ed.)>, <Record: Goods of Merot, son-in-law of Benoest de Saint-Denis (Le Roux de Lincy ed.)>, <Record: Inventory of Mandl (Volkert ed.)>, <Record: Inventory of Claes de Man (SA Bruges, LP, reg 1292)>, <Record: Inventory of John Loveryk>, <Record: Inventory of Maister Joseph von Kelhaym (Volkert ed.)>, <Record: Inventory of Poncius Gassini (ADBR 3B 57)>, <Record: Complaint by Germano Pellerini (ASTo Corte, Paesi, Monferrato, Ducato, Materie economiche ed altre, m. 8, n. 3)>, <Record: Inventory of Graßl judin (Volkert ed.)>, <Record: Inventory of Symon von Wurms (Volkert ed.)>, <Record: Inventory of Schulklopfer (Volkert ed.)>, '...(remaining elements truncated)...']>"
      ]
     },
     "execution_count": 2,
     "metadata": {},
     "output_type": "execute_result"
    }
   ],
   "source": [
    "Record.objects.all().include_attrs('record_type').order_by('record_type')"
   ]
  },
  {
   "cell_type": "code",
   "execution_count": 3,
   "id": "c6cad5e7",
   "metadata": {},
   "outputs": [
    {
     "data": {
      "text/plain": [
       "<CustomQuerySet [<Record: Inventory of the goods of Franciscus Botelhe (ADBR 56 H 2883)>, <Record: Inventory of Abraham Heller  (Volkert ed.)>, <Record: Inventory of Schalmann (Volkert ed.)>, <Record: Charges against Margherita and Matolda (ASCM, serie C, n. 15)>, <Record: Inventory of Hugh le Coupere>, <Record: Inventory of John de Maltone and Juliana Aunsel>, <Record: Inventory of the widow of Davidin von Kytzing (Volkert ed.)>, <Record: Inventory of Johannes Marini (ADBR 351E 152)>, <Record: Inventory and auction of the estate of Lucas Lefebvre (AGN Comptos, Registros 102)>, <Record: Inventory of Abraham von Munchen (Volkert ed.)>, <Record: Goods of Merot, son-in-law of Benoest de Saint-Denis (Le Roux de Lincy ed.)>, <Record: Inventory of Mandl (Volkert ed.)>, <Record: Inventory of Claes de Man (SA Bruges, LP, reg 1292)>, <Record: Inventory of John Loveryk>, <Record: Inventory of Maister Joseph von Kelhaym (Volkert ed.)>, <Record: Inventory of Poncius Gassini (ADBR 3B 57)>, <Record: Complaint by Germano Pellerini (ASTo Corte, Paesi, Monferrato, Ducato, Materie economiche ed altre, m. 8, n. 3)>, <Record: Inventory of Graßl judin (Volkert ed.)>, <Record: Inventory of Symon von Wurms (Volkert ed.)>, <Record: Inventory of Schulklopfer (Volkert ed.)>, '...(remaining elements truncated)...']>"
      ]
     },
     "execution_count": 3,
     "metadata": {},
     "output_type": "execute_result"
    }
   ],
   "source": [
    "Record.objects.include_attrs('record_type').order_by('record_type')"
   ]
  },
  {
   "cell_type": "code",
   "execution_count": 7,
   "id": "77396ddf",
   "metadata": {},
   "outputs": [
    {
     "ename": "FieldError",
     "evalue": "Cannot resolve keyword 'date' into field. Choices are: attributes, collections, comments, creation_timestamp, creation_user, creation_user_id, essay, featuredinventory, featuredobject, id, index_entries, modification_timestamp, modification_user, modification_user_id, name, owner, owner_id, pagenodes, pages, parent, parent_id, parent_type, parent_type_id, permissions, record_group, relationships_as_source, relationships_as_target, short_name, tags, workflow",
     "output_type": "error",
     "traceback": [
      "\u001b[0;31m---------------------------------------------------------------------------\u001b[0m",
      "\u001b[0;31mFieldError\u001b[0m                                Traceback (most recent call last)",
      "Cell \u001b[0;32mIn[7], line 1\u001b[0m\n\u001b[0;32m----> 1\u001b[0m \u001b[43mRecord\u001b[49m\u001b[38;5;241;43m.\u001b[39;49m\u001b[43mobjects\u001b[49m\u001b[38;5;241;43m.\u001b[39;49m\u001b[43mall\u001b[49m\u001b[43m(\u001b[49m\u001b[43m)\u001b[49m\u001b[38;5;241;43m.\u001b[39;49m\u001b[43morder_by\u001b[49m\u001b[43m(\u001b[49m\u001b[38;5;124;43m'\u001b[39;49m\u001b[38;5;124;43mdate\u001b[39;49m\u001b[38;5;124;43m'\u001b[39;49m\u001b[43m)\u001b[49m\n",
      "File \u001b[0;32m/usr/local/lib/python3.11/site-packages/django/db/models/query.py:1701\u001b[0m, in \u001b[0;36mQuerySet.order_by\u001b[0;34m(self, *field_names)\u001b[0m\n\u001b[1;32m   1699\u001b[0m obj \u001b[38;5;241m=\u001b[39m \u001b[38;5;28mself\u001b[39m\u001b[38;5;241m.\u001b[39m_chain()\n\u001b[1;32m   1700\u001b[0m obj\u001b[38;5;241m.\u001b[39mquery\u001b[38;5;241m.\u001b[39mclear_ordering(force\u001b[38;5;241m=\u001b[39m\u001b[38;5;28;01mTrue\u001b[39;00m, clear_default\u001b[38;5;241m=\u001b[39m\u001b[38;5;28;01mFalse\u001b[39;00m)\n\u001b[0;32m-> 1701\u001b[0m \u001b[43mobj\u001b[49m\u001b[38;5;241;43m.\u001b[39;49m\u001b[43mquery\u001b[49m\u001b[38;5;241;43m.\u001b[39;49m\u001b[43madd_ordering\u001b[49m\u001b[43m(\u001b[49m\u001b[38;5;241;43m*\u001b[39;49m\u001b[43mfield_names\u001b[49m\u001b[43m)\u001b[49m\n\u001b[1;32m   1702\u001b[0m \u001b[38;5;28;01mreturn\u001b[39;00m obj\n",
      "File \u001b[0;32m/usr/local/lib/python3.11/site-packages/django/db/models/sql/query.py:2253\u001b[0m, in \u001b[0;36mQuery.add_ordering\u001b[0;34m(self, *ordering)\u001b[0m\n\u001b[1;32m   2250\u001b[0m         \u001b[38;5;28;01mcontinue\u001b[39;00m\n\u001b[1;32m   2251\u001b[0m     \u001b[38;5;66;03m# names_to_path() validates the lookup. A descriptive\u001b[39;00m\n\u001b[1;32m   2252\u001b[0m     \u001b[38;5;66;03m# FieldError will be raise if it's not.\u001b[39;00m\n\u001b[0;32m-> 2253\u001b[0m     \u001b[38;5;28;43mself\u001b[39;49m\u001b[38;5;241;43m.\u001b[39;49m\u001b[43mnames_to_path\u001b[49m\u001b[43m(\u001b[49m\u001b[43mitem\u001b[49m\u001b[38;5;241;43m.\u001b[39;49m\u001b[43msplit\u001b[49m\u001b[43m(\u001b[49m\u001b[43mLOOKUP_SEP\u001b[49m\u001b[43m)\u001b[49m\u001b[43m,\u001b[49m\u001b[43m \u001b[49m\u001b[38;5;28;43mself\u001b[39;49m\u001b[38;5;241;43m.\u001b[39;49m\u001b[43mmodel\u001b[49m\u001b[38;5;241;43m.\u001b[39;49m\u001b[43m_meta\u001b[49m\u001b[43m)\u001b[49m\n\u001b[1;32m   2254\u001b[0m \u001b[38;5;28;01melif\u001b[39;00m \u001b[38;5;129;01mnot\u001b[39;00m \u001b[38;5;28mhasattr\u001b[39m(item, \u001b[38;5;124m\"\u001b[39m\u001b[38;5;124mresolve_expression\u001b[39m\u001b[38;5;124m\"\u001b[39m):\n\u001b[1;32m   2255\u001b[0m     errors\u001b[38;5;241m.\u001b[39mappend(item)\n",
      "File \u001b[0;32m/usr/local/lib/python3.11/site-packages/django/db/models/sql/query.py:1772\u001b[0m, in \u001b[0;36mQuery.names_to_path\u001b[0;34m(self, names, opts, allow_many, fail_on_missing)\u001b[0m\n\u001b[1;32m   1764\u001b[0m     \u001b[38;5;28;01mif\u001b[39;00m pos \u001b[38;5;241m==\u001b[39m \u001b[38;5;241m-\u001b[39m\u001b[38;5;241m1\u001b[39m \u001b[38;5;129;01mor\u001b[39;00m fail_on_missing:\n\u001b[1;32m   1765\u001b[0m         available \u001b[38;5;241m=\u001b[39m \u001b[38;5;28msorted\u001b[39m(\n\u001b[1;32m   1766\u001b[0m             [\n\u001b[1;32m   1767\u001b[0m                 \u001b[38;5;241m*\u001b[39mget_field_names_from_opts(opts),\n\u001b[0;32m   (...)\u001b[0m\n\u001b[1;32m   1770\u001b[0m             ]\n\u001b[1;32m   1771\u001b[0m         )\n\u001b[0;32m-> 1772\u001b[0m         \u001b[38;5;28;01mraise\u001b[39;00m FieldError(\n\u001b[1;32m   1773\u001b[0m             \u001b[38;5;124m\"\u001b[39m\u001b[38;5;124mCannot resolve keyword \u001b[39m\u001b[38;5;124m'\u001b[39m\u001b[38;5;132;01m%s\u001b[39;00m\u001b[38;5;124m'\u001b[39m\u001b[38;5;124m into field. \u001b[39m\u001b[38;5;124m\"\u001b[39m\n\u001b[1;32m   1774\u001b[0m             \u001b[38;5;124m\"\u001b[39m\u001b[38;5;124mChoices are: \u001b[39m\u001b[38;5;132;01m%s\u001b[39;00m\u001b[38;5;124m\"\u001b[39m \u001b[38;5;241m%\u001b[39m (name, \u001b[38;5;124m\"\u001b[39m\u001b[38;5;124m, \u001b[39m\u001b[38;5;124m\"\u001b[39m\u001b[38;5;241m.\u001b[39mjoin(available))\n\u001b[1;32m   1775\u001b[0m         )\n\u001b[1;32m   1776\u001b[0m     \u001b[38;5;28;01mbreak\u001b[39;00m\n\u001b[1;32m   1777\u001b[0m \u001b[38;5;66;03m# Check if we need any joins for concrete inheritance cases (the\u001b[39;00m\n\u001b[1;32m   1778\u001b[0m \u001b[38;5;66;03m# field lives in parent, but we are currently in one of its\u001b[39;00m\n\u001b[1;32m   1779\u001b[0m \u001b[38;5;66;03m# children)\u001b[39;00m\n",
      "\u001b[0;31mFieldError\u001b[0m: Cannot resolve keyword 'date' into field. Choices are: attributes, collections, comments, creation_timestamp, creation_user, creation_user_id, essay, featuredinventory, featuredobject, id, index_entries, modification_timestamp, modification_user, modification_user_id, name, owner, owner_id, pagenodes, pages, parent, parent_id, parent_type, parent_type_id, permissions, record_group, relationships_as_source, relationships_as_target, short_name, tags, workflow"
     ]
    }
   ],
   "source": [
    "Record.objects.all().order_by('date')\n",
    "\n",
    "\n"
   ]
  },
  {
   "cell_type": "code",
   "execution_count": 6,
   "id": "fe78effc",
   "metadata": {},
   "outputs": [
    {
     "data": {
      "text/plain": [
       "ida.models.abstract.custom_manager.CustomManager"
      ]
     },
     "execution_count": 6,
     "metadata": {},
     "output_type": "execute_result"
    }
   ],
   "source": [
    "manager = Record.objects\n",
    "type(manager)\n"
   ]
  },
  {
   "cell_type": "code",
   "execution_count": 9,
   "id": "7eaf8082",
   "metadata": {},
   "outputs": [
    {
     "name": "stdout",
     "output_type": "stream",
     "text": [
      "<class 'str'> 5678\n"
     ]
    }
   ],
   "source": [
    "test = '1234,5678'\n",
    "val, reval = test.split(',')\n",
    "\n",
    "print(type(val), reval)"
   ]
  },
  {
   "cell_type": "code",
   "execution_count": 4,
   "id": "ccf1c814",
   "metadata": {},
   "outputs": [
    {
     "data": {
      "text/plain": [
       "'Tuscany'"
      ]
     },
     "execution_count": 4,
     "metadata": {},
     "output_type": "execute_result"
    }
   ],
   "source": [
    "Record.objects.include_attrs('locale').first().locale.administrative_region\n"
   ]
  },
  {
   "cell_type": "code",
   "execution_count": 5,
   "id": "43b06369",
   "metadata": {},
   "outputs": [
    {
     "data": {
      "text/plain": [
       "<LanguageReference: Latin>"
      ]
     },
     "execution_count": 5,
     "metadata": {},
     "output_type": "execute_result"
    }
   ],
   "source": [
    "Record.objects.include_attrs('language').first().language\n"
   ]
  },
  {
   "cell_type": "code",
   "execution_count": 3,
   "id": "35fd49f0",
   "metadata": {},
   "outputs": [
    {
     "name": "stdout",
     "output_type": "stream",
     "text": [
      "['mk2_identifier', 'mk1_identifier', 'alt_identifier', 'archival_series', 'archival_number', 'date', 'end_date', 'start_date', 'record_type', 'record_type_phrase', 'debt_phrase', 'debt_amount', 'debt_unit', 'debt_unit_type', 'debt_source', 'locale', 'has_inventory', 'description']\n"
     ]
    }
   ],
   "source": [
    "model = Record\n",
    "ct = ContentType.objects.get_for_model(model)\n",
    "model_fields = [i.name for i in model._meta.get_fields()]\n",
    "\n",
    "attribute_list = [\n",
    "    i\n",
    "    for i in ct.contenttypeextended.attribute_types.exclude(is_local=True).values_list('name', flat=True)\n",
    "    if i not in model_fields\n",
    "]\n",
    "\n",
    "print(attribute_list)\n"
   ]
  },
  {
   "cell_type": "code",
   "execution_count": 6,
   "id": "ad4e3968",
   "metadata": {},
   "outputs": [
    {
     "data": {
      "text/plain": [
       "<Attribute: locale: Innsbruck, Tyrol, Austria>"
      ]
     },
     "execution_count": 6,
     "metadata": {},
     "output_type": "execute_result"
    }
   ],
   "source": [
    "atype = AttributeType.objects.get(name='locale')\n",
    "record = Record.objects.first()\n",
    "locale = LocaleReference.objects.first()\n",
    "\n",
    "Attribute.objects.create(\n",
    "    content_object=record,\n",
    "    attribute_type=atype,\n",
    "    value=locale\n",
    ")\n",
    "\n"
   ]
  },
  {
   "cell_type": "code",
   "execution_count": 3,
   "id": "73dab902",
   "metadata": {},
   "outputs": [],
   "source": [
    "record = Record.objects.get(pk='31ea1698-bcfc-434f-8172-72f8ed82eb91')\n",
    "\n",
    "record.get_date()\n"
   ]
  },
  {
   "cell_type": "code",
   "execution_count": 5,
   "id": "f556478a",
   "metadata": {},
   "outputs": [
    {
     "name": "stdout",
     "output_type": "stream",
     "text": [
      "[<Person: Robert de Portesmouthe>, <Person: Robert de Portesmouthe>]\n"
     ]
    }
   ],
   "source": [
    "record = Record.objects.get(pk='e9e2e1f5-6bc3-40ca-8d0c-5884a67f76f1')\n",
    "person_ct = ContentType.objects.get(model='person')\n",
    "organization_ct = ContentType.objects.get(model='organization')\n",
    "\n",
    "results = [\n",
    "    i.transcription.entity_phrases.filter(content_type__in=[person_ct, organization_ct])\n",
    "    for i in record.pagenodes.filter(transcription__isnull=False)\n",
    "]\n",
    "if len(results):\n",
    "    print([i.content_object for i in list(results[0].union(*results[1:]))])\n",
    "else:\n",
    "    print('FUCK!')\n",
    "\n"
   ]
  },
  {
   "cell_type": "code",
   "execution_count": 11,
   "id": "62320d4a",
   "metadata": {},
   "outputs": [
    {
     "name": "stdout",
     "output_type": "stream",
     "text": [
      "Hugo Le Moygne 928bb581-a12a-48f6-ab77-e63a75a81914\n",
      "Zara 68463354-c62a-485e-a248-c1d1b4492b99\n",
      "Ysaac ac8d39a0-4928-43b9-855d-eac808d8a787\n",
      "Walterus Gris e9cb748c-599a-45ae-af9d-4b8c59a06522\n",
      "Stephanus Civate ddb1a79d-c696-4fce-90fd-42b9a003407d\n",
      "Philippus de Bekx 39f66699-dcd4-4de2-914a-58e8a7d889fb\n",
      "Berenguer Copliure 1bc4ff7e-637f-4108-8d9d-44b9fe158859\n",
      "Antonius Stephani 19293c36-24ce-4efc-816d-8b5c1767eea9\n",
      "Bertrandus Dodoni 0bba1b2a-26d8-4994-8573-f4e58160fa03\n",
      "Allays Gasc f4705a9d-f0cf-491a-9f66-4bb0ae16ae0b\n",
      "Guillelmus Egidii 67c15bca-bbd0-4ab0-93b1-40b34bdc2bde\n",
      "Robert de Portesmouthe 92bbd903-0fa6-404f-a6ad-fd08141ea1c4\n",
      "Robert de Portesmouthe a28cdb04-50c2-4cd8-bec5-090250b849a6\n",
      "Lanwin Le Coultier 749eb78b-88f1-4e2a-8980-e750c3248119\n",
      "Lanwin Le Coultier da669af7-a07f-4876-ae9e-12da569b1a66\n",
      "Margaret 96af6568-dca0-4d59-85dd-8e36a4d61bfd\n",
      "Henricus de Gernemuta 426f6217-f36f-42b0-95ae-34374aa577d5\n",
      "Robertus Le Furbur fc1f888b-9cb2-45b6-8d2a-54a3007aac50\n",
      "Agnes de Wycoumbe 767dabad-6c09-491a-a69e-42896d05e30a\n",
      "Bendit 9ee74f87-fa99-4d79-b14e-42260dfe27bd\n",
      "Jacmeta de Apulea e9d9dbe7-58e6-4402-bdab-983e61a2b371\n",
      "Joce 48fd91d0-fbb1-4aeb-b0d7-117ac13b4e73\n",
      "Henricus Le Iremonger 2a422b67-f8fe-4f5c-abfa-7af70404c396\n",
      "Astruc Bedoz e685545f-da6a-4511-a73f-075ab5637e32\n",
      "Raymundus Santolhi 53cfc422-8b44-46f0-b44d-10b0042fe797\n",
      "Raymundus Audeberti b33fb4ec-a193-47f5-81b5-431e7eb609d3\n",
      "Lazarus Spinelli d7125504-de6d-4b77-bad5-5c57b813e6c2\n",
      "Mosse de Alenho 484ef0c8-b02e-43d3-851f-54cbb1a8d84d\n",
      "Mosse Creguti 8411727f-4d23-4b0f-8236-02f5c9bd67a1\n",
      "Mosse Creguti aa71e9d7-a328-49b5-b26f-c8edcbc3e2a3\n",
      "Mosse Creguti 2744c77f-dc88-4c65-bd87-b4352964c512\n",
      "Thomas de Holebech c5692f7e-a77a-4d09-b0d0-fcd833058efe\n",
      "Isabella de Terinton 073597ca-2660-43b1-aaa9-08ee85638325\n",
      "Jacobus de Landa 21d4f96e-2638-4666-a36a-e008626755f5\n",
      "Nicholas Belymer 4d04cca3-a4ae-4490-9caf-fa7b2aa730c7\n",
      "Radulphus de Rudham acb50212-44ef-4e55-8f6e-da3a56166451\n",
      "Arnald de Ware a0b39210-062e-45e4-ac3e-2f44acd67f68\n",
      "Reginaldus Molendinarius 71fac0da-2fe2-4898-898b-e8bcb924c8f3\n",
      "Petrus Melerii 82f9ae9a-fbf0-4a28-be56-0cb0eb769443\n",
      "Mandl 6ec990ca-704b-4153-8c9e-a75696559dec\n",
      "Mandl c0b58a5c-2cc0-426e-ac6c-7c9aa9127ec2\n",
      "Mair Fleischman 6ec990ca-704b-4153-8c9e-a75696559dec\n",
      "Arnaud Guilhem Gros c0c3057f-f558-40ad-b275-b8a0cedebaf5\n",
      "Willelmus Le Peter c66508d2-c3bb-4b84-b6e2-f065e2b7b2aa\n",
      "Guillelmus Martini ac08dee1-ada5-49b3-a19d-035ff2f3979b\n",
      "Jacobus Rogerii 47b9712b-e1e7-497f-b817-76438a6aa3c3\n",
      "Reginaldus Tabernarius a40bd3ae-05ce-4fdc-88c6-1af3ff8d0daa\n",
      "Rotolandus 06d46c2d-5ab7-463a-b45b-7667a772a61b\n",
      "Jacobus de Menas 14ec2b2e-614b-46d5-8218-60dc79669bf8\n",
      "Ricardus Le Barbur 60976e2c-be76-4b47-a87e-8d7ebf058edd\n",
      "Robertus Coleville b8798713-363b-4f28-8680-1834056e59c6\n",
      "Nadala Raymunde 294d26a1-f7e1-4b39-842c-cf93736ac322\n",
      "Thomas de Newerk 8b7bf010-ab98-40e8-b6e1-46a5f5440efa\n",
      "Mosse Sibilí e1545e8a-f1aa-469b-b98c-cd218bb8ba86\n",
      "Guillelmus Stephani e282464c-dacf-491d-8c54-967ebf161b86\n",
      "Walterus de Nichole 8d7ba703-6453-4363-84e0-378d42a2b5a7\n",
      "Bernardus Garnerii 065b9ca4-a89c-492b-8d53-a1dbcdc7ca12\n",
      "Catherina fa317c16-074c-4729-91a7-54d34ded0ead\n",
      "Willelmus Le Fetherman 6d5d6992-4383-46ac-95b7-84b51bdab191\n",
      "Iohannes Sterion 7a3cee93-14ba-4f20-a751-7f69407b06bd\n",
      "Alan de Hacford 55d835c5-611b-48ea-ae9c-6625c56341fc\n",
      "John de Maltone 88eb9c81-2e6b-4b9b-ba0a-ab0da38f9dc7\n",
      "John de Maltone 6bfb6e8a-c211-4a38-9133-0fd3163faaa4\n",
      "John de Maltone fb6384f7-ae42-459d-9914-4b9a0f3005b6\n",
      "Juliana Aunsel 88eb9c81-2e6b-4b9b-ba0a-ab0da38f9dc7\n",
      "Juliana Aunsel fb6384f7-ae42-459d-9914-4b9a0f3005b6\n",
      "Bella 889f5f38-030f-4aef-8c17-37abf60c9f14\n",
      "Içach Xetaví 889f5f38-030f-4aef-8c17-37abf60c9f14\n",
      "Victor de Massello 7ee3197d-9016-47a8-90d6-5fd9e0bbe00a\n",
      "Antonius Bellipili 430f8b26-597a-4e50-9b16-fd8c8fc4bb45\n",
      "Willelmus Le Seler c02e60e2-5b85-4895-ab49-67015d40884a\n",
      "Christiana Massand 3de06c7b-f60a-4bc1-96f3-78abf3d18265\n",
      "Gaubert de Trebessac 4b8fd5a1-3157-44ff-8735-e55dd51832dd\n",
      "Gaubert de Trebessac b8127679-30ef-45e8-8a59-7998f68181f9\n",
      "Gaubert de Trebessac c05daa96-b2ed-4625-a03f-ec6f75bf3217\n",
      "Gaubert de Trebessac abfe9dac-c7f4-49b8-98be-e3174981c71d\n",
      "Gaubert de Trebessac 4260d8eb-b49e-4004-979d-f451e4b2aee4\n",
      "Gaubert de Trebessac d4ab2207-9232-4b40-a341-775fac96f761\n",
      "Gaubert de Trebessac 2434fe79-a265-4e97-9848-cd58580c0ddb\n",
      "Gaubert de Trebessac 5bf16920-be22-4198-8a10-d4f9edcbd049\n",
      "Schulklopfer 76a9a6bc-0e6e-4d78-ac81-94b70cdf50e2\n",
      "Jean de Figuarol dda3d062-0452-400b-9ec8-daae9bbf8832\n",
      "Godekin de Houndesbergh 5a4997ef-5ff3-4caa-85d5-54fb61bec216\n",
      "Filippo Quartucci e3912a64-bc84-437b-a7fa-b9c5ccfad089\n",
      "Filippo Quartucci 3449d998-2a17-4efd-95aa-65f603cc0452\n",
      "Filippo Quartucci ea9566d0-482c-4d03-8998-382328e04bd7\n",
      "Filippo Quartucci 3079f1f9-a24f-4c73-a3a5-3b7f2b6d4144\n",
      "Filippo Quartucci dbb0a993-868c-4cb8-af5f-694143273e23\n",
      "Filippo Quartucci ef67ef2a-30c8-4f95-bd22-853df23fe24d\n",
      "Filippo Quartucci 13ce8f0d-b786-419c-97a8-d2bfd563cc4a\n",
      "Filippo Quartucci 762e0269-cef2-4f15-91d5-3106658b5d8b\n",
      "Filippo Quartucci b8c04923-9afb-41af-b9fa-3e1a329a91f2\n",
      "Filippo Quartucci 09693ff4-6bf1-47f7-bed9-f2de7092a270\n",
      "Wilhelm von Rosemberg 572c4ede-a96d-4532-9671-b6228318f5f4\n",
      "Anthonius Johannis b30e717b-c0af-4b56-a185-f3a15d28d4f4\n",
      "Mair Heller e4c9ea93-2295-4d1a-b66e-065ccd4820f8\n",
      "Sibilia Peyrone 83596ec5-8216-4b6c-af3f-be510602a87e\n",
      "Walterus de Bradefeld 86d4ec93-75fd-44a6-99fb-48785fda59ae\n",
      "Bellandi f8714796-f50c-4164-8b2a-30f7f5823616\n",
      "Abraham Heller 7be9639f-5651-4588-ac02-1689cbf37aa8\n",
      "Josephin von Villach c1842c88-5ca5-4d31-8e51-24ffadfead2b\n",
      "Symon de Leverington 9cab73ca-1c20-4071-81c9-98503c8bf460\n",
      "Gans a88aa4bb-6eca-4af9-985f-0e15ba8c81f5\n",
      "Graßl de7db23f-5778-4e6d-bb18-472c0b2fbbb1\n",
      "Graßl 2d5f9788-aaf9-4ea1-80f8-ddcbbe721b45\n",
      "Guillelmus de Cavallione 3486ff0b-0b25-451e-a773-2009e067c53c\n",
      "Agnes de Swafham 0a41ddd7-22e3-42b0-b883-4596030d8c13\n",
      "Walterus de Bery 00c025bb-0376-46e2-a2f4-d73e2dfaca50\n",
      "Strawbingers 6f1e7c1d-0e0b-4d7a-b57c-7aeb0d7dc6ae\n",
      "Agnes 00a4b393-4cf2-4d9e-8b88-f5cd4db60686\n",
      "Robertus Le Barbur f8bd8d6f-c0c3-4749-b6cd-86c82dd3f11a\n",
      "Jacobus Jugueti a866a0d0-2d4b-4da2-abb7-ebef1f8d53d5\n",
      "Jacobus Martini f02f3c6d-ea94-4a11-999f-a8c86e186bea\n",
      "Isnardus Raymbaudi a18f1fc3-476f-4128-aad5-9cde4cde0801\n",
      "Maria 56b36745-3c91-4f13-9d97-788e8cd54169\n",
      "Rixendis Cambale c0b267d2-12ea-49f4-886f-894d8325bb24\n",
      "Radulphus de Bretham 559c3916-91cd-4df1-ac8b-b54ae1ba40bb\n",
      "Johannes de Favacio 295f3a15-a113-4629-8943-b79737169035\n",
      "Salvetus de Castello 76975a18-8e09-418f-b2cb-7d12c3b3c07c\n",
      "Vivas de Randia 76975a18-8e09-418f-b2cb-7d12c3b3c07c\n",
      "Alaysseta ee66e6f7-a096-4c3e-a181-308bf4a30b3c\n",
      "Petrus Fresquerie e335436c-3d5f-47e3-b6aa-29ca05f149d7\n",
      "Eberlyn 12d2b57a-7563-4136-8fce-13d5a7effd90\n",
      "Mosse Blademi 63d1431d-d062-466a-ae8a-8ef6f2be0959\n",
      "Emma 436ba758-f21f-4884-86e6-e37abf1d8557\n",
      "Johannes Molnerii a25887f3-f23b-427f-b5bc-e9061b044eb7\n",
      "Robertus Le Poleter 180ddb1a-4576-48d8-956c-efbcc59b8b44\n",
      "John de Kirkeby cb98189c-9bb9-42a2-9c40-d73743e36b42\n",
      "Sundl 832c6480-310a-4543-a01d-9e0bf4d8109b\n",
      "Hyrß b826e39c-e583-414b-9afb-76a716dc6e7d\n",
      "Petrus Fulconis 506c2c18-b750-446c-83c6-eee05faae32a\n",
      "Godefridus 38fe7a63-e649-4421-b74f-0506caaf69bf\n",
      "Isabella 2b9694b2-d53d-4d6f-afa4-20e13b6d3c07\n",
      "Leb db8582ce-341d-4802-937c-189088330470\n",
      "Abraham Kitzing db8582ce-341d-4802-937c-189088330470\n",
      "Reginald Laurenz f09cf4ea-5c3f-416b-afea-7fce631990ad\n",
      "Petrus Dice ea3b9f60-0f0d-4f2a-af10-66949ec3dd63\n",
      "Johannes Isnardi de Sex Furnis 956aa2b2-1424-4426-9e10-f4222dd62dbb\n",
      "Jacobus Salvage alias de Valensola 0ff93ca6-51b6-40ea-a2f0-021ce4687e18\n",
      "Iohannes de Schuldham b36e1b8f-e024-4439-a4b9-d790bbf4a5b5\n",
      "Jean Bourthoumieu 9ac6d9e1-5869-44a6-8ddf-5c0d0b4c9efd\n",
      "Honoratus Bavili c23223a7-5b45-446c-903e-96a360a37a71\n",
      "Jacobus Stephani 76c0706b-c7d0-4c01-b6c7-e08a7a563348\n",
      "Guillelmus Naulonqui fb2150ca-bfba-41ef-9dfa-72f74145b9c3\n",
      "Manuelis cd95884a-7bba-4e86-9e7b-aed950cbe21a\n",
      "Hugh le Bevere d732ea86-016a-489c-84b7-8840ffb27f68\n",
      "Narcis Pages 4fadd194-0845-42b1-9300-0e32ea14c68c\n",
      "Guilhem de Magnoac 988746f3-7994-4b2a-97cf-b71df972a287\n",
      "Guilhem de Magnoac b07f9929-4075-4a70-b2be-859dd1a61b61\n",
      "Petrus de Birche 585d1fdd-23dd-4d53-8ed8-dd11bd94a047\n",
      "Colratus Cavallerii 227d04f2-6f31-4e6d-9ebc-2a0001645f81\n",
      "John Loveryk a5496a7a-a2dc-43b2-b637-c2f4e1f7d347\n",
      "Hugua d3b1af22-faad-4acb-87b3-0534ff71f974\n",
      "Johannes Casse db792b91-6665-4e0a-9dec-65a52195688a\n",
      "Sir John Maynard 6aaf752c-fab8-4aea-9f2e-da6f443ad3b7\n",
      "Bertrandus Fulconis f5acebd0-5975-494b-a44d-fd5c2905e95b\n",
      "Bertrandus Fulconis 6480cecf-c039-4530-9a6a-ae7b1cb34a58\n",
      "Vivaudus de Jerusalem cc60bb13-8c5a-4014-97d0-5af8dca29694\n",
      "Mayr Schalman 7b357aa4-3ca6-4299-bda8-3c850c60ae73\n",
      "Isabella Heyron 6c20105b-c977-415c-8711-d4c4eb0ee13a\n",
      "Macipetus Maurelli 97b19351-d924-45e9-83b7-c76dd95e6b17\n",
      "Leb Hailprun 5fc7c6e4-a5ac-4d86-9f7f-855237411875\n",
      "Hugh le Coupere 311183ec-8da0-47a2-a094-cc11c9170a15\n"
     ]
    },
    {
     "name": "stdout",
     "output_type": "stream",
     "text": [
      "Robertus de Londonia 9ec2945c-445e-4cc3-a215-bfa70951bb26\n",
      "Franciscus Moguerii f69b8080-3e81-4a0f-a444-c0101771c59c\n"
     ]
    }
   ],
   "source": [
    "for person in NAMED_AGENTS:\n",
    "    rec_ids = person['record_id']\n",
    "    rec_ids = rec_ids if isinstance(rec_ids, list) else [rec_ids]\n",
    "    name = person['name']\n",
    "    for rid in rec_ids:\n",
    "        record = Record.objects.get(pk=rid)\n",
    "        if record.has_transcriptions:\n",
    "            page_nodes = record.pagenodes.all().select_related('transcription')\n",
    "            for node in page_nodes:\n",
    "                if node.transcription:\n",
    "                    if name in node.transcription.text_blob:\n",
    "                        print(name, node.transcription.id)\n",
    "\n",
    "    \n"
   ]
  },
  {
   "cell_type": "code",
   "execution_count": 17,
   "id": "89370f09",
   "metadata": {},
   "outputs": [
    {
     "name": "stdout",
     "output_type": "stream",
     "text": [
      "names = 393\n",
      "unique names = 389\n",
      "\n",
      "Guilhem de Magnoac\n",
      "9ca906cc-f28e-4434-aa2d-accb080ffa4c: None\n",
      "a2ddecd7-c513-4d4a-be87-62dca98314b5: None\n",
      "Mandl\n",
      "c45dd1ef-07b2-4002-8043-22250dd64e37: None\n",
      "19e1cb28-7f4b-486d-aff8-a5399e6cf08a: None\n",
      "07ab3a6b-1bc3-4d60-86c3-1028f59c8c71: None\n",
      "Berengarius de Bulbono\n",
      "ede1de29-168f-4ae5-a3d4-da94f98089de: None\n",
      "9e7b8e5b-681b-41ab-8818-6e8894ced204: None\n",
      "Johannes Marini\n",
      "300b86be-ceba-4d9e-baf5-1ac4b611fdb1: 1400\n",
      "af9c6ef1-06c5-4a9a-a34a-43a6161d42e5: None\n"
     ]
    }
   ],
   "source": [
    "all_names = [i['name'] for i in named_persons]\n",
    "\n",
    "print(f'names = {len(all_names)}')\n",
    "print(f'unique names = {len(set(all_names))}\\n')\n",
    "\n",
    "control = []\n",
    "repeats = []\n",
    "for person in named_persons:\n",
    "    if person['name'] in control:\n",
    "        repeats.append(person['name'])\n",
    "    else:\n",
    "        control.append(person['name'])\n",
    "\n",
    "for name in repeats:\n",
    "    records = [i['record_id'] for i in named_persons if i['name'] == name]\n",
    "    print(name)\n",
    "    for r in records:\n",
    "        if isinstance(r, list):\n",
    "            for rid in r:\n",
    "                print(f\"{rid}: {Record.objects.get(pk=rid).get_date()}\")\n",
    "        else:\n",
    "            print(f\"{r}: {Record.objects.get(pk=r).get_date()}\")\n",
    "    \n",
    "    \n",
    "    "
   ]
  },
  {
   "cell_type": "code",
   "execution_count": 18,
   "id": "33019ae9",
   "metadata": {},
   "outputs": [
    {
     "data": {
      "text/plain": [
       "<Record: Inventory of Johannes Marini (AMM 1 II 24)>"
      ]
     },
     "execution_count": 18,
     "metadata": {},
     "output_type": "execute_result"
    }
   ],
   "source": [
    "Record.objects.get(pk='af9c6ef1-06c5-4a9a-a34a-43a6161d42e5')\n"
   ]
  },
  {
   "cell_type": "code",
   "execution_count": 2,
   "id": "63d1b781",
   "metadata": {},
   "outputs": [],
   "source": [
    "NAMED_AGENTS = [\n",
    "    {'record_id': 'd9870d4e-0054-4651-b6fa-ce3d9591739a', 'name': 'Guillelmus Ancelmi', 'agent_type': 1},\n",
    "    {'record_id': '5ab3d5cb-09a0-4af2-b1d7-51ca3b8c822f', 'name': 'Hugo Michaelis', 'agent_type': 1},\n",
    "    {'record_id': '48724efc-ee8a-4e8a-8fc3-abb40ada6c1c', 'name': 'Bernard de Tuzac', 'agent_type': 1},\n",
    "    {'record_id': '753d91cb-a7a1-4bd7-8ac0-a4772f4f1f98', 'name': 'Laura Aronine', 'agent_type': 1},\n",
    "    {'record_id': '67a6d03b-5f34-40bd-ac09-a413d3607b6b', 'name': 'Hugo Le Moygne', 'agent_type': 1},\n",
    "    {'record_id': '2ccc53c8-467e-4536-b0e5-305cacf302dc', 'name': 'Guillem Padro', 'agent_type': 1},\n",
    "    {'record_id': 'b000eacd-cc67-4844-aa95-9cb614eadc00', 'name': 'Johannes de Berra', 'agent_type': 1},\n",
    "    {'record_id': 'c5ff8c1a-8b6d-4085-8705-5390fdc52272', 'name': 'Bertrana Caparrone', 'agent_type': 1},\n",
    "    {'record_id': '95d8f2b2-cb3f-472f-8e35-e5efebbe51fe', 'name': 'Benedictus de Tortosa', 'agent_type': 1},\n",
    "    {\n",
    "        'record_id': [\n",
    "            '571e1736-bc52-43b3-905b-1ef02a23b97d',\n",
    "            '3829df3a-8575-457c-97e6-1b2cc017e4b4',\n",
    "            '7b4236f7-b767-4514-9a1b-686f812acd1c',\n",
    "            'c164626d-0ba2-4cc6-a3c9-d6bcaff7bfb2',\n",
    "            'a5b906ef-0751-49d8-a0e1-25c1f04e9096',\n",
    "        ],\n",
    "        'name': 'Josabeth Lezar',\n",
    "        'description': '\"jung\" Straubinger, widow of David von Kitzing',\n",
    "        'agent_type': 1,\n",
    "    },\n",
    "    {\n",
    "        'record_id': [\n",
    "            '571e1736-bc52-43b3-905b-1ef02a23b97d',\n",
    "            '3829df3a-8575-457c-97e6-1b2cc017e4b4',\n",
    "            '7b4236f7-b767-4514-9a1b-686f812acd1c',\n",
    "            'c164626d-0ba2-4cc6-a3c9-d6bcaff7bfb2',\n",
    "            'a5b906ef-0751-49d8-a0e1-25c1f04e9096',\n",
    "        ],\n",
    "        'name': 'David von Kitzing',\n",
    "        'description': 'Husband of Josabeth Lezar',\n",
    "        'agent_type': 1,\n",
    "    },\n",
    "    {\n",
    "        'record_id': [\n",
    "            '571e1736-bc52-43b3-905b-1ef02a23b97d',\n",
    "            '3829df3a-8575-457c-97e6-1b2cc017e4b4',\n",
    "            '7b4236f7-b767-4514-9a1b-686f812acd1c',\n",
    "            'c164626d-0ba2-4cc6-a3c9-d6bcaff7bfb2',\n",
    "            'a5b906ef-0751-49d8-a0e1-25c1f04e9096',\n",
    "        ],\n",
    "        'name': 'Zara',\n",
    "        'description': 'Daughter of Gald von Neuß',\n",
    "        'agent_type': 1,\n",
    "    },\n",
    "    {\n",
    "        'record_id': [\n",
    "            '571e1736-bc52-43b3-905b-1ef02a23b97d',\n",
    "            '3829df3a-8575-457c-97e6-1b2cc017e4b4',\n",
    "            '7b4236f7-b767-4514-9a1b-686f812acd1c',\n",
    "            'c164626d-0ba2-4cc6-a3c9-d6bcaff7bfb2',\n",
    "            'a5b906ef-0751-49d8-a0e1-25c1f04e9096',\n",
    "        ],\n",
    "        'name': 'Gald von Neuß',\n",
    "        'description': 'Father of Zara',\n",
    "        'agent_type': 1,\n",
    "    },\n",
    "    {\n",
    "        'record_id': [\n",
    "            '571e1736-bc52-43b3-905b-1ef02a23b97d',\n",
    "            '3829df3a-8575-457c-97e6-1b2cc017e4b4',\n",
    "            '7b4236f7-b767-4514-9a1b-686f812acd1c',\n",
    "            'c164626d-0ba2-4cc6-a3c9-d6bcaff7bfb2',\n",
    "            'a5b906ef-0751-49d8-a0e1-25c1f04e9096',\n",
    "        ],\n",
    "        'name': 'Ysaac',\n",
    "        'description': 'Son-in-law of Saidia Straubingers',\n",
    "        'agent_type': 1,\n",
    "    },\n",
    "    {\n",
    "        'record_id': [\n",
    "            '571e1736-bc52-43b3-905b-1ef02a23b97d',\n",
    "            '3829df3a-8575-457c-97e6-1b2cc017e4b4',\n",
    "            '7b4236f7-b767-4514-9a1b-686f812acd1c',\n",
    "            'c164626d-0ba2-4cc6-a3c9-d6bcaff7bfb2',\n",
    "            'a5b906ef-0751-49d8-a0e1-25c1f04e9096',\n",
    "            '9454d5bb-cca9-4121-9001-b696d0268e76',\n",
    "        ],\n",
    "        'name': 'Saidia Straubingers',\n",
    "        'description': 'Parent-in-law of Ysaac',\n",
    "        'agent_type': 1,\n",
    "    },\n",
    "    {'record_id': '7cbce5c3-e032-4ae5-98bb-6c25f79ab662', 'name': 'Sanxia Raolina', 'agent_type': 1},\n",
    "    {'record_id': '1d9a21ac-03ce-4bba-81e2-294cd3965181', 'name': 'Walterus Gris', 'agent_type': 1},\n",
    "    {'record_id': '4638907e-9c92-436a-9a02-5ac83e0cda20', 'name': 'Stephanus Civate', 'agent_type': 1},\n",
    "    {'record_id': '6610ccf7-a9fc-4046-80ac-8e0b0d9afd66', 'name': 'Ramon Joan', 'agent_type': 1},\n",
    "    {'record_id': 'd2d3bdaa-03be-4cdf-ad6c-dd2c0fde3463', 'name': 'Joan Orts', 'agent_type': 1},\n",
    "    {'record_id': '26953dce-4297-4623-99c8-e9f59675433f', 'name': 'Philippus de Bekx', 'agent_type': 1},\n",
    "    {'record_id': 'ee033754-ea51-42d4-8812-a3b33820cbd5', 'name': 'Bertrandus de Serveriis', 'agent_type': 1},\n",
    "    {'record_id': '782be2ea-63be-4230-b87a-00d4ca947162', 'name': 'Garsendis Laurencie', 'agent_type': 1},\n",
    "    {\n",
    "        'record_id': '0b7d87f3-d2c2-4ad0-b5f7-890be91ec625',\n",
    "        'name': 'Berenguer Copliure',\n",
    "        'agent_type': 1,\n",
    "    },\n",
    "    {\n",
    "        'record_id': '0b7d87f3-d2c2-4ad0-b5f7-890be91ec625',\n",
    "        'name': 'Agnes Copliure',\n",
    "        'agent_type': 1,\n",
    "    },\n",
    "    {'record_id': '31ea1698-bcfc-434f-8172-72f8ed82eb91', 'name': 'Antonius Stephani', 'agent_type': 1},\n",
    "    {'record_id': 'a1ef08ca-3dc3-46b9-b543-f047341e8a22', 'name': 'Bertrandus Dodoni', 'agent_type': 1},\n",
    "    {\n",
    "        'record_id': ['e663a2cb-e478-4938-a354-28f50b46f36e', '6aaddce5-ea3c-4faa-98e4-c380e35d954d'],\n",
    "        'name': 'Gil Civera',\n",
    "        'agent_type': 1,\n",
    "    },\n",
    "    {'record_id': 'c856d1d3-b100-4a65-8f9a-8f93d4d1a921', 'name': 'Allays Gasc', 'agent_type': 1},\n",
    "    {\n",
    "        'record_id': ['7c7efca6-c324-452a-9a21-0e84f55a386f', '142346e2-957d-478a-bba3-61e601da7458'],\n",
    "        'name': 'Hugo Boerii',\n",
    "        'agent_type': 1,\n",
    "    },\n",
    "    {'record_id': '628c6401-586b-4599-8585-c0e3e403c9b0', 'name': 'Pericó Ermengol', 'agent_type': 1},\n",
    "    {\n",
    "        'record_id': ['257d452c-9629-4ed8-9282-89572dbc0db3', '688e9284-2f7c-469c-b03f-4ad64326467b'],\n",
    "        'name': 'Huguetus Bonacrucis',\n",
    "        'agent_type': 1,\n",
    "    },\n",
    "    {\n",
    "        'record_id': ['7365a629-f7a4-4e2e-812e-da5cc895aa3e', '30904c6f-334d-470d-adcb-30d003f6aa69'],\n",
    "        'name': 'Guillelmus Egidii',\n",
    "        'agent_type': 1,\n",
    "    },\n",
    "    {'record_id': '35511e16-340c-4420-969f-eab2cb34d809', 'name': 'Thomas de Weynflet.', 'agent_type': 1},\n",
    "    {'record_id': 'ccf4b081-5afe-4573-ab27-3a9b4910395d', 'name': 'Douce', 'agent_type': 1},\n",
    "    {'record_id': 'e9e2e1f5-6bc3-40ca-8d0c-5884a67f76f1', 'name': 'Robert de Portesmouthe', 'agent_type': 1},\n",
    "    {'record_id': 'c3749bb4-e46b-4e2c-b910-6c40371f16bf', 'name': 'Lanwin Le Coultier', 'agent_type': 1},\n",
    "    {'record_id': '87e0e773-51fb-4c1c-93e0-8aad609f85b2', 'name': 'Margaret', 'agent_type': 1},\n",
    "    {'record_id': '3e6e9b15-bebc-4e6d-90f3-80bec28baa3d', 'name': 'Henricus de Gernemuta', 'agent_type': 1},\n",
    "    {'record_id': '90864796-3f20-41f2-919a-bff4ffa9ca34', 'name': 'Johannes Astorni', 'agent_type': 1},\n",
    "    {'record_id': '72e69aee-e5c7-44fe-b88f-b62ec8664914', 'name': 'Robertus Le Furbur', 'agent_type': 1},\n",
    "    {'record_id': 'cb3e3285-1b5f-41d5-8882-0e476292a23a', 'name': 'Laurencius Vassalli', 'agent_type': 1},\n",
    "    {'record_id': '5c2702fa-224b-4042-9b87-08c3d07a8ff2', 'name': 'Bermona Ruffa', 'agent_type': 1},\n",
    "    {'record_id': '580ab101-cbf2-42f0-89e1-02a4ebf91d3f', 'name': 'Pons del Py', 'agent_type': 1},\n",
    "    {'record_id': '6071ce1b-efa5-42bb-9187-7aa99fa7f931', 'name': 'Johannes Bonerii', 'agent_type': 1},\n",
    "    {'record_id': 'ab88a98f-932b-457b-822c-ef470ee08307', 'name': 'Agnes de Wycoumbe', 'agent_type': 1},\n",
    "    {'record_id': '01a1f24e-bbd6-4225-81f3-a3814b5f8851', 'name': 'Elies Bedoz', 'agent_type': 1},\n",
    "    {'record_id': '421fbd5e-6dae-438e-869e-790cfd818291', 'name': 'Jean Sabatier', 'agent_type': 1},\n",
    "    {'record_id': '48ee5a12-c54c-43d6-ae68-1c43be5dd73b', 'name': 'Sanxia Berengarie', 'agent_type': 1},\n",
    "    {'record_id': '09e36a3c-c07e-435e-9e90-110ff68b5800', 'name': 'Aycardus Ramelli', 'agent_type': 1},\n",
    "    {'record_id': 'b16b6993-3556-41b2-b1fa-1c5afe2e996f', 'name': 'Guillelmus Gaufridi', 'agent_type': 1},\n",
    "    {'record_id': '183fa6ed-95a3-467e-a224-80156ea90a7b', 'name': 'Rixendis Blanchana', 'agent_type': 1},\n",
    "    {'record_id': '4607a74f-23f3-4b7e-86f3-952d58913f70', 'name': 'Iohannes Quitloc', 'agent_type': 1},\n",
    "    {'record_id': '5f6ae726-6905-48c6-80e7-efc804e3a93b', 'name': 'Bendit', 'agent_type': 1},\n",
    "    {'record_id': 'ae6decfb-a220-4b54-991c-79b7a9f4fa50', 'name': 'Jacmeta de Apulea', 'agent_type': 1},\n",
    "    {'record_id': 'bde7b706-288c-4b37-9a1a-ba55270cd003', 'name': 'Guiraud Compans', 'agent_type': 1},\n",
    "    {'record_id': 'c1816d95-3901-403d-be20-35d275451363', 'name': 'Joce', 'agent_type': 1},\n",
    "    {'record_id': '975d9773-baa7-45a3-bdb8-64c11062e38d', 'name': 'Catherina Flote', 'agent_type': 1},\n",
    "    {'record_id': 'a7a934d9-6588-4510-b075-2237d3dadf78', 'name': 'Henricus Le Iremonger', 'agent_type': 1},\n",
    "    {'record_id': '2bf958fd-d88f-4110-b195-f7cd1b22e140', 'name': 'Anthonius Boneti', 'agent_type': 1},\n",
    "    {'record_id': '6d042eaa-b4ac-451f-ab70-923c83f1048a', 'name': 'Eudes de Nevers', 'agent_type': 1},\n",
    "    {'record_id': '51354d61-7808-4424-9e8a-9e27ed6bfb81', 'name': 'Raymundus Cabrerii', 'agent_type': 1},\n",
    "    {'record_id': '67a444ce-22b3-403d-a6ab-d964e116b690', 'name': 'Astruc Bedoz', 'agent_type': 1},\n",
    "    {'record_id': '0764bbb6-71db-4974-982f-7426e7873030', 'name': 'Raymundus Santolhi', 'agent_type': 1},\n",
    "    {'record_id': '6553311f-7e00-4824-a00b-beb696a8288c', 'name': 'Sança Tallada', 'agent_type': 1},\n",
    "    {'record_id': '5278f1f7-25c0-473b-bca0-0caf80eac532', 'name': 'Raymundus Audeberti', 'agent_type': 1},\n",
    "    {'record_id': 'dc287890-7470-46e3-a5ed-1293ab7919c0', 'name': 'Lazarus Spinelli', 'agent_type': 1},\n",
    "    {'record_id': '7293bc67-3be4-4658-90dd-5de761b12684', 'name': 'Johannes Messioni', 'agent_type': 1},\n",
    "    {'record_id': 'e9fdba44-3bf0-4a7b-83b8-001b707807db', 'name': 'Jacobus Sialle', 'agent_type': 1},\n",
    "    {'record_id': 'cf2423a8-9837-4e8e-9402-f761cb2a9459', 'name': 'Jacobus de Jerusalem', 'agent_type': 1},\n",
    "    {'record_id': '417c7f1e-d3ed-44e8-954d-e4c6e4f3539d', 'name': 'Franciscus de Serralonga', 'agent_type': 1},\n",
    "    {'record_id': '7db0c512-f42f-48af-9be0-8f5c86e418d7', 'name': 'Johannes Bermundi', 'agent_type': 1},\n",
    "    {'record_id': '99a6b669-8847-43b7-a230-0fd2b24595d7', 'name': 'Mosse de Alenho', 'agent_type': 1},\n",
    "    {'record_id': 'b3ebf506-da2e-47a5-9a73-06fb4c51c1ab', 'name': 'Mosse Creguti', 'agent_type': 1},\n",
    "    {'record_id': 'f38e30b8-4878-4c2f-a069-22e930538513', 'name': 'Johannes Arnaudi', 'agent_type': 1},\n",
    "    {'record_id': 'dd27890c-5187-4161-9570-a608eab163f4', 'name': 'Antoni Desnogueres', 'agent_type': 1},\n",
    "    {'record_id': 'acafc0c9-1dd6-4136-b1b3-57ee32fd8d2b', 'name': 'Ricardus Juliani', 'agent_type': 1},\n",
    "    {'record_id': '2b68a040-f834-429e-902f-0ba90ea63076', 'name': 'Thomas de Holebech', 'agent_type': 1},\n",
    "    {'record_id': 'eff69902-f8e0-4d9e-aa81-f208df48b302', 'name': 'Jacques Faniel', 'agent_type': 1},\n",
    "    {'record_id': '54b3893d-f325-4f8a-9b9c-fd5dbb13aee2', 'name': 'Isabella de Terinton', 'agent_type': 1},\n",
    "    {'record_id': '423fdd27-4df9-4113-ba43-2ca2fb8a63fa', 'name': 'Antoni Vilaramany', 'agent_type': 1},\n",
    "    {'record_id': '77a0fab0-c32f-4010-9212-8d067655e16d', 'name': 'Jacobus de Landa', 'agent_type': 1},\n",
    "    {'record_id': '38e58f5b-8266-435c-b25a-836c43e574d2', 'name': 'Nicolau Aves', 'agent_type': 1},\n",
    "    {'record_id': '40891c45-c702-417d-9c2d-5e19ced5cc4a', 'name': 'Philipponus Colini', 'agent_type': 1},\n",
    "    {\n",
    "        'record_id': 'ca714495-4ce5-48c3-bc9e-ca38501d19e1',\n",
    "        'name': 'Estefania',\n",
    "        'description': 'Wife of Bernat Bosch',\n",
    "        'agent_type': 1,\n",
    "    },\n",
    "    {\n",
    "        'record_id': 'ca714495-4ce5-48c3-bc9e-ca38501d19e1',\n",
    "        'name': 'Bernat Bosch',\n",
    "        'description': 'Husband of Estefania',\n",
    "        'agent_type': 1,\n",
    "    },\n",
    "    {'record_id': 'f65d4a9d-1b0f-44b5-8950-a37371c35287', 'name': 'Nicholas Belymer', 'agent_type': 1},\n",
    "    {'record_id': '2115b734-84ae-4b57-8aa6-bc74a3627a29', 'name': 'Poncius de Cannivete', 'agent_type': 1},\n",
    "    {'record_id': '70977007-0b5e-46b8-ac78-6a20da455553', 'name': 'Nicolau Rostoll', 'agent_type': 1},\n",
    "    {'record_id': '56e043c2-c5ca-41b1-86ca-5bbdc6456dd9', 'name': 'Radulphus de Rudham', 'agent_type': 1},\n",
    "    {'record_id': '6627dc13-9bb9-42f3-b6d7-c671e25b54c3', 'name': 'Pere de Rajadell', 'agent_type': 1},\n",
    "    {'record_id': '58f7c403-07ff-42a5-89e8-dc02042e8fbf', 'name': 'Arnald de Ware', 'agent_type': 1},\n",
    "    {'record_id': '0e6fd8e8-fb9d-4556-b903-1bb6391c10a9', 'name': 'Raymundus Viridis', 'agent_type': 1},\n",
    "    {'record_id': '548f0491-7456-4254-abba-18e7db11cbc9', 'name': 'Reginaldus Molendinarius', 'agent_type': 1},\n",
    "    {'record_id': 'cabc1442-7380-4b0e-912a-8559247dc203', 'name': 'Bernat Blanch', 'agent_type': 1},\n",
    "    {'record_id': 'fb641724-f4d0-4736-aa0c-025b325d5c9a', 'name': 'Bernardus de Favacio', 'agent_type': 1},\n",
    "    {'record_id': '2923c83f-5ed7-4280-aec6-5209c9d93c4d', 'name': 'Maister Joseph von Kelhaym', 'agent_type': 1},\n",
    "    {'record_id': '79752ee7-2ad4-41d4-aaf7-bae7c1a7f159', 'name': 'Monnetus Gurani', 'agent_type': 1},\n",
    "    {'record_id': 'fa80a3c6-a50a-4219-8116-95df92e2aae8', 'name': 'Petrus Melerii', 'agent_type': 1},\n",
    "    {\n",
    "        'record_id': ['c45dd1ef-07b2-4002-8043-22250dd64e37', '19e1cb28-7f4b-486d-aff8-a5399e6cf08a'],\n",
    "        'name': 'Abraham von Munchen',\n",
    "        'agent_type': 1,\n",
    "    },\n",
    "    {\n",
    "        'record_id': [\n",
    "            'c45dd1ef-07b2-4002-8043-22250dd64e37',\n",
    "            '19e1cb28-7f4b-486d-aff8-a5399e6cf08a',\n",
    "            '07ab3a6b-1bc3-4d60-86c3-1028f59c8c71',\n",
    "        ],\n",
    "        'name': 'Mandl',\n",
    "        'agent_type': 1,\n",
    "    },\n",
    "    {\n",
    "        'record_id': ['c45dd1ef-07b2-4002-8043-22250dd64e37', '19e1cb28-7f4b-486d-aff8-a5399e6cf08a'],\n",
    "        'name': 'Mair Fleischman',\n",
    "        'agent_type': 1,\n",
    "    },\n",
    "    {\n",
    "        'record_id': ['c45dd1ef-07b2-4002-8043-22250dd64e37', '19e1cb28-7f4b-486d-aff8-a5399e6cf08a'],\n",
    "        'name': 'Leb von Passu',\n",
    "        'agent_type': 1,\n",
    "    },\n",
    "    {'record_id': 'ffaa7dc9-5194-4d84-8f9d-563c1acfd1ee', 'name': 'Poncius Barbessaure', 'agent_type': 1},\n",
    "    {'record_id': '312466a1-0355-4743-b1f8-cced87ec1246', 'name': 'Arnaud Guilhem Gros', 'agent_type': 1},\n",
    "    {'record_id': '06bae7b6-d57f-43fe-8b47-e66059466b1e', 'name': 'Willelmus Le Peter', 'agent_type': 1},\n",
    "    {'record_id': 'fdcad25d-ac3b-446d-8d96-3f47e0b82281', 'name': 'Jacobus Albini', 'agent_type': 1},\n",
    "    {'record_id': '663b6f4e-cce1-4089-8ff5-e01ea53e5515', 'name': 'Johannes Johannis', 'agent_type': 1},\n",
    "    {'record_id': 'c791166a-d81a-4255-9d08-86704b9cda57', 'name': 'Marinus de Berra', 'agent_type': 1},\n",
    "    {'record_id': 'eabd3072-15de-4723-8472-8e981bd082a0', 'name': 'Guillelmus Martini', 'agent_type': 1},\n",
    "    {'record_id': 'e133eaf7-62ea-49d1-9f15-3c1732480f68', 'name': 'Bernard Fajole', 'agent_type': 1},\n",
    "    {'record_id': '598ca3c8-2e5a-41ec-af52-3d9fb9696e29', 'name': 'Jacobus Rogerii', 'agent_type': 1},\n",
    "    {'record_id': '36620fcd-ca7f-4608-9ca4-1519951bacce', 'name': 'Fulco Amati', 'agent_type': 1},\n",
    "    {'record_id': '98ae9ae7-1dae-4f88-ba54-1a4474621b8e', 'name': 'Reginaldus Tabernarius', 'agent_type': 1},\n",
    "    {'record_id': 'd98e8a7c-eca3-4dfe-8a4b-f83fe73b03f7', 'name': 'Rotolandus', 'agent_type': 1},\n",
    "    {'record_id': '7987a236-a0cc-4529-91d3-84814d71eb11', 'name': 'Eulàlia Roca', 'agent_type': 1},\n",
    "    {'record_id': '055851a1-a279-4df7-a4ff-104acfe81340', 'name': 'Poncius Gassini', 'agent_type': 1},\n",
    "    {'record_id': '1f4f7b3b-6f5d-4342-b516-47e6476ab80d', 'name': 'Guillelmus Pichoni', 'agent_type': 1},\n",
    "    {'record_id': '76800602-02fc-463c-9485-6a1c70c810c6', 'name': 'Johannes Pico', 'agent_type': 1},\n",
    "    {'record_id': 'e43160f5-2d3b-4f28-bb59-3496e40556c7', 'name': 'Jacobus de Menas', 'agent_type': 1},\n",
    "    {'record_id': 'f55feb53-3e3d-4bcb-9747-61b5f75151aa', 'name': 'Bellucus', 'agent_type': 1},\n",
    "    {'record_id': '2dbdbaaa-b345-49cc-829a-b5d2e6f469d0', 'name': 'Ricardus Le Barbur', 'agent_type': 1},\n",
    "    {'record_id': '8cdd1c86-ac9b-4195-8923-c3bfec02fbfc', 'name': 'Mair Flaischmann', 'agent_type': 1},\n",
    "    {'record_id': '5ce98d89-877c-4068-af65-6a33dd2026ce', 'name': 'Astrugus de Palerma', 'agent_type': 1},\n",
    "    {'record_id': 'da535214-31e9-498c-bf96-165fee2a67be', 'name': 'Grinda', 'agent_type': 1},\n",
    "    {'record_id': '1026073f-1605-43de-b5b8-e613ccdb88ce', 'name': 'Francesca Roqueta', 'agent_type': 1},\n",
    "    {'record_id': '6e3321e9-5ad9-4713-9c77-a24195a73e43', 'name': 'Jean de Graincourt', 'agent_type': 1},\n",
    "    {'record_id': '6a6c2340-ea2f-418f-9d23-660a7eb70adc', 'name': 'Willelmus de Cranewyz', 'agent_type': 1},\n",
    "    {'record_id': 'da99a605-66bd-46fa-ba36-e8f641a309cf', 'name': 'Petrus Tapani', 'agent_type': 1},\n",
    "    {'record_id': '0a4f8de3-40aa-4eee-ab17-751404e4462e', 'name': 'Bartholomeus', 'agent_type': 1},\n",
    "    {'record_id': 'f37b4679-9d5c-4484-a4b4-c05460625c57', 'name': 'Gabriellus de Nantis', 'agent_type': 1},\n",
    "    {'record_id': '584fff81-ed17-4219-8bc9-e828c6ec3c8e', 'name': 'Robertus Coleville', 'agent_type': 1},\n",
    "    {'record_id': '8cd3d2a4-1bb6-4776-950d-9abc57ac11e8', 'name': 'Mathieu de Benque', 'agent_type': 1},\n",
    "    {'record_id': '0a87cfc2-1ba0-45f3-adef-23f029488a83', 'name': 'Guileilmus Trulli', 'agent_type': 1},\n",
    "    {'record_id': '81a61773-d09b-4c01-92b7-1509c0e9cd0b', 'name': 'Guillelmus Broquerii', 'agent_type': 1},\n",
    "    {'record_id': 'da74a88a-12ea-4a7d-a694-98e407c5b349', 'name': 'Hugo Augerii', 'agent_type': 1},\n",
    "    {'record_id': 'd5ee438c-9618-4fcd-b041-b7d390a9f081', 'name': 'Nadala Raymunde', 'agent_type': 1},\n",
    "    {'record_id': 'f9e76630-0fcf-473f-bdb0-c0728a1fac1a', 'name': 'Thomas de Newerk', 'agent_type': 1},\n",
    "    {'record_id': '7e781fd5-d5b2-4b84-be76-942e3d6b2bc7', 'name': 'Bertrandus Pauli', 'agent_type': 1},\n",
    "    {'record_id': '82a803bc-31a9-4d2b-90aa-2901ba0d2fa0', 'name': 'Bonafossius Boneti of Lunello', 'agent_type': 1},\n",
    "    {'record_id': 'fa22143d-8ba3-4674-8bb5-efa73be2cd5c', 'name': 'Mosse Sibilí', 'agent_type': 1},\n",
    "    {'record_id': 'd8f7105f-6c62-4197-8e54-192138db44ed', 'name': 'Guillelmus Stephani', 'agent_type': 1},\n",
    "    {'record_id': '3d2cfede-f7ce-479c-a749-e031bb311747', 'name': 'Guillelmus Bertrandi', 'agent_type': 1},\n",
    "    {'record_id': 'afdb3abc-cdbf-455e-81ce-de4ec557f04e', 'name': 'Johannes Saramanni', 'agent_type': 1},\n",
    "    {'record_id': 'eff69902-f8e0-4d9e-aa81-f208df48b302', 'name': 'Agnès Bouchière', 'agent_type': 1},\n",
    "    {'record_id': 'e5474052-3368-4361-9eca-d54c7674468c', 'name': 'Narratus', 'agent_type': 1},\n",
    "    {'record_id': '5918ec17-e359-4b53-99fb-361bd3414441', 'name': 'John Mayho', 'agent_type': 1},\n",
    "    {'record_id': '55bb9d6c-8e94-44df-8a08-7876347ced37', 'name': 'Walterus de Nichole', 'agent_type': 1},\n",
    "    {'record_id': '423502e3-1b9a-4b36-b7f6-f5918f51ee76', 'name': 'The Church of Pennes', 'agent_type': 2},\n",
    "    {'record_id': '83912e81-9454-4b63-a137-425e65b2e6e9', 'name': 'Raymundus de Balma', 'agent_type': 1},\n",
    "    {'record_id': '36e51b75-7287-4739-916b-7f46b287efae', 'name': 'Ramon Balugo', 'agent_type': 1},\n",
    "    {'record_id': '6cc6bc93-7955-439b-93db-e58c792f5421', 'name': 'Bernardus Garnerii', 'agent_type': 1},\n",
    "    {\n",
    "        'record_id': '5c1b635e-87ff-418a-8c49-2381c70d886c',\n",
    "        'name': 'Catherina',\n",
    "        'description': 'Widow of Bernard Dissendies',\n",
    "        'agent_type': 1,\n",
    "    },\n",
    "    {\n",
    "        'record_id': '5c1b635e-87ff-418a-8c49-2381c70d886c',\n",
    "        'name': 'Bernard Dissendies',\n",
    "        'description': 'Husband of Catherina',\n",
    "        'agent_type': 1,\n",
    "    },\n",
    "    {'record_id': '0a0560b7-25d2-471a-898f-3be188a6d02d', 'name': 'Willelmus Le Fetherman', 'agent_type': 1},\n",
    "    {'record_id': '6bbee9a7-c01b-4840-8862-535a1266e8ec', 'name': 'Iohannes Sterion', 'agent_type': 1},\n",
    "    {'record_id': '8f19558e-9c9d-4f3a-b1ce-0f11d04ce815', 'name': 'Alan de Hacford', 'agent_type': 1},\n",
    "    {\n",
    "        'record_id': '39c6962c-0414-44dd-89ac-17a3ee39c000',\n",
    "        'name': 'John de Maltone',\n",
    "        'agent_type': 1,\n",
    "    },\n",
    "    {\n",
    "        'record_id': '39c6962c-0414-44dd-89ac-17a3ee39c000',\n",
    "        'name': 'Juliana Aunsel',\n",
    "        'agent_type': 1,\n",
    "    },\n",
    "    {'record_id': '9662c87a-45c8-45b3-8951-a1c7f4215da4', 'name': 'Durandus Dami', 'agent_type': 1},\n",
    "    {'record_id': '5a597d54-4c61-483b-9004-fdb427a5a6b9', 'name': 'Guillelma Ginhaque', 'agent_type': 1},\n",
    "    {'record_id': '3cfb44ee-951a-48ab-9041-242d26db472b', 'name': 'Simon Augerii', 'agent_type': 1},\n",
    "    {'record_id': '940ea536-9b06-49bd-947d-1f957b5a4f6b', 'name': 'Lambertus de Bruçono', 'agent_type': 1},\n",
    "    {'record_id': 'c7e3b4e3-c25a-4685-9dcc-4b5b5a1d46cc', 'name': 'Francesca', 'agent_type': 1},\n",
    "    {'record_id': '13a39780-f9cc-4331-82b7-5d32347ad778', 'name': 'Laureta de Rabesio', 'agent_type': 1},\n",
    "    {\n",
    "        'record_id': 'ed6e8d11-796f-4672-8c6d-1a3881148494',\n",
    "        'name': 'Bella',\n",
    "        'description': 'Daughter of Içach Xetaví',\n",
    "        'agent_type': 1,\n",
    "    },\n",
    "    {\n",
    "        'record_id': 'ed6e8d11-796f-4672-8c6d-1a3881148494',\n",
    "        'name': 'Içach Xetaví',\n",
    "        'description': 'Father of Bella',\n",
    "        'agent_type': 1,\n",
    "    },\n",
    "    {'record_id': '790de2e5-7705-40a2-88c2-07b1cb58d1ec', 'name': 'Henricus de Godesbirth', 'agent_type': 1},\n",
    "    {'record_id': 'dace64e8-1ae3-43cf-bbdb-e3d74314a2a5', 'name': 'Victor de Massello', 'agent_type': 1},\n",
    "    {'record_id': '6a0fbaff-19a5-410a-b856-2858df74537e', 'name': 'Petrus Audeberti', 'agent_type': 1},\n",
    "    {'record_id': 'b8510314-5b0a-41c8-8efa-141daf8c1768', 'name': 'Guillelmus Fayssati', 'agent_type': 1},\n",
    "    {'record_id': '71c73c8f-5c76-4974-9576-79bbf2ea4009', 'name': 'Martinus Milherie', 'agent_type': 1},\n",
    "    {\n",
    "        'record_id': '3a7e3f63-bf06-47b5-bdeb-30f3f7157d80',\n",
    "        'name': 'Church of Sainte-Cécile extra muros',\n",
    "        'agent_type': 2,\n",
    "    },\n",
    "    {'record_id': 'ecc2b308-d5a6-4c64-a7ba-d6567a2623d6', 'name': 'Antonius Bellipili', 'agent_type': 1},\n",
    "    {'record_id': '290a949d-c513-4191-92eb-132a2f11d512', 'name': 'Willelmus Le Seler', 'agent_type': 1},\n",
    "    {'record_id': '703ee880-a23a-428d-9ff3-fa43c541ac0e', 'name': 'Pere Ros', 'agent_type': 1},\n",
    "    {'record_id': 'f1bafc09-481a-48ee-ab73-4dfaa2bc1f28', 'name': 'Antoni Bonome', 'agent_type': 1},\n",
    "    {'record_id': 'b6e8ba12-0258-4bb2-8774-5edbc3ba1086', 'name': 'Christiana Massand', 'agent_type': 1},\n",
    "    {'record_id': '3bb2afad-5ad1-4a7d-aa51-126649a09803', 'name': 'Maria Gualbes', 'agent_type': 1},\n",
    "    {\n",
    "        'record_id': ['961946a3-b27f-4480-8f24-8a7540a4b6b2', '0ecdb153-b90f-446a-b637-85c7a7377cab'],\n",
    "        'name': 'Gaubert de Trebessac',\n",
    "        'agent_type': 1,\n",
    "    },\n",
    "    {'record_id': '0568d6da-494d-40b0-8f8d-b39abcd44edc', 'name': 'Eberlin', 'agent_type': 1},\n",
    "    {'record_id': '0568d6da-494d-40b0-8f8d-b39abcd44edc', 'name': 'Heßkel', 'agent_type': 1},\n",
    "    {'record_id': '0568d6da-494d-40b0-8f8d-b39abcd44edc', 'name': 'Schulklopfer', 'agent_type': 1},\n",
    "    {'record_id': '1ddce20d-453f-4202-a123-4fe58a19ddf5', 'name': 'Jean de Figuarol', 'agent_type': 1},\n",
    "    {'record_id': '6c271445-0efc-42bb-ab75-4199f05ed565', 'name': 'Petrus Garini', 'agent_type': 1},\n",
    "    {'record_id': '2e6f669c-d515-4a68-a686-1a80c37b9e5d', 'name': 'Anthonius Robaudi', 'agent_type': 1},\n",
    "    {'record_id': 'c58e84b4-3b2b-4a3c-be87-42e494129566', 'name': 'Hugo Gayele', 'agent_type': 1},\n",
    "    {'record_id': '47eaafd9-b72d-4253-923e-1a1aa6cb51c5', 'name': 'Raimond Gasc', 'agent_type': 1},\n",
    "    {'record_id': '7d579956-db28-436c-8c98-408cfaa79840', 'name': 'Jaume Soler', 'agent_type': 1},\n",
    "    {'record_id': 'd0e8e81f-ae58-413d-a927-61e9dad95f5e', 'name': 'Godekin de Houndesbergh', 'agent_type': 1},\n",
    "    {'record_id': 'c92456bc-8766-4bbc-9948-213da75aa2bd', 'name': 'Arnaud de Batut', 'agent_type': 1},\n",
    "    {'record_id': 'a9f66123-fe12-4d7c-887d-5ca78edce301', 'name': 'Berenguer Badia', 'agent_type': 1},\n",
    "    {'record_id': '08ef70ff-9195-480e-8b1d-2e5224a7d5da', 'name': 'Hugueta Biarde', 'agent_type': 1},\n",
    "    {'record_id': '8964411d-0682-4742-8d9d-93413a68c9f3', 'name': 'Petrus Ferraudi', 'agent_type': 1},\n",
    "    {'record_id': 'a19467bc-cfcc-4cd6-9628-47a2a43454cc', 'name': 'Arnulphus de Parisius', 'agent_type': 1},\n",
    "    {'record_id': 'a129b9f5-d241-4fe8-b253-c07080dbe761', 'name': 'Filippo Quartucci', 'agent_type': 1},\n",
    "    {'record_id': '34c0ff72-6c91-4ad9-b964-5aebf548eeb9', 'name': 'Berenguer Coset', 'agent_type': 1},\n",
    "    {'record_id': 'e7f58f21-a554-4201-849e-f5c8ebca2b34', 'name': 'Pere Corts', 'agent_type': 1},\n",
    "    {'record_id': '092909a1-e273-4356-9822-db725d17a691', 'name': 'Wilhelm von Rosemberg', 'agent_type': 1},\n",
    "    {'record_id': 'c2eac58f-b222-45d0-83ef-3a2497d06ea9', 'name': 'Anthonius Johannis', 'agent_type': 1},\n",
    "    {'record_id': 'f5088526-563e-4bc4-8542-cbf4e4696f9a', 'name': \"Miquel d'Alòs\", 'agent_type': 1},\n",
    "    {'record_id': 'c912d31a-272d-4dcc-9e15-93cd2344d036', 'name': 'Jean Portal', 'agent_type': 1},\n",
    "    {'record_id': '5728af68-4554-4eca-a1c6-84e7b1ac317e', 'name': 'Guillelmus Floca', 'agent_type': 1},\n",
    "    {'record_id': '352569a3-95cb-4bcf-a39a-ac3cc3e64e12', 'name': 'Guillelmus Labruti', 'agent_type': 1},\n",
    "    {'record_id': '9fec5f04-d0f9-48f8-9c28-c1ef084f8008', 'name': 'Mair Heller', 'agent_type': 1},\n",
    "    {\n",
    "        'record_id': '716e02f6-1780-45fd-91c7-7d27e71a2d58',\n",
    "        'name': 'Guillelmus Gasanhi',\n",
    "        'agent_type': 1,\n",
    "    },\n",
    "    {\n",
    "        'record_id': '716e02f6-1780-45fd-91c7-7d27e71a2d58',\n",
    "        'name': 'Stevenetus Gasanhi',\n",
    "        'agent_type': 1,\n",
    "    },\n",
    "    {'record_id': '448c36c3-e673-4c75-b5df-fc7b9866de2a', 'name': 'Iohannes de Bauseie', 'agent_type': 1},\n",
    "    {'record_id': 'e8f35736-0f83-4500-82b3-bdb55490a859', 'name': 'Pere Colivella', 'agent_type': 1},\n",
    "    {'record_id': 'b55a4dff-ca1e-41a2-9612-9b978e79d6e4', 'name': 'Sibilia Peyrone', 'agent_type': 1},\n",
    "    {'record_id': 'eeecae10-5c1e-4054-b186-4dd57b3786df', 'name': 'Petrus Johannis', 'agent_type': 1},\n",
    "    {'record_id': '7e906d11-fcc0-4b91-90fb-f99e08fddccb', 'name': 'William de Grymysby', 'agent_type': 1},\n",
    "    {'record_id': '75e90279-062c-476a-8cd0-3d6e29262293', 'name': 'Walterus de Bradefeld', 'agent_type': 1},\n",
    "    {'record_id': 'd6223aae-67af-4ffa-8362-dbd5f455ecf9', 'name': 'Ugona Rebolla', 'agent_type': 1},\n",
    "    {'record_id': 'bda1bad2-f9a0-459e-b566-3f06459af568', 'name': 'Johannes Duranti', 'agent_type': 1},\n",
    "    {'record_id': '7a77f241-e044-4fed-ab6c-7e22aa19cc32', 'name': 'Thomacius Blanquerii', 'agent_type': 1},\n",
    "    {'record_id': '1314c701-d78c-4c9b-a48d-fa5bae9a7d72', 'name': 'Bellandi', 'agent_type': 1},\n",
    "    {'record_id': 'a502b38b-0151-4161-9f43-5a329c2bb63b', 'name': 'Catharina Bollegone', 'agent_type': 1},\n",
    "    {'record_id': 'bdbcddc0-9f22-4219-ad57-a46367245b6c', 'name': 'Enricus Palmanayre', 'agent_type': 1},\n",
    "    {'record_id': '77a11f74-ae6c-49a0-9593-97391f5101b0', 'name': 'Nicolau Vidal', 'agent_type': 1},\n",
    "    {'record_id': '0cbb55ff-66ad-4e89-99cb-a96d4c014f12', 'name': 'Bernat Guimera', 'agent_type': 1},\n",
    "    {'record_id': 'a0a9e400-2191-4354-9793-660c55c536c7', 'name': 'Marquesius de Favacio', 'agent_type': 1},\n",
    "    {\n",
    "        'record_id': '4da0fcf5-6522-4beb-9d73-119e37c0b441',\n",
    "        'name': 'Abraham Heller',\n",
    "        'agent_type': 1,\n",
    "    },\n",
    "    {\n",
    "        'record_id': ['4da0fcf5-6522-4beb-9d73-119e37c0b441', '70725c3f-2a10-4322-a246-f8a9b4c3e8bf'],\n",
    "        'name': 'Josephin von Villach',\n",
    "        'agent_type': 1,\n",
    "    },\n",
    "    {'record_id': '3bd11b8d-1f1c-489e-a38b-6eca60bb31d2', 'name': 'Rixendis Calverie', 'agent_type': 1},\n",
    "    {'record_id': '8e7a1fde-744a-4284-9554-ca789283b39a', 'name': 'Bartholomeus de Castro Florencie', 'agent_type': 1},\n",
    "    {'record_id': 'b736fd0b-890e-46f2-903f-9096ffe22813', 'name': 'Symon de Leverington', 'agent_type': 1},\n",
    "    {'record_id': '43665985-56a4-48f0-bb85-9ee3bcabe425', 'name': 'Guillamone Brunet', 'agent_type': 1},\n",
    "    {\n",
    "        'record_id': ['806f5dde-6aba-4996-ad56-20a6b89a3758', '0d4a7add-f245-4f9c-b298-8401797c6099'],\n",
    "        'name': 'Gans',\n",
    "        'agent_type': 1,\n",
    "    },\n",
    "    {\n",
    "        'record_id': ['806f5dde-6aba-4996-ad56-20a6b89a3758', '0d4a7add-f245-4f9c-b298-8401797c6099'],\n",
    "        'name': 'Graßl',\n",
    "        'agent_type': 1,\n",
    "    },\n",
    "    {'record_id': '55a1cca4-8d71-4fb0-abb8-4ae0b350acaa', 'name': 'Guillelmus de Cavallione', 'agent_type': 1},\n",
    "    {'record_id': 'c9ba6da9-6e43-413c-a750-e937e8766a29', 'name': 'Nicholaus Stornelli', 'agent_type': 1},\n",
    "    {'record_id': '42a1c0cf-7efc-42ef-8101-bde068de40e3', 'name': 'Guillelmus Baille', 'agent_type': 1},\n",
    "    {'record_id': 'd0874349-4081-4343-bb42-d2d510fe082e', 'name': 'Agnes de Swafham', 'agent_type': 1},\n",
    "    {'record_id': '6682ba3a-48ce-4ffb-a91d-a0a68d62a8cf', 'name': 'Jordi de Marata', 'agent_type': 1},\n",
    "    {'record_id': '94573176-507c-4fb5-b5b4-16e77f35e8f8', 'name': 'Walterus de Bery', 'agent_type': 1},\n",
    "    {'record_id': 'd4845962-7179-46d4-b211-c728cd881716', 'name': 'Strawbingers', 'agent_type': 1},\n",
    "    {'record_id': 'e7973658-10a5-4705-bff9-7e932297ffa5', 'name': 'Petrus Saturnini', 'agent_type': 1},\n",
    "    {'record_id': '4901b7a4-7705-49f4-8dd4-7100cee1890b', 'name': 'Salvetus', 'agent_type': 1},\n",
    "    {'record_id': '8338a9b6-903f-4996-9330-9d33e6697f8f', 'name': 'Agnes', 'agent_type': 1},\n",
    "    {'record_id': '44d108a8-d118-4c3f-b4c4-9b1305a77b01', 'name': 'Robertus Le Barbur', 'agent_type': 1},\n",
    "    {'record_id': 'd2bc8dbc-626e-4533-b69f-7f658aa7ea90', 'name': 'Petrus Castanee', 'agent_type': 1},\n",
    "    {'record_id': '34754bd0-903e-4bb5-9ded-dce01f5dfb66', 'name': 'Jacobus Jugueti', 'agent_type': 1},\n",
    "    {'record_id': '21710ed1-863f-457b-b2fa-0a38d9849175', 'name': 'Jacobus Martini', 'agent_type': 1},\n",
    "    {'record_id': '65b1080b-62cd-4606-967b-42ac7d1c44fc', 'name': 'Armannus pelliparius', 'agent_type': 1},\n",
    "    {'record_id': '334012dd-c41e-4b4a-89a0-da460cd92b7f', 'name': 'Isnardus Raymbaudi', 'agent_type': 1},\n",
    "    {'record_id': '6d5d3423-348e-4752-b4aa-a1ca855a94fa', 'name': 'Nicola Embrone', 'agent_type': 1},\n",
    "    {'record_id': '1d0be7f5-7ec7-4b4b-8b0b-e26f8b27d1e1', 'name': 'Agnes Moshole', 'agent_type': 1},\n",
    "    {'record_id': '0fd59fdb-47bb-4e9c-b6a7-aee054076b46', 'name': 'Augerius Bote', 'agent_type': 1},\n",
    "    {'record_id': 'eda8561b-f25c-45b0-96ab-3b9a1242099a', 'name': 'Pesatus de Platea', 'agent_type': 1},\n",
    "    {'record_id': 'a134bd5a-3de8-42b8-ae74-50cf69864807', 'name': 'Maria', 'agent_type': 1},\n",
    "    {'record_id': 'd92ab61d-68ee-4ced-8b06-0e3863c7b805', 'name': 'Rixendis Cambale', 'agent_type': 1},\n",
    "    {'record_id': '28d9b66c-caf2-4f78-a93a-563b2a7626e1', 'name': 'Radulphus de Bretham', 'agent_type': 1},\n",
    "    {'record_id': '8c6eecad-2eb6-4e56-b919-141ec8c218c0', 'name': 'Biatrix Martina', 'agent_type': 1},\n",
    "    {'record_id': '592fd9e5-599c-47d1-b2b0-50a121569979', 'name': 'Johannes de Favacio', 'agent_type': 1},\n",
    "    {\n",
    "        'record_id': '119c2e49-12e5-439f-a080-c2257860d9e1',\n",
    "        'name': 'Garssannus',\n",
    "        'agent_type': 1,\n",
    "    },\n",
    "    {\n",
    "        'record_id': '119c2e49-12e5-439f-a080-c2257860d9e1',\n",
    "        'name': 'Salvetus de Castello',\n",
    "        'agent_type': 1,\n",
    "    },\n",
    "    {\n",
    "        'record_id': '119c2e49-12e5-439f-a080-c2257860d9e1',\n",
    "        'name': 'Vivas de Randia',\n",
    "        'agent_type': 1,\n",
    "    },\n",
    "    {\n",
    "        'record_id': '119c2e49-12e5-439f-a080-c2257860d9e1',\n",
    "        'name': 'Johannis Canaverio',\n",
    "        'agent_type': 1,\n",
    "    },\n",
    "    {\n",
    "        'record_id': '119c2e49-12e5-439f-a080-c2257860d9e1',\n",
    "        'name': 'Raymundus Russus de Camis',\n",
    "        'agent_type': 1,\n",
    "    },\n",
    "    {'record_id': '89121cd8-6dba-4e2c-9a7e-ce02c3fe41a8', 'name': 'Regina de Samaria', 'agent_type': 1},\n",
    "    {'record_id': 'd00f635f-3b24-4ffe-9fcc-f97889152264', 'name': 'Mabilia', 'agent_type': 1},\n",
    "    {'record_id': 'c7a975fb-ec7b-44cd-9754-7f7eaf254a2e', 'name': 'Salamó Egascall', 'agent_type': 1},\n",
    "    {'record_id': '2ed4fe85-7db4-4382-92b3-c8458f968473', 'name': 'Jan/Hans Embrechts', 'agent_type': 1},\n",
    "    {\n",
    "        'record_id': '793d65bb-fa2c-443f-a217-256995aa4100',\n",
    "        'name': 'Alaysseta',\n",
    "        'description': 'Widow of Johannes Cabanis',\n",
    "        'agent_type': 1,\n",
    "    },\n",
    "    {\n",
    "        'record_id': '793d65bb-fa2c-443f-a217-256995aa4100',\n",
    "        'name': 'Johannes Cabanis',\n",
    "        'description': 'Husband of Alaysseta',\n",
    "        'agent_type': 1,\n",
    "    },\n",
    "    {'record_id': '497c8d0b-b916-47bb-b0e3-e80e3cc623dc', 'name': 'Bellamonus', 'agent_type': 1},\n",
    "    {'record_id': '4bc003d8-fcac-49a1-b6cd-ce99273fa6de', 'name': 'Pere Bertran', 'agent_type': 1},\n",
    "    {\n",
    "        'record_id': ['3d49bc35-0ed0-47a5-8e39-4aa387ab18ad', '92dbd7e6-354d-4fd8-94c5-dda0204a46b8'],\n",
    "        'name': 'Johannes de Podio',\n",
    "        'agent_type': 1,\n",
    "    },\n",
    "    {'record_id': '5ce14ce8-bb8f-499e-8bda-f5379570fc91', 'name': 'Caterina Rubi', 'agent_type': 1},\n",
    "    {'record_id': 'd1eead9f-c9df-42dd-a62f-b5c7d61c39ab', 'name': 'Petrus Fresquerie', 'agent_type': 1},\n",
    "    {'record_id': 'b8e57fe3-d4e9-4c27-a37c-69df1f374641', 'name': 'Eberlyn', 'agent_type': 1},\n",
    "    {'record_id': '5ca93e91-f7ac-4738-97d2-37cbe024aa87', 'name': 'Pere Garballer', 'agent_type': 1},\n",
    "    {'record_id': '91fe3c9c-01ff-46ae-a12e-835288a8c347', 'name': 'Francesc Cuspineda', 'agent_type': 1},\n",
    "    {'record_id': '19ae025b-8e10-4648-8080-5f5e185ffc65', 'name': 'Sibinda Cuende', 'agent_type': 1},\n",
    "    {\n",
    "        'record_id': ['8478d55a-dc6c-4428-be67-f5344d856792', '21fdb57f-e1e1-49b0-9b75-fa3faa8a7dec'],\n",
    "        'name': 'Jaume Sala',\n",
    "        'agent_type': 1,\n",
    "    },\n",
    "    {'record_id': '26105812-573e-4b52-8c4c-b433687ee8a7', 'name': 'Compratus', 'agent_type': 1},\n",
    "    {'record_id': 'f0ebb1e9-55d3-4e4f-9bce-764e33889deb', 'name': 'Sans Marcel', 'agent_type': 1},\n",
    "    {'record_id': '7dd73101-2469-4c38-8557-43a42622f147', 'name': 'Mosse Blademi', 'agent_type': 1},\n",
    "    {'record_id': '3ed086d9-df79-4557-920b-ae28c404e16b', 'name': 'Jean Lavroy', 'agent_type': 1},\n",
    "    {'record_id': 'be0edeab-5b66-43d7-ac7f-83a8a87731c0', 'name': 'Emma', 'agent_type': 1},\n",
    "    {'record_id': '62617117-5b06-4c8b-b1db-00453680a17b', 'name': 'Pere Abella', 'agent_type': 1},\n",
    "    {'record_id': '1f311748-2a57-4a0f-a6be-f14e3951fe46', 'name': 'Peyretus Peytamini', 'agent_type': 1},\n",
    "    {'record_id': 'e1dd2b35-4d33-41f3-b5eb-cd83be7f5193', 'name': 'Cymitha', 'agent_type': 1},\n",
    "    {'record_id': '6c8ca3cc-e578-4c0d-9403-9ffd5977c7de', 'name': 'Johannes Molnerii', 'agent_type': 1},\n",
    "    {'record_id': '1b30d7ac-4452-450b-ab04-511d6c4dec6e', 'name': 'Guillelmus de Floreto', 'agent_type': 1},\n",
    "    {'record_id': 'e860e774-389f-41cc-beef-2cdd4127835e', 'name': 'Robertus Le Poleter', 'agent_type': 1},\n",
    "    {'record_id': '9e179da4-248e-4cd8-a9e5-c05706011853', 'name': 'Bertrandus de Vellancio', 'agent_type': 1},\n",
    "    {'record_id': '7bacfe81-b2d3-4056-9669-17c242bca9ee', 'name': 'John de Kirkeby', 'agent_type': 1},\n",
    "    {'record_id': 'dafcd623-3b50-478c-963b-26848040f36f', 'name': 'Fossa', 'agent_type': 1},\n",
    "    {'record_id': '398c3739-e23e-4113-9204-f1054bd2eb08', 'name': 'Francesc Cerda', 'agent_type': 1},\n",
    "    {'record_id': '87f76331-dce9-4328-a28f-6822a0da16a5', 'name': 'Sundl', 'agent_type': 1},\n",
    "    {'record_id': '9454d5bb-cca9-4121-9001-b696d0268e76', 'name': 'Hyrß', 'agent_type': 1},\n",
    "    {'record_id': 'cee6ace7-d013-4ec3-83d6-251d90970405', 'name': 'Petrus Duranti', 'agent_type': 1},\n",
    "    {'record_id': '20a23dcc-0934-4d42-bc46-05afba900df2', 'name': 'Petrus Fulconis', 'agent_type': 1},\n",
    "    {\n",
    "        'record_id': 'a493b9f7-1341-4142-ba11-60be4310ecbe',\n",
    "        'name': 'Godefridus',\n",
    "        'description': 'dictus Le Franceys',\n",
    "        'agent_type': 1,\n",
    "    },\n",
    "    {'record_id': '6ab5127f-59e5-4859-a099-de8ea126a83a', 'name': 'Bruder Albrechert Hoenveldes', 'agent_type': 1},\n",
    "    {'record_id': '999cfd5b-e572-4ca8-9319-a01b024f5e4d', 'name': 'Jacobus Trelhe', 'agent_type': 1},\n",
    "    {'record_id': '77946f10-b36f-4d84-99f4-eb7e0cb623e9', 'name': 'Isabella', 'agent_type': 1},\n",
    "    {'record_id': '43ee6fbb-d6fe-41b0-b45d-d3f370ffe6ec', 'name': 'Jacobus Hospitalerii', 'agent_type': 1},\n",
    "    {'record_id': '9470ccb9-0c87-4bea-915d-c9220e38de12', 'name': 'Nicolaus Franchi', 'agent_type': 1},\n",
    "    {'record_id': 'e3e3ee83-467a-4071-b4b5-7708be73ed43', 'name': 'Leb', 'agent_type': 1},\n",
    "    {'record_id': 'e3e3ee83-467a-4071-b4b5-7708be73ed43', 'name': 'Abraham Kitzing', 'agent_type': 1},\n",
    "    {'record_id': 'e60ee391-d731-4aef-98bb-7f77295bb0a4', 'name': 'Jacobus Fornerii', 'agent_type': 1},\n",
    "    {'record_id': '2b389e21-5c2d-425f-adf7-aead377d1a52', 'name': 'Pellegrinus', 'agent_type': 1},\n",
    "    {'record_id': 'b5be1145-30bb-4c57-a764-c5fe9aa4eff0', 'name': 'Beatrix Ruffe', 'agent_type': 1},\n",
    "    {'record_id': '7c646b54-7783-41a1-b119-f8986f7b859c', 'name': 'Reginald Laurenz', 'agent_type': 1},\n",
    "    {'record_id': '1988b585-41ec-4cd7-b01d-9d12a73869c3', 'name': 'Nicolaus Stornelli', 'agent_type': 1},\n",
    "    {'record_id': '11ea96b3-a33f-4a4a-9829-b2c878774331', 'name': 'Simus condam Lupori', 'agent_type': 1},\n",
    "    {'record_id': 'd7828d67-3b4e-4d98-8eaa-ed84170a07e0', 'name': 'Iohannes Le Coupere de Walton', 'agent_type': 1},\n",
    "    {'record_id': 'ae403d30-8cd6-4a31-950d-ee0fce85551b', 'name': 'Johannes Ricavi', 'agent_type': 1},\n",
    "    {'record_id': '4289b6cb-c04a-4305-97dd-5be0ed700c0c', 'name': 'Petrus Dice', 'agent_type': 1},\n",
    "    {'record_id': '6065fb97-bfbe-45fe-9b68-727598677baf', 'name': 'Johannes Isnardi de Sex Furnis', 'agent_type': 1},\n",
    "    # TODO: alias\n",
    "    {\n",
    "        'record_id': '2a45de40-4f61-4f30-8321-ca0b1cc9c368',\n",
    "        'name': 'Jacobus Salvage alias de Valensola',\n",
    "        'description': 'alias de Valensola',\n",
    "        'agent_type': 1,\n",
    "    },\n",
    "    {'record_id': '8e03bc50-ba88-4c76-aebe-21a356257b00', 'name': 'Iohannes de Schuldham', 'agent_type': 1},\n",
    "    {'record_id': 'd2bbb7eb-56b6-40d4-8da3-fdc68876d804', 'name': 'Bertrandus Tornatoris', 'agent_type': 1},\n",
    "    {'record_id': '02e0fcfc-f51e-4700-a2db-f775630b2917', 'name': 'Marinus Bermundi', 'agent_type': 1},\n",
    "    {'record_id': 'd3178b3a-5e26-489d-b3fd-f2a906c21245', 'name': 'Raymundus de Buco', 'agent_type': 1},\n",
    "    {'record_id': '30a991c8-7f55-41f0-8916-92204235ddb3', 'name': 'Jean Bourthoumieu', 'agent_type': 1},\n",
    "    {'record_id': '33d3d3e9-59fc-4b83-9687-429d122bc2a6', 'name': 'Johannes Martin', 'agent_type': 1},\n",
    "    {'record_id': 'c97050ea-aea7-4e3f-87c8-c7e201df0ea3', 'name': 'Honoratus Bavili', 'agent_type': 1},\n",
    "    {'record_id': '200ab0dd-01d3-4858-8910-ff27c52cd843', 'name': 'Martha Flote', 'agent_type': 1},\n",
    "    {'record_id': '7b89f370-dc24-4f48-aef8-4758cdda518c', 'name': 'Jacobus Stephani', 'agent_type': 1},\n",
    "    {'record_id': '3b2a62d4-481b-4af4-885f-f43bedcbdb51', 'name': 'Guillelmus Naulonqui', 'agent_type': 1},\n",
    "    {'record_id': 'f31c76da-1415-4264-ad18-b4e693c5f839', 'name': 'Jacobus Iacobi', 'agent_type': 1},\n",
    "    {'record_id': 'e5ab38e9-bbdc-493a-9dfc-78bdb18fc4a7', 'name': 'Manuelis', 'agent_type': 1},\n",
    "    {'record_id': '113df821-a008-453b-b20c-e16d3694ad92', 'name': 'Bartholomeus Egidii', 'agent_type': 1},\n",
    "    {'record_id': '76f32f4e-8342-4cbd-ba5a-62577d242628', 'name': 'Montolina de Monteolivo', 'agent_type': 1},\n",
    "    {'record_id': '821500d0-06b9-4000-a52b-5b2dcd4e3075', 'name': 'Jacobus de Boxols', 'agent_type': 1},\n",
    "    {'record_id': 'eb00f93d-6ba0-4ac5-9399-1f0e53662292', 'name': 'Francesc Bertran', 'agent_type': 1},\n",
    "    {'record_id': 'e95c4eb0-60d7-42c5-b399-bcf2d67c76b8', 'name': 'Maria de Grecia', 'agent_type': 1},\n",
    "    {'record_id': '893c721f-5cf0-4a7f-867b-eaff6bd09a36', 'name': 'Hugh le Bevere', 'agent_type': 1},\n",
    "    {'record_id': 'be2589f9-0c4b-4091-8858-2e882eb499c2', 'name': 'Sibinde Cuende', 'agent_type': 1},\n",
    "    {\n",
    "        'record_id': '0e801855-e731-4f11-90d2-4e64789676c9',\n",
    "        'name': 'Reginetta',\n",
    "        'description': 'daughter of Bendit',\n",
    "        'agent_type': 1,\n",
    "    },\n",
    "    {'record_id': '33f5eb84-f63c-470b-9ad4-cd4ca7078aa8', 'name': 'Narcis Pages', 'agent_type': 1},\n",
    "    {'record_id': '300b86be-ceba-4d9e-baf5-1ac4b611fdb1', 'name': 'Johannes Marini', 'agent_type': 1},\n",
    "    {'record_id': '42a1c0cf-7efc-42ef-8101-bde068de40e3', 'name': 'Rostagna Bartilese', 'agent_type': 1},\n",
    "    {\n",
    "        'record_id': ['a2ddecd7-c513-4d4a-be87-62dca98314b5', '9ca906cc-f28e-4434-aa2d-accb080ffa4c'],\n",
    "        'name': 'Guilhem de Magnoac',\n",
    "        'agent_type': 1,\n",
    "    },\n",
    "    {'record_id': '8a7b0779-b327-4963-94c7-86a1699a548e', 'name': 'Regina', 'agent_type': 1},\n",
    "    {'record_id': '0be59e78-6fa9-4cda-a6a7-0de90cb9c8d1', 'name': 'Petrus de Birche', 'agent_type': 1},\n",
    "    {'record_id': 'b3ab4213-a131-4911-8c07-1389fe5fe201', 'name': 'Petrus Baboti', 'agent_type': 1},\n",
    "    {'record_id': '01c0da6f-487f-45ed-aae7-8894fbe4131c', 'name': 'Colratus Cavallerii', 'agent_type': 1},\n",
    "    {'record_id': '56e1932f-7665-46b5-ac51-02c1e3e76eef', 'name': 'Gauterius Duranti', 'agent_type': 1},\n",
    "    {'record_id': '09783201-3659-4957-ac87-46d7e883fddf', 'name': 'John Loveryk', 'agent_type': 1},\n",
    "    {'record_id': '3dfd7020-aefd-426b-ab09-7f6664aa39f0', 'name': 'Hugo Rostagni', 'agent_type': 1},\n",
    "    {'record_id': '35e723ae-75d4-48d2-ac74-f00eec55de2d', 'name': 'Hugua', 'agent_type': 1},\n",
    "    {'record_id': 'b75ac7dd-be6e-48b4-ade3-64be64490b9e', 'name': 'Astrug Mosse', 'agent_type': 1},\n",
    "    {'record_id': 'f6a6724c-017c-49e1-95d0-7048c8018b15', 'name': 'Sileta Lhautaude', 'agent_type': 1},\n",
    "    {'record_id': '45c7a390-38ac-4df0-9b96-ea443c22be72', 'name': 'Bertrandus Marini', 'agent_type': 1},\n",
    "    {'record_id': '5364db33-a987-491b-a34b-4a080c9db175', 'name': 'Margarita Massaribas', 'agent_type': 1},\n",
    "    {'record_id': '74212cae-7cec-414e-834c-755b5458a890', 'name': 'Johannes Casse', 'agent_type': 1},\n",
    "    {'record_id': 'c24b70d8-34d8-429e-b51f-2a46f843c51b', 'name': 'Sir John Maynard', 'agent_type': 1},\n",
    "    {'record_id': 'e91e8a6d-e764-4c18-88e2-748e25538509', 'name': 'Bérengère', 'agent_type': 1},\n",
    "    {'record_id': 'fe4491c0-531f-4d5f-ac1d-d2cde3875d25', 'name': 'Bertrandus Fulconis', 'agent_type': 1},\n",
    "    {'record_id': 'cb2a7287-a6db-4ba4-8368-4f56a138dc68', 'name': 'Guillelmus Vesini', 'agent_type': 1},\n",
    "    {'record_id': 'ebfb4be4-362d-4685-aeee-31b22722ad99', 'name': 'Guilhem del Solier', 'agent_type': 1},\n",
    "    {'record_id': 'e381d25f-cf06-44f5-a2ad-7898035f871b', 'name': 'Vivaudus de Jerusalem', 'agent_type': 1},\n",
    "    {'record_id': '96a668a6-e04c-490c-ace1-415de71c126a', 'name': 'Johannes Martini', 'agent_type': 1},\n",
    "    {'record_id': 'f454b622-4acf-42c8-98dc-2c7700e2c4f0', 'name': 'Raymundus Adsami', 'agent_type': 1},\n",
    "    {\n",
    "        'record_id': ['9e7b8e5b-681b-41ab-8818-6e8894ced204', 'ede1de29-168f-4ae5-a3d4-da94f98089de'],\n",
    "        'name': 'Berengarius de Bulbono',\n",
    "        'agent_type': 1,\n",
    "    },\n",
    "    {'record_id': 'a30da9d3-0d7b-46c6-89a7-7fde6bf2f26b', 'name': 'Guillelmus Raynaudi', 'agent_type': 1},\n",
    "    {'record_id': 'fc54caf3-29e9-445f-98a0-08990c6ad115', 'name': 'Mayr Schalman', 'agent_type': 1},\n",
    "    {'record_id': 'de68efed-a68e-4866-a26e-2caffaed88fc', 'name': 'Isabella Heyron', 'agent_type': 1},\n",
    "    {\n",
    "        'record_id': [\n",
    "            'bc961069-2c03-4b4e-946e-420e4d0b7607',\n",
    "            '884856dd-7595-4d31-8e81-670c34e16773',\n",
    "            'bb9bf270-60b5-4db6-bcea-0d847eb3e71e',\n",
    "        ],\n",
    "        'name': 'Antoni Maler',\n",
    "        'agent_type': 1,\n",
    "    },\n",
    "    {'record_id': '1350edb1-42df-4cab-8ae1-72d8cb7b3e1e', 'name': 'Simon von Worms', 'agent_type': 1},\n",
    "    {'record_id': '536a16b6-9076-4b06-aa4d-1ed92cc6bac9', 'name': 'Jacobus Raymbaudi', 'agent_type': 1},\n",
    "    {'record_id': '9b914bd7-fe71-413c-bfcd-96a77f0db3b5', 'name': 'Macipetus Maurelli', 'agent_type': 1},\n",
    "    {'record_id': '4dafc0fc-b0ef-46a1-ad7e-92202b1700e7', 'name': 'Bonijuas', 'agent_type': 1},\n",
    "    {'record_id': '143002d9-995f-4392-b106-1cdf63ed5cf1', 'name': 'Neri da Riglione', 'agent_type': 1},\n",
    "    {'record_id': 'ec1ecc84-ce82-43e5-bfbe-b5bb7d817a8d', 'name': 'Arnaud Sans', 'agent_type': 1},\n",
    "    {'record_id': 'f6bacc6b-1082-4b8c-849b-f5dbd9596437', 'name': 'Catharina Raynauda', 'agent_type': 1},\n",
    "    {'record_id': '46b50730-5c04-4e58-8f62-7e79aee1206a', 'name': 'Leb Hailprun', 'agent_type': 1},\n",
    "    {\n",
    "        'record_id': 'cd10f399-8c8c-45b5-b436-920090f3d2f7',\n",
    "        'name': 'Martinus Poncius',\n",
    "        'description': 'merchant',\n",
    "        'agent_type': 1,\n",
    "    },\n",
    "    {'record_id': '98b30ba4-b986-4d57-a81b-a2c6b1d19e93', 'name': 'Dulciana Dalbare', 'agent_type': 1},\n",
    "    {'record_id': 'bee02b46-a4f4-4160-b6c1-59730a34c595', 'name': 'Petrus de Balma', 'agent_type': 1},\n",
    "    {'record_id': '4ebc6837-ce23-41fa-9068-c2add9b9ccd4', 'name': 'Bernat Guillem', 'agent_type': 1},\n",
    "    {'record_id': 'f5c2bfc8-31c6-40c7-bdf3-cb2a88fcbf00', 'name': 'Guilhem Chaurès', 'agent_type': 1},\n",
    "    {'record_id': '35585b36-52c4-4062-a175-241664e6e360', 'name': 'Hugh le Coupere', 'agent_type': 1},\n",
    "    {'record_id': 'c57887e5-386a-4ae2-8a72-97c4fca7c5dc', 'name': 'Guillelmus Ferrarii', 'agent_type': 1},\n",
    "    {'record_id': 'f0ac572b-57b9-4e51-b9ea-d1a94dee2464', 'name': 'Johannes de Balma', 'agent_type': 1},\n",
    "    {'record_id': 'd1063568-222c-4544-921e-357e45fac602', 'name': 'Dulcia de Monteolivo', 'agent_type': 1},\n",
    "    {'record_id': 'af9c6ef1-06c5-4a9a-a34a-43a6161d42e5', 'name': 'Johannes Marini', 'agent_type': 1},\n",
    "    {'record_id': '4a583b66-6643-4696-b5e6-516de6138f38', 'name': 'Robertus de Londonia', 'agent_type': 1},\n",
    "    {'record_id': 'c016590d-e058-4428-8e88-b5f8881162bf', 'name': 'Pere Segue', 'agent_type': 1},\n",
    "    {'record_id': '395b9557-447f-422c-9de1-31c764022a91', 'name': 'Stephanus Jordani', 'agent_type': 1},\n",
    "    {'record_id': '1fcce1ae-2b2b-429a-b9ef-dac33e4fa018', 'name': 'Revellus', 'agent_type': 1},\n",
    "    {'record_id': 'edf0de54-c935-4729-8341-ec315a34e89c', 'name': 'Philippus Lamberti', 'agent_type': 1},\n",
    "    {'record_id': '1364ee08-e09e-4070-9aa3-af9cab6c26a3', 'name': 'Tuxto', 'agent_type': 1},\n",
    "    {'record_id': 'd20f680a-c003-4659-907e-8b15d0be07f2', 'name': 'Franciscus Moguerii', 'agent_type': 1},\n",
    "    {'record_id': 'd5b8fe28-aa7d-438f-9ba5-125353c0043a', 'name': 'Johannes Folcuoyssii', 'agent_type': 1},\n",
    "]"
   ]
  },
  {
   "cell_type": "code",
   "execution_count": 3,
   "id": "c8e6ddb6",
   "metadata": {},
   "outputs": [
    {
     "data": {
      "text/plain": [
       "1"
      ]
     },
     "execution_count": 3,
     "metadata": {},
     "output_type": "execute_result"
    }
   ],
   "source": [
    "test = Record.objects.all()[266]\n",
    "test.no_folios\n",
    "\n"
   ]
  },
  {
   "cell_type": "code",
   "execution_count": 3,
   "id": "0500e84a",
   "metadata": {},
   "outputs": [
    {
     "name": "stdout",
     "output_type": "stream",
     "text": [
      "<class 'ida.models.utils.historical_date.HistoricalDateRange'>\n"
     ]
    }
   ],
   "source": [
    "date1 = HistoricalDate((1976, 9, 10))\n",
    "date2 = HistoricalDate((1996, 9, 10))\n",
    "\n",
    "date_range = HistoricalDateRange(date1, date2)\n",
    "\n",
    "print(type(date_range))\n",
    "\n",
    "                        \n",
    "                        "
   ]
  },
  {
   "cell_type": "code",
   "execution_count": 3,
   "id": "af662037",
   "metadata": {},
   "outputs": [
    {
     "name": "stdout",
     "output_type": "stream",
     "text": [
      "10-Sep-1976 == 10-Sep-1976\t True\n",
      "10-Sep-1976 < 10-Sep-1996 BCE\t False\n",
      "10-Sep-1976 > 10-Sep-1996 BCE\t True\n",
      "10-Sep-1976 >= 10-Sep-1996 BCE\t True\n",
      "10-Sep-1976 <= 10-Sep-1996 BCE\t False\n",
      "10-Sep-1976 != 10-Sep-1996 BCE\t True\n",
      "10-Sep-1976 < 10-Sep-1996 BCE\t False\n",
      "10-Sep-1976 < 10-Sep-1996 BCE\t False\n"
     ]
    }
   ],
   "source": [
    "date1 = HistoricalDate((1976, 9, 10))\n",
    "date2 = HistoricalDate((1996, 9, 10), is_bce=True)\n",
    "\n",
    "print(f'{date1} == {date1}\\t', date1==date1)\n",
    "print(f'{date1} < {date2}\\t', date1<date2)\n",
    "print(f'{date1} > {date2}\\t', date1>date2)\n",
    "print(f'{date1} >= {date2}\\t', date1>=date2)\n",
    "print(f'{date1} <= {date2}\\t', date1<=date2)\n",
    "print(f'{date1} != {date2}\\t', date1!=date2)\n",
    "\n",
    "print(f'{date1} < {date2}\\t', date1<date2)\n",
    "print(f'{date1} < {date2}\\t', date1.get_as_months()<date2.get_as_months())              \n",
    "                        "
   ]
  },
  {
   "cell_type": "code",
   "execution_count": 5,
   "id": "2b8c5052",
   "metadata": {},
   "outputs": [
    {
     "ename": "AssertionError",
     "evalue": "Invalid data: list/tuple must contain three values: (year, month, day).",
     "output_type": "error",
     "traceback": [
      "\u001b[0;31m---------------------------------------------------------------------------\u001b[0m",
      "\u001b[0;31mAssertionError\u001b[0m                            Traceback (most recent call last)",
      "Cell \u001b[0;32mIn[5], line 4\u001b[0m\n\u001b[1;32m      1\u001b[0m tests \u001b[38;5;241m=\u001b[39m [\n\u001b[1;32m      2\u001b[0m     (\u001b[38;5;124m'\u001b[39m\u001b[38;5;124mdate\u001b[39m\u001b[38;5;124m'\u001b[39m, HistoricalDate(datetime\u001b[38;5;241m.\u001b[39mdate(\u001b[38;5;241m1976\u001b[39m, \u001b[38;5;241m10\u001b[39m, \u001b[38;5;241m9\u001b[39m), is_bce\u001b[38;5;241m=\u001b[39m\u001b[38;5;28;01mTrue\u001b[39;00m)),\n\u001b[1;32m      3\u001b[0m     (\u001b[38;5;124m'\u001b[39m\u001b[38;5;124mdatetime\u001b[39m\u001b[38;5;124m'\u001b[39m, HistoricalDate(datetime\u001b[38;5;241m.\u001b[39mdatetime(\u001b[38;5;241m1976\u001b[39m, \u001b[38;5;241m10\u001b[39m, \u001b[38;5;241m9\u001b[39m))),\n\u001b[0;32m----> 4\u001b[0m     (\u001b[38;5;124m'\u001b[39m\u001b[38;5;124mtuple\u001b[39m\u001b[38;5;124m'\u001b[39m, \u001b[43mHistoricalDate\u001b[49m\u001b[43m(\u001b[49m\u001b[43m(\u001b[49m\u001b[38;5;241;43m1976\u001b[39;49m\u001b[43m,\u001b[49m\u001b[43m \u001b[49m\u001b[38;5;241;43m9\u001b[39;49m\u001b[43m)\u001b[49m\u001b[43m)\u001b[49m),\n\u001b[1;32m      5\u001b[0m     (\u001b[38;5;124m'\u001b[39m\u001b[38;5;124mdict\u001b[39m\u001b[38;5;124m'\u001b[39m, HistoricalDate({\u001b[38;5;124m'\u001b[39m\u001b[38;5;124myear\u001b[39m\u001b[38;5;124m'\u001b[39m: \u001b[38;5;241m1976\u001b[39m, \u001b[38;5;124m'\u001b[39m\u001b[38;5;124mmonth\u001b[39m\u001b[38;5;124m'\u001b[39m: \u001b[38;5;124m'\u001b[39m\u001b[38;5;124m09\u001b[39m\u001b[38;5;124m'\u001b[39m, \u001b[38;5;124m'\u001b[39m\u001b[38;5;124mday\u001b[39m\u001b[38;5;124m'\u001b[39m: \u001b[38;5;124m'\u001b[39m\u001b[38;5;124m10\u001b[39m\u001b[38;5;124m'\u001b[39m})),\n\u001b[1;32m      6\u001b[0m     (\u001b[38;5;124m'\u001b[39m\u001b[38;5;124mstring\u001b[39m\u001b[38;5;124m'\u001b[39m, HistoricalDate(\u001b[38;5;124m'\u001b[39m\u001b[38;5;124m1976/10/09\u001b[39m\u001b[38;5;124m'\u001b[39m)),\n\u001b[1;32m      7\u001b[0m     (\u001b[38;5;124m'\u001b[39m\u001b[38;5;124mjson\u001b[39m\u001b[38;5;124m'\u001b[39m, HistoricalDate(\u001b[38;5;124m'\u001b[39m\u001b[38;5;124m{\u001b[39m\u001b[38;5;124m\"\u001b[39m\u001b[38;5;124myear\u001b[39m\u001b[38;5;124m\"\u001b[39m\u001b[38;5;124m: \u001b[39m\u001b[38;5;124m\"\u001b[39m\u001b[38;5;124m1976\u001b[39m\u001b[38;5;124m\"\u001b[39m\u001b[38;5;124m, \u001b[39m\u001b[38;5;124m\"\u001b[39m\u001b[38;5;124mmonth\u001b[39m\u001b[38;5;124m\"\u001b[39m\u001b[38;5;124m: \u001b[39m\u001b[38;5;124m\"\u001b[39m\u001b[38;5;124m09\u001b[39m\u001b[38;5;124m\"\u001b[39m\u001b[38;5;124m, \u001b[39m\u001b[38;5;124m\"\u001b[39m\u001b[38;5;124mday\u001b[39m\u001b[38;5;124m\"\u001b[39m\u001b[38;5;124m: \u001b[39m\u001b[38;5;124m\"\u001b[39m\u001b[38;5;124m10\u001b[39m\u001b[38;5;124m\"\u001b[39m\u001b[38;5;124m}\u001b[39m\u001b[38;5;124m'\u001b[39m)),\n\u001b[1;32m      8\u001b[0m ]\n\u001b[1;32m     10\u001b[0m \u001b[38;5;28;01mfor\u001b[39;00m test \u001b[38;5;129;01min\u001b[39;00m tests:\n\u001b[1;32m     11\u001b[0m     name, date \u001b[38;5;241m=\u001b[39m test\n",
      "File \u001b[0;32m/opt/web/ida/models/utils/historical_date.py:57\u001b[0m, in \u001b[0;36mHistoricalDate.__init__\u001b[0;34m(self, data, is_bce)\u001b[0m\n\u001b[1;32m     55\u001b[0m \u001b[38;5;28mself\u001b[39m\u001b[38;5;241m.\u001b[39mdate \u001b[38;5;241m=\u001b[39m \u001b[38;5;28;01mNone\u001b[39;00m\n\u001b[1;32m     56\u001b[0m \u001b[38;5;28mself\u001b[39m\u001b[38;5;241m.\u001b[39mtext \u001b[38;5;241m=\u001b[39m \u001b[38;5;28;01mNone\u001b[39;00m\n\u001b[0;32m---> 57\u001b[0m \u001b[38;5;28;43mself\u001b[39;49m\u001b[38;5;241;43m.\u001b[39;49m\u001b[43mload\u001b[49m\u001b[43m(\u001b[49m\u001b[43mdata\u001b[49m\u001b[43m)\u001b[49m\n\u001b[1;32m     58\u001b[0m \u001b[38;5;28mself\u001b[39m\u001b[38;5;241m.\u001b[39mis_valid \u001b[38;5;241m=\u001b[39m \u001b[38;5;28mself\u001b[39m\u001b[38;5;241m.\u001b[39mvalidate_data()\n\u001b[1;32m     60\u001b[0m \u001b[38;5;28mdict\u001b[39m\u001b[38;5;241m.\u001b[39m\u001b[38;5;21m__init__\u001b[39m(\u001b[38;5;28mself\u001b[39m, \u001b[38;5;241m*\u001b[39m\u001b[38;5;241m*\u001b[39m\u001b[38;5;28mself\u001b[39m\u001b[38;5;241m.\u001b[39mserialize())\n",
      "File \u001b[0;32m/opt/web/ida/models/utils/historical_date.py:128\u001b[0m, in \u001b[0;36mHistoricalDate.load\u001b[0;34m(self, data)\u001b[0m\n\u001b[1;32m    125\u001b[0m     \u001b[38;5;28mself\u001b[39m\u001b[38;5;241m.\u001b[39mdate \u001b[38;5;241m=\u001b[39m datetime\u001b[38;5;241m.\u001b[39mdate(\u001b[38;5;28mself\u001b[39m\u001b[38;5;241m.\u001b[39myear, \u001b[38;5;28mself\u001b[39m\u001b[38;5;241m.\u001b[39mmonth, \u001b[38;5;28mself\u001b[39m\u001b[38;5;241m.\u001b[39mday)\n\u001b[1;32m    127\u001b[0m \u001b[38;5;28;01melif\u001b[39;00m \u001b[38;5;28misinstance\u001b[39m(data, (\u001b[38;5;28mlist\u001b[39m \u001b[38;5;241m|\u001b[39m \u001b[38;5;28mtuple\u001b[39m)):\n\u001b[0;32m--> 128\u001b[0m     \u001b[38;5;28;01massert\u001b[39;00m \u001b[38;5;28mlen\u001b[39m(data) \u001b[38;5;241m==\u001b[39m \u001b[38;5;241m3\u001b[39m, \u001b[38;5;124m'\u001b[39m\u001b[38;5;124mInvalid data: list/tuple must contain three values: (year, month, day).\u001b[39m\u001b[38;5;124m'\u001b[39m  \u001b[38;5;66;03m# noqa: PLR2004\u001b[39;00m\n\u001b[1;32m    129\u001b[0m     \u001b[38;5;28;01mfor\u001b[39;00m val \u001b[38;5;129;01min\u001b[39;00m data:\n\u001b[1;32m    130\u001b[0m         \u001b[38;5;28;01massert\u001b[39;00m \u001b[38;5;28misinstance\u001b[39m(val, (\u001b[38;5;28mint\u001b[39m \u001b[38;5;241m|\u001b[39m \u001b[38;5;28mstr\u001b[39m)), \u001b[38;5;124m'\u001b[39m\u001b[38;5;124mInvalid data: list/tuple elements must int or str.\u001b[39m\u001b[38;5;124m'\u001b[39m\n",
      "\u001b[0;31mAssertionError\u001b[0m: Invalid data: list/tuple must contain three values: (year, month, day)."
     ]
    }
   ],
   "source": [
    "tests = [\n",
    "    ('date', HistoricalDate(datetime.date(1976, 10, 9), is_bce=True)),\n",
    "    ('datetime', HistoricalDate(datetime.datetime(1976, 10, 9))),\n",
    "    ('tuple', HistoricalDate((1976, 9))),\n",
    "    ('dict', HistoricalDate({'year': 1976, 'month': '09', 'day': '10'})),\n",
    "    ('string', HistoricalDate('1976/10/09')),\n",
    "    ('json', HistoricalDate('{\"year\": \"1976\", \"month\": \"09\", \"day\": \"10\"}')),\n",
    "]\n",
    "\n",
    "for test in tests:\n",
    "    name, date = test\n",
    "    print(name, 'valid', date.is_valid)\n",
    "    print(name, 'is_bce', date.is_bce)\n",
    "    print(name, 'day', date.day)\n",
    "    print(name, 'month', date.month)\n",
    "    print(name, 'year', date.year)\n",
    "    print(name, 'text', date.text)\n",
    "    print(name, '%d-%b-%Y', date.format('%d-%b-%Y'))\n",
    "    print(name, '%d%t%B%t%Y', date.format('%d%t%B%t%Y'))\n",
    "    print(name, '%d-%b-%Ey', date.format('%d-%b-%Ey'))\n",
    "    print(name, '%d-%b-%ELy', date.format('%d-%b-%ELy'))\n",
    "    print(name, 'string', date.format('the%eth day of the %mth month in the year %Y of the era %E'))\n",
    "    print(name, 'serialized', date.serialize())\n",
    "    print('\\n')\n",
    "\n"
   ]
  },
  {
   "cell_type": "code",
   "execution_count": 1,
   "id": "1440d082",
   "metadata": {},
   "outputs": [
    {
     "data": {
      "text/plain": [
       "range(-198, 234)"
      ]
     },
     "execution_count": 1,
     "metadata": {},
     "output_type": "execute_result"
    }
   ],
   "source": [
    "range(-198, 234)\n"
   ]
  },
  {
   "cell_type": "code",
   "execution_count": 5,
   "id": "84e760fc",
   "metadata": {},
   "outputs": [
    {
     "name": "stdout",
     "output_type": "stream",
     "text": [
      "['mk2_identifier', 'mk1_identifier', 'alt_identifier', 'archival_series', 'archival_number', 'date', 'end_date', 'start_date', 'record_type', 'record_type_phrase', 'debt_phrase', 'debt_amount', 'debt_unit', 'debt_unit_type', 'debt_source', 'locale', 'named_persons', 'has_inventory', 'description']\n"
     ]
    },
    {
     "data": {
      "text/plain": [
       "<RecordType: Seizure>"
      ]
     },
     "execution_count": 5,
     "metadata": {},
     "output_type": "execute_result"
    }
   ],
   "source": [
    "model = Record.full_data.model\n",
    "ct = ContentType.objects.get_for_model(model)\n",
    "if hasattr(ct, 'contenttypeextended'):\n",
    "    model_fields = [i.name for i in model._meta.get_fields()]\n",
    "    attribute_list = [\n",
    "        i\n",
    "        for i in ct.contenttypeextended.attribute_types.exclude(is_local=True).values_list('name', flat=True)\n",
    "        if i not in model_fields\n",
    "    ]\n",
    "    print([*attribute_list])\n",
    "    qs = Record.objects.all().include_attrs(*attribute_list)\n",
    "    \n",
    "qs.first().record_type"
   ]
  },
  {
   "cell_type": "code",
   "execution_count": 4,
   "id": "9ae68433",
   "metadata": {},
   "outputs": [
    {
     "name": "stdout",
     "output_type": "stream",
     "text": [
      "Seizure\n",
      "Seizure\n",
      "Act 2287, Podestà di Lucca 83, 124r\n"
     ]
    }
   ],
   "source": [
    "test1 = Record.objects.include_attrs('record_type').first()\n",
    "test2 = Record.objects.all().include_attrs('record_type').first()\n",
    "test3 = Record.full_data.first()\n",
    "\n",
    "print(test1.record_type)\n",
    "print(test2.record_type)\n",
    "print(test3.record_type)\n"
   ]
  },
  {
   "cell_type": "code",
   "execution_count": 22,
   "id": "5d0a720b",
   "metadata": {},
   "outputs": [
    {
     "data": {
      "text/plain": [
       "<AttributesQueryset [<Record: Inventory of Abraham Kitzing and Leb (Volkert ed.)>, <Record: Inventory of Abraham von Munchen (Volkert ed.)>, <Record: Inventory of Gans Judin (Volkert ed.)>, <Record: Inventory of Graßl judin (Volkert ed.)>, <Record: Inventory of Hyrß juden (Volkert ed.)>, <Record: Inventory of Josabeth Lezar (Volkert ed.)>, <Record: Inventory of Jung Strawbinger (Volkert ed.)>, <Record: Inventory of Leb von Passaw (Volkert ed.)>, <Record: Inventory of Mair Heller (Volkert ed.)>, <Record: Inventory of Maister Joseph von Kelhaym (Volkert ed.)>, <Record: Inventory of Mayr Schalman (Volkert ed.)>, <Record: Inventory of Schulklopfer (Volkert ed.)>, <Record: Inventory of Strawbinger (Volkert ed.)>, <Record: Inventory of Sundl (Volkert ed.)>, <Record: Inventory of Symon von Wurms (Volkert ed.)>, <Record: Inventory of the widow of Davidin von Kytzing (Volkert ed.)>, <Record: Inventory of Zara, daughter of Gald von Newß (Volkert ed.)>, <Record: Goods of Astrugus de Palerma (ADBR B 142)>, <Record: Goods of Bellamonus (ADBR B 142)>, <Record: Goods of Bellandus (ADBR B 142)>, '...(remaining elements truncated)...']>"
      ]
     },
     "execution_count": 22,
     "metadata": {},
     "output_type": "execute_result"
    }
   ],
   "source": [
    "test = Collection.objects.filter(is_corpus=True)[0].members.all()\n",
    "ids = [i.object_id for i in test]\n",
    "\n",
    "Record.objects.filter(collections__collection_id__in=ids)\n",
    "\n"
   ]
  },
  {
   "cell_type": "code",
   "execution_count": 18,
   "id": "bd766265",
   "metadata": {},
   "outputs": [
    {
     "data": {
      "text/plain": [
       "<AttributesQueryset []>"
      ]
     },
     "execution_count": 18,
     "metadata": {},
     "output_type": "execute_result"
    }
   ],
   "source": [
    "Record.objects.filter(collections__collection_id='69c46ec2-d0f7-4092-80a3-b2214135f90f')\n",
    "\n"
   ]
  },
  {
   "cell_type": "code",
   "execution_count": 6,
   "id": "c402f8c6",
   "metadata": {},
   "outputs": [
    {
     "name": "stdout",
     "output_type": "stream",
     "text": [
      "87a43904-a890-4dc5-9e99-d560eadc521e\n"
     ]
    }
   ],
   "source": [
    "with schema_context('dalme'):\n",
    "    from public.extensions.records.models import Corpus\n",
    "    \n",
    "    corpora = Corpus.objects.all()\n",
    "    \n",
    "    test = corpora.first()\n",
    "    members = test.collections.all()\n",
    "    \n",
    "    print(members[0].record_collection_id)\n",
    "    "
   ]
  },
  {
   "cell_type": "code",
   "execution_count": 5,
   "id": "bdcf9a4d",
   "metadata": {},
   "outputs": [
    {
     "name": "stdout",
     "output_type": "stream",
     "text": [
      "[{'label': '1', 'options': [{'value': 'something1', 'group': '1'}, {'value': 'something1', 'group': '1'}, {'value': 'something1', 'group': '1'}, {'value': 'something1', 'group': '1'}]}, {'label': '2', 'options': [{'value': 'something2', 'group': '2'}, {'value': 'something2', 'group': '2'}, {'value': 'something2', 'group': '2'}]}]\n"
     ]
    }
   ],
   "source": [
    "from itertools import groupby\n",
    "\n",
    "test = [\n",
    "    {'value': 'something1', 'group': '1'},\n",
    "    {'value': 'something1', 'group': '1'},\n",
    "    {'value': 'something1', 'group': '1'},\n",
    "    {'value': 'something2', 'group': '2'},\n",
    "    {'value': 'something1', 'group': '1'},\n",
    "    {'value': 'something2', 'group': '2'},\n",
    "    {'value': 'something2', 'group': '2'},\n",
    "]\n",
    "\n",
    "\n",
    "test = sorted(test, key=lambda x: x['group'])\n",
    "\n",
    "# print(test)\n",
    " \n",
    "result = [{'label': k, 'options': list(v)} for (k, v) in groupby(test, key=lambda x: x['group'])]\n",
    "\n",
    "print(result)\n"
   ]
  },
  {
   "cell_type": "code",
   "execution_count": 26,
   "id": "8a91c2cf",
   "metadata": {},
   "outputs": [
    {
     "data": {
      "text/plain": [
       "False"
      ]
     },
     "execution_count": 26,
     "metadata": {},
     "output_type": "execute_result"
    }
   ],
   "source": [
    "test = Attribute.objects.all()\n",
    "ct = ContentType.objects.get_for_model(test.model)\n",
    "\n",
    "hasattr(ct, 'contenttypeextended')\n"
   ]
  },
  {
   "cell_type": "code",
   "execution_count": 27,
   "id": "c9351340",
   "metadata": {},
   "outputs": [
    {
     "data": {
      "text/plain": [
       "True"
      ]
     },
     "execution_count": 27,
     "metadata": {},
     "output_type": "execute_result"
    }
   ],
   "source": [
    "test = Record.objects.all()\n",
    "ct = ContentType.objects.get_for_model(test.model)\n",
    "\n",
    "hasattr(ct, 'contenttypeextended')\n",
    "\n",
    "# ct.contenttypeextended.attribute_types.all().values_list('name', flat=True)\n"
   ]
  },
  {
   "cell_type": "code",
   "execution_count": 7,
   "id": "4c4fb49e",
   "metadata": {},
   "outputs": [
    {
     "data": {
      "text/plain": [
       "[{'label': 'Inventory', 'value': '1', 'group': 'Inventory'},\n",
       " {'label': 'Account Book', 'value': '2', 'group': 'Account Book'},\n",
       " {'label': 'Guardianship', 'value': '3', 'group': 'Guardianship'},\n",
       " {'label': 'Seizure', 'value': '4', 'group': 'Seizure'},\n",
       " {'label': 'Testament', 'value': '5', 'group': 'Testament'},\n",
       " {'label': 'Sale', 'value': '6', 'group': 'Sale'},\n",
       " {'label': 'Estimate', 'value': '7', 'group': 'Estimate'},\n",
       " {'label': 'Tariffs', 'value': '8', 'group': 'Tariffs'},\n",
       " {'label': 'Inventory-Comanda', 'value': '9', 'group': 'Inventory'},\n",
       " {'label': 'Inventory-Criminal Inquest', 'value': '10', 'group': 'Inventory'},\n",
       " {'label': 'Inventory-Custody', 'value': '11', 'group': 'Inventory'},\n",
       " {'label': 'Inventory-Division', 'value': '12', 'group': 'Inventory'},\n",
       " {'label': 'Inventory-Donation', 'value': '13', 'group': 'Inventory'},\n",
       " {'label': 'Inventory-Dowry', 'value': '14', 'group': 'Inventory'},\n",
       " {'label': 'Inventory-Dowry Restitution', 'value': '15', 'group': 'Inventory'},\n",
       " {'label': 'Inventory-Ecclesiastical', 'value': '16', 'group': 'Inventory'},\n",
       " {'label': 'Inventory-Emancipation', 'value': '17', 'group': 'Inventory'},\n",
       " {'label': 'Inventory-Generic', 'value': '18', 'group': 'Inventory'},\n",
       " {'label': 'Inventory-Guardianship', 'value': '19', 'group': 'Inventory'},\n",
       " {'label': 'Inventory-Insolvency', 'value': '20', 'group': 'Inventory'},\n",
       " {'label': 'Inventory-Legacy', 'value': '21', 'group': 'Inventory'},\n",
       " {'label': 'Inventory-List of objects', 'value': '22', 'group': 'Inventory'},\n",
       " {'label': 'Inventory-Postmortem', 'value': '23', 'group': 'Inventory'},\n",
       " {'label': 'Inventory-Premortem', 'value': '24', 'group': 'Inventory'},\n",
       " {'label': 'Inventory-Probate', 'value': '25', 'group': 'Inventory'},\n",
       " {'label': 'Inventory-Quittance', 'value': '26', 'group': 'Inventory'},\n",
       " {'label': 'Inventory-Repudiation of inheritance',\n",
       "  'value': '27',\n",
       "  'group': 'Inventory'},\n",
       " {'label': 'Inventory-Restitution of pawned goods',\n",
       "  'value': '28',\n",
       "  'group': 'Inventory'},\n",
       " {'label': 'Inventory-Ship', 'value': '29', 'group': 'Inventory'},\n",
       " {'label': 'Inventory-Taking up inheritance',\n",
       "  'value': '30',\n",
       "  'group': 'Inventory'},\n",
       " {'label': 'Inventory-Tax seizure', 'value': '31', 'group': 'Inventory'},\n",
       " {'label': 'Inventory-Tax assessment', 'value': '32', 'group': 'Inventory'},\n",
       " {'label': 'Inventory-Undefended Goods', 'value': '33', 'group': 'Inventory'},\n",
       " {'label': 'Account Book-Household', 'value': '34', 'group': 'Account Book'},\n",
       " {'label': 'Account Book-Commercial', 'value': '35', 'group': 'Account Book'},\n",
       " {'label': 'Account Book-Ecclesiastical',\n",
       "  'value': '36',\n",
       "  'group': 'Account Book'},\n",
       " {'label': 'Guardianship-Liquidation', 'value': '37', 'group': 'Guardianship'},\n",
       " {'label': 'Seizure-Failed', 'value': '38', 'group': 'Seizure'},\n",
       " {'label': 'Seizure-Debt', 'value': '39', 'group': 'Seizure'},\n",
       " {'label': 'Seizure-Confiscation', 'value': '40', 'group': 'Seizure'},\n",
       " {'label': 'Testament-Execution', 'value': '41', 'group': 'Testament'},\n",
       " {'label': 'Sale-Auction', 'value': '42', 'group': 'Sale'},\n",
       " {'label': 'Sale-Notarial', 'value': '43', 'group': 'Sale'},\n",
       " {'label': 'Sale-Account', 'value': '44', 'group': 'Sale'},\n",
       " {'label': 'Estimate-Dowry', 'value': '45', 'group': 'Estimate'},\n",
       " {'label': 'Estimate-Testament', 'value': '46', 'group': 'Estimate'},\n",
       " {'label': 'Estimate-Insolvency', 'value': '47', 'group': 'Estimate'},\n",
       " {'label': 'Estimate-Pledge', 'value': '48', 'group': 'Estimate'},\n",
       " {'label': 'Estimate-Investment', 'value': '49', 'group': 'Estimate'},\n",
       " {'label': 'Estimate-Theft', 'value': '50', 'group': 'Estimate'},\n",
       " {'label': 'Tariffs-Price Caps', 'value': '51', 'group': 'Tariffs'},\n",
       " {'label': 'Tariffs-Lists', 'value': '52', 'group': 'Tariffs'},\n",
       " {'label': 'Tariffs-Customs Registers', 'value': '53', 'group': 'Tariffs'},\n",
       " {'label': 'Arrest', 'value': '54', 'group': 'Arrest'},\n",
       " {'label': 'Auction', 'value': '55', 'group': 'Auction'},\n",
       " {'label': 'Codicil', 'value': '56', 'group': 'Codicil'},\n",
       " {'label': 'Eviction', 'value': '57', 'group': 'Eviction'},\n",
       " {'label': 'Incarceration', 'value': '58', 'group': 'Incarceration'},\n",
       " {'label': 'Fictional object list',\n",
       "  'value': '59',\n",
       "  'group': 'Fictional object list'},\n",
       " {'label': 'Order to deliver goods',\n",
       "  'value': '60',\n",
       "  'group': 'Order to deliver goods'},\n",
       " {'label': 'Promise to pay debt',\n",
       "  'value': '61',\n",
       "  'group': 'Promise to pay debt'},\n",
       " {'label': 'Renvoi', 'value': '62', 'group': 'Renvoi'},\n",
       " {'label': 'Unclear', 'value': '63', 'group': 'Unclear'},\n",
       " {'label': 'Pharmacopeia', 'value': '64', 'group': 'Pharmacopeia'},\n",
       " {'label': 'Pharmacopeia-Functional', 'value': '65', 'group': 'Pharmacopeia'},\n",
       " {'label': 'Pharmacopeia-Reference', 'value': '66', 'group': 'Pharmacopeia'}]"
      ]
     },
     "execution_count": 7,
     "metadata": {},
     "output_type": "execute_result"
    }
   ],
   "source": [
    "json.loads(AttributeType.objects.get(name='record_type').options.get_values(render=True))"
   ]
  },
  {
   "cell_type": "code",
   "execution_count": 9,
   "id": "3271c3e1",
   "metadata": {},
   "outputs": [],
   "source": [
    "MONTH_LONG = calendar.month_name\n",
    "MONTH_SHORT = calendar.month_abbr\n",
    "MONTHS_INT = {val: key for key, val in [(i, abbr) for i, abbr in enumerate(MONTH_SHORT) if i != 0]}\n"
   ]
  },
  {
   "cell_type": "code",
   "execution_count": 14,
   "id": "40888a79",
   "metadata": {},
   "outputs": [
    {
     "name": "stdout",
     "output_type": "stream",
     "text": [
      "March\n"
     ]
    }
   ],
   "source": [
    "print(calendar.month_name[3])"
   ]
  },
  {
   "cell_type": "code",
   "execution_count": 16,
   "id": "6dda5dce",
   "metadata": {},
   "outputs": [
    {
     "name": "stdout",
     "output_type": "stream",
     "text": [
      "19\n"
     ]
    }
   ],
   "source": [
    "date = datetime.date(1976, 9, 10)\n",
    "print(date.strftime('%C'))"
   ]
  },
  {
   "cell_type": "code",
   "execution_count": 29,
   "id": "4158c1ee",
   "metadata": {},
   "outputs": [
    {
     "data": {
      "text/plain": [
       "1"
      ]
     },
     "execution_count": 29,
     "metadata": {},
     "output_type": "execute_result"
    }
   ],
   "source": [
    "math.ceil(abs(-1) / 100)"
   ]
  },
  {
   "cell_type": "code",
   "execution_count": 18,
   "id": "0d1aafbd",
   "metadata": {},
   "outputs": [
    {
     "name": "stdout",
     "output_type": "stream",
     "text": [
      "True\n"
     ]
    }
   ],
   "source": [
    "test = 1400\n",
    "print(-9999 <= test <= 9999)"
   ]
  },
  {
   "cell_type": "code",
   "execution_count": 2,
   "id": "787e9115",
   "metadata": {},
   "outputs": [
    {
     "name": "stdout",
     "output_type": "stream",
     "text": [
      "get_db_prep_save in 10-Sep-1976 <class 'ida.models.utils.historical_date.HistoricalDate'>\n",
      "get_db_prep_save out Jsonb({'dtype': 'JSON', 'value': {'day':  ... (110 chars)) <class 'psycopg.types.json.Jsonb'>\n",
      "date: 10-Sep-1976\n"
     ]
    }
   ],
   "source": [
    "record = Record.objects.first()\n",
    "atype = AttributeType.objects.get(name='date')\n",
    "date = HistoricalDate(datetime.date(1976, 9, 10))\n",
    "\n",
    "attr = Attribute.objects.create(\n",
    "    content_object=record,\n",
    "    attribute_type=atype,\n",
    "    value=date,\n",
    ")\n",
    "\n",
    "print(attr)\n"
   ]
  },
  {
   "cell_type": "code",
   "execution_count": 9,
   "id": "7f86b988",
   "metadata": {},
   "outputs": [
    {
     "name": "stdout",
     "output_type": "stream",
     "text": [
      "7-May-1341\n"
     ]
    }
   ],
   "source": [
    "attr = Attribute.objects.filter(name='date').last()\n",
    "print(attr.value)"
   ]
  },
  {
   "cell_type": "code",
   "execution_count": 12,
   "id": "a19e56bb",
   "metadata": {},
   "outputs": [
    {
     "name": "stdout",
     "output_type": "stream",
     "text": [
      "1481\n"
     ]
    }
   ],
   "source": [
    "test = Attribute.objects.filter(name='date')[0]\n",
    "print(test.value.year)"
   ]
  },
  {
   "cell_type": "code",
   "execution_count": 3,
   "id": "a109591c",
   "metadata": {},
   "outputs": [
    {
     "data": {
      "text/plain": [
       "'DATE'"
      ]
     },
     "execution_count": 3,
     "metadata": {},
     "output_type": "execute_result"
    }
   ],
   "source": [
    "AttributeType.objects.get(name='date').data_type\n"
   ]
  },
  {
   "cell_type": "code",
   "execution_count": 2,
   "id": "745d2278",
   "metadata": {},
   "outputs": [
    {
     "data": {
      "text/plain": [
       "<Record: some name>"
      ]
     },
     "execution_count": 2,
     "metadata": {},
     "output_type": "execute_result"
    }
   ],
   "source": [
    "Record.objects.create(name=\"some name\", short_name=\"name\")"
   ]
  },
  {
   "cell_type": "code",
   "execution_count": 11,
   "id": "6b60998b",
   "metadata": {},
   "outputs": [
    {
     "name": "stdout",
     "output_type": "stream",
     "text": [
      "Act 2287, Podestà di Lucca 83, 124r 3Ad-Tekles\n"
     ]
    },
    {
     "data": {
      "text/plain": [
       "<Attribute: language: 3Ad-Tekles>"
      ]
     },
     "execution_count": 11,
     "metadata": {},
     "output_type": "execute_result"
    }
   ],
   "source": [
    "record = Record.objects.first()\n",
    "lang = LanguageReference.objects.first()\n",
    "print(record, lang)\n",
    "\n",
    "atype = AttributeType.objects.get(name='language')\n",
    "\n",
    "Attribute.objects.create(\n",
    "    content_object=record,\n",
    "    attribute_type=atype,\n",
    "    value=lang,\n",
    ")\n"
   ]
  },
  {
   "cell_type": "code",
   "execution_count": 4,
   "id": "41659261",
   "metadata": {},
   "outputs": [
    {
     "name": "stdout",
     "output_type": "stream",
     "text": [
      "corrections\n"
     ]
    }
   ],
   "source": [
    "test = Scope.objects.first()\n",
    "print(test.parameters['credit'])\n"
   ]
  },
  {
   "cell_type": "code",
   "execution_count": 5,
   "id": "2a4e6b81",
   "metadata": {},
   "outputs": [
    {
     "data": {
      "text/plain": [
       "<QuerySet [<Scope: Scope object (ea4fc1d4-3091-4de6-a700-0b82bacdc6cc)>]>"
      ]
     },
     "execution_count": 5,
     "metadata": {},
     "output_type": "execute_result"
    }
   ],
   "source": [
    "Scope.objects.filter(parameters__credit='contributor')\n"
   ]
  },
  {
   "cell_type": "code",
   "execution_count": 7,
   "id": "68720b1e",
   "metadata": {},
   "outputs": [
    {
     "data": {
      "text/plain": [
       "<QuerySet [<RecordType: Inventory-Criminal Inquest>, <RecordType: Inventory-Custody>, <RecordType: Inventory-Division>, <RecordType: Inventory-Donation>, <RecordType: Inventory-Dowry>, <RecordType: Inventory-Dowry Restitution>, <RecordType: Inventory-Ecclesiastical>, <RecordType: Inventory-Emancipation>, <RecordType: Inventory-Generic>, <RecordType: Inventory-Guardianship>, <RecordType: Inventory-Insolvency>, <RecordType: Inventory-Legacy>, <RecordType: Inventory-List of objects>, <RecordType: Inventory-Postmortem>, <RecordType: Inventory-Premortem>, <RecordType: Inventory-Probate>, <RecordType: Inventory-Quittance>, <RecordType: Inventory-Repudiation of inheritance>, <RecordType: Inventory-Restitution of pawned goods>, <RecordType: Inventory-Ship>, '...(remaining elements truncated)...']>"
      ]
     },
     "execution_count": 7,
     "metadata": {},
     "output_type": "execute_result"
    }
   ],
   "source": [
    "Record.objects.include_attrs('record_type').values_list('record_type', flat=True).distinct()\n"
   ]
  },
  {
   "cell_type": "code",
   "execution_count": 8,
   "id": "bbc8a267",
   "metadata": {},
   "outputs": [
    {
     "name": "stdout",
     "output_type": "stream",
     "text": [
      "<class 'django.db.models.query.QuerySet'> 3753\n",
      "<class 'django.db.models.query.QuerySet'> 34\n",
      "<class 'django.db.models.query.QuerySet'> 2417\n"
     ]
    }
   ],
   "source": [
    "step1 = Record.objects.include_attrs('record_type', 'date')\n",
    "print(type(step1), step1.count())\n",
    "step2 = step1.filter(date__value__day=25)\n",
    "print(type(step2), step2.count())\n",
    "step3 = step1.filter(record_type__value__name='Seizure')\n",
    "print(type(step3), step3.count())"
   ]
  },
  {
   "cell_type": "code",
   "execution_count": 9,
   "id": "b7346c5a",
   "metadata": {},
   "outputs": [
    {
     "name": "stdout",
     "output_type": "stream",
     "text": [
      "<class 'django.db.models.query.QuerySet'> 3753\n",
      "<class 'django.db.models.query.QuerySet'> 34\n",
      "<class 'django.db.models.query.QuerySet'> 2417\n"
     ]
    }
   ],
   "source": [
    "step1 = Record.objects.include_attrs('record_type', 'date')\n",
    "print(type(step1), step1.count())\n",
    "step2 = step1.filter(date__day=25)\n",
    "print(type(step2), step2.count())\n",
    "step3 = step1.filter(record_type__name='Seizure')\n",
    "print(type(step3), step3.count())"
   ]
  },
  {
   "cell_type": "code",
   "execution_count": 10,
   "id": "55a6e767",
   "metadata": {},
   "outputs": [
    {
     "data": {
      "text/plain": [
       "'Seizure'"
      ]
     },
     "execution_count": 10,
     "metadata": {},
     "output_type": "execute_result"
    }
   ],
   "source": [
    "Record.objects.include_attrs('record_type', 'date')[0].record_type.name\n"
   ]
  },
  {
   "cell_type": "code",
   "execution_count": 3,
   "id": "43b7e2ec",
   "metadata": {},
   "outputs": [
    {
     "ename": "ImportError",
     "evalue": "cannot import name 'RecordManager' from 'ida.models.record' (/opt/web/ida/models/record.py)",
     "output_type": "error",
     "traceback": [
      "\u001b[0;31m---------------------------------------------------------------------------\u001b[0m",
      "\u001b[0;31mImportError\u001b[0m                               Traceback (most recent call last)",
      "Cell \u001b[0;32mIn[3], line 1\u001b[0m\n\u001b[0;32m----> 1\u001b[0m \u001b[38;5;28;01mfrom\u001b[39;00m \u001b[38;5;21;01mida\u001b[39;00m\u001b[38;5;21;01m.\u001b[39;00m\u001b[38;5;21;01mmodels\u001b[39;00m\u001b[38;5;21;01m.\u001b[39;00m\u001b[38;5;21;01mrecord\u001b[39;00m \u001b[38;5;28;01mimport\u001b[39;00m RecordManager\n\u001b[1;32m      3\u001b[0m RecordManager\n",
      "\u001b[0;31mImportError\u001b[0m: cannot import name 'RecordManager' from 'ida.models.record' (/opt/web/ida/models/record.py)"
     ]
    }
   ],
   "source": [
    "from ida.models.record import RecordManager\n",
    "\n",
    "RecordManager"
   ]
  },
  {
   "cell_type": "code",
   "execution_count": 8,
   "id": "643d7183",
   "metadata": {},
   "outputs": [
    {
     "data": {
      "text/plain": [
       "<ida.models.utils.historical_date.HistoricalDate at 0xffff3caeead0>"
      ]
     },
     "execution_count": 8,
     "metadata": {},
     "output_type": "execute_result"
    }
   ],
   "source": [
    "target = Record.objects.all()[100]\n",
    "\n",
    "dates = target.attributes.filter(name__in=['date', 'start_date', 'end_date'])\n",
    "dates.first().value if dates.exists() else None"
   ]
  },
  {
   "cell_type": "code",
   "execution_count": 2,
   "id": "4ef323d2",
   "metadata": {},
   "outputs": [
    {
     "ename": "FieldError",
     "evalue": "Unsupported lookup 'name' for GenericRel or join on the field not permitted.",
     "output_type": "error",
     "traceback": [
      "\u001b[0;31m---------------------------------------------------------------------------\u001b[0m",
      "\u001b[0;31mFieldError\u001b[0m                                Traceback (most recent call last)",
      "Cell \u001b[0;32mIn[2], line 3\u001b[0m\n\u001b[1;32m      1\u001b[0m \u001b[38;5;28msorted\u001b[39m([\n\u001b[1;32m      2\u001b[0m     (i\u001b[38;5;241m.\u001b[39mid, i\u001b[38;5;241m.\u001b[39mname)\n\u001b[0;32m----> 3\u001b[0m     \u001b[38;5;28;01mfor\u001b[39;00m i \u001b[38;5;129;01min\u001b[39;00m \u001b[43mRecord\u001b[49m\u001b[38;5;241;43m.\u001b[39;49m\u001b[43mobjects\u001b[49m\u001b[38;5;241;43m.\u001b[39;49m\u001b[43mfilter\u001b[49m\u001b[43m(\u001b[49m\u001b[43mattributes__name\u001b[49m\u001b[38;5;241;43m=\u001b[39;49m\u001b[38;5;124;43m'\u001b[39;49m\u001b[38;5;124;43mlocale\u001b[39;49m\u001b[38;5;124;43m'\u001b[39;49m\u001b[43m,\u001b[49m\u001b[43m \u001b[49m\u001b[43mworkflow__is_public\u001b[49m\u001b[38;5;241;43m=\u001b[39;49m\u001b[38;5;28;43;01mTrue\u001b[39;49;00m\u001b[43m)\u001b[49m\n\u001b[1;32m      4\u001b[0m         \u001b[38;5;241m.\u001b[39mvalues_list(\u001b[38;5;124m'\u001b[39m\u001b[38;5;124mattributes__value\u001b[39m\u001b[38;5;124m'\u001b[39m, flat\u001b[38;5;241m=\u001b[39m\u001b[38;5;28;01mTrue\u001b[39;00m)\n\u001b[1;32m      5\u001b[0m         \u001b[38;5;241m.\u001b[39mdistinct()\n\u001b[1;32m      6\u001b[0m ], key\u001b[38;5;241m=\u001b[39m\u001b[38;5;28;01mlambda\u001b[39;00m x: x[\u001b[38;5;241m1\u001b[39m])\n",
      "File \u001b[0;32m/usr/local/lib/python3.11/site-packages/django/db/models/manager.py:87\u001b[0m, in \u001b[0;36mBaseManager._get_queryset_methods.<locals>.create_method.<locals>.manager_method\u001b[0;34m(self, *args, **kwargs)\u001b[0m\n\u001b[1;32m     85\u001b[0m \u001b[38;5;129m@wraps\u001b[39m(method)\n\u001b[1;32m     86\u001b[0m \u001b[38;5;28;01mdef\u001b[39;00m \u001b[38;5;21mmanager_method\u001b[39m(\u001b[38;5;28mself\u001b[39m, \u001b[38;5;241m*\u001b[39margs, \u001b[38;5;241m*\u001b[39m\u001b[38;5;241m*\u001b[39mkwargs):\n\u001b[0;32m---> 87\u001b[0m     \u001b[38;5;28;01mreturn\u001b[39;00m \u001b[38;5;28;43mgetattr\u001b[39;49m\u001b[43m(\u001b[49m\u001b[38;5;28;43mself\u001b[39;49m\u001b[38;5;241;43m.\u001b[39;49m\u001b[43mget_queryset\u001b[49m\u001b[43m(\u001b[49m\u001b[43m)\u001b[49m\u001b[43m,\u001b[49m\u001b[43m \u001b[49m\u001b[43mname\u001b[49m\u001b[43m)\u001b[49m\u001b[43m(\u001b[49m\u001b[38;5;241;43m*\u001b[39;49m\u001b[43margs\u001b[49m\u001b[43m,\u001b[49m\u001b[43m \u001b[49m\u001b[38;5;241;43m*\u001b[39;49m\u001b[38;5;241;43m*\u001b[39;49m\u001b[43mkwargs\u001b[49m\u001b[43m)\u001b[49m\n",
      "File \u001b[0;32m/usr/local/lib/python3.11/site-packages/django/db/models/query.py:1476\u001b[0m, in \u001b[0;36mQuerySet.filter\u001b[0;34m(self, *args, **kwargs)\u001b[0m\n\u001b[1;32m   1471\u001b[0m \u001b[38;5;250m\u001b[39m\u001b[38;5;124;03m\"\"\"\u001b[39;00m\n\u001b[1;32m   1472\u001b[0m \u001b[38;5;124;03mReturn a new QuerySet instance with the args ANDed to the existing\u001b[39;00m\n\u001b[1;32m   1473\u001b[0m \u001b[38;5;124;03mset.\u001b[39;00m\n\u001b[1;32m   1474\u001b[0m \u001b[38;5;124;03m\"\"\"\u001b[39;00m\n\u001b[1;32m   1475\u001b[0m \u001b[38;5;28mself\u001b[39m\u001b[38;5;241m.\u001b[39m_not_support_combined_queries(\u001b[38;5;124m\"\u001b[39m\u001b[38;5;124mfilter\u001b[39m\u001b[38;5;124m\"\u001b[39m)\n\u001b[0;32m-> 1476\u001b[0m \u001b[38;5;28;01mreturn\u001b[39;00m \u001b[38;5;28;43mself\u001b[39;49m\u001b[38;5;241;43m.\u001b[39;49m\u001b[43m_filter_or_exclude\u001b[49m\u001b[43m(\u001b[49m\u001b[38;5;28;43;01mFalse\u001b[39;49;00m\u001b[43m,\u001b[49m\u001b[43m \u001b[49m\u001b[43margs\u001b[49m\u001b[43m,\u001b[49m\u001b[43m \u001b[49m\u001b[43mkwargs\u001b[49m\u001b[43m)\u001b[49m\n",
      "File \u001b[0;32m/usr/local/lib/python3.11/site-packages/django/db/models/query.py:1494\u001b[0m, in \u001b[0;36mQuerySet._filter_or_exclude\u001b[0;34m(self, negate, args, kwargs)\u001b[0m\n\u001b[1;32m   1492\u001b[0m     clone\u001b[38;5;241m.\u001b[39m_deferred_filter \u001b[38;5;241m=\u001b[39m negate, args, kwargs\n\u001b[1;32m   1493\u001b[0m \u001b[38;5;28;01melse\u001b[39;00m:\n\u001b[0;32m-> 1494\u001b[0m     \u001b[43mclone\u001b[49m\u001b[38;5;241;43m.\u001b[39;49m\u001b[43m_filter_or_exclude_inplace\u001b[49m\u001b[43m(\u001b[49m\u001b[43mnegate\u001b[49m\u001b[43m,\u001b[49m\u001b[43m \u001b[49m\u001b[43margs\u001b[49m\u001b[43m,\u001b[49m\u001b[43m \u001b[49m\u001b[43mkwargs\u001b[49m\u001b[43m)\u001b[49m\n\u001b[1;32m   1495\u001b[0m \u001b[38;5;28;01mreturn\u001b[39;00m clone\n",
      "File \u001b[0;32m/usr/local/lib/python3.11/site-packages/django/db/models/query.py:1501\u001b[0m, in \u001b[0;36mQuerySet._filter_or_exclude_inplace\u001b[0;34m(self, negate, args, kwargs)\u001b[0m\n\u001b[1;32m   1499\u001b[0m     \u001b[38;5;28mself\u001b[39m\u001b[38;5;241m.\u001b[39m_query\u001b[38;5;241m.\u001b[39madd_q(\u001b[38;5;241m~\u001b[39mQ(\u001b[38;5;241m*\u001b[39margs, \u001b[38;5;241m*\u001b[39m\u001b[38;5;241m*\u001b[39mkwargs))\n\u001b[1;32m   1500\u001b[0m \u001b[38;5;28;01melse\u001b[39;00m:\n\u001b[0;32m-> 1501\u001b[0m     \u001b[38;5;28;43mself\u001b[39;49m\u001b[38;5;241;43m.\u001b[39;49m\u001b[43m_query\u001b[49m\u001b[38;5;241;43m.\u001b[39;49m\u001b[43madd_q\u001b[49m\u001b[43m(\u001b[49m\u001b[43mQ\u001b[49m\u001b[43m(\u001b[49m\u001b[38;5;241;43m*\u001b[39;49m\u001b[43margs\u001b[49m\u001b[43m,\u001b[49m\u001b[43m \u001b[49m\u001b[38;5;241;43m*\u001b[39;49m\u001b[38;5;241;43m*\u001b[39;49m\u001b[43mkwargs\u001b[49m\u001b[43m)\u001b[49m\u001b[43m)\u001b[49m\n",
      "File \u001b[0;32m/usr/local/lib/python3.11/site-packages/django/db/models/sql/query.py:1613\u001b[0m, in \u001b[0;36mQuery.add_q\u001b[0;34m(self, q_object)\u001b[0m\n\u001b[1;32m   1604\u001b[0m \u001b[38;5;66;03m# For join promotion this case is doing an AND for the added q_object\u001b[39;00m\n\u001b[1;32m   1605\u001b[0m \u001b[38;5;66;03m# and existing conditions. So, any existing inner join forces the join\u001b[39;00m\n\u001b[1;32m   1606\u001b[0m \u001b[38;5;66;03m# type to remain inner. Existing outer joins can however be demoted.\u001b[39;00m\n\u001b[1;32m   1607\u001b[0m \u001b[38;5;66;03m# (Consider case where rel_a is LOUTER and rel_a__col=1 is added - if\u001b[39;00m\n\u001b[1;32m   1608\u001b[0m \u001b[38;5;66;03m# rel_a doesn't produce any rows, then the whole condition must fail.\u001b[39;00m\n\u001b[1;32m   1609\u001b[0m \u001b[38;5;66;03m# So, demotion is OK.\u001b[39;00m\n\u001b[1;32m   1610\u001b[0m existing_inner \u001b[38;5;241m=\u001b[39m {\n\u001b[1;32m   1611\u001b[0m     a \u001b[38;5;28;01mfor\u001b[39;00m a \u001b[38;5;129;01min\u001b[39;00m \u001b[38;5;28mself\u001b[39m\u001b[38;5;241m.\u001b[39malias_map \u001b[38;5;28;01mif\u001b[39;00m \u001b[38;5;28mself\u001b[39m\u001b[38;5;241m.\u001b[39malias_map[a]\u001b[38;5;241m.\u001b[39mjoin_type \u001b[38;5;241m==\u001b[39m INNER\n\u001b[1;32m   1612\u001b[0m }\n\u001b[0;32m-> 1613\u001b[0m clause, _ \u001b[38;5;241m=\u001b[39m \u001b[38;5;28;43mself\u001b[39;49m\u001b[38;5;241;43m.\u001b[39;49m\u001b[43m_add_q\u001b[49m\u001b[43m(\u001b[49m\u001b[43mq_object\u001b[49m\u001b[43m,\u001b[49m\u001b[43m \u001b[49m\u001b[38;5;28;43mself\u001b[39;49m\u001b[38;5;241;43m.\u001b[39;49m\u001b[43mused_aliases\u001b[49m\u001b[43m)\u001b[49m\n\u001b[1;32m   1614\u001b[0m \u001b[38;5;28;01mif\u001b[39;00m clause:\n\u001b[1;32m   1615\u001b[0m     \u001b[38;5;28mself\u001b[39m\u001b[38;5;241m.\u001b[39mwhere\u001b[38;5;241m.\u001b[39madd(clause, AND)\n",
      "File \u001b[0;32m/usr/local/lib/python3.11/site-packages/django/db/models/sql/query.py:1645\u001b[0m, in \u001b[0;36mQuery._add_q\u001b[0;34m(self, q_object, used_aliases, branch_negated, current_negated, allow_joins, split_subq, check_filterable, summarize, update_join_types)\u001b[0m\n\u001b[1;32m   1641\u001b[0m joinpromoter \u001b[38;5;241m=\u001b[39m JoinPromoter(\n\u001b[1;32m   1642\u001b[0m     q_object\u001b[38;5;241m.\u001b[39mconnector, \u001b[38;5;28mlen\u001b[39m(q_object\u001b[38;5;241m.\u001b[39mchildren), current_negated\n\u001b[1;32m   1643\u001b[0m )\n\u001b[1;32m   1644\u001b[0m \u001b[38;5;28;01mfor\u001b[39;00m child \u001b[38;5;129;01min\u001b[39;00m q_object\u001b[38;5;241m.\u001b[39mchildren:\n\u001b[0;32m-> 1645\u001b[0m     child_clause, needed_inner \u001b[38;5;241m=\u001b[39m \u001b[38;5;28;43mself\u001b[39;49m\u001b[38;5;241;43m.\u001b[39;49m\u001b[43mbuild_filter\u001b[49m\u001b[43m(\u001b[49m\n\u001b[1;32m   1646\u001b[0m \u001b[43m        \u001b[49m\u001b[43mchild\u001b[49m\u001b[43m,\u001b[49m\n\u001b[1;32m   1647\u001b[0m \u001b[43m        \u001b[49m\u001b[43mcan_reuse\u001b[49m\u001b[38;5;241;43m=\u001b[39;49m\u001b[43mused_aliases\u001b[49m\u001b[43m,\u001b[49m\n\u001b[1;32m   1648\u001b[0m \u001b[43m        \u001b[49m\u001b[43mbranch_negated\u001b[49m\u001b[38;5;241;43m=\u001b[39;49m\u001b[43mbranch_negated\u001b[49m\u001b[43m,\u001b[49m\n\u001b[1;32m   1649\u001b[0m \u001b[43m        \u001b[49m\u001b[43mcurrent_negated\u001b[49m\u001b[38;5;241;43m=\u001b[39;49m\u001b[43mcurrent_negated\u001b[49m\u001b[43m,\u001b[49m\n\u001b[1;32m   1650\u001b[0m \u001b[43m        \u001b[49m\u001b[43mallow_joins\u001b[49m\u001b[38;5;241;43m=\u001b[39;49m\u001b[43mallow_joins\u001b[49m\u001b[43m,\u001b[49m\n\u001b[1;32m   1651\u001b[0m \u001b[43m        \u001b[49m\u001b[43msplit_subq\u001b[49m\u001b[38;5;241;43m=\u001b[39;49m\u001b[43msplit_subq\u001b[49m\u001b[43m,\u001b[49m\n\u001b[1;32m   1652\u001b[0m \u001b[43m        \u001b[49m\u001b[43mcheck_filterable\u001b[49m\u001b[38;5;241;43m=\u001b[39;49m\u001b[43mcheck_filterable\u001b[49m\u001b[43m,\u001b[49m\n\u001b[1;32m   1653\u001b[0m \u001b[43m        \u001b[49m\u001b[43msummarize\u001b[49m\u001b[38;5;241;43m=\u001b[39;49m\u001b[43msummarize\u001b[49m\u001b[43m,\u001b[49m\n\u001b[1;32m   1654\u001b[0m \u001b[43m        \u001b[49m\u001b[43mupdate_join_types\u001b[49m\u001b[38;5;241;43m=\u001b[39;49m\u001b[43mupdate_join_types\u001b[49m\u001b[43m,\u001b[49m\n\u001b[1;32m   1655\u001b[0m \u001b[43m    \u001b[49m\u001b[43m)\u001b[49m\n\u001b[1;32m   1656\u001b[0m     joinpromoter\u001b[38;5;241m.\u001b[39madd_votes(needed_inner)\n\u001b[1;32m   1657\u001b[0m     \u001b[38;5;28;01mif\u001b[39;00m child_clause:\n",
      "File \u001b[0;32m/usr/local/lib/python3.11/site-packages/django/db/models/sql/query.py:1559\u001b[0m, in \u001b[0;36mQuery.build_filter\u001b[0;34m(self, filter_expr, branch_negated, current_negated, can_reuse, allow_joins, split_subq, check_filterable, summarize, update_join_types)\u001b[0m\n\u001b[1;32m   1556\u001b[0m \u001b[38;5;28;01melse\u001b[39;00m:\n\u001b[1;32m   1557\u001b[0m     col \u001b[38;5;241m=\u001b[39m \u001b[38;5;28mself\u001b[39m\u001b[38;5;241m.\u001b[39m_get_col(targets[\u001b[38;5;241m0\u001b[39m], join_info\u001b[38;5;241m.\u001b[39mfinal_field, alias)\n\u001b[0;32m-> 1559\u001b[0m condition \u001b[38;5;241m=\u001b[39m \u001b[38;5;28;43mself\u001b[39;49m\u001b[38;5;241;43m.\u001b[39;49m\u001b[43mbuild_lookup\u001b[49m\u001b[43m(\u001b[49m\u001b[43mlookups\u001b[49m\u001b[43m,\u001b[49m\u001b[43m \u001b[49m\u001b[43mcol\u001b[49m\u001b[43m,\u001b[49m\u001b[43m \u001b[49m\u001b[43mvalue\u001b[49m\u001b[43m)\u001b[49m\n\u001b[1;32m   1560\u001b[0m lookup_type \u001b[38;5;241m=\u001b[39m condition\u001b[38;5;241m.\u001b[39mlookup_name\n\u001b[1;32m   1561\u001b[0m clause \u001b[38;5;241m=\u001b[39m WhereNode([condition], connector\u001b[38;5;241m=\u001b[39mAND)\n",
      "File \u001b[0;32m/usr/local/lib/python3.11/site-packages/django/db/models/sql/query.py:1383\u001b[0m, in \u001b[0;36mQuery.build_lookup\u001b[0;34m(self, lookups, lhs, rhs)\u001b[0m\n\u001b[1;32m   1379\u001b[0m lookup_class \u001b[38;5;241m=\u001b[39m lhs\u001b[38;5;241m.\u001b[39mget_lookup(lookup_name)\n\u001b[1;32m   1380\u001b[0m \u001b[38;5;28;01mif\u001b[39;00m \u001b[38;5;129;01mnot\u001b[39;00m lookup_class:\n\u001b[1;32m   1381\u001b[0m     \u001b[38;5;66;03m# A lookup wasn't found. Try to interpret the name as a transform\u001b[39;00m\n\u001b[1;32m   1382\u001b[0m     \u001b[38;5;66;03m# and do an Exact lookup against it.\u001b[39;00m\n\u001b[0;32m-> 1383\u001b[0m     lhs \u001b[38;5;241m=\u001b[39m \u001b[38;5;28;43mself\u001b[39;49m\u001b[38;5;241;43m.\u001b[39;49m\u001b[43mtry_transform\u001b[49m\u001b[43m(\u001b[49m\u001b[43mlhs\u001b[49m\u001b[43m,\u001b[49m\u001b[43m \u001b[49m\u001b[43mlookup_name\u001b[49m\u001b[43m)\u001b[49m\n\u001b[1;32m   1384\u001b[0m     lookup_name \u001b[38;5;241m=\u001b[39m \u001b[38;5;124m\"\u001b[39m\u001b[38;5;124mexact\u001b[39m\u001b[38;5;124m\"\u001b[39m\n\u001b[1;32m   1385\u001b[0m     lookup_class \u001b[38;5;241m=\u001b[39m lhs\u001b[38;5;241m.\u001b[39mget_lookup(lookup_name)\n",
      "File \u001b[0;32m/usr/local/lib/python3.11/site-packages/django/db/models/sql/query.py:1427\u001b[0m, in \u001b[0;36mQuery.try_transform\u001b[0;34m(self, lhs, name)\u001b[0m\n\u001b[1;32m   1425\u001b[0m \u001b[38;5;28;01melse\u001b[39;00m:\n\u001b[1;32m   1426\u001b[0m     suggestion \u001b[38;5;241m=\u001b[39m \u001b[38;5;124m\"\u001b[39m\u001b[38;5;124m.\u001b[39m\u001b[38;5;124m\"\u001b[39m\n\u001b[0;32m-> 1427\u001b[0m \u001b[38;5;28;01mraise\u001b[39;00m FieldError(\n\u001b[1;32m   1428\u001b[0m     \u001b[38;5;124m\"\u001b[39m\u001b[38;5;124mUnsupported lookup \u001b[39m\u001b[38;5;124m'\u001b[39m\u001b[38;5;132;01m%s\u001b[39;00m\u001b[38;5;124m'\u001b[39m\u001b[38;5;124m for \u001b[39m\u001b[38;5;132;01m%s\u001b[39;00m\u001b[38;5;124m or join on the field not \u001b[39m\u001b[38;5;124m\"\u001b[39m\n\u001b[1;32m   1429\u001b[0m     \u001b[38;5;124m\"\u001b[39m\u001b[38;5;124mpermitted\u001b[39m\u001b[38;5;132;01m%s\u001b[39;00m\u001b[38;5;124m\"\u001b[39m \u001b[38;5;241m%\u001b[39m (name, output_field\u001b[38;5;241m.\u001b[39m\u001b[38;5;18m__name__\u001b[39m, suggestion)\n\u001b[1;32m   1430\u001b[0m )\n",
      "\u001b[0;31mFieldError\u001b[0m: Unsupported lookup 'name' for GenericRel or join on the field not permitted."
     ]
    }
   ],
   "source": [
    "sorted([\n",
    "    (i.id, i.name)\n",
    "    for i in Record.objects.filter(attributes__name='locale', workflow__is_public=True)\n",
    "        .values_list('attributes__value', flat=True)\n",
    "        .distinct()\n",
    "], key=lambda x: x[1])"
   ]
  },
  {
   "cell_type": "code",
   "execution_count": 23,
   "id": "49b16af3",
   "metadata": {},
   "outputs": [
    {
     "ename": "FieldError",
     "evalue": "Cannot resolve keyword 'record' into field. Choices are: attribute_type, attribute_type_id, content_object, content_type, content_type_id, creation_timestamp, creation_user, creation_user_id, data_type, description, id, ida_agent_related, ida_collection_related, ida_entityphrase_related, ida_location_related, ida_place_related, ida_publication_related, ida_record_related, ida_recordgroup_related, label, modification_timestamp, modification_user, modification_user_id, name, object_id, value",
     "output_type": "error",
     "traceback": [
      "\u001b[0;31m---------------------------------------------------------------------------\u001b[0m",
      "\u001b[0;31mFieldError\u001b[0m                                Traceback (most recent call last)",
      "Cell \u001b[0;32mIn[23], line 3\u001b[0m\n\u001b[1;32m      1\u001b[0m locales \u001b[38;5;241m=\u001b[39m [\n\u001b[1;32m      2\u001b[0m     \u001b[38;5;28mint\u001b[39m(i)\n\u001b[0;32m----> 3\u001b[0m     \u001b[38;5;28;01mfor\u001b[39;00m i \u001b[38;5;129;01min\u001b[39;00m \u001b[43mAttribute\u001b[49m\u001b[38;5;241;43m.\u001b[39;49m\u001b[43mobjects\u001b[49m\u001b[38;5;241;43m.\u001b[39;49m\u001b[43mfilter\u001b[49m\u001b[43m(\u001b[49m\n\u001b[1;32m      4\u001b[0m \u001b[43m        \u001b[49m\u001b[43mattribute_type__name\u001b[49m\u001b[38;5;241;43m=\u001b[39;49m\u001b[38;5;124;43m'\u001b[39;49m\u001b[38;5;124;43mlocale\u001b[39;49m\u001b[38;5;124;43m'\u001b[39;49m\u001b[43m,\u001b[49m\n\u001b[1;32m      5\u001b[0m \u001b[43m        \u001b[49m\u001b[43mrecord__workflow__is_public\u001b[49m\u001b[38;5;241;43m=\u001b[39;49m\u001b[38;5;28;43;01mTrue\u001b[39;49;00m\u001b[43m,\u001b[49m\n\u001b[1;32m      6\u001b[0m \u001b[43m    \u001b[49m\u001b[43m)\u001b[49m\n\u001b[1;32m      7\u001b[0m     \u001b[38;5;241m.\u001b[39mvalues_list(\n\u001b[1;32m      8\u001b[0m         \u001b[38;5;124m'\u001b[39m\u001b[38;5;124mvalue__id\u001b[39m\u001b[38;5;124m'\u001b[39m,\n\u001b[1;32m      9\u001b[0m         flat\u001b[38;5;241m=\u001b[39m\u001b[38;5;28;01mTrue\u001b[39;00m,\n\u001b[1;32m     10\u001b[0m     )\n\u001b[1;32m     11\u001b[0m     \u001b[38;5;241m.\u001b[39mdistinct()\n\u001b[1;32m     12\u001b[0m ]\n\u001b[1;32m     14\u001b[0m [(i\u001b[38;5;241m.\u001b[39mid, i\u001b[38;5;241m.\u001b[39mname) \u001b[38;5;28;01mfor\u001b[39;00m i \u001b[38;5;129;01min\u001b[39;00m LocaleReference\u001b[38;5;241m.\u001b[39mobjects\u001b[38;5;241m.\u001b[39mfilter(id__in\u001b[38;5;241m=\u001b[39mlocales)\u001b[38;5;241m.\u001b[39morder_by(\u001b[38;5;124m'\u001b[39m\u001b[38;5;124mname\u001b[39m\u001b[38;5;124m'\u001b[39m)]\n",
      "File \u001b[0;32m/usr/local/lib/python3.11/site-packages/django/db/models/manager.py:87\u001b[0m, in \u001b[0;36mBaseManager._get_queryset_methods.<locals>.create_method.<locals>.manager_method\u001b[0;34m(self, *args, **kwargs)\u001b[0m\n\u001b[1;32m     85\u001b[0m \u001b[38;5;129m@wraps\u001b[39m(method)\n\u001b[1;32m     86\u001b[0m \u001b[38;5;28;01mdef\u001b[39;00m \u001b[38;5;21mmanager_method\u001b[39m(\u001b[38;5;28mself\u001b[39m, \u001b[38;5;241m*\u001b[39margs, \u001b[38;5;241m*\u001b[39m\u001b[38;5;241m*\u001b[39mkwargs):\n\u001b[0;32m---> 87\u001b[0m     \u001b[38;5;28;01mreturn\u001b[39;00m \u001b[38;5;28;43mgetattr\u001b[39;49m\u001b[43m(\u001b[49m\u001b[38;5;28;43mself\u001b[39;49m\u001b[38;5;241;43m.\u001b[39;49m\u001b[43mget_queryset\u001b[49m\u001b[43m(\u001b[49m\u001b[43m)\u001b[49m\u001b[43m,\u001b[49m\u001b[43m \u001b[49m\u001b[43mname\u001b[49m\u001b[43m)\u001b[49m\u001b[43m(\u001b[49m\u001b[38;5;241;43m*\u001b[39;49m\u001b[43margs\u001b[49m\u001b[43m,\u001b[49m\u001b[43m \u001b[49m\u001b[38;5;241;43m*\u001b[39;49m\u001b[38;5;241;43m*\u001b[39;49m\u001b[43mkwargs\u001b[49m\u001b[43m)\u001b[49m\n",
      "File \u001b[0;32m/usr/local/lib/python3.11/site-packages/django/db/models/query.py:1476\u001b[0m, in \u001b[0;36mQuerySet.filter\u001b[0;34m(self, *args, **kwargs)\u001b[0m\n\u001b[1;32m   1471\u001b[0m \u001b[38;5;250m\u001b[39m\u001b[38;5;124;03m\"\"\"\u001b[39;00m\n\u001b[1;32m   1472\u001b[0m \u001b[38;5;124;03mReturn a new QuerySet instance with the args ANDed to the existing\u001b[39;00m\n\u001b[1;32m   1473\u001b[0m \u001b[38;5;124;03mset.\u001b[39;00m\n\u001b[1;32m   1474\u001b[0m \u001b[38;5;124;03m\"\"\"\u001b[39;00m\n\u001b[1;32m   1475\u001b[0m \u001b[38;5;28mself\u001b[39m\u001b[38;5;241m.\u001b[39m_not_support_combined_queries(\u001b[38;5;124m\"\u001b[39m\u001b[38;5;124mfilter\u001b[39m\u001b[38;5;124m\"\u001b[39m)\n\u001b[0;32m-> 1476\u001b[0m \u001b[38;5;28;01mreturn\u001b[39;00m \u001b[38;5;28;43mself\u001b[39;49m\u001b[38;5;241;43m.\u001b[39;49m\u001b[43m_filter_or_exclude\u001b[49m\u001b[43m(\u001b[49m\u001b[38;5;28;43;01mFalse\u001b[39;49;00m\u001b[43m,\u001b[49m\u001b[43m \u001b[49m\u001b[43margs\u001b[49m\u001b[43m,\u001b[49m\u001b[43m \u001b[49m\u001b[43mkwargs\u001b[49m\u001b[43m)\u001b[49m\n",
      "File \u001b[0;32m/usr/local/lib/python3.11/site-packages/django/db/models/query.py:1494\u001b[0m, in \u001b[0;36mQuerySet._filter_or_exclude\u001b[0;34m(self, negate, args, kwargs)\u001b[0m\n\u001b[1;32m   1492\u001b[0m     clone\u001b[38;5;241m.\u001b[39m_deferred_filter \u001b[38;5;241m=\u001b[39m negate, args, kwargs\n\u001b[1;32m   1493\u001b[0m \u001b[38;5;28;01melse\u001b[39;00m:\n\u001b[0;32m-> 1494\u001b[0m     \u001b[43mclone\u001b[49m\u001b[38;5;241;43m.\u001b[39;49m\u001b[43m_filter_or_exclude_inplace\u001b[49m\u001b[43m(\u001b[49m\u001b[43mnegate\u001b[49m\u001b[43m,\u001b[49m\u001b[43m \u001b[49m\u001b[43margs\u001b[49m\u001b[43m,\u001b[49m\u001b[43m \u001b[49m\u001b[43mkwargs\u001b[49m\u001b[43m)\u001b[49m\n\u001b[1;32m   1495\u001b[0m \u001b[38;5;28;01mreturn\u001b[39;00m clone\n",
      "File \u001b[0;32m/usr/local/lib/python3.11/site-packages/django/db/models/query.py:1501\u001b[0m, in \u001b[0;36mQuerySet._filter_or_exclude_inplace\u001b[0;34m(self, negate, args, kwargs)\u001b[0m\n\u001b[1;32m   1499\u001b[0m     \u001b[38;5;28mself\u001b[39m\u001b[38;5;241m.\u001b[39m_query\u001b[38;5;241m.\u001b[39madd_q(\u001b[38;5;241m~\u001b[39mQ(\u001b[38;5;241m*\u001b[39margs, \u001b[38;5;241m*\u001b[39m\u001b[38;5;241m*\u001b[39mkwargs))\n\u001b[1;32m   1500\u001b[0m \u001b[38;5;28;01melse\u001b[39;00m:\n\u001b[0;32m-> 1501\u001b[0m     \u001b[38;5;28;43mself\u001b[39;49m\u001b[38;5;241;43m.\u001b[39;49m\u001b[43m_query\u001b[49m\u001b[38;5;241;43m.\u001b[39;49m\u001b[43madd_q\u001b[49m\u001b[43m(\u001b[49m\u001b[43mQ\u001b[49m\u001b[43m(\u001b[49m\u001b[38;5;241;43m*\u001b[39;49m\u001b[43margs\u001b[49m\u001b[43m,\u001b[49m\u001b[43m \u001b[49m\u001b[38;5;241;43m*\u001b[39;49m\u001b[38;5;241;43m*\u001b[39;49m\u001b[43mkwargs\u001b[49m\u001b[43m)\u001b[49m\u001b[43m)\u001b[49m\n",
      "File \u001b[0;32m/usr/local/lib/python3.11/site-packages/django/db/models/sql/query.py:1613\u001b[0m, in \u001b[0;36mQuery.add_q\u001b[0;34m(self, q_object)\u001b[0m\n\u001b[1;32m   1604\u001b[0m \u001b[38;5;66;03m# For join promotion this case is doing an AND for the added q_object\u001b[39;00m\n\u001b[1;32m   1605\u001b[0m \u001b[38;5;66;03m# and existing conditions. So, any existing inner join forces the join\u001b[39;00m\n\u001b[1;32m   1606\u001b[0m \u001b[38;5;66;03m# type to remain inner. Existing outer joins can however be demoted.\u001b[39;00m\n\u001b[1;32m   1607\u001b[0m \u001b[38;5;66;03m# (Consider case where rel_a is LOUTER and rel_a__col=1 is added - if\u001b[39;00m\n\u001b[1;32m   1608\u001b[0m \u001b[38;5;66;03m# rel_a doesn't produce any rows, then the whole condition must fail.\u001b[39;00m\n\u001b[1;32m   1609\u001b[0m \u001b[38;5;66;03m# So, demotion is OK.\u001b[39;00m\n\u001b[1;32m   1610\u001b[0m existing_inner \u001b[38;5;241m=\u001b[39m {\n\u001b[1;32m   1611\u001b[0m     a \u001b[38;5;28;01mfor\u001b[39;00m a \u001b[38;5;129;01min\u001b[39;00m \u001b[38;5;28mself\u001b[39m\u001b[38;5;241m.\u001b[39malias_map \u001b[38;5;28;01mif\u001b[39;00m \u001b[38;5;28mself\u001b[39m\u001b[38;5;241m.\u001b[39malias_map[a]\u001b[38;5;241m.\u001b[39mjoin_type \u001b[38;5;241m==\u001b[39m INNER\n\u001b[1;32m   1612\u001b[0m }\n\u001b[0;32m-> 1613\u001b[0m clause, _ \u001b[38;5;241m=\u001b[39m \u001b[38;5;28;43mself\u001b[39;49m\u001b[38;5;241;43m.\u001b[39;49m\u001b[43m_add_q\u001b[49m\u001b[43m(\u001b[49m\u001b[43mq_object\u001b[49m\u001b[43m,\u001b[49m\u001b[43m \u001b[49m\u001b[38;5;28;43mself\u001b[39;49m\u001b[38;5;241;43m.\u001b[39;49m\u001b[43mused_aliases\u001b[49m\u001b[43m)\u001b[49m\n\u001b[1;32m   1614\u001b[0m \u001b[38;5;28;01mif\u001b[39;00m clause:\n\u001b[1;32m   1615\u001b[0m     \u001b[38;5;28mself\u001b[39m\u001b[38;5;241m.\u001b[39mwhere\u001b[38;5;241m.\u001b[39madd(clause, AND)\n",
      "File \u001b[0;32m/usr/local/lib/python3.11/site-packages/django/db/models/sql/query.py:1645\u001b[0m, in \u001b[0;36mQuery._add_q\u001b[0;34m(self, q_object, used_aliases, branch_negated, current_negated, allow_joins, split_subq, check_filterable, summarize, update_join_types)\u001b[0m\n\u001b[1;32m   1641\u001b[0m joinpromoter \u001b[38;5;241m=\u001b[39m JoinPromoter(\n\u001b[1;32m   1642\u001b[0m     q_object\u001b[38;5;241m.\u001b[39mconnector, \u001b[38;5;28mlen\u001b[39m(q_object\u001b[38;5;241m.\u001b[39mchildren), current_negated\n\u001b[1;32m   1643\u001b[0m )\n\u001b[1;32m   1644\u001b[0m \u001b[38;5;28;01mfor\u001b[39;00m child \u001b[38;5;129;01min\u001b[39;00m q_object\u001b[38;5;241m.\u001b[39mchildren:\n\u001b[0;32m-> 1645\u001b[0m     child_clause, needed_inner \u001b[38;5;241m=\u001b[39m \u001b[38;5;28;43mself\u001b[39;49m\u001b[38;5;241;43m.\u001b[39;49m\u001b[43mbuild_filter\u001b[49m\u001b[43m(\u001b[49m\n\u001b[1;32m   1646\u001b[0m \u001b[43m        \u001b[49m\u001b[43mchild\u001b[49m\u001b[43m,\u001b[49m\n\u001b[1;32m   1647\u001b[0m \u001b[43m        \u001b[49m\u001b[43mcan_reuse\u001b[49m\u001b[38;5;241;43m=\u001b[39;49m\u001b[43mused_aliases\u001b[49m\u001b[43m,\u001b[49m\n\u001b[1;32m   1648\u001b[0m \u001b[43m        \u001b[49m\u001b[43mbranch_negated\u001b[49m\u001b[38;5;241;43m=\u001b[39;49m\u001b[43mbranch_negated\u001b[49m\u001b[43m,\u001b[49m\n\u001b[1;32m   1649\u001b[0m \u001b[43m        \u001b[49m\u001b[43mcurrent_negated\u001b[49m\u001b[38;5;241;43m=\u001b[39;49m\u001b[43mcurrent_negated\u001b[49m\u001b[43m,\u001b[49m\n\u001b[1;32m   1650\u001b[0m \u001b[43m        \u001b[49m\u001b[43mallow_joins\u001b[49m\u001b[38;5;241;43m=\u001b[39;49m\u001b[43mallow_joins\u001b[49m\u001b[43m,\u001b[49m\n\u001b[1;32m   1651\u001b[0m \u001b[43m        \u001b[49m\u001b[43msplit_subq\u001b[49m\u001b[38;5;241;43m=\u001b[39;49m\u001b[43msplit_subq\u001b[49m\u001b[43m,\u001b[49m\n\u001b[1;32m   1652\u001b[0m \u001b[43m        \u001b[49m\u001b[43mcheck_filterable\u001b[49m\u001b[38;5;241;43m=\u001b[39;49m\u001b[43mcheck_filterable\u001b[49m\u001b[43m,\u001b[49m\n\u001b[1;32m   1653\u001b[0m \u001b[43m        \u001b[49m\u001b[43msummarize\u001b[49m\u001b[38;5;241;43m=\u001b[39;49m\u001b[43msummarize\u001b[49m\u001b[43m,\u001b[49m\n\u001b[1;32m   1654\u001b[0m \u001b[43m        \u001b[49m\u001b[43mupdate_join_types\u001b[49m\u001b[38;5;241;43m=\u001b[39;49m\u001b[43mupdate_join_types\u001b[49m\u001b[43m,\u001b[49m\n\u001b[1;32m   1655\u001b[0m \u001b[43m    \u001b[49m\u001b[43m)\u001b[49m\n\u001b[1;32m   1656\u001b[0m     joinpromoter\u001b[38;5;241m.\u001b[39madd_votes(needed_inner)\n\u001b[1;32m   1657\u001b[0m     \u001b[38;5;28;01mif\u001b[39;00m child_clause:\n",
      "File \u001b[0;32m/usr/local/lib/python3.11/site-packages/django/db/models/sql/query.py:1495\u001b[0m, in \u001b[0;36mQuery.build_filter\u001b[0;34m(self, filter_expr, branch_negated, current_negated, can_reuse, allow_joins, split_subq, check_filterable, summarize, update_join_types)\u001b[0m\n\u001b[1;32m   1493\u001b[0m \u001b[38;5;28;01mif\u001b[39;00m \u001b[38;5;129;01mnot\u001b[39;00m arg:\n\u001b[1;32m   1494\u001b[0m     \u001b[38;5;28;01mraise\u001b[39;00m FieldError(\u001b[38;5;124m\"\u001b[39m\u001b[38;5;124mCannot parse keyword query \u001b[39m\u001b[38;5;132;01m%r\u001b[39;00m\u001b[38;5;124m\"\u001b[39m \u001b[38;5;241m%\u001b[39m arg)\n\u001b[0;32m-> 1495\u001b[0m lookups, parts, reffed_expression \u001b[38;5;241m=\u001b[39m \u001b[38;5;28;43mself\u001b[39;49m\u001b[38;5;241;43m.\u001b[39;49m\u001b[43msolve_lookup_type\u001b[49m\u001b[43m(\u001b[49m\u001b[43marg\u001b[49m\u001b[43m,\u001b[49m\u001b[43m \u001b[49m\u001b[43msummarize\u001b[49m\u001b[43m)\u001b[49m\n\u001b[1;32m   1497\u001b[0m \u001b[38;5;28;01mif\u001b[39;00m check_filterable:\n\u001b[1;32m   1498\u001b[0m     \u001b[38;5;28mself\u001b[39m\u001b[38;5;241m.\u001b[39mcheck_filterable(reffed_expression)\n",
      "File \u001b[0;32m/usr/local/lib/python3.11/site-packages/django/db/models/sql/query.py:1307\u001b[0m, in \u001b[0;36mQuery.solve_lookup_type\u001b[0;34m(self, lookup, summarize)\u001b[0m\n\u001b[1;32m   1305\u001b[0m             expression \u001b[38;5;241m=\u001b[39m Ref(annotation, expression)\n\u001b[1;32m   1306\u001b[0m         \u001b[38;5;28;01mreturn\u001b[39;00m expression_lookups, (), expression\n\u001b[0;32m-> 1307\u001b[0m _, field, _, lookup_parts \u001b[38;5;241m=\u001b[39m \u001b[38;5;28;43mself\u001b[39;49m\u001b[38;5;241;43m.\u001b[39;49m\u001b[43mnames_to_path\u001b[49m\u001b[43m(\u001b[49m\u001b[43mlookup_splitted\u001b[49m\u001b[43m,\u001b[49m\u001b[43m \u001b[49m\u001b[38;5;28;43mself\u001b[39;49m\u001b[38;5;241;43m.\u001b[39;49m\u001b[43mget_meta\u001b[49m\u001b[43m(\u001b[49m\u001b[43m)\u001b[49m\u001b[43m)\u001b[49m\n\u001b[1;32m   1308\u001b[0m field_parts \u001b[38;5;241m=\u001b[39m lookup_splitted[\u001b[38;5;241m0\u001b[39m : \u001b[38;5;28mlen\u001b[39m(lookup_splitted) \u001b[38;5;241m-\u001b[39m \u001b[38;5;28mlen\u001b[39m(lookup_parts)]\n\u001b[1;32m   1309\u001b[0m \u001b[38;5;28;01mif\u001b[39;00m \u001b[38;5;28mlen\u001b[39m(lookup_parts) \u001b[38;5;241m>\u001b[39m \u001b[38;5;241m1\u001b[39m \u001b[38;5;129;01mand\u001b[39;00m \u001b[38;5;129;01mnot\u001b[39;00m field_parts:\n",
      "File \u001b[0;32m/usr/local/lib/python3.11/site-packages/django/db/models/sql/query.py:1772\u001b[0m, in \u001b[0;36mQuery.names_to_path\u001b[0;34m(self, names, opts, allow_many, fail_on_missing)\u001b[0m\n\u001b[1;32m   1764\u001b[0m     \u001b[38;5;28;01mif\u001b[39;00m pos \u001b[38;5;241m==\u001b[39m \u001b[38;5;241m-\u001b[39m\u001b[38;5;241m1\u001b[39m \u001b[38;5;129;01mor\u001b[39;00m fail_on_missing:\n\u001b[1;32m   1765\u001b[0m         available \u001b[38;5;241m=\u001b[39m \u001b[38;5;28msorted\u001b[39m(\n\u001b[1;32m   1766\u001b[0m             [\n\u001b[1;32m   1767\u001b[0m                 \u001b[38;5;241m*\u001b[39mget_field_names_from_opts(opts),\n\u001b[0;32m   (...)\u001b[0m\n\u001b[1;32m   1770\u001b[0m             ]\n\u001b[1;32m   1771\u001b[0m         )\n\u001b[0;32m-> 1772\u001b[0m         \u001b[38;5;28;01mraise\u001b[39;00m FieldError(\n\u001b[1;32m   1773\u001b[0m             \u001b[38;5;124m\"\u001b[39m\u001b[38;5;124mCannot resolve keyword \u001b[39m\u001b[38;5;124m'\u001b[39m\u001b[38;5;132;01m%s\u001b[39;00m\u001b[38;5;124m'\u001b[39m\u001b[38;5;124m into field. \u001b[39m\u001b[38;5;124m\"\u001b[39m\n\u001b[1;32m   1774\u001b[0m             \u001b[38;5;124m\"\u001b[39m\u001b[38;5;124mChoices are: \u001b[39m\u001b[38;5;132;01m%s\u001b[39;00m\u001b[38;5;124m\"\u001b[39m \u001b[38;5;241m%\u001b[39m (name, \u001b[38;5;124m\"\u001b[39m\u001b[38;5;124m, \u001b[39m\u001b[38;5;124m\"\u001b[39m\u001b[38;5;241m.\u001b[39mjoin(available))\n\u001b[1;32m   1775\u001b[0m         )\n\u001b[1;32m   1776\u001b[0m     \u001b[38;5;28;01mbreak\u001b[39;00m\n\u001b[1;32m   1777\u001b[0m \u001b[38;5;66;03m# Check if we need any joins for concrete inheritance cases (the\u001b[39;00m\n\u001b[1;32m   1778\u001b[0m \u001b[38;5;66;03m# field lives in parent, but we are currently in one of its\u001b[39;00m\n\u001b[1;32m   1779\u001b[0m \u001b[38;5;66;03m# children)\u001b[39;00m\n",
      "\u001b[0;31mFieldError\u001b[0m: Cannot resolve keyword 'record' into field. Choices are: attribute_type, attribute_type_id, content_object, content_type, content_type_id, creation_timestamp, creation_user, creation_user_id, data_type, description, id, ida_agent_related, ida_collection_related, ida_entityphrase_related, ida_location_related, ida_place_related, ida_publication_related, ida_record_related, ida_recordgroup_related, label, modification_timestamp, modification_user, modification_user_id, name, object_id, value"
     ]
    }
   ],
   "source": [
    "locales = [\n",
    "    int(i)\n",
    "    for i in Attribute.objects.filter(\n",
    "        attribute_type__name='locale',\n",
    "        record__workflow__is_public=True,\n",
    "    )\n",
    "    .values_list(\n",
    "        'value__id',\n",
    "        flat=True,\n",
    "    )\n",
    "    .distinct()\n",
    "]\n",
    "\n",
    "[(i.id, i.name) for i in LocaleReference.objects.filter(id__in=locales).order_by('name')]"
   ]
  },
  {
   "cell_type": "code",
   "execution_count": 2,
   "id": "88b4d3f8",
   "metadata": {},
   "outputs": [
    {
     "data": {
      "text/plain": [
       "<Attribute: language: Aragonese>"
      ]
     },
     "execution_count": 2,
     "metadata": {},
     "output_type": "execute_result"
    }
   ],
   "source": [
    "atype = AttributeType.objects.get(name='language')\n",
    "language = LanguageReference.objects.get(pk=1)\n",
    "source = Record.objects.first()\n",
    "\n",
    "Attribute.objects.create(\n",
    "    content_object=source,\n",
    "    attribute_type=atype,\n",
    "    value=language,\n",
    ")\n",
    "\n"
   ]
  },
  {
   "cell_type": "code",
   "execution_count": 3,
   "id": "496c8f84",
   "metadata": {},
   "outputs": [],
   "source": [
    "test = Collection.objects.all()\n"
   ]
  },
  {
   "cell_type": "code",
   "execution_count": 9,
   "id": "c5470cc3",
   "metadata": {},
   "outputs": [
    {
     "data": {
      "text/plain": [
       "[1388,\n",
       " 1391,\n",
       " 1408,\n",
       " 1412,\n",
       " 1416,\n",
       " 1416,\n",
       " 1418,\n",
       " 1418,\n",
       " 1420,\n",
       " 1421,\n",
       " 1421,\n",
       " 1422,\n",
       " 1425,\n",
       " 1426,\n",
       " 1428,\n",
       " 1438,\n",
       " 1445,\n",
       " 1448,\n",
       " 1466,\n",
       " 1471]"
      ]
     },
     "execution_count": 9,
     "metadata": {},
     "output_type": "execute_result"
    }
   ],
   "source": [
    "sorted([i.year for i in test[10].members.filter(\n",
    "    record__attributes__attribute_type__name='date'\n",
    ").order_by('record__attributes__value').distinct().values_list('record__attributes__value', flat=True).distinct()\n",
    "])\n"
   ]
  },
  {
   "cell_type": "code",
   "execution_count": 7,
   "id": "01151697",
   "metadata": {},
   "outputs": [
    {
     "data": {
      "text/plain": [
       "[('Catalan', 32),\n",
       " ('French', 54),\n",
       " ('Latin', 618),\n",
       " ('Old Provençal', 622),\n",
       " ('Picard', 113)]"
      ]
     },
     "execution_count": 7,
     "metadata": {},
     "output_type": "execute_result"
    }
   ],
   "source": [
    "sorted([(i.name, i.id) for i in test[10].members.filter(\n",
    "    record__attributes__attribute_type__name='language'\n",
    ").distinct().order_by('record__attributes__value__name').values_list('record__attributes__value', flat=True)\n",
    "], key=lambda x: x[0])"
   ]
  },
  {
   "cell_type": "code",
   "execution_count": 10,
   "id": "31bb88f9",
   "metadata": {},
   "outputs": [
    {
     "data": {
      "text/plain": [
       "[('Picard', 113),\n",
       " ('Catalan', 32),\n",
       " ('French', 54),\n",
       " ('Latin', 618),\n",
       " ('Old Provençal', 622)]"
      ]
     },
     "execution_count": 10,
     "metadata": {},
     "output_type": "execute_result"
    }
   ],
   "source": [
    "[(i.name, i.id) for i in test[10].members.filter(\n",
    "    record__attributes__attribute_type__name='language'\n",
    ").order_by('record__attributes__value__name').values_list('record__attributes__value', flat=True).distinct()\n",
    "]"
   ]
  },
  {
   "cell_type": "code",
   "execution_count": 13,
   "id": "b6449d6f",
   "metadata": {},
   "outputs": [
    {
     "ename": "AttributeError",
     "evalue": "'LanguageReference' object has no attribute 'year'",
     "output_type": "error",
     "traceback": [
      "\u001b[0;31m---------------------------------------------------------------------------\u001b[0m",
      "\u001b[0;31mAttributeError\u001b[0m                            Traceback (most recent call last)",
      "Cell \u001b[0;32mIn[13], line 1\u001b[0m\n\u001b[0;32m----> 1\u001b[0m \u001b[38;5;28msorted\u001b[39m(\u001b[43m[\u001b[49m\u001b[43mi\u001b[49m\u001b[38;5;241;43m.\u001b[39;49m\u001b[43myear\u001b[49m\u001b[43m \u001b[49m\u001b[38;5;28;43;01mfor\u001b[39;49;00m\u001b[43m \u001b[49m\u001b[43mi\u001b[49m\u001b[43m \u001b[49m\u001b[38;5;129;43;01min\u001b[39;49;00m\u001b[43m \u001b[49m\u001b[43mtest\u001b[49m\u001b[43m[\u001b[49m\u001b[38;5;241;43m10\u001b[39;49m\u001b[43m]\u001b[49m\u001b[38;5;241;43m.\u001b[39;49m\u001b[43mmembers\u001b[49m\u001b[38;5;241;43m.\u001b[39;49m\u001b[43mfilter\u001b[49m\u001b[43m(\u001b[49m\n\u001b[1;32m      2\u001b[0m \u001b[43m    \u001b[49m\u001b[43mrecord__attributes__attribute_type__name\u001b[49m\u001b[38;5;241;43m=\u001b[39;49m\u001b[38;5;124;43m'\u001b[39;49m\u001b[38;5;124;43mlanguage\u001b[39;49m\u001b[38;5;124;43m'\u001b[39;49m\n\u001b[1;32m      3\u001b[0m \u001b[43m)\u001b[49m\u001b[38;5;241;43m.\u001b[39;49m\u001b[43morder_by\u001b[49m\u001b[43m(\u001b[49m\u001b[38;5;124;43m'\u001b[39;49m\u001b[38;5;124;43mrecord__attributes__value__name\u001b[39;49m\u001b[38;5;124;43m'\u001b[39;49m\u001b[43m)\u001b[49m\u001b[38;5;241;43m.\u001b[39;49m\u001b[43mvalues_list\u001b[49m\u001b[43m(\u001b[49m\u001b[38;5;124;43m'\u001b[39;49m\u001b[38;5;124;43mrecord__attributes__value\u001b[39;49m\u001b[38;5;124;43m'\u001b[39;49m\u001b[43m,\u001b[49m\u001b[43m \u001b[49m\u001b[43mflat\u001b[49m\u001b[38;5;241;43m=\u001b[39;49m\u001b[38;5;28;43;01mTrue\u001b[39;49;00m\u001b[43m)\u001b[49m\n\u001b[1;32m      4\u001b[0m \u001b[43m]\u001b[49m)\n\u001b[1;32m      7\u001b[0m \u001b[38;5;66;03m# test[10].members.filter(\u001b[39;00m\n\u001b[1;32m      8\u001b[0m \u001b[38;5;66;03m#     record__attributes__attribute_type__name='language'\u001b[39;00m\n\u001b[1;32m      9\u001b[0m \u001b[38;5;66;03m# ).distinct().order_by('record__attributes__value__name').values_list(\u001b[39;00m\n\u001b[1;32m     10\u001b[0m \u001b[38;5;66;03m# 'record__attributes__value__name',\u001b[39;00m\n\u001b[1;32m     11\u001b[0m \u001b[38;5;66;03m# 'record__attributes__value__id',\u001b[39;00m\n\u001b[1;32m     12\u001b[0m \u001b[38;5;66;03m# )\u001b[39;00m\n",
      "Cell \u001b[0;32mIn[13], line 1\u001b[0m, in \u001b[0;36m<listcomp>\u001b[0;34m(.0)\u001b[0m\n\u001b[0;32m----> 1\u001b[0m \u001b[38;5;28msorted\u001b[39m([\u001b[43mi\u001b[49m\u001b[38;5;241;43m.\u001b[39;49m\u001b[43myear\u001b[49m \u001b[38;5;28;01mfor\u001b[39;00m i \u001b[38;5;129;01min\u001b[39;00m test[\u001b[38;5;241m10\u001b[39m]\u001b[38;5;241m.\u001b[39mmembers\u001b[38;5;241m.\u001b[39mfilter(\n\u001b[1;32m      2\u001b[0m     record__attributes__attribute_type__name\u001b[38;5;241m=\u001b[39m\u001b[38;5;124m'\u001b[39m\u001b[38;5;124mlanguage\u001b[39m\u001b[38;5;124m'\u001b[39m\n\u001b[1;32m      3\u001b[0m )\u001b[38;5;241m.\u001b[39morder_by(\u001b[38;5;124m'\u001b[39m\u001b[38;5;124mrecord__attributes__value__name\u001b[39m\u001b[38;5;124m'\u001b[39m)\u001b[38;5;241m.\u001b[39mvalues_list(\u001b[38;5;124m'\u001b[39m\u001b[38;5;124mrecord__attributes__value\u001b[39m\u001b[38;5;124m'\u001b[39m, flat\u001b[38;5;241m=\u001b[39m\u001b[38;5;28;01mTrue\u001b[39;00m)\n\u001b[1;32m      4\u001b[0m ])\n\u001b[1;32m      7\u001b[0m \u001b[38;5;66;03m# test[10].members.filter(\u001b[39;00m\n\u001b[1;32m      8\u001b[0m \u001b[38;5;66;03m#     record__attributes__attribute_type__name='language'\u001b[39;00m\n\u001b[1;32m      9\u001b[0m \u001b[38;5;66;03m# ).distinct().order_by('record__attributes__value__name').values_list(\u001b[39;00m\n\u001b[1;32m     10\u001b[0m \u001b[38;5;66;03m# 'record__attributes__value__name',\u001b[39;00m\n\u001b[1;32m     11\u001b[0m \u001b[38;5;66;03m# 'record__attributes__value__id',\u001b[39;00m\n\u001b[1;32m     12\u001b[0m \u001b[38;5;66;03m# )\u001b[39;00m\n",
      "\u001b[0;31mAttributeError\u001b[0m: 'LanguageReference' object has no attribute 'year'"
     ]
    }
   ],
   "source": [
    "sorted([i.year for i in test[10].members.filter(\n",
    "    record__attributes__attribute_type__name='language'\n",
    ").order_by('record__attributes__value__name').values_list('record__attributes__value', flat=True)\n",
    "])\n",
    "\n",
    "\n",
    "# test[10].members.filter(\n",
    "#     record__attributes__attribute_type__name='language'\n",
    "# ).distinct().order_by('record__attributes__value__name').values_list(\n",
    "# 'record__attributes__value__name',\n",
    "# 'record__attributes__value__id',\n",
    "# )\n",
    "\n"
   ]
  },
  {
   "cell_type": "code",
   "execution_count": null,
   "id": "9c2b4730",
   "metadata": {},
   "outputs": [],
   "source": [
    "test[1].get_time_coverage()"
   ]
  },
  {
   "cell_type": "code",
   "execution_count": 7,
   "id": "100a267e",
   "metadata": {},
   "outputs": [
    {
     "name": "stdout",
     "output_type": "stream",
     "text": [
      "Record\n",
      "ida\n",
      "002cf04c-2d12-4ffe-b21a-02a9d7616c32\n"
     ]
    }
   ],
   "source": [
    "target = Record.objects.first()\n",
    "\n",
    "print(target._meta.model.__name__)\n",
    "print(target._meta.app_label)\n",
    "print(target.pk)"
   ]
  },
  {
   "cell_type": "code",
   "execution_count": null,
   "id": "8be8286c",
   "metadata": {},
   "outputs": [],
   "source": []
  },
  {
   "cell_type": "code",
   "execution_count": 11,
   "id": "b444d647",
   "metadata": {},
   "outputs": [
    {
     "data": {
      "text/plain": [
       "<QuerySet []>"
      ]
     },
     "execution_count": 11,
     "metadata": {},
     "output_type": "execute_result"
    }
   ],
   "source": [
    "Attribute.objects.filter(value__dtype='DATE')"
   ]
  },
  {
   "cell_type": "code",
   "execution_count": 10,
   "id": "11932103",
   "metadata": {},
   "outputs": [
    {
     "ename": "IndexError",
     "evalue": "list index out of range",
     "output_type": "error",
     "traceback": [
      "\u001b[0;31m---------------------------------------------------------------------------\u001b[0m",
      "\u001b[0;31mIndexError\u001b[0m                                Traceback (most recent call last)",
      "Cell \u001b[0;32mIn[10], line 1\u001b[0m\n\u001b[0;32m----> 1\u001b[0m \u001b[43mAttribute\u001b[49m\u001b[38;5;241;43m.\u001b[39;49m\u001b[43mobjects\u001b[49m\u001b[38;5;241;43m.\u001b[39;49m\u001b[43mfilter\u001b[49m\u001b[43m(\u001b[49m\u001b[43mvalue__dtype\u001b[49m\u001b[38;5;241;43m=\u001b[39;49m\u001b[38;5;124;43m'\u001b[39;49m\u001b[38;5;124;43mDATE\u001b[39;49m\u001b[38;5;124;43m'\u001b[39;49m\u001b[43m)\u001b[49m\u001b[43m[\u001b[49m\u001b[38;5;241;43m0\u001b[39;49m\u001b[43m]\u001b[49m\u001b[38;5;241m.\u001b[39mvalue\u001b[38;5;241m.\u001b[39mtext\n",
      "File \u001b[0;32m/usr/local/lib/python3.11/site-packages/django/db/models/query.py:452\u001b[0m, in \u001b[0;36mQuerySet.__getitem__\u001b[0;34m(self, k)\u001b[0m\n\u001b[1;32m    450\u001b[0m qs\u001b[38;5;241m.\u001b[39mquery\u001b[38;5;241m.\u001b[39mset_limits(k, k \u001b[38;5;241m+\u001b[39m \u001b[38;5;241m1\u001b[39m)\n\u001b[1;32m    451\u001b[0m qs\u001b[38;5;241m.\u001b[39m_fetch_all()\n\u001b[0;32m--> 452\u001b[0m \u001b[38;5;28;01mreturn\u001b[39;00m \u001b[43mqs\u001b[49m\u001b[38;5;241;43m.\u001b[39;49m\u001b[43m_result_cache\u001b[49m\u001b[43m[\u001b[49m\u001b[38;5;241;43m0\u001b[39;49m\u001b[43m]\u001b[49m\n",
      "\u001b[0;31mIndexError\u001b[0m: list index out of range"
     ]
    }
   ],
   "source": [
    "Attribute.objects.filter(value__dtype='DATE')[0].value.text"
   ]
  },
  {
   "cell_type": "code",
   "execution_count": 12,
   "id": "ff6694f7",
   "metadata": {},
   "outputs": [
    {
     "data": {
      "text/plain": [
       "<QuerySet []>"
      ]
     },
     "execution_count": 12,
     "metadata": {},
     "output_type": "execute_result"
    }
   ],
   "source": [
    "Attribute.objects.filter(name='date', value__value__year=1475)"
   ]
  },
  {
   "cell_type": "code",
   "execution_count": 6,
   "id": "081c8241",
   "metadata": {},
   "outputs": [
    {
     "data": {
      "text/plain": [
       "<QuerySet [<Attribute: date: 25-Feb-1481>, <Attribute: date: 16-Mar-1278>, <Attribute: date: 17-Jun-1338>, <Attribute: date: 22-Sep-1394>, <Attribute: date: 13-Jan-1258>, <Attribute: date: 16-Jun-1338>, <Attribute: date: 14-Feb-1326>, <Attribute: date: 20-Nov-1342>, <Attribute: date: 6-Apr-1335>, <Attribute: date: 19-Aug-1387>, <Attribute: date: 20-Dec-1342>, <Attribute: date: Oct 1648>, <Attribute: date: 18-Apr-1476>, <Attribute: date: 13-Jan-1333>, <Attribute: date: 25-Apr-1437>, <Attribute: date: 20-Sep-1335>, <Attribute: date: 28-Mar-1425>, <Attribute: date: 1-Nov-1438>, <Attribute: date: 3-Mar-1335>, <Attribute: date: 1817>, '...(remaining elements truncated)...']>"
      ]
     },
     "execution_count": 6,
     "metadata": {},
     "output_type": "execute_result"
    }
   ],
   "source": [
    "Attribute.objects.filter(name='date')\n",
    "\n"
   ]
  },
  {
   "cell_type": "code",
   "execution_count": 7,
   "id": "44007abd",
   "metadata": {},
   "outputs": [
    {
     "data": {
      "text/plain": [
       "<ida.models.utils.historical_date.HistoricalDate at 0xffff70b602d0>"
      ]
     },
     "execution_count": 7,
     "metadata": {},
     "output_type": "execute_result"
    }
   ],
   "source": [
    "Attribute.objects.filter(name='date')[0].value"
   ]
  },
  {
   "cell_type": "code",
   "execution_count": 7,
   "id": "9efe0801",
   "metadata": {},
   "outputs": [
    {
     "data": {
      "text/plain": [
       "<QuerySet []>"
      ]
     },
     "execution_count": 7,
     "metadata": {},
     "output_type": "execute_result"
    }
   ],
   "source": [
    "Attribute.objects.filter(value__contains='dtype')"
   ]
  },
  {
   "cell_type": "code",
   "execution_count": 8,
   "id": "1563dff2",
   "metadata": {},
   "outputs": [
    {
     "data": {
      "text/plain": [
       "{'dtype': 'FKEY',\n",
       " 'value': {'id': '821', 'app': 'ida', 'model': 'localereference'}}"
      ]
     },
     "execution_count": 8,
     "metadata": {},
     "output_type": "execute_result"
    }
   ],
   "source": [
    "Attribute.json_objects.first().value"
   ]
  },
  {
   "cell_type": "code",
   "execution_count": 16,
   "id": "44572d9e",
   "metadata": {},
   "outputs": [
    {
     "data": {
      "text/plain": [
       "<QuerySet []>"
      ]
     },
     "execution_count": 16,
     "metadata": {},
     "output_type": "execute_result"
    }
   ],
   "source": [
    "test"
   ]
  },
  {
   "cell_type": "code",
   "execution_count": 5,
   "id": "42a49c88",
   "metadata": {},
   "outputs": [
    {
     "data": {
      "text/plain": [
       "True"
      ]
     },
     "execution_count": 5,
     "metadata": {},
     "output_type": "execute_result"
    }
   ],
   "source": [
    "type(target)\n",
    "isinstance(target, Model)"
   ]
  },
  {
   "cell_type": "code",
   "execution_count": 2,
   "id": "44fcd98b",
   "metadata": {},
   "outputs": [
    {
     "ename": "FieldError",
     "evalue": "Cannot resolve keyword 'attribute_type.name' into field. Choices are: attribute_type, attribute_type_id, content_object, content_type, content_type_id, creation_timestamp, creation_user, creation_user_id, id, modification_timestamp, modification_user, modification_user_id, object_id, value",
     "output_type": "error",
     "traceback": [
      "\u001b[0;31m---------------------------------------------------------------------------\u001b[0m",
      "\u001b[0;31mFieldError\u001b[0m                                Traceback (most recent call last)",
      "Cell \u001b[0;32mIn[2], line 8\u001b[0m\n\u001b[1;32m      3\u001b[0m int_atype \u001b[38;5;241m=\u001b[39m AttributeType\u001b[38;5;241m.\u001b[39mobjects\u001b[38;5;241m.\u001b[39mget(pk\u001b[38;5;241m=\u001b[39m\u001b[38;5;241m3\u001b[39m)\n\u001b[1;32m      4\u001b[0m \u001b[38;5;66;03m# int_value = {\u001b[39;00m\n\u001b[1;32m      5\u001b[0m \u001b[38;5;66;03m#     'dtype': 'INT',\u001b[39;00m\n\u001b[1;32m      6\u001b[0m \u001b[38;5;66;03m#     'value': 34,\u001b[39;00m\n\u001b[1;32m      7\u001b[0m \u001b[38;5;66;03m# }\u001b[39;00m\n\u001b[0;32m----> 8\u001b[0m test_int \u001b[38;5;241m=\u001b[39m \u001b[43mAttributeNew\u001b[49m\u001b[38;5;241;43m.\u001b[39;49m\u001b[43mobjects\u001b[49m\u001b[38;5;241;43m.\u001b[39;49m\u001b[43mcreate\u001b[49m\u001b[43m(\u001b[49m\n\u001b[1;32m      9\u001b[0m \u001b[43m    \u001b[49m\u001b[43mcontent_object\u001b[49m\u001b[38;5;241;43m=\u001b[39;49m\u001b[43mtarget\u001b[49m\u001b[43m,\u001b[49m\n\u001b[1;32m     10\u001b[0m \u001b[43m    \u001b[49m\u001b[43mattribute_type\u001b[49m\u001b[38;5;241;43m=\u001b[39;49m\u001b[43mint_atype\u001b[49m\u001b[43m,\u001b[49m\n\u001b[1;32m     11\u001b[0m \u001b[43m    \u001b[49m\u001b[43mvalue\u001b[49m\u001b[38;5;241;43m=\u001b[39;49m\u001b[38;5;241;43m34\u001b[39;49m\u001b[43m,\u001b[49m\n\u001b[1;32m     12\u001b[0m \u001b[43m)\u001b[49m\n",
      "File \u001b[0;32m/usr/local/lib/python3.11/site-packages/django/db/models/manager.py:87\u001b[0m, in \u001b[0;36mBaseManager._get_queryset_methods.<locals>.create_method.<locals>.manager_method\u001b[0;34m(self, *args, **kwargs)\u001b[0m\n\u001b[1;32m     85\u001b[0m \u001b[38;5;129m@wraps\u001b[39m(method)\n\u001b[1;32m     86\u001b[0m \u001b[38;5;28;01mdef\u001b[39;00m \u001b[38;5;21mmanager_method\u001b[39m(\u001b[38;5;28mself\u001b[39m, \u001b[38;5;241m*\u001b[39margs, \u001b[38;5;241m*\u001b[39m\u001b[38;5;241m*\u001b[39mkwargs):\n\u001b[0;32m---> 87\u001b[0m     \u001b[38;5;28;01mreturn\u001b[39;00m \u001b[38;5;28mgetattr\u001b[39m(\u001b[38;5;28;43mself\u001b[39;49m\u001b[38;5;241;43m.\u001b[39;49m\u001b[43mget_queryset\u001b[49m\u001b[43m(\u001b[49m\u001b[43m)\u001b[49m, name)(\u001b[38;5;241m*\u001b[39margs, \u001b[38;5;241m*\u001b[39m\u001b[38;5;241m*\u001b[39mkwargs)\n",
      "File \u001b[0;32m/opt/web/ida/models/attribute.py:28\u001b[0m, in \u001b[0;36mAttributeManager.get_queryset\u001b[0;34m(self)\u001b[0m\n\u001b[1;32m     24\u001b[0m \u001b[38;5;28;01mdef\u001b[39;00m \u001b[38;5;21mget_queryset\u001b[39m(\u001b[38;5;28mself\u001b[39m):\n\u001b[1;32m     25\u001b[0m     \u001b[38;5;28;01mreturn\u001b[39;00m (\n\u001b[1;32m     26\u001b[0m         \u001b[38;5;28;43msuper\u001b[39;49m\u001b[43m(\u001b[49m\u001b[43m)\u001b[49m\n\u001b[1;32m     27\u001b[0m \u001b[43m        \u001b[49m\u001b[38;5;241;43m.\u001b[39;49m\u001b[43mget_queryset\u001b[49m\u001b[43m(\u001b[49m\u001b[43m)\u001b[49m\n\u001b[0;32m---> 28\u001b[0m \u001b[43m        \u001b[49m\u001b[38;5;241;43m.\u001b[39;49m\u001b[43mannotate\u001b[49m\u001b[43m(\u001b[49m\n\u001b[1;32m     29\u001b[0m \u001b[43m            \u001b[49m\u001b[43mname\u001b[49m\u001b[38;5;241;43m=\u001b[39;49m\u001b[43mmodels\u001b[49m\u001b[38;5;241;43m.\u001b[39;49m\u001b[43mF\u001b[49m\u001b[43m(\u001b[49m\u001b[38;5;124;43m'\u001b[39;49m\u001b[38;5;124;43mattribute_type.name\u001b[39;49m\u001b[38;5;124;43m'\u001b[39;49m\u001b[43m)\u001b[49m\u001b[43m,\u001b[49m\n\u001b[1;32m     30\u001b[0m \u001b[43m            \u001b[49m\u001b[43mlabel\u001b[49m\u001b[38;5;241;43m=\u001b[39;49m\u001b[43mmodels\u001b[49m\u001b[38;5;241;43m.\u001b[39;49m\u001b[43mF\u001b[49m\u001b[43m(\u001b[49m\u001b[38;5;124;43m'\u001b[39;49m\u001b[38;5;124;43mattribute_type.label\u001b[39;49m\u001b[38;5;124;43m'\u001b[39;49m\u001b[43m)\u001b[49m\u001b[43m,\u001b[49m\n\u001b[1;32m     31\u001b[0m \u001b[43m            \u001b[49m\u001b[43mdescription\u001b[49m\u001b[38;5;241;43m=\u001b[39;49m\u001b[43mmodels\u001b[49m\u001b[38;5;241;43m.\u001b[39;49m\u001b[43mF\u001b[49m\u001b[43m(\u001b[49m\u001b[38;5;124;43m'\u001b[39;49m\u001b[38;5;124;43mattribute_type.description\u001b[39;49m\u001b[38;5;124;43m'\u001b[39;49m\u001b[43m)\u001b[49m\u001b[43m,\u001b[49m\n\u001b[1;32m     32\u001b[0m \u001b[43m            \u001b[49m\u001b[43mdata_type\u001b[49m\u001b[38;5;241;43m=\u001b[39;49m\u001b[43mmodels\u001b[49m\u001b[38;5;241;43m.\u001b[39;49m\u001b[43mF\u001b[49m\u001b[43m(\u001b[49m\u001b[38;5;124;43m'\u001b[39;49m\u001b[38;5;124;43mattribute_type.data_type\u001b[39;49m\u001b[38;5;124;43m'\u001b[39;49m\u001b[43m)\u001b[49m\u001b[43m,\u001b[49m\n\u001b[1;32m     33\u001b[0m \u001b[43m        \u001b[49m\u001b[43m)\u001b[49m\n\u001b[1;32m     34\u001b[0m     )\n",
      "File \u001b[0;32m/usr/local/lib/python3.11/site-packages/django/db/models/query.py:1630\u001b[0m, in \u001b[0;36mQuerySet.annotate\u001b[0;34m(self, *args, **kwargs)\u001b[0m\n\u001b[1;32m   1625\u001b[0m \u001b[38;5;250m\u001b[39m\u001b[38;5;124;03m\"\"\"\u001b[39;00m\n\u001b[1;32m   1626\u001b[0m \u001b[38;5;124;03mReturn a query set in which the returned objects have been annotated\u001b[39;00m\n\u001b[1;32m   1627\u001b[0m \u001b[38;5;124;03mwith extra data or aggregations.\u001b[39;00m\n\u001b[1;32m   1628\u001b[0m \u001b[38;5;124;03m\"\"\"\u001b[39;00m\n\u001b[1;32m   1629\u001b[0m \u001b[38;5;28mself\u001b[39m\u001b[38;5;241m.\u001b[39m_not_support_combined_queries(\u001b[38;5;124m\"\u001b[39m\u001b[38;5;124mannotate\u001b[39m\u001b[38;5;124m\"\u001b[39m)\n\u001b[0;32m-> 1630\u001b[0m \u001b[38;5;28;01mreturn\u001b[39;00m \u001b[38;5;28;43mself\u001b[39;49m\u001b[38;5;241;43m.\u001b[39;49m\u001b[43m_annotate\u001b[49m\u001b[43m(\u001b[49m\u001b[43margs\u001b[49m\u001b[43m,\u001b[49m\u001b[43m \u001b[49m\u001b[43mkwargs\u001b[49m\u001b[43m,\u001b[49m\u001b[43m \u001b[49m\u001b[43mselect\u001b[49m\u001b[38;5;241;43m=\u001b[39;49m\u001b[38;5;28;43;01mTrue\u001b[39;49;00m\u001b[43m)\u001b[49m\n",
      "File \u001b[0;32m/usr/local/lib/python3.11/site-packages/django/db/models/query.py:1680\u001b[0m, in \u001b[0;36mQuerySet._annotate\u001b[0;34m(self, args, kwargs, select)\u001b[0m\n\u001b[1;32m   1678\u001b[0m         clone\u001b[38;5;241m.\u001b[39mquery\u001b[38;5;241m.\u001b[39madd_filtered_relation(annotation, alias)\n\u001b[1;32m   1679\u001b[0m     \u001b[38;5;28;01melse\u001b[39;00m:\n\u001b[0;32m-> 1680\u001b[0m         \u001b[43mclone\u001b[49m\u001b[38;5;241;43m.\u001b[39;49m\u001b[43mquery\u001b[49m\u001b[38;5;241;43m.\u001b[39;49m\u001b[43madd_annotation\u001b[49m\u001b[43m(\u001b[49m\n\u001b[1;32m   1681\u001b[0m \u001b[43m            \u001b[49m\u001b[43mannotation\u001b[49m\u001b[43m,\u001b[49m\n\u001b[1;32m   1682\u001b[0m \u001b[43m            \u001b[49m\u001b[43malias\u001b[49m\u001b[43m,\u001b[49m\n\u001b[1;32m   1683\u001b[0m \u001b[43m            \u001b[49m\u001b[43mselect\u001b[49m\u001b[38;5;241;43m=\u001b[39;49m\u001b[43mselect\u001b[49m\u001b[43m,\u001b[49m\n\u001b[1;32m   1684\u001b[0m \u001b[43m        \u001b[49m\u001b[43m)\u001b[49m\n\u001b[1;32m   1685\u001b[0m \u001b[38;5;28;01mfor\u001b[39;00m alias, annotation \u001b[38;5;129;01min\u001b[39;00m clone\u001b[38;5;241m.\u001b[39mquery\u001b[38;5;241m.\u001b[39mannotations\u001b[38;5;241m.\u001b[39mitems():\n\u001b[1;32m   1686\u001b[0m     \u001b[38;5;28;01mif\u001b[39;00m alias \u001b[38;5;129;01min\u001b[39;00m annotations \u001b[38;5;129;01mand\u001b[39;00m annotation\u001b[38;5;241m.\u001b[39mcontains_aggregate:\n",
      "File \u001b[0;32m/usr/local/lib/python3.11/site-packages/django/db/models/sql/query.py:1198\u001b[0m, in \u001b[0;36mQuery.add_annotation\u001b[0;34m(self, annotation, alias, select)\u001b[0m\n\u001b[1;32m   1196\u001b[0m \u001b[38;5;250m\u001b[39m\u001b[38;5;124;03m\"\"\"Add a single annotation expression to the Query.\"\"\"\u001b[39;00m\n\u001b[1;32m   1197\u001b[0m \u001b[38;5;28mself\u001b[39m\u001b[38;5;241m.\u001b[39mcheck_alias(alias)\n\u001b[0;32m-> 1198\u001b[0m annotation \u001b[38;5;241m=\u001b[39m \u001b[43mannotation\u001b[49m\u001b[38;5;241;43m.\u001b[39;49m\u001b[43mresolve_expression\u001b[49m\u001b[43m(\u001b[49m\u001b[38;5;28;43mself\u001b[39;49m\u001b[43m,\u001b[49m\u001b[43m \u001b[49m\u001b[43mallow_joins\u001b[49m\u001b[38;5;241;43m=\u001b[39;49m\u001b[38;5;28;43;01mTrue\u001b[39;49;00m\u001b[43m,\u001b[49m\u001b[43m \u001b[49m\u001b[43mreuse\u001b[49m\u001b[38;5;241;43m=\u001b[39;49m\u001b[38;5;28;43;01mNone\u001b[39;49;00m\u001b[43m)\u001b[49m\n\u001b[1;32m   1199\u001b[0m \u001b[38;5;28;01mif\u001b[39;00m select:\n\u001b[1;32m   1200\u001b[0m     \u001b[38;5;28mself\u001b[39m\u001b[38;5;241m.\u001b[39mappend_annotation_mask([alias])\n",
      "File \u001b[0;32m/usr/local/lib/python3.11/site-packages/django/db/models/expressions.py:854\u001b[0m, in \u001b[0;36mF.resolve_expression\u001b[0;34m(self, query, allow_joins, reuse, summarize, for_save)\u001b[0m\n\u001b[1;32m    851\u001b[0m \u001b[38;5;28;01mdef\u001b[39;00m \u001b[38;5;21mresolve_expression\u001b[39m(\n\u001b[1;32m    852\u001b[0m     \u001b[38;5;28mself\u001b[39m, query\u001b[38;5;241m=\u001b[39m\u001b[38;5;28;01mNone\u001b[39;00m, allow_joins\u001b[38;5;241m=\u001b[39m\u001b[38;5;28;01mTrue\u001b[39;00m, reuse\u001b[38;5;241m=\u001b[39m\u001b[38;5;28;01mNone\u001b[39;00m, summarize\u001b[38;5;241m=\u001b[39m\u001b[38;5;28;01mFalse\u001b[39;00m, for_save\u001b[38;5;241m=\u001b[39m\u001b[38;5;28;01mFalse\u001b[39;00m\n\u001b[1;32m    853\u001b[0m ):\n\u001b[0;32m--> 854\u001b[0m     \u001b[38;5;28;01mreturn\u001b[39;00m \u001b[43mquery\u001b[49m\u001b[38;5;241;43m.\u001b[39;49m\u001b[43mresolve_ref\u001b[49m\u001b[43m(\u001b[49m\u001b[38;5;28;43mself\u001b[39;49m\u001b[38;5;241;43m.\u001b[39;49m\u001b[43mname\u001b[49m\u001b[43m,\u001b[49m\u001b[43m \u001b[49m\u001b[43mallow_joins\u001b[49m\u001b[43m,\u001b[49m\u001b[43m \u001b[49m\u001b[43mreuse\u001b[49m\u001b[43m,\u001b[49m\u001b[43m \u001b[49m\u001b[43msummarize\u001b[49m\u001b[43m)\u001b[49m\n",
      "File \u001b[0;32m/usr/local/lib/python3.11/site-packages/django/db/models/sql/query.py:2014\u001b[0m, in \u001b[0;36mQuery.resolve_ref\u001b[0;34m(self, name, allow_joins, reuse, summarize)\u001b[0m\n\u001b[1;32m   2012\u001b[0m         annotation \u001b[38;5;241m=\u001b[39m \u001b[38;5;28mself\u001b[39m\u001b[38;5;241m.\u001b[39mtry_transform(annotation, transform)\n\u001b[1;32m   2013\u001b[0m     \u001b[38;5;28;01mreturn\u001b[39;00m annotation\n\u001b[0;32m-> 2014\u001b[0m join_info \u001b[38;5;241m=\u001b[39m \u001b[38;5;28;43mself\u001b[39;49m\u001b[38;5;241;43m.\u001b[39;49m\u001b[43msetup_joins\u001b[49m\u001b[43m(\u001b[49m\n\u001b[1;32m   2015\u001b[0m \u001b[43m    \u001b[49m\u001b[43mfield_list\u001b[49m\u001b[43m,\u001b[49m\u001b[43m \u001b[49m\u001b[38;5;28;43mself\u001b[39;49m\u001b[38;5;241;43m.\u001b[39;49m\u001b[43mget_meta\u001b[49m\u001b[43m(\u001b[49m\u001b[43m)\u001b[49m\u001b[43m,\u001b[49m\u001b[43m \u001b[49m\u001b[38;5;28;43mself\u001b[39;49m\u001b[38;5;241;43m.\u001b[39;49m\u001b[43mget_initial_alias\u001b[49m\u001b[43m(\u001b[49m\u001b[43m)\u001b[49m\u001b[43m,\u001b[49m\u001b[43m \u001b[49m\u001b[43mcan_reuse\u001b[49m\u001b[38;5;241;43m=\u001b[39;49m\u001b[43mreuse\u001b[49m\n\u001b[1;32m   2016\u001b[0m \u001b[43m\u001b[49m\u001b[43m)\u001b[49m\n\u001b[1;32m   2017\u001b[0m targets, final_alias, join_list \u001b[38;5;241m=\u001b[39m \u001b[38;5;28mself\u001b[39m\u001b[38;5;241m.\u001b[39mtrim_joins(\n\u001b[1;32m   2018\u001b[0m     join_info\u001b[38;5;241m.\u001b[39mtargets, join_info\u001b[38;5;241m.\u001b[39mjoins, join_info\u001b[38;5;241m.\u001b[39mpath\n\u001b[1;32m   2019\u001b[0m )\n\u001b[1;32m   2020\u001b[0m \u001b[38;5;28;01mif\u001b[39;00m \u001b[38;5;129;01mnot\u001b[39;00m allow_joins \u001b[38;5;129;01mand\u001b[39;00m \u001b[38;5;28mlen\u001b[39m(join_list) \u001b[38;5;241m>\u001b[39m \u001b[38;5;241m1\u001b[39m:\n",
      "File \u001b[0;32m/usr/local/lib/python3.11/site-packages/django/db/models/sql/query.py:1867\u001b[0m, in \u001b[0;36mQuery.setup_joins\u001b[0;34m(self, names, opts, alias, can_reuse, allow_many)\u001b[0m\n\u001b[1;32m   1865\u001b[0m \u001b[38;5;28;01mfor\u001b[39;00m pivot \u001b[38;5;129;01min\u001b[39;00m \u001b[38;5;28mrange\u001b[39m(\u001b[38;5;28mlen\u001b[39m(names), \u001b[38;5;241m0\u001b[39m, \u001b[38;5;241m-\u001b[39m\u001b[38;5;241m1\u001b[39m):\n\u001b[1;32m   1866\u001b[0m     \u001b[38;5;28;01mtry\u001b[39;00m:\n\u001b[0;32m-> 1867\u001b[0m         path, final_field, targets, rest \u001b[38;5;241m=\u001b[39m \u001b[38;5;28;43mself\u001b[39;49m\u001b[38;5;241;43m.\u001b[39;49m\u001b[43mnames_to_path\u001b[49m\u001b[43m(\u001b[49m\n\u001b[1;32m   1868\u001b[0m \u001b[43m            \u001b[49m\u001b[43mnames\u001b[49m\u001b[43m[\u001b[49m\u001b[43m:\u001b[49m\u001b[43mpivot\u001b[49m\u001b[43m]\u001b[49m\u001b[43m,\u001b[49m\n\u001b[1;32m   1869\u001b[0m \u001b[43m            \u001b[49m\u001b[43mopts\u001b[49m\u001b[43m,\u001b[49m\n\u001b[1;32m   1870\u001b[0m \u001b[43m            \u001b[49m\u001b[43mallow_many\u001b[49m\u001b[43m,\u001b[49m\n\u001b[1;32m   1871\u001b[0m \u001b[43m            \u001b[49m\u001b[43mfail_on_missing\u001b[49m\u001b[38;5;241;43m=\u001b[39;49m\u001b[38;5;28;43;01mTrue\u001b[39;49;00m\u001b[43m,\u001b[49m\n\u001b[1;32m   1872\u001b[0m \u001b[43m        \u001b[49m\u001b[43m)\u001b[49m\n\u001b[1;32m   1873\u001b[0m     \u001b[38;5;28;01mexcept\u001b[39;00m FieldError \u001b[38;5;28;01mas\u001b[39;00m exc:\n\u001b[1;32m   1874\u001b[0m         \u001b[38;5;28;01mif\u001b[39;00m pivot \u001b[38;5;241m==\u001b[39m \u001b[38;5;241m1\u001b[39m:\n\u001b[1;32m   1875\u001b[0m             \u001b[38;5;66;03m# The first item cannot be a lookup, so it's safe\u001b[39;00m\n\u001b[1;32m   1876\u001b[0m             \u001b[38;5;66;03m# to raise the field error here.\u001b[39;00m\n",
      "File \u001b[0;32m/usr/local/lib/python3.11/site-packages/django/db/models/sql/query.py:1772\u001b[0m, in \u001b[0;36mQuery.names_to_path\u001b[0;34m(self, names, opts, allow_many, fail_on_missing)\u001b[0m\n\u001b[1;32m   1764\u001b[0m     \u001b[38;5;28;01mif\u001b[39;00m pos \u001b[38;5;241m==\u001b[39m \u001b[38;5;241m-\u001b[39m\u001b[38;5;241m1\u001b[39m \u001b[38;5;129;01mor\u001b[39;00m fail_on_missing:\n\u001b[1;32m   1765\u001b[0m         available \u001b[38;5;241m=\u001b[39m \u001b[38;5;28msorted\u001b[39m(\n\u001b[1;32m   1766\u001b[0m             [\n\u001b[1;32m   1767\u001b[0m                 \u001b[38;5;241m*\u001b[39mget_field_names_from_opts(opts),\n\u001b[0;32m   (...)\u001b[0m\n\u001b[1;32m   1770\u001b[0m             ]\n\u001b[1;32m   1771\u001b[0m         )\n\u001b[0;32m-> 1772\u001b[0m         \u001b[38;5;28;01mraise\u001b[39;00m FieldError(\n\u001b[1;32m   1773\u001b[0m             \u001b[38;5;124m\"\u001b[39m\u001b[38;5;124mCannot resolve keyword \u001b[39m\u001b[38;5;124m'\u001b[39m\u001b[38;5;132;01m%s\u001b[39;00m\u001b[38;5;124m'\u001b[39m\u001b[38;5;124m into field. \u001b[39m\u001b[38;5;124m\"\u001b[39m\n\u001b[1;32m   1774\u001b[0m             \u001b[38;5;124m\"\u001b[39m\u001b[38;5;124mChoices are: \u001b[39m\u001b[38;5;132;01m%s\u001b[39;00m\u001b[38;5;124m\"\u001b[39m \u001b[38;5;241m%\u001b[39m (name, \u001b[38;5;124m\"\u001b[39m\u001b[38;5;124m, \u001b[39m\u001b[38;5;124m\"\u001b[39m\u001b[38;5;241m.\u001b[39mjoin(available))\n\u001b[1;32m   1775\u001b[0m         )\n\u001b[1;32m   1776\u001b[0m     \u001b[38;5;28;01mbreak\u001b[39;00m\n\u001b[1;32m   1777\u001b[0m \u001b[38;5;66;03m# Check if we need any joins for concrete inheritance cases (the\u001b[39;00m\n\u001b[1;32m   1778\u001b[0m \u001b[38;5;66;03m# field lives in parent, but we are currently in one of its\u001b[39;00m\n\u001b[1;32m   1779\u001b[0m \u001b[38;5;66;03m# children)\u001b[39;00m\n",
      "\u001b[0;31mFieldError\u001b[0m: Cannot resolve keyword 'attribute_type.name' into field. Choices are: attribute_type, attribute_type_id, content_object, content_type, content_type_id, creation_timestamp, creation_user, creation_user_id, id, modification_timestamp, modification_user, modification_user_id, object_id, value"
     ]
    }
   ],
   "source": [
    "target = Record.objects.first()\n",
    "\n",
    "int_atype = AttributeType.objects.get(pk=3)\n",
    "# int_value = {\n",
    "#     'dtype': 'INT',\n",
    "#     'value': 34,\n",
    "# }\n",
    "test_int = AttributeNew.objects.create(\n",
    "    content_object=target,\n",
    "    attribute_type=int_atype,\n",
    "    value=34,\n",
    ")\n",
    "\n"
   ]
  },
  {
   "cell_type": "code",
   "execution_count": 3,
   "id": "1e96b6c6",
   "metadata": {},
   "outputs": [
    {
     "data": {
      "text/plain": [
       "UUID('e8100964-4aad-4960-ab92-819353fff623')"
      ]
     },
     "execution_count": 3,
     "metadata": {},
     "output_type": "execute_result"
    }
   ],
   "source": [
    "test_int.id"
   ]
  },
  {
   "cell_type": "code",
   "execution_count": 2,
   "id": "26f6496e",
   "metadata": {},
   "outputs": [],
   "source": [
    "tester = AttributeNew.objects.get(pk='e8100964-4aad-4960-ab92-819353fff623')\n"
   ]
  },
  {
   "cell_type": "code",
   "execution_count": 10,
   "id": "efb1a6ec",
   "metadata": {},
   "outputs": [
    {
     "data": {
      "text/plain": [
       "'mk1_identifier'"
      ]
     },
     "execution_count": 10,
     "metadata": {},
     "output_type": "execute_result"
    }
   ],
   "source": [
    "tester.name\n"
   ]
  },
  {
   "cell_type": "code",
   "execution_count": 11,
   "id": "59cc822d",
   "metadata": {},
   "outputs": [
    {
     "data": {
      "text/plain": [
       "<QuerySet [<AttributeNew: mk1_identifier: 34>, <AttributeNew: mk1_identifier: 34>]>"
      ]
     },
     "execution_count": 11,
     "metadata": {},
     "output_type": "execute_result"
    }
   ],
   "source": [
    "AttributeNew.objects.filter(name='mk1_identifier')\n"
   ]
  },
  {
   "cell_type": "code",
   "execution_count": 3,
   "id": "77ec2e22",
   "metadata": {},
   "outputs": [],
   "source": [
    "target = Record.objects.first()\n"
   ]
  },
  {
   "cell_type": "code",
   "execution_count": null,
   "id": "28f0ffaf",
   "metadata": {},
   "outputs": [],
   "source": []
  },
  {
   "cell_type": "code",
   "execution_count": 5,
   "id": "4a033af2",
   "metadata": {},
   "outputs": [
    {
     "data": {
      "text/plain": [
       "<QuerySet [<Attribute: debt_source: back rent>, <Attribute: record_type: Seizure>, <Attribute: debt_amount: 8.00>, <Attribute: locale: Lucca, Tuscany, Italy>, <Attribute: mk1_identifier: 2286>, <Attribute: debt_phrase: 8l.>, <Attribute: language: Latin>, <Attribute: debt_unit: libra denariorum parvorum de Lucca>, <Attribute: date: {'day': 27, 'month': 10, 'year': 1338, 'date': datetime.date(1338, 10, 27), 'text': '27-Oct-1338'}>, <Attribute: has_inventory: True>]>"
      ]
     },
     "execution_count": 5,
     "metadata": {},
     "output_type": "execute_result"
    }
   ],
   "source": [
    "test.attributes.all()"
   ]
  },
  {
   "cell_type": "code",
   "execution_count": 51,
   "id": "7ca9ae66",
   "metadata": {},
   "outputs": [],
   "source": [
    "# test2 = Record.objects.annotate().filter(attributes__name='debt_source')\n",
    "#value_store = Attribute.objects.filter(f\"attributevalue{OuterRef('attribute_type__data_type')}\")\n",
    "#test2 = Attribute.objects.annotate(value=Subquery(value_store.values(value)[:1]))\n",
    "\n",
    "# test2 = Attribute.objects.annotate(value=f\"attributevalue{F('attribute_type__data_type')}\")\n",
    "\n",
    "# test2 = Attribute.objects.annotate(\n",
    "#     value=F(Concat(\n",
    "#         Value('attributevalue'), Lower(F('attribute_type__data_type')),\n",
    "#         output_field=CharField()\n",
    "#     ))\n",
    "# )\n",
    "\n",
    "test2 = Attribute.objects.annotate(\n",
    "    name_test=F('attribute_type__name')\n",
    ")\n"
   ]
  },
  {
   "cell_type": "code",
   "execution_count": 52,
   "id": "5cd766f4",
   "metadata": {},
   "outputs": [
    {
     "data": {
      "text/plain": [
       "'language'"
      ]
     },
     "execution_count": 52,
     "metadata": {},
     "output_type": "execute_result"
    }
   ],
   "source": [
    "test2[1].name_test"
   ]
  },
  {
   "cell_type": "code",
   "execution_count": 12,
   "id": "7cf5ac67",
   "metadata": {},
   "outputs": [],
   "source": [
    "def map_rows(cursor):\n",
    "    \"\"\"Map db rows from tuples to dictionaries.\"\"\"\n",
    "    columns = [col[0] for col in cursor.description]\n",
    "    return (dict(zip(columns, row, strict=True)) for row in cursor.fetchall())\n"
   ]
  },
  {
   "cell_type": "code",
   "execution_count": 11,
   "id": "5238f62f",
   "metadata": {},
   "outputs": [
    {
     "name": "stdout",
     "output_type": "stream",
     "text": [
      "<RevisionQuerySet [<Revision: \"The Documentary Archaeology of Late Medieval Europe\" at 2020-08-19 14:53:16.379459+00:00>, <Revision: \"The Documentary Archaeology of Late Medieval Europe\" at 2020-08-19 22:40:42.302734+00:00>, <Revision: \"The Documentary Archaeology of Late Medieval Europe\" at 2021-01-08 15:03:40.497840+00:00>, <Revision: \"The Documentary Archaeology of Late Medieval Europe\" at 2021-01-11 16:18:50.200290+00:00>, <Revision: \"The Documentary Archaeology of Late Medieval Europe\" at 2021-01-12 21:18:28.675385+00:00>, <Revision: \"The Documentary Archaeology of Late Medieval Europe\" at 2021-01-14 18:06:26.082629+00:00>, <Revision: \"The Documentary Archaeology of Late Medieval Europe\" at 2021-01-15 22:00:49.176616+00:00>, <Revision: \"The Documentary Archaeology of Late Medieval Europe\" at 2022-01-16 14:38:27.256436+00:00>, <Revision: \"The Documentary Archaeology of Late Medieval Europe\" at 2022-01-24 19:38:08.510974+00:00>, <Revision: \"The Documentary Archaeology of Late Medieval Europe\" at 2022-01-25 14:47:08.466111+00:00>, <Revision: \"The Documentary Archaeology of Late Medieval Europe\" at 2022-02-08 19:21:51.513450+00:00>, <Revision: \"The Documentary Archaeology of Late Medieval Europe\" at 2024-02-29 17:01:31.613234+00:00>, <Revision: \"The Documentary Archaeology of Late Medieval Europe\" at 2024-02-29 17:08:29.682827+00:00>]>\n"
     ]
    }
   ],
   "source": [
    "with schema_context('dalme'):\n",
    "    target = apps.get_model(app_label='wagtailcore', model_name='revision')\n",
    "    print(target.objects.filter(content__pk=3))\n"
   ]
  },
  {
   "cell_type": "code",
   "execution_count": 16,
   "id": "142f69e2",
   "metadata": {},
   "outputs": [
    {
     "name": "stdout",
     "output_type": "stream",
     "text": [
      "{'content': 'JSONField'}\n"
     ]
    }
   ],
   "source": [
    "print(target_fields)"
   ]
  },
  {
   "cell_type": "code",
   "execution_count": 21,
   "id": "3e2597c3",
   "metadata": {},
   "outputs": [
    {
     "name": "stdout",
     "output_type": "stream",
     "text": [
      "[{\"type\": \"text\", \"value\": \"<p>The goal of DALME is to increase our understanding of Europe\\u2019s material horizons during the later Middle Ages, an era when changing patterns of production and consumption altered the material world and transformed the relationship between people and things. We aim to accomplish this by developing a publicly accessible and fully searchable online database of material culture based on household inventories and other textual sources from the period. Along the way, we hope to develop open standards and protocols for the nascent practice of documentary archaeology.</p>\", \"id\": \"f5f37eb8-4a0e-4cd5-bc31-e624a0cfeaa1\"}]\n"
     ]
    }
   ],
   "source": [
    "with connection.cursor() as cursor:\n",
    "    cursor.execute(f'SELECT * FROM restore.wagtailcore_revision;')\n",
    "    rows = map_rows(cursor)\n",
    "    for idx, row in enumerate(rows):\n",
    "        if idx == 0:\n",
    "            value = row['content']\n",
    "            is_rev = True\n",
    "            page_id = 3\n",
    "            #value = process_content_field(value, target_fields['content'], 3, True)\n",
    "            field_value_json = json.loads(value)\n",
    "            content = field_value_json['body'] if is_rev else field_value_json\n",
    "            new_content = []\n",
    "            for sblock in content:\n",
    "                block = copy.deepcopy(sblock)\n",
    "                print(isinstance(block, str))\n",
    "            print(new_content)\n",
    "    \n",
    "    \n",
    "    "
   ]
  },
  {
   "cell_type": "code",
   "execution_count": 13,
   "id": "863e40e2",
   "metadata": {},
   "outputs": [],
   "source": [
    "REFERENCE_HREF = re.compile(r'(?:(?:http|https)://dalme.org)?/?/project/bibliography/#([A-Z0-9]{8})')\n",
    "\n",
    "def get_fields_by_type(model, field_types, as_map=False):\n",
    "    filter_by_class = ['RichTextField']\n",
    "\n",
    "    if not isinstance(field_types, list):\n",
    "        field_types = [field_types]\n",
    "\n",
    "    target_types = [t for t in field_types if t not in filter_by_class]\n",
    "    target_classes = [t for t in field_types if t in filter_by_class]\n",
    "\n",
    "    fields = {}\n",
    "    for field in model._meta.get_fields():  # noqa: SLF001\n",
    "        try:\n",
    "            field_cls_name = str(field.__class__)[8:-2].split('.')[-1]\n",
    "            if field.get_internal_type() in target_types or field_cls_name in target_classes:\n",
    "                fields[field.name] = field.get_internal_type()\n",
    "        except AttributeError:  # it's a GenericForeignKey\n",
    "            continue\n",
    "    return fields if as_map else list(fields.keys())\n",
    "\n",
    "\n",
    "def clean_db_value(value, field_type):\n",
    "    if value is None:\n",
    "        return 'null'\n",
    "    if field_type == 'JSONField':\n",
    "        return f'$${value}$$::jsonb'\n",
    "    if field_type in ['AutoField', 'BigAutoField', 'BigIntegerField', 'IntegerField']:\n",
    "        return value if isinstance(value, int) else int(value)\n",
    "    return f'$${value}$$'\n",
    "\n",
    "def markdown_to_html(content):\n",
    "    # <span data-footnote=\\\"For Bons-Enfants, houses of poor grammar-school students attested across northern France and francophone Flanders (as Douai),\n",
    "    # Joan M. Reitzel, &quot;[The Medieval House of Bons-Enfants](http://dalme.org/project/bibliography/#ZUMTQ5B9),&quot; _Viator_ 11 (1980): 179-207.\\\"\n",
    "    # data-note_id=\\\"1fe36ff5-2e03-4890-82b1-71090d6333d7\\\">✱</span>\n",
    "    soup = BeautifulSoup(markdown.markdown(content), features='lxml')\n",
    "    references = soup.find_all('a', href=REFERENCE_HREF)\n",
    "    if references:\n",
    "        soup = convert_references(soup)\n",
    "\n",
    "    return ''.join(str(b) for b in soup.body.findChildren(recursive=False))\n",
    "\n",
    "def convert_references(soup):\n",
    "    for ref in soup.find_all('a', href=REFERENCE_HREF):\n",
    "        # format: <a data-biblio=\"54\" data-id=\"R476GUY2\" data-reference=\"(Telliez, 2011)\" linktype=\"reference\">consumption</a>\n",
    "        match = REFERENCE_HREF.fullmatch(ref['href'])\n",
    "        if match:\n",
    "            ref['data-biblio'] = biblio_page_id\n",
    "            ref_id = match.group(1)\n",
    "            try:\n",
    "                citation = REF_CITATIONS[ref_id]\n",
    "            except KeyError:\n",
    "                citation = ''\n",
    "                print('Reference id: %s not in citation list!', ref_id)\n",
    "            ref['data-id'] = ref_id\n",
    "            ref['data-reference'] = citation  # TODO: figure out a better way to get the citation!\n",
    "            ref['linktype'] = 'reference'\n",
    "            del ref['href']\n",
    "\n",
    "    return soup\n",
    "\n",
    "def get_footnote_id(content, page_id):\n",
    "    if FOOTNOTES:\n",
    "        results = [i for i in FOOTNOTES if i['text'] == content and i['page_id'] == page_id]\n",
    "        if results and len(results) == 1:\n",
    "            return results[0]['id']\n",
    "    return None\n",
    "\n",
    "def fix_entities(text, page_id, is_rev=False):\n",
    "    soup = BeautifulSoup(text, features='lxml')\n",
    "\n",
    "    # references\n",
    "    references = soup.find_all('a', href=REFERENCE_HREF)\n",
    "    if references:\n",
    "        soup = convert_references(soup)\n",
    "\n",
    "    # footnotes\n",
    "    footnotes = soup.find_all('span', attrs={'data-footnote': True})\n",
    "    if footnotes:\n",
    "        fn_index = FN_REGISTER.get(page_id, 1)\n",
    "\n",
    "        for idx, fn in enumerate(footnotes, start=fn_index):\n",
    "            # format: <a data-footnote=\"c847f9da-3780-4085-9426-73e7a0228b3d\" linktype=\"footnote\">✱</a>\n",
    "            fn_content = markdown_to_html(fn['data-footnote'])\n",
    "\n",
    "            if is_rev:\n",
    "                # we don't create footnote records for page revisions as they would be repeats\n",
    "                # of notes that already exist in the live pages\n",
    "                fn_id = get_footnote_id(fn_content, page_id)\n",
    "                fn['data-footnote'] = fn_id if fn_id else True\n",
    "\n",
    "            else:\n",
    "                new_footnote_id = uuid.uuid4()\n",
    "                FOOTNOTES.append(\n",
    "                    {\n",
    "                        'id': new_footnote_id,\n",
    "                        'page_id': page_id,\n",
    "                        'text': fn_content,\n",
    "                        'sort_order': idx,\n",
    "                    }\n",
    "                )\n",
    "\n",
    "                fn['data-footnote'] = new_footnote_id\n",
    "\n",
    "            FN_REGISTER[page_id] = idx  # update footnote index for page with last used one\n",
    "            fn.name = 'a'\n",
    "            fn['linktype'] = 'footnote'\n",
    "            del fn['data-note_id']\n",
    "\n",
    "        FN_REGISTER[page_id] += 1  # increment last index by one for next run\n",
    "\n",
    "    # saved searches\n",
    "    # source format: <a id=\"01d5187e-2752-466e-9e7d-64e51051facd\" linktype=\"saved_search\">storage</a>\n",
    "    # target format: <a id=\"01d5187e-2752-466e-9e7d-64e51051facd\" data-saved-search=\"pansier\" linktype=\"saved_search\">dissemination</a>\n",
    "    saved_searches = soup.find_all('a', attrs={'linktype': 'saved_search'})\n",
    "    if saved_searches:\n",
    "        for ss in saved_searches:\n",
    "            try:\n",
    "                search_obj = SavedSearch.objects.get(pk=ss['id'])\n",
    "                ss['data-saved-search'] = search_obj.name\n",
    "            except:  # noqa: E722\n",
    "                print('Failed to migrate saved search entity in page %s', page_id)\n",
    "\n",
    "    return ''.join(str(b) for b in soup.body.findChildren(recursive=False))\n",
    "\n",
    "def parse_streamfield(content, page_id, is_rev=False):  # noqa: C901, PLR0912, PLR0915\n",
    "    \"\"\"We parse streamfields to convert between content formats and convert the old subsection blocks into the new nested system.\"\"\"\n",
    "    new_content = []\n",
    "    subsection = None\n",
    "    nested_subsection = None\n",
    "    for sblock in content:\n",
    "        block = copy.deepcopy(sblock)\n",
    "        if not isinstance(block, str) and block.get('type') in ['subsection', 'subsection_end_marker']:\n",
    "            if block.get('value', {}).get('minor_heading'):\n",
    "                block['type'] = 'nested_subsection'\n",
    "                if nested_subsection is None:\n",
    "                    nested_subsection = block\n",
    "                else:\n",
    "                    if subsection:\n",
    "                        if not subsection['value'].get('body'):\n",
    "                            subsection['value']['body'] = [nested_subsection]\n",
    "                        else:\n",
    "                            subsection['value']['body'].append(nested_subsection)\n",
    "                    else:\n",
    "                        new_content.append(nested_subsection)\n",
    "                    nested_subsection = block\n",
    "            else:\n",
    "                if nested_subsection:\n",
    "                    if subsection:\n",
    "                        if not subsection['value'].get('body'):\n",
    "                            subsection['value']['body'] = [nested_subsection]\n",
    "                        else:\n",
    "                            subsection['value']['body'].append(nested_subsection)\n",
    "                    else:\n",
    "                        new_content.append(nested_subsection)\n",
    "\n",
    "                    nested_subsection = None\n",
    "\n",
    "                if subsection:\n",
    "                    new_content.append(subsection)\n",
    "\n",
    "                subsection = block if block.get('type') == 'subsection' else None\n",
    "        else:\n",
    "            if isinstance(block, str):\n",
    "                pass\n",
    "            elif block.get('type') == 'text' and block.get('value'):\n",
    "                block['value'] = fix_entities(block['value'], page_id, is_rev=is_rev)\n",
    "\n",
    "            elif block.get('type') == 'inline_image':\n",
    "                if isinstance(block['value'], dict):\n",
    "                    block['value']['use_file_caption'] = not block['value'].get('show_caption')\n",
    "                else:\n",
    "                    print('Found inline image with int value: %s', block['value'])\n",
    "\n",
    "            elif block.get('type') == 'main_image':\n",
    "                block['type'] = 'inline_image'\n",
    "                image_id = block['value']\n",
    "                block['value'] = {\n",
    "                    'image': image_id,\n",
    "                    'show_caption': True,\n",
    "                    'use_file_caption': True,\n",
    "                    'alignment': 'main',\n",
    "                }\n",
    "\n",
    "            if nested_subsection:\n",
    "                if not nested_subsection['value'].get('body'):\n",
    "                    nested_subsection['value']['body'] = [block]\n",
    "                else:\n",
    "                    nested_subsection['value']['body'].append(block)\n",
    "\n",
    "            elif subsection:\n",
    "                if not subsection['value'].get('body'):\n",
    "                    subsection['value']['body'] = [block]\n",
    "                else:\n",
    "                    subsection['value']['body'].append(block)\n",
    "\n",
    "            else:\n",
    "                new_content.append(block)\n",
    "\n",
    "    if nested_subsection:\n",
    "        if subsection:\n",
    "            if not subsection['value'].get('body'):\n",
    "                subsection['value']['body'] = [nested_subsection]\n",
    "            else:\n",
    "                subsection['value']['body'].append(nested_subsection)\n",
    "        else:\n",
    "            new_content.append(nested_subsection)\n",
    "\n",
    "    if subsection:\n",
    "        new_content.append(subsection)\n",
    "\n",
    "    return new_content\n",
    "\n",
    "def process_content_field(field_value, field_type, page_id, is_rev):\n",
    "    if field_type == 'JSONField':\n",
    "        field_value_json = json.loads(field_value)\n",
    "        content = field_value_json['body'] if is_rev else field_value_json\n",
    "        new_content = parse_streamfield(content, page_id, is_rev=is_rev)\n",
    "\n",
    "        if is_rev:\n",
    "            field_value_json['body'] = new_content\n",
    "            field_value = json.dumps(field_value_json)\n",
    "        else:\n",
    "            field_value = json.dumps(new_content)\n",
    "\n",
    "    else:\n",
    "        field_value = fix_entities(field_value, page_id)\n",
    "\n",
    "    return field_value"
   ]
  },
  {
   "cell_type": "code",
   "execution_count": 14,
   "id": "390c95a1",
   "metadata": {},
   "outputs": [],
   "source": [
    "FN_REGISTER = {}  # register to keep track of footnote indices\n",
    "FOOTNOTES = []  # storage for footnotes\n",
    "    \n",
    "REF_CITATIONS = {\n",
    "    '6YDI5HL6': '(Smith, 2020)',\n",
    "    'WJLVYXYP': '(Sibon, 2011)',\n",
    "    'LYJR5IHM': '(Coulet, 2004)',\n",
    "    'TS749RWH': '(Baratier, 1961)',\n",
    "    '6NUFKTEG': '(Mély & Bishop, 1892)',\n",
    "    'F2FFVVX8': '(Volkert, 1982)',\n",
    "    '3GJ5F9HJ': '(Coulet, 2004)',\n",
    "    'ER34URS8': '(Le Roux de Lincy, 1846)',\n",
    "    '5QK2S98X': '(Barnel, 1999)',\n",
    "    'L9ALQFNF': '(Ripert, Barnel, Bresc, Herbeth, & Colin, 1993)',\n",
    "    'BZ53KGMW': '(Stouff, 1996)',\n",
    "    'IFRJ2YQ6': '(Smail, Pizzorno, & Hay, 2020)',\n",
    "    'UH5EUVZC': '(Villard, 1907)',\n",
    "    'NY7H8NIH': '(Ferrand, 2017)',\n",
    "    'DBB2IVEC': '(Livi, 1928)',\n",
    "    'SA6QKDAR': '(Longhi, 2020)',\n",
    "    'YX4Y4RRJ': '(Barry, 1898)',\n",
    "    'XAQBR8XE': '(Teaching Medieval Slavery and Captivity, n.d.)',\n",
    "    'VZQ5BBTG': '(Origo, 1955)',\n",
    "    'JHH4LIGY': '(Fernandes, Liberato, Marques, & Cunha, 2017)',\n",
    "    '6VZUI7JY': '(Oliver, 2016)',\n",
    "    'ZZXGLVMZ': '(Rigaud, 1996)',\n",
    "    'ZUMTQ5B9': '(Reitzel, 1980)',\n",
    "    '2RUWVY7B': '(Howell, 1996)',\n",
    "    'SNB4JFJ9': '(Braun, 1907)',\n",
    "    'SBBLYP96': '(Davril, Thibodeau, & Guyot, 1995)',\n",
    "    'TNEXXNIQ': '(Braun, 1937)',\n",
    "    'UCVN8LWL': '(Miller, 2014)',\n",
    "    'TQVX23W6': '(Berthod, 2001)',\n",
    "    'QZNHF7Q3': '(Piponnier, 1989)',\n",
    "    'Q62RN9ND': '(Fircks, 2018)',\n",
    "    'TBIJ9DYD': '(Deregnaucourt, 1981)',\n",
    "    'J9BYMBP2': '(Deregnaucourt, 1982)',\n",
    "    'Y44RIA8Q': '(Mane & Piponnier, 1992)',\n",
    "    'XL9F9RTZ': '(Carroll-Clark, 2005)',\n",
    "    'MJWEGUKG': '(Blaschitz, Hundsbichler, Jaritz, & Vavra, 1992)',\n",
    "    'XXD7JM9D': '(Baumgarten, 2014)',\n",
    "}"
   ]
  },
  {
   "cell_type": "code",
   "execution_count": 3,
   "id": "a1330ab6",
   "metadata": {},
   "outputs": [
    {
     "name": "stdout",
     "output_type": "stream",
     "text": [
      "\"The Documentary Archaeology of Late Medieval Europe\" at 2020-08-19 14:53:16.379459+00:00\n"
     ]
    }
   ],
   "source": [
    "with schema_context('dalme'):\n",
    "    from wagtail.models import Revision\n",
    "    \n",
    "    test = Revision.objects.get(pk=1)\n",
    "    \n",
    "    print(test)\n",
    "    "
   ]
  },
  {
   "cell_type": "code",
   "execution_count": 17,
   "id": "c77131c6",
   "metadata": {},
   "outputs": [
    {
     "name": "stdout",
     "output_type": "stream",
     "text": [
      "[{'record': <Record: Dossier of Doffo di Giovanni de Bardi (ASF MPAP 4)>, 'credit': 'contributor'}, {'record': <Record: Inventory of Saint-Jacques de Gallicia (ADBR 351 E 169)>, 'credit': 'editor'}, {'record': <Record: Inventory of Iohannes de Urso (Gabotto ed.)>, 'credit': 'contributor'}, {'record': <Record: Inventory of Stefanus mercerius (Lopez ed.)>, 'credit': 'contributor'}, {'record': <Record: Inventory of Sir John Maynard (TNA PROB 2/59)>, 'credit': 'contributor'}, {'record': <Record: Dossier of Johannes Johannis (MPAP 53)>, 'credit': 'contributor'}, {'record': <Record: Inventory of the treasury of the church of Joucas (Pansier)>, 'credit': 'contributor'}, {'record': <Record: Inventory of Thura de la Celsa (Gabotto ed.)>, 'credit': 'contributor'}, {'record': <Record: Inventory of a wheelwright (Pansier)>, 'credit': 'contributor'}, {'record': <Record: Auction of Andreas de Septimis (ADBR 351E 258)>, 'credit': 'editor'}, {'record': <Record: Inventory of Johannes Lansaman (ADBR 3B 128)>, 'credit': 'editor'}, {'record': <Record: Inventory of Albertus de Verona (ASB UdI 20)>, 'credit': 'contributor'}, {'record': <Record: Inventory of Johannes Duranti (AD Hérault 2 E 95/441)>, 'credit': 'contributor'}, {'record': <Record: Inventory of the Priory of Aubagne (ADBR 351E 187)>, 'credit': 'contributor'}, {'record': <Record: Inventory of Rubaldus Mallonii (Lopez ed.)>, 'credit': 'contributor'}, {'record': <Record: Dossier of Giovanni di Nardo da Prato (ASF MPAP 4)>, 'credit': 'contributor'}, {'record': <Record: Inventory of Julianus condam Petri Arimundi (ASB UdI 25)>, 'credit': 'contributor'}, {'record': <Record: Inventory of Jacobus Stephani (ADBR 351E 19)>, 'credit': 'editor'}, {'record': <Record: Inventory of Johannes Raynaudi (ADBR 309 E 153ter)>, 'credit': 'editor'}, {'record': <Record: Inventory of Franciscus de Rocaforti (ADBR 355 E 87)>, 'credit': 'editor'}, {'record': <Record: Dossier of Giovanni di Feo (ASF MPAP 4)>, 'credit': 'contributor'}, {'record': <Record: Dossier of Buoso d’Agnolo di Buoso (ASF MPAP 4)>, 'credit': 'contributor'}, {'record': <Record: Dossier of Terrino Manovelli (ASF MPAP 4)>, 'credit': 'contributor'}, {'record': <Record: Inventory of the goods of Johannes Conte (AMM FF 21)>, 'credit': 'corrections'}, {'record': <Record: Dossier of Tuccio Lambertucci (ASF MPAP 4)>, 'credit': 'contributor'}, {'record': <Record: Inventory of Johannes, Bertholinus, and Thorius sive Restorius (ASB UdI 9)>, 'credit': 'contributor'}, {'record': <Record: Inventory of Richard de Blountesham (Riley ed.)>, 'credit': 'contributor'}, {'record': <Record: Inventory of Deulanancius (ASB UdI 2)>, 'credit': 'contributor'}, {'record': <Record: Dossier of Filippo Quartucci (ASF MPAP 4)>, 'credit': 'contributor'}, {'record': <Record: Inventory of Bertrandus Fulconis (ADBR 355E 309)>, 'credit': 'editor'}, {'record': <Record: Dossier of Tommaso di Zanobi Delloro (ASF MPAP 4)>, 'credit': 'contributor'}, {'record': <Record: Dossier of Simone di Ricciardo Baronicelli (ASF MPAP 4)>, 'credit': 'contributor'}, {'record': <Record: Inventory of Obertus Rataldi (Lopez ed.)>, 'credit': 'contributor'}, {'record': <Record: Dossier of Francescho di Pagolo (ASF MPAP 4)>, 'credit': 'contributor'}, {'record': <Record: Inventory for Obertus de Cruce (ASGe NAC 18/II)>, 'credit': 'editor'}, {'record': <Record: Inventory of Grimaldinus Bentivogli (ASB UdI 2)>, 'credit': 'contributor'}, {'record': <Record: Donation by Anthonius Auctor to his concubine Alasacia Raymbaude (ADBR 355 E 32)>, 'credit': 'editor'}, {'record': <Record: Inventory of the Almonry of the Fustarie (Pansier)>, 'credit': 'contributor'}, {'record': <Record: Inventory of Anthonius Mathey (ADBR 3B 125)>, 'credit': 'editor'}, {'record': <Record: Dossier of Luperello di Jacopo da San Miniato (ASF MPAP 4)>, 'credit': 'contributor'}, {'record': <Record: Inventory of Alaysseta, widow of Johannes Cabanis (AD Hérault 2 E 95/441)>, 'credit': 'contributor'}, {'record': <Record: Inventory of Siguefredus corrigiarius (Lopez ed.)>, 'credit': 'contributor'}, {'record': <Record: Inventory of Johannes Saramanni (ADBR 351E 183)>, 'credit': 'editor'}, {'record': <Record: Dossier of Ugo Vecchiecti (ASF MPAP 4)>, 'credit': 'contributor'}, {'record': <Record: Dossier of Antonio di Giovanni Galigaio (ASF MPAP 4)>, 'credit': 'contributor'}, {'record': <Record: Inventory of Anthonius Johannis (ADBR 351E 185)>, 'credit': 'editor'}, {'record': <Record: Inventory of Ghibertus condam Zanis Neoli (ASB UdI 5)>, 'credit': 'contributor'}, {'record': <Record: Inventory B of Johannes de Podio (AD Aveyron C 1080)>, 'credit': 'contributor'}, {'record': <Record: Inventory of Foisi Basin (Pansier)>, 'credit': 'contributor'}, {'record': <Record: Inventory of Petrus Tapani (ADBR 351E 17)>, 'credit': 'editor'}, {'record': <Record: Inventory of Honoratus de Balme (ADBR 351E 183)>, 'credit': 'editor'}, {'record': <Record: Dossier of Francescho di Berto (ASF MPAP 4)>, 'credit': 'contributor'}, {'record': <Record: Inventory of Iacobus de Consule (Gabotto ed.)>, 'credit': 'contributor'}, {'record': <Record: Inventory of Miquallet Gafuelli (Pansier)>, 'credit': 'contributor'}, {'record': <Record: Inventory of Dondinus speciarius (ASGe NAC 68/I)>, 'credit': 'contributor'}, {'record': <Record: Inventory of Bertrandus Marini (AMM FF 501)>, 'credit': 'editor'}, {'record': <Record: Inventory of Laureta de Rabesio (ADBR 3B 145)>, 'credit': 'editor'}, {'record': <Record: Inventory of Perina, widow of Pinus de Consule (Gabotto ed.)>, 'credit': 'contributor'}, {'record': <Record: Inventory of Jacobus Rogerii (AMM FF 1009)>, 'credit': 'editor'}, {'record': <Record: Inventory of Jacobus de Menas (ADBR 351E 245)>, 'credit': 'editor'}, {'record': <Record: Inventory of Gerald Gener (AHPB 56/79)>, 'credit': 'editor'}, {'record': <Record: Inventory of Rixendis Blanchana (AMM FF 501)>, 'credit': 'editor'}, {'record': <Record: Dossier of Antonio di Lapino da Chastella (MPAP 152)>, 'credit': 'contributor'}, {'record': <Record: Inventory of Catarina Cabesse (Pansier)>, 'credit': 'contributor'}, {'record': <Record: Inventory of Abram Marracho (Gabotto ed.)>, 'credit': 'contributor'}, {'record': <Record: Inventory of Petrus Rostagni (ADBR 351E 95)>, 'credit': 'editor'}, {'record': <Record: Dossier of Piero e Bartolomeo di Ligi (ASF MPAP 4)>, 'credit': 'contributor'}, {'record': <Record: Inventory of Rixendis Terrusse (ADBR 355E 302)>, 'credit': 'editor'}, {'record': <Record: Dossier of Tomaso di Firenze (ASF MPAP 4)>, 'credit': 'contributor'}, {'record': <Record: Inventory of goods of Catherina, widow of Bernard Dissendies (AD Hérault 2 E 95/441)>, 'credit': 'corrections'}, {'record': <Record: Inventory of Nicolosus Nepitelle (Lopez ed.)>, 'credit': 'contributor'}, {'record': <Record: Inventory of Astrug de Aubenas and his wife Genseta (ADBR 3B 79)>, 'credit': 'contributor'}, {'record': <Record: Dossier of Jacopo del Rosso Stefani (ASF MPAP 4)>, 'credit': 'contributor'}, {'record': <Record: Inventory of Agnes Moshole (TNA PROB 2/71)>, 'credit': 'contributor'}, {'record': <Record: Dowry of Narbona wife of Mosse (ADBR 355E 84)>, 'credit': 'contributor'}, {'record': <Record: Inventory of Anthonius Boneti (AMM FF 1009)>, 'credit': 'editor'}, {'record': <Record: Inventory of Hugo Rostagni (AMM 2 II 292)>, 'credit': 'editor'}, {'record': <Record: Inventory of Bonafossius Boneti of Lunello (AMM 1 II 44)>, 'credit': 'editor'}, {'record': <Record: Inventory of Raymundus Boniparis (ADBR 351 E 20)>, 'credit': 'editor'}, {'record': <Record: Rental of house and contents by Guillelmus Dalmacii (ADBR 351E 208)>, 'credit': 'editor'}, {'record': <Record: Inventory of Obertus Rafini de Cruce (Lopez ed.)>, 'credit': 'contributor'}, {'record': <Record: Inventory of Lazarus Spinelli (AMM FF 1009)>, 'credit': 'editor'}, {'record': <Record: Inventory of Benedictus de Tortosa (AMM 1 II 44)>, 'credit': 'editor'}, {'record': <Record: Inventory of the shop of Batrona Maurella (ADBR 351E 241)>, 'credit': 'contributor'}, {'record': <Record: Auction of the goods of Guillelmus Gayrardi (ADBR 3B 150)>, 'credit': 'editor'}, {'record': <Record: Dossier of Andrea di Francescho, linaiuolo (ASF MPAP 4)>, 'credit': 'contributor'}, {'record': <Record: Inventory of Guillelmus Ancelmi (AMM 1 II 25)>, 'credit': 'editor'}, {'record': <Record: Inventory of Johannes Marquis of Gavi (Lopez ed.)>, 'credit': 'contributor'}, {'record': <Record: Goods consigned to Salamonetus Boneti and to Regina wife of Cregutus Profachi (ADBR 3B 150)>, 'credit': 'editor'}, {'record': <Record: Inventory of Mayer, son of Joseph Astrug (ADBR 3B 46)>, 'credit': 'editor'}, {'record': <Record: Inventory of Bertholinus Millomeni (ASGe NAC 45/01)>, 'credit': 'editor'}, {'record': <Record: Guardianship for Rostagne Bartilese and her son Guillelmus Baille (AMM 2 II 217)>, 'credit': 'editor'}, {'record': <Record: Inventory of Dulcia de Monteolivo (ADBR 5G 775)>, 'credit': 'editor'}, {'record': <Record: Inventory of the shop of Jehan Berard (Pansier)>, 'credit': 'contributor'}, {'record': <Record: Inventory of Guillelmus Egidii (AMM 1 II 58)>, 'credit': 'editor'}, {'record': <Record: Inventory of Hugo Augerii (AMM 2 II 460)>, 'credit': 'editor'}, {'record': <Record: Inventory of Peyretus Peytamini (ADBR 355E 51)>, 'credit': 'editor'}, {'record': <Record: Inventory for Paschalinus filius quondam Feniculi (ASGe NAC 45/02)>, 'credit': 'editor'}, {'record': <Record: Inventory of Johannes Marini (AMM 1 II 24)>, 'credit': 'editor'}, {'record': <Record: Dossier of Paolo di Lucha Razzanti (ASF MPAP 4)>, 'credit': 'contributor'}, {'record': <Record: Dossier of Vese Magalocti (ASF MPAP 4)>, 'credit': 'contributor'}, {'record': <Record: Dossier of Serotino di Salvestro Branchacci (ASF MPAP 4)>, 'credit': 'contributor'}, {'record': <Record: Auction of the goods of Catherina Lumbarde (AMM FF 591)>, 'credit': 'editor'}, {'record': <Record: Inventory of Isnardus Raymbaudi (AMM FF 1009)>, 'credit': 'editor'}, {'record': <Record: Dowry of Anthoneta Robaude (ADBR 351E 79)>, 'credit': 'editor'}, {'record': <Record: List of armor sent for repair (Pansier)>, 'credit': 'contributor'}, {'record': <Record: Inventory of Julianus cui dicitur Picardus condam domini Albertucii (ASB UdI 15)>, 'credit': 'contributor'}, {'record': <Record: Inventory of Church of Sainte-Cécile extra muros (ADBR 351E 98)>, 'credit': 'editor'}, {'record': <Record: Guardianship for Huguetus Bonacrucis (AMM 2 II 273)>, 'credit': 'editor'}, {'record': <Record: Inventory of Johannes Pico (ADBR 351E 171)>, 'credit': 'editor'}, {'record': <Record: Inventory of Franciscus Moguerii (AMM FF 1009)>, 'credit': 'editor'}, {'record': <Record: Auction of miscellaneous goods (ADBR 3B 144)>, 'credit': 'editor'}, {'record': <Record: Inventory of Victor de Massello (AMM FF 1009)>, 'credit': 'editor'}, {'record': <Record: Inventory of a rental house (355 E 33)>, 'credit': 'editor'}, {'record': <Record: Inventory of Petrus Baboti (ADBR 351E 95)>, 'credit': 'editor'}, {'record': <Record: Inventory of Alaseta Briansone (ADBR 392E 1)>, 'credit': 'editor'}, {'record': <Record: Succession of Raymundus Viridis (AMM 1 II 50)>, 'credit': 'editor'}, {'record': <Record: Inventory of Raymundus de Balma (ADBR 351E 18)>, 'credit': 'editor'}, {'record': <Record: Inventory of Vivaudus de Jerusalem (AMM 1 II 44)>, 'credit': 'editor'}, {'record': <Record: Inventory of Antonius Bermundi, vintner (ADBR 3B 144)>, 'credit': 'editor'}, {'record': <Record: Inventory of Nicoleta de Pallo (Lopez ed.)>, 'credit': 'contributor'}, {'record': <Record: Inventory of Petrus Fresquerie (AMM FF 1009)>, 'credit': 'editor'}, {'record': <Record: Dossier of Allexandro dell'Antella (ASF MPAP 4)>, 'credit': 'contributor'}, {'record': <Record: Inventory of Jacobus Jugueti (AMM 1 II 44)>, 'credit': 'editor'}, {'record': <Record: Inventory of Gabriellus de Nantis (ADBR 351E 169)>, 'credit': 'editor'}, {'record': <Record: Inventory of a candlemaker (Pansier)>, 'credit': 'contributor'}, {'record': <Record: Inventory of Guido condam Petroboni (ASB UdI 5)>, 'credit': 'contributor'}, {'record': <Record: Inventory of Gerardus Jacobini (ASB UdI 7)>, 'credit': 'contributor'}, {'record': <Record: Dossier of Piero di Giovanni del Dolce de Pazzi (ASF MPAP 4)>, 'credit': 'contributor'}, {'record': <Record: Inventory of Johannes Martini (ADBR 351E 239)>, 'credit': 'editor'}, {'record': <Record: Inventory of the fulling mill at l'Isle-sur-la-Sorgue (Pansier)>, 'credit': 'contributor'}, {'record': <Record: Inventory of Bernardus Garnerii (ADBR 4HD B 70)>, 'credit': 'editor'}, {'record': <Record: Inventory of Boniachobus Artuçii (AS Bologna UdI 9)>, 'credit': 'contributor'}, {'record': <Record: Inventory of Petrus Garini (ADBR 351E 183)>, 'credit': 'editor'}, {'record': <Record: Inventory of Gerardinus Caxarii and his son Bonandus (ASB UdI 15)>, 'credit': 'contributor'}, {'record': <Record: Inventory of Laura Aronine (ADBR 351E 18)>, 'credit': 'editor'}, {'record': <Record: Inventory of the priest Guillelmus Valencie (ADBR 5G 775)>, 'credit': 'editor'}, {'record': <Record: Division of the estate of Anthoni Gues (Pansier)>, 'credit': 'contributor'}, {'record': <Record: Division of the Estate of Álvaro Mendes de Vasconcelos (CEH - UNL 582, maço 5, n.º 9)>, 'credit': 'contributor'}, {'record': <Record: Inventory of Johannes Jacobi (ASB UdI 15)>, 'credit': 'contributor'}, {'record': <Record: Inventory of Biatrix Martina (ADBR 351E 222)>, 'credit': 'editor'}, {'record': <Record: Dossier of Miglore, funaiuolo (ASF MPAP 4)>, 'credit': 'contributor'}, {'record': <Record: Inventory of Junctinus condam Bonitucchori (AS Lucca AN I/154)>, 'credit': 'editor'}, {'record': <Record: Inventory of Enricus Palmanayre (ADBR 355E 1)>, 'credit': 'editor'}, {'record': <Record: Inventory of Astrug Mosse (ADBR 3B 128)>, 'credit': 'editor'}, {'record': <Record: Inventory of Petrus Ferrari (AHPB 56/79)>, 'credit': 'editor'}, {'record': <Record: List of objects associated with Guillelmus de Floreto sacristan (AMM 1 II 21)>, 'credit': 'editor'}, {'record': <Record: Inventory of Bartholomeus Egidii (ADBR 3B 62)>, 'credit': 'editor'}, {'record': <Record: Inventory of Simon Augerii (AMM 1 II 61)>, 'credit': 'editor'}, {'record': <Record: Inventory of Salvetus de Berra (ADBR B 1462)>, 'credit': 'editor'}, {'record': <Record: Inventory B of Gaubert de Trebessac (AD Aveyron C 1079)>, 'credit': 'contributor'}, {'record': <Record: List of objects of Hugo de Sancta Maria (AM FF 532)>, 'credit': 'editor'}, {'record': <Record: Inventory of Nicholaus Stornelli (AMM 4 II 28)>, 'credit': 'editor'}, {'record': <Record: Dossier of Guilglelmo di Rinbalduccio (ASF MPAP 4)>, 'credit': 'contributor'}, {'record': <Record: Inventory of Johannes Isnardi de Sex Furnis (AMM FF 1009)>, 'credit': 'editor'}, {'record': <Record: Inventory of Bernardinus condam Zagni (ASB UdI 7)>, 'credit': 'contributor'}, {'record': <Record: Inventory of Johannes Marini (ADBR 351E 152)>, 'credit': 'editor'}, {'record': <Record: Inventory of Petrus Castanee (ADBR 355E 1)>, 'credit': 'editor'}, {'record': <Record: Inventory of Philippus Lamberti (ADBR 355E 48)>, 'credit': 'editor'}, {'record': <Record: Inventory of Antonius Bermundi, urban peasant(ADBR 3B 135)>, 'credit': 'editor'}, {'record': <Record: Inventory of the Sacristy of Accoules (ADBR 351E 98)>, 'credit': 'editor'}, {'record': <Record: Inventory of Catharina Bollegone (ADBR 351E 179)>, 'credit': 'editor'}, {'record': <Record: Inventory of Allays Gasc (AMM 1 II 18)>, 'credit': 'editor'}, {'record': <Record: Dossier of Giovanni Ditano del Brancho (ASF MPAP 4)>, 'credit': 'contributor'}, {'record': <Record: Dossier of Guccio di Francescho, spetiale (ASF MPAP 4)>, 'credit': 'contributor'}, {'record': <Record: Inventory of Arnulphus de Parisius (ADBR 351E 95)>, 'credit': 'editor'}, {'record': <Record: Inventory of Jacobus de Landa (AMM FF 1009)>, 'credit': 'editor'}, {'record': <Record: Inventory of the goods of Johanneta Aymara (ADBR 351E 208)>, 'credit': 'editor'}, {'record': <Record: Inventory of Gabrioçus (ASB UdI 3)>, 'credit': 'contributor'}, {'record': <Record: Inventory of Alemant de Pas (Pansier)>, 'credit': 'contributor'}, {'record': <Record: Inventory of Crescas Rogeti (ADBR 3B 128)>, 'credit': 'editor'}, {'record': None, 'credit': 'editor'}, {'record': <Record: Inventory of Poncius Barbessaure (ADBR 355E 309)>, 'credit': 'editor'}, {'record': <Record: Inventory of Johannes Martini, fisherman (ADBR 3 B 845)>, 'credit': 'editor'}, {'record': <Record: Inventory of Catherina Flote (ADBR 351E 20)>, 'credit': 'editor'}, {'record': <Record: Inventory of Abra and Doneta Boniaqui (ADBR 309 E 153ter)>, 'credit': 'editor'}, {'record': <Record: Inventory of Dominiçus de Stepanis (ASB UdI 9)>, 'credit': 'contributor'}, {'record': <Record: Inventory of Guido domini Caçanimici Alberti Ursi de Caçanimicis (ASB UdI 28)>, 'credit': 'contributor'}, {'record': <Record: Inventory of Rixendis Calverie (ADBR 351E 240)>, 'credit': 'editor'}, {'record': <Record: Dossier of Bartolomeo di Francescho Boscoli (ASF MPAP 4)>, 'credit': 'contributor'}, {'record': <Record: Dossier of Bono di Taddeo Strada (ASF MPAP 4)>, 'credit': 'contributor'}, {'record': <Record: Inventory of Narratus (ADBR 351E 152)>, 'credit': 'editor'}, {'record': <Record: Dossier of Messer Meo de Chocchi (ASF MPAP 4)>, 'credit': 'contributor'}, {'record': <Record: Restitution of pawned goods (AMM 1 II 50)>, 'credit': 'editor'}, {'record': <Record: Dossier of Ormanno del Nero (ASF MPAP 4)>, 'credit': 'contributor'}, {'record': <Record: Inventory of Petrus Saturnini (ADBR 351E 133)>, 'credit': 'editor'}, {'record': <Record: Inventory of Plantalion de Molni (ADBR 309 E 153ter)>, 'credit': 'editor'}, {'record': <Record: Inventory of Franciscus de Serralonga (ADBR 355E 1)>, 'credit': 'editor'}, {'record': <Record: Inventory of John Mayho (TNA PROB 2/97)>, 'credit': 'contributor'}, {'record': <Record: Auction of Rixendis Cambale (ADBR 355E 309)>, 'credit': 'editor'}, {'record': <Record: Inventory of Gauterius Duranti (AMM 1 II 21)>, 'credit': 'editor'}, {'record': <Record: Dossier of Giovanni di Bonino (ASF MPAP 4)>, 'credit': 'contributor'}, {'record': <Record: Inventory of Bertrandus Pauli (AMM 1 II 44)>, 'credit': 'editor'}, {'record': <Record: Inventory of Guillelmus Broquerii (AMM 1 II 23)>, 'credit': 'editor'}, {'record': <Record: Inventory of the castle of Solliès (ADBR B 593)>, 'credit': 'corrections'}, {'record': <Record: Inventory of Antonius Purchellu (Gabotto ed.)>, 'credit': 'contributor'}, {'record': <Record: Inventory of Raymundus Santolhi (ADBR 351E 210)>, 'credit': 'editor'}, {'record': <Record: Inventory of Garsendis Laurencie (ADBR 351E 191)>, 'credit': 'editor'}, {'record': <Record: Codicil of Laureta de Rabesio (ADBR 392E 3)>, 'credit': 'editor'}, {'record': <Record: Dossier of ser Bruno di ser Piero di ser Guiso (ASF MPAP 4)>, 'credit': 'contributor'}, {'record': <Record: Dossier of Brancha di Stefano (ASF MPAP 4)>, 'credit': 'contributor'}, {'record': <Record: Liquidation of guardianship for Huguetus Bonacrucis (AMM 2 II 274)>, 'credit': 'editor'}, {'record': <Record: Inventory of the goods and chattels of Richard Toky (Thomas ed.)>, 'credit': 'contributor'}, {'record': <Record: Dossier of Francescho di Piero di Noldo Gherardini (ASF MPAP 4)>, 'credit': 'contributor'}, {'record': <Record: Inventory of Hugo Boerii (ADBR 351E 17)>, 'credit': 'editor'}, {'record': <Record: Inventory of Rixendis Cambale (ADBR 355E 309)>, 'credit': 'editor'}, {'record': <Record: Inventory of Colratus Cavallerii (AMM 1 II 21)>, 'credit': 'editor'}, {'record': <Record: Inventory of Guillelmus Floca (AMM 1 II 25)>, 'credit': 'editor'}, {'record': <Record: Inventory of domina Mabilia (AMM 1 II 18)>, 'credit': 'editor'}, {'record': <Record: Inventory of Raymundus de Buco (ADBR 355E 309)>, 'credit': 'editor'}, {'record': None, 'credit': 'editor'}, {'record': <Record: Dossier of Bartolo di Ricciardo (ASF MPAP 4)>, 'credit': 'contributor'}, {'record': <Record: Inventory of the priest Raymundus Adsami (AMM FF 1009)>, 'credit': 'editor'}, {'record': <Record: Inventory of Guillem Coll>, 'credit': 'contributor'}, {'record': <Record: Dossier of Renzo Salterelli (ASF MPAP 4)>, 'credit': 'contributor'}, {'record': <Record: Inventory of Huguetus de Curtibus (ADBR 3B 128)>, 'credit': 'editor'}, {'record': <Record: Inventory of the Church of Pennes (ADBR 351E 88)>, 'credit': 'editor'}, {'record': <Record: Payment in kind by Franciscus de Cazalis (ADBR 351 E 148)>, 'credit': 'editor'}, {'record': <Record: Inventory of Guillelmus Stephani (ADBR 351E 20)>, 'credit': 'editor'}, {'record': <Record: Inventory of Johannes Bermundi (ADBR 3B 61)>, 'credit': 'editor'}, {'record': <Record: Dossier of Miniato di Piero Speziale (ASF MPAP 4)>, 'credit': 'contributor'}, {'record': <Record: Inventory of Sileta Lhautaude (ADBR 351E 211)>, 'credit': 'editor'}, {'record': <Record: Inventory of Bertrana Caparrone (ADBR 351E 156)>, 'credit': 'editor'}, {'record': <Record: Inventory of Ugona Rebolla (ADBR 351E 203)>, 'credit': 'editor'}, {'record': <Record: Inventory of Johannes de Bui or Macipetus Maurelli (ADBR 351E 152)>, 'credit': 'editor'}, {'record': <Record: Auction of goods of Antoneta Bonivine (ADBR 351E 172)>, 'credit': 'editor'}, {'record': <Record: Inventory of Johannes Martini, peasant (ADBR 355E 11)>, 'credit': 'editor'}, {'record': <Record: Dossier of Bartolomeo di Lazzaro (ASF MPAP 4)>, 'credit': 'contributor'}, {'record': <Record: Inventory of Bertrandus Tornatoris (AMM FF 1009)>, 'credit': 'editor'}, {'record': <Record: Inventory of Franciscus condam Guillelmi Çoppi (ASB UdI 12)>, 'credit': 'contributor'}, {'record': <Record: Inventory of Guillelmus Fayssati (ADBR 351E 98)>, 'credit': 'editor'}, {'record': <Record: Inventory of Bermona Ruffa (AMM 1 II 44)>, 'credit': 'editor'}, {'record': <Record: Inventory of Martinus Milherie (ADBR 351E 203)>, 'credit': 'editor'}, {'record': <Record: Inventory of Balduinus de Guarta (Lopez ed.)>, 'credit': 'contributor'}, {'record': <Record: Inventory of Johannes Johannis (ADBR 351E 17)>, 'credit': 'editor'}, {'record': <Record: Inventory of goods borrowed by Vengues de Montiliis (ADBR 355 E 67)>, 'credit': 'editor'}, {'record': <Record: Dossier of Tommeo Balduccii (ASF MPAP 4)>, 'credit': 'contributor'}, {'record': <Record: Inventory of Pellegrinus (ADBR 351E 79)>, 'credit': 'editor'}, {'record': <Record: Inventory of Ricardus Jullani (AMM FF 501)>, 'credit': 'corrections'}, {'record': <Record: Inventory of Guillelma Ginhaque (ADBR 3B 41)>, 'credit': 'editor'}, {'record': <Record: Inventory of Petrus Audeberti (AMM 2 II 11)>, 'credit': 'editor'}, {'record': <Record: Inventory of Johannes Molnerii (ADBR 351E 252)>, 'credit': 'editor'}, {'record': <Record: Inventory of Philipponus Colini (ADBR 5G 771)>, 'credit': 'editor'}, {'record': <Record: Inventory of Marinus de Berra (AMM FF 1009)>, 'credit': 'editor'}, {'record': <Record: Inventory of Dondinus spetiarius (Lopez ed.)>, 'credit': 'contributor'}, {'record': <Record: Inventory of Johannes Casse (AMM 3 II 40)>, 'credit': 'editor'}, {'record': <Record: Testament of Laurencius Vassalli (ADBR 392E 3)>, 'credit': 'editor'}, {'record': <Record: Inventory of Guillelmus Gasanhi and Stevenetus Gasanhi (ADBR 351E 216)>, 'credit': 'editor'}, {'record': <Record: Inventory of Petrus Ferraudi (ADBR 355E 309)>, 'credit': 'editor'}, {'record': <Record: Inventory of Petrus Duranti (AMM 1 II 24)>, 'credit': 'editor'}, {'record': <Record: Inventory of the wife of Joan Filhet (Pansier)>, 'credit': 'contributor'}, {'record': <Record: Inventory of Johanes Roberti (ADBR 3B 128)>, 'credit': 'editor'}, {'record': <Record: Inventory of Jacobus Trelhe (ADBR 355E 309)>, 'credit': 'editor'}, {'record': <Record: Inventory of Ambrosius scriba (Lopez ed.)>, 'credit': 'contributor'}, {'record': <Record: Inventory of Compratus Botarelli (ADBR 309 E 153ter)>, 'credit': 'editor'}, {'record': <Record: Inventory of Bonfiglolus Canbii (ASB UdI 15)>, 'credit': 'contributor'}, {'record': <Record: Inventory of Johannes Astorni (AMM 1 II 25)>, 'credit': 'editor'}, {'record': <Record: Inventory of Armannus pelliparius (Vitale ed.)>, 'credit': 'contributor'}, {'record': <Record: Dossier of Stefano di Francescho vocato Pancecta (ASF MPAP 4)>, 'credit': 'contributor'}, {'record': <Record: Inventory of Johannes Arnaudi (ADBR 355E 1)>, 'credit': 'editor'}, {'record': <Record: Inventory of Guilhem Cocorde (Pansier)>, 'credit': 'contributor'}, {'record': <Record: Inventory of Monnetus Gurani (ADBR 351E 169)>, 'credit': 'editor'}, {'record': <Record: Inventory of Jacobus de Bargalio (Lopez ed.)>, 'credit': 'contributor'}, {'record': <Record: Dossier of Gian Berniche (ASF MPAP 4)>, 'credit': 'contributor'}, {'record': <Record: Inventory of Sibilia Peyrone (ADBR 351E 133)>, 'credit': 'editor'}, {'record': <Record: Inventory of Cregutus de Gart (AMM FF 567)>, 'credit': 'editor'}, {'record': <Record: Inventory of Marquesius de Favacio (ADBR 3 HD H 12, pièce 7)>, 'credit': 'editor'}, {'record': <Record: List of objects of Johannes de Berra (AMM 1 II 7)>, 'credit': 'editor'}, {'record': <Record: Dossier of Bartolomeo di messer Tassino da Fegghine (ASF MPAP 4)>, 'credit': 'contributor'}, {'record': <Record: Dossier of Christofano di Francescho Quaratesi (ASF MPAP 4)>, 'credit': 'contributor'}, {'record': <Record: Inventory of Johannes de Balma (ADBR 351E 20)>, 'credit': 'editor'}, {'record': <Record: Inventory of Poncius de Cannivete (AMM 1 II 18)>, 'credit': 'editor'}, {'record': <Record: Inventory of Raymundus Cabrerii (ADBR 3B 41)>, 'credit': 'editor'}, {'record': <Record: Inventory of Nadala Raymunde (ADBR 351E 220)>, 'credit': 'editor'}, {'record': <Record: Inventory of Antonius Advocati (Lopez ed.)>, 'credit': 'contributor'}, {'record': <Record: Inventory of Beatrix Ruffe (ADBR 355E 309)>, 'credit': 'editor'}, {'record': <Record: Inventory of Guillelmus Ferrarii (AMM FF 501)>, 'credit': 'editor'}, {'record': <Record: Inventory of Jacobus de Langasco (Lopez ed.)>, 'credit': 'contributor'}, {'record': <Record: Donation of estate of Jacobus Salvage (ADBR 351E 73)>, 'credit': 'editor'}, {'record': <Record: Inventory of Bartholomeus de Brachiis (ADBR 3 B 155)>, 'credit': 'contributor'}, {'record': <Record: Inventory of Dulciana Dalbare (AMM FF 501)>, 'credit': 'editor'}, {'record': <Record: Testament of Sibinda Cuende (AMM 1 II 7)>, 'credit': 'editor'}, {'record': <Record: Inventory of Johannes Guiradini (ASB UdI 3)>, 'credit': 'contributor'}, {'record': <Record: Inventory A of Johannes de Podio (AD Aveyron C 1080)>, 'credit': 'contributor'}, {'record': <Record: Inventory of Antonius Bellipili (ADBR 355E 309)>, 'credit': 'editor'}, {'record': <Record: Inventory of Fulco Amati (ADBR 3B 32)>, 'credit': 'editor'}, {'record': <Record: Inventory of Guillelmus Bertrandi (ADBR 3B 145)>, 'credit': 'editor'}, {'record': <Record: Inventory of Johannes Ricavi (ADBR 355E 309)>, 'credit': 'editor'}, {'record': <Record: Dossier of Domenicho d'Andrea di Dante (ASF MPAP 4)>, 'credit': 'contributor'}, {'record': <Record: Inventory of Bertolomeus condam Bruni (ASB UdI 12)>, 'credit': 'contributor'}, {'record': <Record: Inventory of Guillelmus Vesini (ADBR 3B 145)>, 'credit': 'editor'}, {'record': <Record: Inventory of Berengarius Montanee (ADBR 392E 1)>, 'credit': 'editor'}, {'record': <Record: Dowry of Ayneseta Fabressa (ADBR 351E 137)>, 'credit': 'editor'}, {'record': <Record: Inventory of Francesco di Giusfredo Sembrini (AS Lucca AdN 109)>, 'credit': 'contributor'}, {'record': <Record: Inventory of Laurencius Vassalli (ADBR 3B 145)>, 'credit': 'editor'}, {'record': <Record: Inventory of Thomacius Blanquerii (ADBR 355E 1)>, 'credit': 'editor'}, {'record': <Record: Inventory of Johannes de Favacio (ADBR 3 HD H 8)>, 'credit': 'editor'}, {'record': <Record: Dossier of Papi di Benichase tintore (MPAP 152)>, 'credit': 'contributor'}, {'record': <Record: Inventory of Guillelmus Gaufridi (ADBR 351E 144)>, 'credit': 'editor'}, {'record': <Record: Inventory of Montolina de Monteolivo (AMM 1 II 18)>, 'credit': 'editor'}, {'record': <Record: Inventory of Nicolaus condam ser Urnicii (ASL AdN 1 158 V)>, 'credit': 'editor'}, {'record': <Record: Inventory of Hugueta Biarde (ADBR 355E 309)>, 'credit': 'editor'}, {'record': <Record: Inventory of Guillelmus condam Bonaventure (ASB UdI 2)>, 'credit': 'contributor'}, {'record': <Record: Inventory of Valentis cordoanerius (Lopez ed.)>, 'credit': 'contributor'}, {'record': <Record: Inventory of Berengarius de Bulbono (AMM 2 II 291)>, 'credit': 'editor'}, {'record': <Record: Inventory of Bernardus de Favacio (ADBR 3 HD H 8)>, 'credit': 'editor'}, {'record': <Record: Inventory of Andreas de Garda (ADBR 392E 1)>, 'credit': 'editor'}, {'record': <Record: Account book of Guillem Vial (Pansier)>, 'credit': 'contributor'}, {'record': <Record: Inventory of Marinus Bermundi (ADBR 351E 19)>, 'credit': 'editor'}, {'record': <Record: Inventory of Bertrandus de Serveriis (AMM 1 II 18)>, 'credit': 'editor'}, {'record': <Record: Inventory of Albertinus (ASB UdI 5)>, 'credit': 'contributor'}, {'record': <Record: Inventory of Martha Flote (ADBR 351E 17)>, 'credit': 'editor'}, {'record': <Record: Dossier of Deo di Vanni (ASF MPAP 4)>, 'credit': 'contributor'}, {'record': <Record: Inventory of Stephanus Civate (Blancard ed.)>, 'credit': 'contributor'}, {'record': <Record: Inventory of Guillelmus Raynaudi (AMM 1 II 23)>, 'credit': 'editor'}, {'record': <Record: Inventory of Jacobus de Jerusalem (ADBR 351E 87)>, 'credit': 'editor'}, {'record': <Record: Inventory of Johannes de Cavursio (Lopez ed.)>, 'credit': 'contributor'}, {'record': <Record: Dossier of Francescho Giraldi (ASF MPAP 4)>, 'credit': 'contributor'}, {'record': <Record: Inventory of Bartholomeus (AMM 1 II 21)>, 'credit': 'editor'}, {'record': <Record: Inventory of Jacobus Martini (ADBR 1 HD B 56, pièce 7)>, 'credit': 'editor'}, {'record': <Record: Inventory of Anthonius Robaudi (AMM FF 1009)>, 'credit': 'editor'}, {'record': <Record: Inventory of Honoratus Bavili (AMM FF 591)>, 'credit': 'editor'}, {'record': <Record: Inventory of Jacobus Fornerii (ADBR 3B 145)>, 'credit': 'editor'}, {'record': <Record: Auction of the goods of Bernart Jornet (Pansier)>, 'credit': 'contributor'}, {'record': <Record: Inventory of Petrus Johannis (AMM 1 II 18)>, 'credit': 'editor'}, {'record': <Record: Inventory of Fossa (ADBR 3B 150)>, 'credit': 'corrections'}, {'record': <Record: Inventory of Jacobus Albini (ADBR 3B 140)>, 'credit': 'editor'}, {'record': <Record: Inventory of Lambertus de Bruçono (Vitale ed.)>, 'credit': 'contributor'}, {'record': <Record: Dossier of Tommaso di Niccolo Malegonelle (ASF MPAP 4)>, 'credit': 'contributor'}, {'record': <Record: Inventory of Jacobus Raymbaudi (AMM 1 II 24)>, 'credit': 'editor'}, {'record': <Record: Inventory of Mosse Creguti (ADBR 3B 145)>, 'credit': 'editor'}, {'record': <Record: Inventory of Guillelmus Martini (AMM 1 II 27)>, 'credit': 'editor'}, {'record': <Record: Inventory of Hugo Michaelis (ADBR 351E 18)>, 'credit': 'editor'}, {'record': <Record: Inventory of Jacmeta de Apulea (ADBR 355E 309)>, 'credit': 'editor'}, {'record': <Record: Inventory of Petrus Melerii (AMM FF 1009)>, 'credit': 'editor'}, {'record': <Record: Inventory of Sanxia Raolina (ADBR 3B 38)>, 'credit': 'editor'}, {'record': <Record: Inventory of Sibinde Cuende (AMM 1 II 7)>, 'credit': 'editor'}, {'record': <Record: Inventory of Jacobus Hospitalerii (ADBR 355E 34)>, 'credit': 'editor'}, {'record': <Record: Inventory of Hugua (ADBR 351E 124)>, 'credit': 'editor'}, {'record': <Record: Inventory of Jacobus Iacobi (ADBR 351E 156)>, 'credit': 'editor'}, {'record': <Record: Inventory of Raymundus Clerici (ADBR 309 E 153ter)>, 'credit': 'editor'}, {'record': <Record: Inventory of Çacharias condam domini Urçorini (ASB UdI 2)>, 'credit': 'contributor'}, {'record': <Record: Inventory of Bertrandus de Vellancio (ADBR 351E 142)>, 'credit': 'editor'}, {'record': <Record: Testament of Hugo Boerii (ADBR 351E 17)>, 'credit': 'editor'}, {'record': <Record: Dossier of Piero di Lapo Moschardi (ASF MPAP 4)>, 'credit': 'contributor'}, {'record': <Record: Inventory of Antonius Stephani (ADBR 355E 309)>, 'credit': 'editor'}, {'record': <Record: Inventory of Hugo Gayele (ADBR 351E 18)>, 'credit': 'editor'}, {'record': <Record: Inventory of Jacobus Sialle (ADBR 3B 50)>, 'credit': 'editor'}, {'record': <Record: Inventory of Margarita Massaribas (ADBR 351E 95)>, 'credit': 'editor'}, {'record': <Record: Inventory of Poncius Gassini (ADBR 3B 57)>, 'credit': 'editor'}, {'record': <Record: Inventory of Jacobus condam domini Guiniçelli and Guidutius condam domini Guidonis (ASB UdI 7)>, 'credit': 'contributor'}, {'record': <Record: Inventory of the fortress of Allauch (ADBR 351 E 92)>, 'credit': 'editor'}, {'record': <Record: Inventory of the mills of Portail Brianson (Pansier)>, 'credit': 'contributor'}, {'record': <Record: Division of the estate of Nicola Embrone (Lopez ed.)>, 'credit': 'contributor'}, {'record': <Record: Inventory of Guillelmus Naulonqui (ADBR 381E 45ter)>, 'credit': 'editor'}, {'record': <Record: Testament of Berengarius de Bulbono (AMM 2 II 287)>, 'credit': 'editor'}, {'record': <Record: Inventory of Guillelmus Pichoni (ADBR 355E 1)>, 'credit': 'editor'}, {'record': <Record: Dossier of Bartolomeo di Ser Spinello da Castel Fiorentino (ASF MPAP 4)>, 'credit': 'contributor'}, {'record': <Record: Inventory of Raymundus Audeberti (AMM FF 501)>, 'credit': 'corrections'}, {'record': <Record: Inventory of the shop of Anneta (ADBR 351E 237)>, 'credit': 'editor'}, {'record': <Record: Inventory of Ramon de Sant Martí (Llabrés ed.)>, 'credit': 'contributor'}, {'record': <Record: Inventory of John Hexham (Trease and Hodson ed.)>, 'credit': 'contributor'}, {'record': <Record: Inventory of Arnaldus asterius (Lopez ed.)>, 'credit': 'contributor'}, {'record': <Record: Inventory of Augerius Bote (AMM 2 II 221)>, 'credit': 'editor'}, {'record': <Record: Inventory of the church of Isle-sur-la-Sorgue (Pansier)>, 'credit': 'contributor'}, {'record': <Record: Inventory of Johannes Bonerii (Crest)>, 'credit': 'editor'}, {'record': <Record: Inventory of Bartholomeus Jordani, pièce 5 (BnF NAL 1336)>, 'credit': 'editor'}, {'record': <Record: Inventory and other acts for Guillelmus Egidii (AMM 1 II 58)>, 'credit': 'editor'}, {'record': <Record: Inventory of a rental property of Monnetus Gantoli (AD Var 3 E 7/14)>, 'credit': 'corrections'}, {'record': <Record: Inventory of Catharina Raynauda (ADBR 351E 195)>, 'credit': 'editor'}, {'record': <Record: Sale of jewelry of Peire de Saze (Pansier)>, 'credit': 'contributor'}, {'record': <Record: Inventory of Nicolaus Franchi (AMM 1 II 44)>, 'credit': 'editor'}, {'record': <Record: Inventory of Enricus Maloucelli (Lopez ed.)>, 'credit': 'contributor'}, {'record': <Record: Inventory of Wilielmus de Castro (Lopez ed.)>, 'credit': 'contributor'}, {'record': <Record: Record of an auction (ADBR 3B 150)>, 'credit': 'editor'}, {'record': <Record: Inventory of Spinellus (ASB UdI 15)>, 'credit': 'contributor'}, {'record': <Record: Testament of Nicolaus Stornelli (AMM 4 II 44)>, 'credit': 'editor'}, {'record': <Record: Dossier of Jacopo di Bartolomeo Bombeni (ASF MPAP 4)>, 'credit': 'contributor'}, {'record': <Record: Inventory of Landus condam Onorati (ASL AdN 1 158 II)>, 'credit': 'editor'}, {'record': <Record: Inventory of Guillelmus de Cavallione (ADBR 3B 145)>, 'credit': 'editor'}, {'record': <Record: Dossier of Guido di Filippo Fagni (ASF MPAP 4)>, 'credit': 'contributor'}, {'record': <Record: Inventory of the mill of La Folie (Pansier)>, 'credit': 'contributor'}]\n"
     ]
    }
   ],
   "source": [
    "print(test)"
   ]
  },
  {
   "cell_type": "code",
   "execution_count": 7,
   "id": "4d460f2c",
   "metadata": {},
   "outputs": [
    {
     "name": "stdout",
     "output_type": "stream",
     "text": [
      "<QuerySet []>\n"
     ]
    }
   ],
   "source": [
    "from ida.models import User\n",
    "\n",
    "test = User.objects.get(pk=5)\n",
    "\n",
    "print(test.relationships_as_target.all())\n"
   ]
  },
  {
   "cell_type": "code",
   "execution_count": 5,
   "id": "8ce3b8a1",
   "metadata": {},
   "outputs": [
    {
     "data": {
      "text/plain": [
       "'Latin'"
      ]
     },
     "execution_count": 5,
     "metadata": {},
     "output_type": "execute_result"
    }
   ],
   "source": [
    "test.value.name"
   ]
  },
  {
   "cell_type": "code",
   "execution_count": 3,
   "id": "c74c585a",
   "metadata": {},
   "outputs": [
    {
     "name": "stdout",
     "output_type": "stream",
     "text": [
      "<QuerySet [(1, 'PI'), (2, 'Core'), (3, 'Contributor'), (4, 'Board')]>\n"
     ]
    }
   ],
   "source": [
    "with schema_context('dalme'):\n",
    "    from public.extensions.team.models import TeamRole\n",
    "    \n",
    "    print(TeamRole.objects.values_list('id', 'role'))\n"
   ]
  },
  {
   "cell_type": "code",
   "execution_count": 2,
   "id": "91a7949d",
   "metadata": {},
   "outputs": [
    {
     "ename": "FileNotFoundError",
     "evalue": "[Errno 2] No such file or directory: '/opt/web/www/media/dalme/dalme/original_images/header_about_Q9Bo9tC.jpg'",
     "output_type": "error",
     "traceback": [
      "\u001b[0;31m---------------------------------------------------------------------------\u001b[0m",
      "\u001b[0;31mFileNotFoundError\u001b[0m                         Traceback (most recent call last)",
      "Cell \u001b[0;32mIn[2], line 6\u001b[0m\n\u001b[1;32m      4\u001b[0m instance \u001b[38;5;241m=\u001b[39m BaseImage\u001b[38;5;241m.\u001b[39mobjects\u001b[38;5;241m.\u001b[39mfirst()\n\u001b[1;32m      5\u001b[0m new_path \u001b[38;5;241m=\u001b[39m \u001b[38;5;124mf\u001b[39m\u001b[38;5;124m'\u001b[39m\u001b[38;5;124mdalme/\u001b[39m\u001b[38;5;132;01m{\u001b[39;00minstance\u001b[38;5;241m.\u001b[39mfile\u001b[38;5;132;01m}\u001b[39;00m\u001b[38;5;124m'\u001b[39m\n\u001b[0;32m----> 6\u001b[0m \u001b[43minstance\u001b[49m\u001b[38;5;241;43m.\u001b[39;49m\u001b[43mfile\u001b[49m \u001b[38;5;241m=\u001b[39m new_path\n\u001b[1;32m      7\u001b[0m instance\u001b[38;5;241m.\u001b[39msave()\n",
      "File \u001b[0;32m/usr/local/lib/python3.11/site-packages/django/db/models/fields/files.py:379\u001b[0m, in \u001b[0;36mImageFileDescriptor.__set__\u001b[0;34m(self, instance, value)\u001b[0m\n\u001b[1;32m    369\u001b[0m \u001b[38;5;66;03m# To prevent recalculating image dimensions when we are instantiating\u001b[39;00m\n\u001b[1;32m    370\u001b[0m \u001b[38;5;66;03m# an object from the database (bug #11084), only update dimensions if\u001b[39;00m\n\u001b[1;32m    371\u001b[0m \u001b[38;5;66;03m# the field had a value before this assignment.  Since the default\u001b[39;00m\n\u001b[0;32m   (...)\u001b[0m\n\u001b[1;32m    376\u001b[0m \u001b[38;5;66;03m# Assignment happening outside of Model.__init__() will trigger the\u001b[39;00m\n\u001b[1;32m    377\u001b[0m \u001b[38;5;66;03m# update right here.\u001b[39;00m\n\u001b[1;32m    378\u001b[0m \u001b[38;5;28;01mif\u001b[39;00m previous_file \u001b[38;5;129;01mis\u001b[39;00m \u001b[38;5;129;01mnot\u001b[39;00m \u001b[38;5;28;01mNone\u001b[39;00m:\n\u001b[0;32m--> 379\u001b[0m     \u001b[38;5;28;43mself\u001b[39;49m\u001b[38;5;241;43m.\u001b[39;49m\u001b[43mfield\u001b[49m\u001b[38;5;241;43m.\u001b[39;49m\u001b[43mupdate_dimension_fields\u001b[49m\u001b[43m(\u001b[49m\u001b[43minstance\u001b[49m\u001b[43m,\u001b[49m\u001b[43m \u001b[49m\u001b[43mforce\u001b[49m\u001b[38;5;241;43m=\u001b[39;49m\u001b[38;5;28;43;01mTrue\u001b[39;49;00m\u001b[43m)\u001b[49m\n",
      "File \u001b[0;32m/usr/local/lib/python3.11/site-packages/django/db/models/fields/files.py:492\u001b[0m, in \u001b[0;36mImageField.update_dimension_fields\u001b[0;34m(self, instance, force, *args, **kwargs)\u001b[0m\n\u001b[1;32m    490\u001b[0m \u001b[38;5;66;03m# file should be an instance of ImageFieldFile or should be None.\u001b[39;00m\n\u001b[1;32m    491\u001b[0m \u001b[38;5;28;01mif\u001b[39;00m file:\n\u001b[0;32m--> 492\u001b[0m     width \u001b[38;5;241m=\u001b[39m \u001b[43mfile\u001b[49m\u001b[38;5;241;43m.\u001b[39;49m\u001b[43mwidth\u001b[49m\n\u001b[1;32m    493\u001b[0m     height \u001b[38;5;241m=\u001b[39m file\u001b[38;5;241m.\u001b[39mheight\n\u001b[1;32m    494\u001b[0m \u001b[38;5;28;01melse\u001b[39;00m:\n\u001b[1;32m    495\u001b[0m     \u001b[38;5;66;03m# No file, so clear dimensions fields.\u001b[39;00m\n",
      "File \u001b[0;32m/usr/local/lib/python3.11/site-packages/django/core/files/images.py:21\u001b[0m, in \u001b[0;36mImageFile.width\u001b[0;34m(self)\u001b[0m\n\u001b[1;32m     19\u001b[0m \u001b[38;5;129m@property\u001b[39m\n\u001b[1;32m     20\u001b[0m \u001b[38;5;28;01mdef\u001b[39;00m \u001b[38;5;21mwidth\u001b[39m(\u001b[38;5;28mself\u001b[39m):\n\u001b[0;32m---> 21\u001b[0m     \u001b[38;5;28;01mreturn\u001b[39;00m \u001b[38;5;28;43mself\u001b[39;49m\u001b[38;5;241;43m.\u001b[39;49m\u001b[43m_get_image_dimensions\u001b[49m\u001b[43m(\u001b[49m\u001b[43m)\u001b[49m[\u001b[38;5;241m0\u001b[39m]\n",
      "File \u001b[0;32m/usr/local/lib/python3.11/site-packages/wagtail/images/models.py:213\u001b[0m, in \u001b[0;36mWagtailImageFieldFile._get_image_dimensions\u001b[0;34m(self)\u001b[0m\n\u001b[1;32m    209\u001b[0m \u001b[38;5;250m\u001b[39m\u001b[38;5;124;03m\"\"\"\u001b[39;00m\n\u001b[1;32m    210\u001b[0m \u001b[38;5;124;03moverride _get_image_dimensions to call our own get_image_dimensions.\u001b[39;00m\n\u001b[1;32m    211\u001b[0m \u001b[38;5;124;03m\"\"\"\u001b[39;00m\n\u001b[1;32m    212\u001b[0m \u001b[38;5;28;01mif\u001b[39;00m \u001b[38;5;129;01mnot\u001b[39;00m \u001b[38;5;28mhasattr\u001b[39m(\u001b[38;5;28mself\u001b[39m, \u001b[38;5;124m\"\u001b[39m\u001b[38;5;124m_dimensions_cache\u001b[39m\u001b[38;5;124m\"\u001b[39m):\n\u001b[0;32m--> 213\u001b[0m     \u001b[38;5;28mself\u001b[39m\u001b[38;5;241m.\u001b[39m_dimensions_cache \u001b[38;5;241m=\u001b[39m \u001b[38;5;28;43mself\u001b[39;49m\u001b[38;5;241;43m.\u001b[39;49m\u001b[43mget_image_dimensions\u001b[49m\u001b[43m(\u001b[49m\u001b[43m)\u001b[49m\n\u001b[1;32m    214\u001b[0m \u001b[38;5;28;01mreturn\u001b[39;00m \u001b[38;5;28mself\u001b[39m\u001b[38;5;241m.\u001b[39m_dimensions_cache\n",
      "File \u001b[0;32m/usr/local/lib/python3.11/site-packages/wagtail/images/models.py:223\u001b[0m, in \u001b[0;36mWagtailImageFieldFile.get_image_dimensions\u001b[0;34m(self)\u001b[0m\n\u001b[1;32m    221\u001b[0m close \u001b[38;5;241m=\u001b[39m \u001b[38;5;28mself\u001b[39m\u001b[38;5;241m.\u001b[39mclosed\n\u001b[1;32m    222\u001b[0m \u001b[38;5;28;01mtry\u001b[39;00m:\n\u001b[0;32m--> 223\u001b[0m     \u001b[38;5;28;43mself\u001b[39;49m\u001b[38;5;241;43m.\u001b[39;49m\u001b[43mopen\u001b[49m\u001b[43m(\u001b[49m\u001b[43m)\u001b[49m\n\u001b[1;32m    224\u001b[0m     image \u001b[38;5;241m=\u001b[39m willow\u001b[38;5;241m.\u001b[39mImage\u001b[38;5;241m.\u001b[39mopen(\u001b[38;5;28mself\u001b[39m)\n\u001b[1;32m    225\u001b[0m     \u001b[38;5;28;01mreturn\u001b[39;00m image\u001b[38;5;241m.\u001b[39mget_size()\n",
      "File \u001b[0;32m/usr/local/lib/python3.11/site-packages/django/db/models/fields/files.py:79\u001b[0m, in \u001b[0;36mFieldFile.open\u001b[0;34m(self, mode)\u001b[0m\n\u001b[1;32m     77\u001b[0m \u001b[38;5;28mself\u001b[39m\u001b[38;5;241m.\u001b[39m_require_file()\n\u001b[1;32m     78\u001b[0m \u001b[38;5;28;01mif\u001b[39;00m \u001b[38;5;28mgetattr\u001b[39m(\u001b[38;5;28mself\u001b[39m, \u001b[38;5;124m\"\u001b[39m\u001b[38;5;124m_file\u001b[39m\u001b[38;5;124m\"\u001b[39m, \u001b[38;5;28;01mNone\u001b[39;00m) \u001b[38;5;129;01mis\u001b[39;00m \u001b[38;5;28;01mNone\u001b[39;00m:\n\u001b[0;32m---> 79\u001b[0m     \u001b[38;5;28mself\u001b[39m\u001b[38;5;241m.\u001b[39mfile \u001b[38;5;241m=\u001b[39m \u001b[38;5;28;43mself\u001b[39;49m\u001b[38;5;241;43m.\u001b[39;49m\u001b[43mstorage\u001b[49m\u001b[38;5;241;43m.\u001b[39;49m\u001b[43mopen\u001b[49m\u001b[43m(\u001b[49m\u001b[38;5;28;43mself\u001b[39;49m\u001b[38;5;241;43m.\u001b[39;49m\u001b[43mname\u001b[49m\u001b[43m,\u001b[49m\u001b[43m \u001b[49m\u001b[43mmode\u001b[49m\u001b[43m)\u001b[49m\n\u001b[1;32m     80\u001b[0m \u001b[38;5;28;01melse\u001b[39;00m:\n\u001b[1;32m     81\u001b[0m     \u001b[38;5;28mself\u001b[39m\u001b[38;5;241m.\u001b[39mfile\u001b[38;5;241m.\u001b[39mopen(mode)\n",
      "File \u001b[0;32m/usr/local/lib/python3.11/site-packages/django/core/files/storage/base.py:22\u001b[0m, in \u001b[0;36mStorage.open\u001b[0;34m(self, name, mode)\u001b[0m\n\u001b[1;32m     20\u001b[0m \u001b[38;5;28;01mdef\u001b[39;00m \u001b[38;5;21mopen\u001b[39m(\u001b[38;5;28mself\u001b[39m, name, mode\u001b[38;5;241m=\u001b[39m\u001b[38;5;124m\"\u001b[39m\u001b[38;5;124mrb\u001b[39m\u001b[38;5;124m\"\u001b[39m):\n\u001b[1;32m     21\u001b[0m \u001b[38;5;250m    \u001b[39m\u001b[38;5;124;03m\"\"\"Retrieve the specified file from storage.\"\"\"\u001b[39;00m\n\u001b[0;32m---> 22\u001b[0m     \u001b[38;5;28;01mreturn\u001b[39;00m \u001b[38;5;28;43mself\u001b[39;49m\u001b[38;5;241;43m.\u001b[39;49m\u001b[43m_open\u001b[49m\u001b[43m(\u001b[49m\u001b[43mname\u001b[49m\u001b[43m,\u001b[49m\u001b[43m \u001b[49m\u001b[43mmode\u001b[49m\u001b[43m)\u001b[49m\n",
      "File \u001b[0;32m/usr/local/lib/python3.11/site-packages/django/core/files/storage/filesystem.py:68\u001b[0m, in \u001b[0;36mFileSystemStorage._open\u001b[0;34m(self, name, mode)\u001b[0m\n\u001b[1;32m     67\u001b[0m \u001b[38;5;28;01mdef\u001b[39;00m \u001b[38;5;21m_open\u001b[39m(\u001b[38;5;28mself\u001b[39m, name, mode\u001b[38;5;241m=\u001b[39m\u001b[38;5;124m\"\u001b[39m\u001b[38;5;124mrb\u001b[39m\u001b[38;5;124m\"\u001b[39m):\n\u001b[0;32m---> 68\u001b[0m     \u001b[38;5;28;01mreturn\u001b[39;00m File(\u001b[38;5;28;43mopen\u001b[39;49m\u001b[43m(\u001b[49m\u001b[38;5;28;43mself\u001b[39;49m\u001b[38;5;241;43m.\u001b[39;49m\u001b[43mpath\u001b[49m\u001b[43m(\u001b[49m\u001b[43mname\u001b[49m\u001b[43m)\u001b[49m\u001b[43m,\u001b[49m\u001b[43m \u001b[49m\u001b[43mmode\u001b[49m\u001b[43m)\u001b[49m)\n",
      "\u001b[0;31mFileNotFoundError\u001b[0m: [Errno 2] No such file or directory: '/opt/web/www/media/dalme/dalme/original_images/header_about_Q9Bo9tC.jpg'"
     ]
    }
   ],
   "source": [
    "with schema_context('dalme'):\n",
    "    from public.extensions.images.models import BaseImage\n",
    "\n",
    "    instance = BaseImage.objects.first()\n",
    "    new_path = f'dalme/{instance.file}'\n",
    "    instance.file = new_path\n",
    "    instance.save()\n"
   ]
  },
  {
   "cell_type": "code",
   "execution_count": 6,
   "id": "ef81b3b3",
   "metadata": {},
   "outputs": [],
   "source": [
    "with connection.cursor() as cursor:\n",
    "    cursor.execute(f\"UPDATE dalme.publicimages_baseimage SET file = 'dalme/' || file;\")\n",
    "\n",
    "    \n",
    "    \n",
    "    \n",
    "    "
   ]
  },
  {
   "cell_type": "code",
   "execution_count": 18,
   "id": "cf3b9cb9",
   "metadata": {},
   "outputs": [],
   "source": [
    "with schema_context('dalme'):\n",
    "    from public.extensions.images.models import BaseImage\n",
    "    \n",
    "\n",
    "    image_obj = BaseImage.objects.first()\n",
    "#     with open(f'{settings.BASE_DIR}/www{settings.MEDIA_URL}{image_obj.file}', 'rb') as image_file:\n",
    "#         image = File(image_file)\n",
    "\n",
    "    gabe = User.objects.get(pk=1)\n",
    "    profile = gabe.wagtail_userprofile\n",
    "    profile.avatar.save(image_obj.title, File(io.BytesIO(image_obj.file.read())))\n",
    "    profile.save()\n",
    "\n",
    "\n",
    "\n"
   ]
  },
  {
   "cell_type": "code",
   "execution_count": 2,
   "id": "1ea5aa85",
   "metadata": {},
   "outputs": [
    {
     "name": "stdout",
     "output_type": "stream",
     "text": [
      "('Gabriel', 'Pizzorno', 'Gabriel H. Pizzorno')\n",
      "('Jeremy', 'Guillette', 'Jeremy Guillette')\n",
      "('Daniel Lord', 'Smail', 'Daniel Lord Smail')\n",
      "('Laura', 'Morreale', 'Laura K. Morreale')\n",
      "('Eric', 'Nemarich', 'Eric Nemarich')\n",
      "('Patrick', 'Meehan', 'Patrick Meehan')\n",
      "('Ryan', 'Low', 'Ryan Low')\n",
      "('Jules', 'Calvarin', 'Jules Calvarin')\n",
      "('Elena', 'Shadrina', 'Elena Shadrina')\n",
      "('Hari', 'Seldon', 'Hari Seldon')\n",
      "('Sama', 'Mammadova', 'Sama Mammadova')\n",
      "('Lise', 'Saussus', 'Lise Saussus')\n",
      "('Riccardo', 'Rao', 'Riccardo Rao')\n",
      "('Paolo', 'Buffo', 'Paolo Buffo')\n",
      "('Kathleen', 'Smail', 'Kathleen Smail')\n",
      "('Sarah', 'Hinds', 'Sarah Hinds')\n",
      "('Guilhem', 'Ferrand', 'Guilhem Ferrand')\n",
      "('Lucie', 'Laumonier', 'Lucie Laumonier')\n",
      "('Antonio', 'Belenguer González', 'Antonio Belenguer González')\n",
      "('Giuseppe', 'Seche', 'Giuseppe Seche')\n",
      "('Anne', 'Lester', 'Anne Lester')\n",
      "('Juan-Vicente', 'Garcia Marsilla', 'Juan-Vicente Garcia Marsilla')\n",
      "('Ilyes', 'Piccardo', 'Ilyes Piccardo')\n",
      "('Maryanne', 'Kowaleski', 'Maryanne Kowaleski')\n",
      "('Eloísa', 'Ramírez-Vaquero', 'Eloísa Ramírez-Vaquero')\n",
      "('Miguel', 'Aguiar', 'Miguel Aguiar')\n",
      "('George', 'Ruddyduck', 'George Ruddyduck')\n",
      "('Katherine', 'Baker', 'Katherine Baker')\n",
      "('Jean-Philippe', 'Bombay', 'Jean-Philippe Bombay')\n",
      "('Julie', 'De Groot', 'Julie De Groot')\n",
      "('Maurizio', \"d'Arcano Grattoni\", \"Maurizio d'Arcano Grattoni\")\n",
      "('Francesco', 'Fratta de Tomas', 'Francesco Fratta de Tomas')\n",
      "('Alessia', 'Meneghin', 'Alessia Meneghin')\n",
      "('James', 'Harrington', 'James Harrington')\n",
      "('Angela', 'Zhang', 'Angela Zhang')\n",
      "('Tom', 'Cohen', 'Tom Cohen')\n",
      "('Barry', 'Torch', 'Barry Torch')\n",
      "('Aaron', 'Miedema', 'Aaron Miedema')\n",
      "('Sarah', 'Wilk', 'Sarah Wilk')\n",
      "('Virginia', 'Grimaldi', 'Virginia Grimaldi')\n",
      "('Vanessa', 'McCarthy', 'Vanessa McCarthy')\n",
      "('Marco', 'Tomaszewski', 'Marco Tomaszewski')\n",
      "('Kari', 'North', 'Kari  North')\n",
      "('Lluis', 'Sales Fava', 'Lluis Sales Fava')\n",
      "('S.C.', 'Kaplan', 'S.C. Kaplan')\n",
      "('Sara', 'McDougall', 'Sara McDougall')\n",
      "('Caley', 'McCarthy', 'Caley McCarthy')\n",
      "('Kevin', 'Wang', 'Kevin Wang')\n",
      "('Lluís', 'To Figueras', 'Lluís To Figueras')\n",
      "('Elena', 'Brizio', 'Elena Brizio')\n",
      "('Hannah', 'Jones', 'Hannah Jones')\n",
      "('Jagoda', 'Marszałek', 'Jagoda Marszałek')\n",
      "('Friederike', 'Pfister', 'Friederike Pfister')\n",
      "('Philip', 'Muijtjens', 'Philip Muijtjens')\n",
      "('Michele', 'Wells', 'Michele Wells')\n",
      "('Ana Clarinda', 'Cardoso', 'Ana Clarinda Cardoso')\n",
      "('Carole', 'Mabboux', 'Carole Mabboux')\n",
      "('Andrea', 'Wenz', 'Andrea Wenz')\n",
      "('Nicola', 'Medda', 'Nicola Medda')\n",
      "('Sara', 'Abdelrazik', 'Sara Abdelrazik')\n",
      "('Heather', 'Ball', 'Heather Ball')\n",
      "('Xu', 'Li', 'Xu Li')\n",
      "('Lara', 'Howerton', 'Lara Howerton')\n",
      "('Iwona', 'Krawczyk', 'Iwona Krawczyk ')\n",
      "('David', 'Napolitano', 'David  Napolitano')\n",
      "('Brenda', 'Luies', 'Brenda Luies')\n",
      "('Tania', 'Kolarik', 'Tania Kolarik')\n",
      "('Romain', 'Saguer', 'Romain Saguer')\n",
      "('Steven', 'Bednarski', 'Steven Bednarski')\n",
      "('Gabriela', 'Signori', 'Gabriela Signori')\n",
      "('Louie', 'Escobar', 'Louie Escobar')\n",
      "('Isabella', 'Roselli', 'Isabella Roselli')\n",
      "('Mackenzie', 'Cooley', 'Mackenzie Cooley')\n",
      "('Pablo', 'Sanahuja', 'Pablo Sanahuja')\n",
      "('Intisar', 'Raab', 'Intisar Raab')\n",
      "('Ken', 'Mondschein', 'Ken Mondschein')\n",
      "('Andy', 'Chen', 'Andy Chen')\n",
      "('Cole', 'Crawford', 'Cole Crawford')\n",
      "('Celine', 'David', 'Celine David')\n",
      "('Annie', 'Kennedy', 'Annie Kennedy')\n",
      "('Naima', 'Akter', 'Naima Akter')\n",
      "('Stephan', 'Nicolussi-Köhler', 'Stephan Nicolussi-Köhler')\n",
      "('Tobias Karl', 'Pamer', 'Tobias Karl Pamer')\n",
      "('Claire', 'Allen', 'Claire Allen')\n",
      "('Fajr', 'Khan', 'Fajr Khan')\n",
      "('Charlotte', 'Nickerson', 'Charlotte Nickerson')\n",
      "('Daniel', 'Williman', 'Daniel Williman')\n",
      "('Karen', 'Corsano', 'Karen Corsano')\n",
      "('Emma', 'Tomlins', 'Emma Tomlins')\n",
      "('Lara', 'Barreira', 'Lara Barreira')\n",
      "('Andrew', 'Hohmann', 'Andrew Hohmann')\n",
      "('Anna-Stina', 'Hagglund', 'Anna-Stina Hagglund')\n",
      "('Hanna-Mari', 'Kupari', 'Hanna-Mari Kupari')\n",
      "('Inneke', 'Baatsen', 'Inneke Baatsen')\n",
      "('Alessia', 'Porcari', 'Alessia Porcari')\n",
      "('Laura', 'Campbell', 'Laura Campbell')\n",
      "('Cole', 'Wassiliew', 'Cole Wassiliew')\n",
      "('Simon', 'Le', 'Simon Le')\n",
      "('Lorenzo', 'Caravaggi', 'Lorenzo Caravaggi')\n",
      "('Bona', 'Lee', 'Bona Lee')\n",
      "('Grace', 'Conhagen', 'Grace Conhagen')\n",
      "('Mathis', 'Fourès', 'Mathis Fourès')\n"
     ]
    }
   ],
   "source": [
    "with schema_context('dalme'):\n",
    "    from ida.models import User\n",
    "    \n",
    "    names = []\n",
    "    for user in User.objects.all():\n",
    "        names.append((user.first_name, user.last_name, user.wagtail_userprofile.profile.full_name))\n",
    "\n",
    "    for name in names:\n",
    "        print(name)\n",
    "        "
   ]
  },
  {
   "cell_type": "code",
   "execution_count": 4,
   "id": "42928357",
   "metadata": {},
   "outputs": [
    {
     "name": "stdout",
     "output_type": "stream",
     "text": [
      "Daniel Lord Smail\n",
      "Gabriel H. Pizzorno\n",
      "Laura K. Morreale\n",
      "Claire Allen\n",
      "Juliette Calvarin\n",
      "Nathaniel Hay\n",
      "Ryan Low\n",
      "Sama Mammadova\n",
      "Patrick Meehan\n",
      "Eric Nemarich\n",
      "Pablo Sanahuja Ferrer\n",
      "Kevin Wang\n",
      "Miguel Aguiar\n",
      "Katherine Baker\n",
      "Antonio Belenguer González\n",
      "Paolo Buffo\n",
      "Guilhem Ferrand\n",
      "Sarah Hinds\n",
      "Lucie Laumonier\n",
      "Anne E. Lester\n",
      "Riccardo Rao\n",
      "Lise Saussus\n",
      "Giuseppe Seche\n",
      "Samuel Kline Cohn\n",
      "Juan Vicente García Marsilla\n",
      "Jeremy Goldberg\n",
      "Maryanne Kowaleski\n",
      "Rena Lauer\n",
      "Anne E. Lester\n",
      "Susan McDonough\n",
      "Lluís To Figueras\n",
      "Katherine Wilson\n",
      "Laurel Ann Wilson\n"
     ]
    }
   ],
   "source": [
    "from public.extensions.team.models import TeamMember\n",
    "\n",
    "names = []\n",
    "for user in TeamMember.objects.all():\n",
    "    names.append(user.name)\n",
    "\n",
    "for name in names:\n",
    "    print(name)\n",
    "        "
   ]
  },
  {
   "cell_type": "code",
   "execution_count": 10,
   "id": "51b170f1",
   "metadata": {},
   "outputs": [
    {
     "name": "stdout",
     "output_type": "stream",
     "text": [
      "avatar_images/avatar_3b489645-a35a-4ea8-b363-0a6e4cedfce3_pizzorno_small.jpg\n"
     ]
    }
   ],
   "source": [
    "with schema_context('dalme'):\n",
    "    from ida.models import User\n",
    "\n",
    "    test = User.objects.get(pk=1)\n",
    "\n",
    "    print(test.wagtail_userprofile.avatar)\n"
   ]
  },
  {
   "cell_type": "code",
   "execution_count": null,
   "id": "c3947d29",
   "metadata": {},
   "outputs": [],
   "source": []
  },
  {
   "cell_type": "code",
   "execution_count": 6,
   "id": "70e348be",
   "metadata": {},
   "outputs": [],
   "source": [
    "with schema_context('dalme'):\n",
    "    from wagtail.images import get_image_model\n",
    "\n",
    "    Image = get_image_model()\n",
    "\n",
    "    for image in Image.objects.all():\n",
    "        try:\n",
    "            if not image.has_focal_point():\n",
    "                image.set_focal_point(image.get_suggested_focal_point())\n",
    "                image.save()\n",
    "                image.get_rendition('fill-100x100')\n",
    "        except:\n",
    "            pass\n",
    "\n"
   ]
  },
  {
   "cell_type": "code",
   "execution_count": 8,
   "id": "6b19b829",
   "metadata": {},
   "outputs": [
    {
     "name": "stdout",
     "output_type": "stream",
     "text": [
      "original_images/bonafos_bonet_amm_1_ii_44_e3nVes7.jpg\n",
      "original_images/Bertrandus_Pauli_AMM_1_II_44.jpg\n",
      "original_images/2009CR3309.jpg\n",
      "original_images/coconut_goblet_photo.original_600pixel.png\n",
      "original_images/coconut_goblet_sketchfab_CmKJCfW.png\n",
      "original_images/Marseille_en_1575.jpg\n",
      "original_images/header_contact_ONpclQz.jpg\n",
      "original_images/header_documentation_0QC7p7H.jpg\n",
      "original_images/header_featured_essays_qsbqWyC.jpg\n",
      "original_images/header_featured_inventories_iV0M1qS.JPG\n",
      "original_images/header_featured_objects_m1WTc18.jpg\n",
      "original_images/header_features_wzEGfGt.jpg\n",
      "original_images/header_homepage_xgmLK1S.jpg\n",
      "original_images/header_marseille_maqsQrU.jpg\n",
      "original_images/header_people_G3Hbtw9.jpg\n",
      "original_images/header_privacy_5R8B1EO.jpg\n",
      "original_images/header_publications_tSN5VTT.jpg\n",
      "original_images/header_viewer_On6d8VY.jpg\n",
      "original_images/homepage_register_TwaeUAU.png\n",
      "original_images/illuminated_capital_nobg_esGkZ41.png\n",
      "original_images/logo_ACLS_black_Q3067Ws.png\n",
      "original_images/logo_ACLS_white_5yCfIN1.png\n",
      "original_images/logo_dalme_icon_48_2QY4QKz.png\n",
      "original_images/logo_dalme_icon_512_P8wngoB.png\n",
      "original_images/logo_dataverse_1_MG06W2A.png\n",
      "original_images/logo_github_wHJTaaQ.png\n",
      "original_images/logo_Harvard_FAS_black_lVHs3rp.png\n",
      "original_images/logo_Harvard_FAS_white_sBYhIcR.png\n",
      "original_images/logo_IAS_black_xAhlryb.png\n",
      "original_images/logo_SOHP_black_jQu9nFS.png\n",
      "original_images/Colored_woodcut_town_view_of_Florence.jpg\n",
      "original_images/Lucca_looking_north.jpg\n",
      "original_images/Left_lower_cannon_of_a_vambrace_1500.jpg\n",
      "original_images/Inventory_Feo_341r.jpg\n",
      "original_images/Inventory_Feo_341v.jpg\n",
      "original_images/Paris_BNF_NAL_1673f.94r.jpeg\n",
      "original_images/sama_mammadova.jpg\n",
      "original_images/LigiConcealment.jpg\n",
      "original_images/s200_paolo.buffo.jpg\n",
      "original_images/Susan_McDonough-2934-768x525.jpg\n",
      "original_images/Kowaleski.jpeg\n",
      "original_images/Screen_Shot_2020-09-06_at_12.56.26_PM.png\n",
      "original_images/Dan_2014.png\n",
      "original_images/Medieval-Bologna.jpg\n",
      "original_images/Jewish_households_main_image.2e16d0ba.fill-1000x350-c100.jpg\n",
      "original_images/Jewish_households_banner_cropped.jpg\n",
      "original_images/Morreale_Image.jpg\n",
      "original_images/Gabe.jpg\n",
      "original_images/ryan_low.jpg\n",
      "original_images/meehan.png\n",
      "original_images/nathaniel_hay.jpg\n",
      "original_images/Legal_Plunder_thumbnail.jpg\n",
      "original_images/Lise_Saussus.jpeg\n",
      "original_images/giuseppe.seche.jpg\n",
      "original_images/Amiens_header.jpg\n",
      "original_images/Juan-Vicente_Garcia_Marsilla.jpeg\n",
      "original_images/Sarah-Hinds.jpg\n",
      "original_images/s200_riccardo.rao.jpg\n",
      "original_images/P1000868_2.JPG\n",
      "original_images/Rena_Lauer.jpeg\n",
      "original_images/Cohn.jpg\n",
      "original_images/Douai.jpg\n",
      "original_images/Genova.JPG\n",
      "original_images/RS12409_PROB_2-97_John_Mayho_3.jpg\n",
      "original_images/RS12414_AD_Aveyron_C_1079_folio_10r.png\n",
      "original_images/Cagliari.jpg\n",
      "original_images/Katherine_Wilson.white_.jpg\n",
      "original_images/412vMPAP4.png\n",
      "original_images/239vMPAP4.jpg\n",
      "original_images/Manovelli.jpg\n",
      "original_images/dalme_demo.gif\n",
      "original_images/Coconut_cup_VA.original_600pixel.png\n",
      "original_images/DaFeoFabricShop.png\n",
      "original_images/DP319068.jpg\n",
      "original_images/11456scr_f79f1e009d5fad2.jpg\n",
      "original_images/digestum_vetus_YcsiLcQ.jpg\n",
      "original_images/IRHT_050564-p.jpg\n",
      "original_images/theslavemarghareta.jpg\n",
      "original_images/IRHT_075591-p_veste.jpg\n",
      "original_images/Christine_de_Pizan_Cite_des_...Christine_de_btv1b6000102v_70.jpg\n",
      "original_images/Christine_de_Pizan.jpg\n",
      "original_images/Inventory_of_Laureta_de_Rabesio_detail.jpg\n",
      "original_images/IRHT_061204-p.jpg\n",
      "original_images/Miscellaneous_main_image.2e16d0ba.fill-1000x350-c100.jpg\n",
      "original_images/_Cy_commance_le_livre_...Gilles_de_btv1b55010125f_302.jpeg\n",
      "original_images/Albucasis_Observations_sur_la_nature_..._btv1b105380445_193.jpg\n",
      "original_images/Lombard_Alps.png\n",
      "original_images/IRHT_044177-p.jpg\n",
      "original_images/Les_Saisies.jpg\n",
      "original_images/logo_SOHP_black_fixed.png\n",
      "original_images/Valfurva_Province_of_Sondrio_header.jpg\n",
      "original_images/header_documentation_2.jpg\n",
      "original_images/header_documentation_3.jpg\n",
      "original_images/header_documentation_4.jpg\n",
      "original_images/header_methodology_1_inffmWK.jpg\n",
      "original_images/header_methodology_2.jpg\n",
      "original_images/header_open_access_1.jpg\n",
      "original_images/header_open_access_2.jpg\n",
      "original_images/header_workflow_1.jpg\n",
      "original_images/pawel-czerwinski--0xCCPIbl3M-unsplash.jpg\n",
      "original_images/lucca_registers.jpg\n",
      "original_images/header_workflow_3.jpg\n",
      "original_images/header_documentary_archaeology_1.jpg\n",
      "original_images/header_platform_1.jpg\n",
      "original_images/header_platform_3.jpg\n",
      "original_images/header_collections_2.jpg\n",
      "original_images/header_collections_3.jpg\n",
      "original_images/header_collections_4.jpg\n",
      "original_images/header_search_1.jpg\n",
      "original_images/header_search_2.jpg\n",
      "original_images/header_search_3.jpg\n",
      "original_images/header_browser_1.jpg\n",
      "original_images/header_browser_2.jpg\n",
      "original_images/header_collections_6.jpg\n",
      "original_images/header_explore_1.jpg\n",
      "original_images/header_explore_2.jpg\n",
      "original_images/header_explore_3.jpg\n",
      "original_images/header_viewer_1.jpg\n",
      "original_images/simon-fitall-xWxh7hsgJVA-unsplash.jpg\n",
      "original_images/fabio-fistarol-VjA_PSSsOHI-unsplash_cropped.jpg\n",
      "original_images/thaddaeus-lim-_EKayVii82I-unsplash_cropped.jpg\n",
      "original_images/IRHT_064051-p_cropped_nJ3FJzg.jpg\n",
      "original_images/screenshot_editor.jpg\n",
      "original_images/screenshot_dam.jpg\n",
      "original_images/screenshot_kb.jpg\n",
      "original_images/dalme_demo_3.gif\n",
      "original_images/dalme_parsing_3.gif\n",
      "original_images/Ewer.png\n",
      "original_images/RS12423_IMG_9304.png\n",
      "original_images/GlassBell.jpg\n",
      "original_images/Ring.jpg\n",
      "original_images/Coat_of_Arms.jpg\n",
      "original_images/Pair_of_Guantlets.jpg\n",
      "original_images/Ligi_14r.jpg\n",
      "original_images/Bastardello.jpg\n",
      "original_images/Seven_Sacraments_Rogier_baptism.jpeg\n",
      "original_images/external-content.duckduckgo.com.jpeg\n",
      "original_images/1280px-Medieval_or_post_medieval_mortar_FindID_798222.jpg\n",
      "original_images/Chair_Sgabello_ca._148991.jpg\n",
      "original_images/Wilson_photo.jpg\n",
      "original_images/WA_2013_1_43-a-L.jpg\n",
      "original_images/Cornelis_de_Bye_-_Coconut_Cup_with_Old_Testament_Scenes_-_Walters_571046_0UQCDkz.jpg\n",
      "original_images/2006al0330_coconut_cup_dordrecht.jpg\n",
      "original_images/LToFigueras_plJMeWh.jpg\n",
      "original_images/Ferrand.JPG\n",
      "original_images/Woodcut_from_Le_Rommant_de_la_Rose_printed_by_G.original.jpg\n",
      "original_images/Fares_Chest.jpg\n",
      "original_images/JCalvarin_photo_Freiburg.jpeg\n",
      "original_images/Woodcut_from_Le_Rommant_de_la_Rose_detail.jpg\n",
      "original_images/K._Baker.jpg\n",
      "original_images/IMG_0252.JPG\n",
      "original_images/RS18343_PROB_2-79.png\n",
      "original_images/Seven_Sacraments_Rogier_1200_pixels.jpg\n",
      "original_images/Seven_Sacraments_Rogier_detail.jpeg\n",
      "original_images/Seven_Sacraments_Rogier_confession.jpeg\n",
      "original_images/Seven_Sacraments_Rogier_confirmation.jpeg\n",
      "original_images/Seven_Sacraments_Rogier_ordination.jpeg\n",
      "original_images/Seven_Sacraments_Rogier_header.jpeg\n",
      "original_images/Alberello.jpeg\n",
      "original_images/MPAP152_192r.jpg\n",
      "original_images/1537497001.jpg\n",
      "original_images/RS1425_DSC00941-scr.jpeg\n",
      "original_images/RS1425_DSC00941-scr_E0weH2M.jpeg\n",
      "original_images/Seven_Sacraments_Rogier_baptism_detail.jpeg\n",
      "original_images/TapestryMet.jpeg\n",
      "original_images/PalazzodellAntella.jpeg\n",
      "original_images/Alberello_3TAdBDc.jpeg\n",
      "original_images/IRHT_16128-p.jpg\n",
      "original_images/ecole-moyen-age.jpg\n",
      "original_images/Palazzo_pazzi_della_congiura_02.jpeg\n",
      "original_images/giovanni-villani.detail.jpeg\n",
      "original_images/960px-San_pier_maggiore.jpeg\n",
      "original_images/800px-Giovanni_villani_1.jpeg\n",
      "original_images/2009CR3309_oM2MKuk.jpg\n",
      "original_images/Screen_Shot_2021-09-28_at_9.45.03_PM.png\n",
      "original_images/casket.jpeg\n",
      "original_images/amulet_ring.jpeg\n",
      "original_images/0000234507_OG.jpeg\n",
      "original_images/Cauldron.jpg\n",
      "original_images/Epistre_Othea.jpg\n",
      "original_images/Epistre_Othea_detail.jpeg\n",
      "original_images/2009CD9009.jpg\n",
      "original_images/DP-12881-004.jpeg\n",
      "original_images/orcio.jpeg\n",
      "original_images/Jousting_armour_with_lance_rest_38792502170.jpeg\n",
      "original_images/Mendel_I_016_r.jpeg\n",
      "original_images/IRHT_085101-p.jpg\n",
      "original_images/Brunetto_Latini_Livre_du_Tresor_Brunetto_Latini_btv1b8451099w_11.jpeg\n",
      "original_images/Spice_Box.jpg\n",
      "original_images/IMG_1942_detail.original_rotated.jpg\n",
      "original_images/1537497001_detail.jpg\n",
      "original_images/144853001.jpg\n",
      "original_images/Hans_Sachs.jpg\n",
      "original_images/Neujahrsgruss_Extract_from_Hampe_1899_3.jpg\n",
      "original_images/Neujahrsgruss_Extract_from_Hampe_1899_1_copy.jpg\n",
      "original_images/Neujahrsgruss_Extract_from_Hampe_1899_17_NTvxpdq.jpg\n",
      "original_images/Neujahrsgruss_Extract_from_Hampe_1899_1.jpg\n",
      "original_images/Albarello_detail.jpg\n",
      "original_images/1613298861.jpg\n",
      "original_images/540px-Stemma_dellarte_di_Calimala.jpeg\n",
      "original_images/960px-Antica_sede_Calimala.jpeg\n",
      "original_images/13th_century_seal_matrix_FindID_66377.jpeg\n",
      "original_images/Curfew.jpg\n",
      "original_images/IOW-C85DA2_Medieval_Spur_Buckle_FindID_439201.jpeg\n",
      "original_images/Iron_guantlets.jpeg\n",
      "original_images/IRHT_085087-p_detail.jpg\n",
      "original_images/Detail.jpg\n",
      "original_images/Alembic.jpg\n",
      "original_images/Grec_2327_detail.jpeg\n",
      "original_images/IRHT_086329-p.jpg\n",
      "original_images/IRHT_105723-p.jpg\n",
      "original_images/IRHT_086329-detail.jpg\n",
      "original_images/1248703.jpg\n",
      "original_images/Oratorio_dei_buonomini_di_s._martino_lunette_di_Francesco_dAntonio_notaio_.jpg\n",
      "original_images/Oratorio_dei_buonomini_di_s._martino_lunette_di_Francesco_dAntonio_notai_9Ydc0xT.JPG\n",
      "original_images/IRHT_035670-p.jpg\n",
      "original_images/IRHT_106363-p.cropped.jpg\n",
      "original_images/IRHT_106363-p_0fINbWg.jpg\n",
      "original_images/IRHT_094244-p_detail.jpg\n",
      "original_images/DP247059.jpeg\n",
      "original_images/Marseille_alambics.png\n",
      "original_images/Notari_medieval_resized.jpg\n",
      "original_images/Italy_last_third_of_the_14th_century_-_Silk_and_Gold_Textile_-_1942.1078_-.jpg\n",
      "original_images/Notari_medieval.cropped.jpg\n",
      "original_images/YalePortolan1403.jpg\n",
      "original_images/YalePortolanEngland.jpeg\n",
      "original_images/EnglishHats.jpeg\n",
      "original_images/PeacockRoomDavanzati.jpeg\n",
      "original_images/kevin_wang_photo.jpg\n",
      "original_images/Sloane_1977_49v.jpeg\n",
      "original_images/Ambergris_Skagway_Museum.jpeg\n",
      "original_images/Met_Pharmacy_Bottle.jpeg\n",
      "original_images/Sloane_1977_49v_square.jpeg\n",
      "original_images/IRHT_095674-p.jpg\n",
      "original_images/IRHT_095674-p_MHTZReY.jpg\n",
      "original_images/MorganWine.jpg\n",
      "original_images/OliveOil.jpg\n",
      "original_images/IBN_BUTLAN_Tacuinum_sanitatis__btv1b105072169_169.jpeg\n",
      "original_images/IRHT_059358-p.jpg\n",
      "original_images/2006BG47471.jpg\n",
      "original_images/ArlesGuibert.JPG\n",
      "original_images/Civitatis_Avenionis_omnimq_viarum_et_...Merian_.original.jpg\n",
      "original_images/IBN_BUTLAN_Tacuinum_sanitatis__btv1b105072169_169_jPh5Gfu.jpeg\n",
      "original_images/IRHT_094558-p.original.jpg\n",
      "original_images/IRHT_096754-p.original.jpg\n",
      "original_images/e896c61758ae8e1c7495b7716979f301.jpeg\n",
      "original_images/14thCBritishFingerRing.jpeg\n",
      "original_images/ChristianAndMuslimPlayingChess.jpeg\n",
      "original_images/2022-06-28_13.48.16.jpg\n",
      "original_images/Screen_Shot_2022-12-03_at_5.30.18_PM.png\n",
      "original_images/Eudes_de_Bourgogne_1230-1269.original.png\n",
      "original_images/13b4210510a37620b777425fdc559303bac2be5a.jpeg\n",
      "original_images/IBN_BUTLAN_Tacuinum_sanitatis__btv1b105072169_169_DCteccf.jpeg\n",
      "original_images/IRHT_059358-p_cropped.jpg\n",
      "original_images/2006BG4747_cropped.jpg\n",
      "original_images/ArlesGuibert_gAqAiN0.JPG\n",
      "original_images/ArlesGuibert.jpeg\n",
      "original_images/IRHT_028973-p.original.jpg\n",
      "original_images/512px-Byzantine_-_Signet_Ring_-_Walters_572104_-_View_A.jpeg\n",
      "original_images/Anello_vescovile_in_oro_con_zaffiro_xii-xiii_secolo.jpeg\n",
      "original_images/512px-Omne_Bonum_Royal6EVI104_Anulus.jpeg\n",
      "original_images/Bardi_map.jpg\n",
      "original_images/Masaccio._Desco_da_parto_-_ca._1420_-_Gemaldegalerie_Berlin_detail.jpg\n",
      "original_images/GospelBookWatlersMS1ff4v5r.jpeg\n",
      "original_images/Watermark_ADBR_56_H_2885.png\n",
      "original_images/Sack_of_wheat.png\n",
      "original_images/Man_butchers_a_pig_OP646oP.png\n",
      "original_images/Pig_slaughter_ImnE0jb.png\n",
      "original_images/Three_pigs_Ct2vmMy.png\n",
      "original_images/Tending_to_grapevines.png\n",
      "original_images/Grapevines.png\n",
      "original_images/Watermark_a_bunch_of_grapes.png\n",
      "original_images/Ox.png\n",
      "original_images/De_capro.png\n",
      "original_images/Pig_slaughter_QyWVOEU.png\n",
      "original_images/Red_ox.png\n",
      "original_images/Provencal_administration.png\n",
      "original_images/Baillie_de_Moustiers.png\n",
      "original_images/Puimuisson.png\n",
      "original_images/IRHT_084683-p.jpg\n",
      "original_images/Mesue.png\n",
      "original_images/De_re_medica_AbAVGU8.png\n",
      "original_images/v2_bsb00075423_00005_full_full_0_default.jpg\n",
      "original_images/Allegorie_du_Gout_Paris_BnF_Francais_218_f.373.jpeg\n",
      "original_images/Fabrication_du_fromage_blanc_Paris_BnF_Latin_9333_f.60.jpeg\n",
      "original_images/Fabrication_des_pates_Paris_BnF_Latin_9333_f.43v_yKUhwza.jpeg\n",
      "original_images/Coutumes_de_Toulouse__btv1b105090434_65_H3DikqM.jpeg\n",
      "original_images/6094.jpg\n",
      "original_images/IRHT_028839-p.jpg\n",
      "original_images/header_project_sv8WIx2.jpg\n",
      "original_images/IRHT_108365-p_copy.jpeg\n",
      "original_images/IRHT_108365-p.jpg\n",
      "original_images/Screenshot_2023-06-11_at_9.32.32_AM.png\n",
      "original_images/IRHT_090865-p.jpg\n",
      "original_images/6094_cropped.jpg\n",
      "original_images/image_1.jpg\n",
      "original_images/image_2.JPG\n",
      "original_images/image_3_I_Changed_the_image_so_I_also_created_a_new_description_for_this_n.png\n",
      "original_images/image_4_creche_provencale.jpg\n",
      "original_images/image_5_1375_Les-Baulx_Navarre_f32r.jpeg\n",
      "original_images/image_5_bis_NAV-f32v-32.png\n",
      "original_images/image_6_very_good_quality.jpeg\n",
      "original_images/image_6_zoom_but_lesser_quality.png\n",
      "original_images/image_7_fleur_de_lys.png\n",
      "original_images/image_8_Silvacane_1_maybe_not_necessary_we_can_keep_Silvacane_2_and_develo.png\n",
      "original_images/image_9_alternative_Roncevaux_.jpeg\n",
      "original_images/image_9_Silvacane_2.png\n",
      "original_images/image_10.png\n",
      "original_images/image_11.png\n",
      "original_images/logo_dataverse_2_76GMo9z.png\n",
      "original_images/image_13_Pernes_Les_Fontaines_.jpeg\n",
      "original_images/image_14_from_the_website_of_Pernes_Les_Fontaines.jpeg\n",
      "original_images/image_14_the-lady-and-the-unicorn-a-mon-seul-desir-11080.jpg\n",
      "original_images/image_15_dame_a_la_licorne.jpeg\n",
      "original_images/image_16_bis.png\n",
      "original_images/image_16.png\n",
      "original_images/image_17.png\n",
      "original_images/image_18_f.88r.png\n",
      "original_images/image_18_Tristan.png\n",
      "original_images/image_19.png\n",
      "original_images/image_20_chambre_des_papes_wikipedia.jpeg\n",
      "original_images/image_20_TO_ADD_Livre_de_Sidrac_XIVth_century_Marseille_Bibliotheque_munic.png\n",
      "original_images/image_21_my_photo.jpg\n",
      "original_images/image_22_chateau-g9b2c33afd_1920.jpg\n",
      "original_images/image_2_bis.JPG\n",
      "original_images/Dijon_Ms_0562.jpg\n",
      "original_images/0000747221_OG.JPG\n",
      "original_images/Adoration_mages.png\n",
      "original_images/JM_Rosier_Chambre_du_cerf_-_le_frere_du_pape_a_la_chasse.jpeg\n",
      "original_images/rois_mages_Chateau_Thierry.png\n",
      "original_images/IRHT_050383-p.jpg\n",
      "original_images/IRHT_02288-p.jpg\n",
      "original_images/Gerichtsarchiv_K_2-3_cover.jpg\n",
      "original_images/Joiakin_made_prisoner_by_Nabuchodonosor_Alencon_4TjKeHL.png\n",
      "original_images/IRHT_02288-p_isdVYFJ.jpg\n",
      "original_images/image001.png\n",
      "original_images/Basel_header.jpg\n",
      "original_images/Georg_and_Hogenberg_Franz_1535-90_Brau_-_Map_of_Basel_from_Civitates_Orbis.jpg\n",
      "original_images/Georg_and_Hogenberg_Franz_1535-90_Brau_-_Map_of_Basel_from_Civitates_Orbi.jpeg\n",
      "original_images/Medecin_preparant_un_remede_Paris_BnF_Grec_923_f.210.jpeg\n",
      "original_images/Paris_BnF_Smith-Lesouef_Japonais_134_2_rouleau_87Q5Trs.jpeg\n",
      "original_images/NewportPestle.jpg\n",
      "original_images/Proverbe_illustre_Paris_BnF_NAL_3134_f.53.jpeg\n",
      "original_images/Gerichtsarchiv_K_2-3_sample_QGv8klx.jpg\n",
      "original_images/12-alimenticarni_bovineTaccuino_Sanitatis_Casanatense_418.jpg\n",
      "original_images/The_Arnolfini_Portrait_detail_2.jpg\n",
      "original_images/Germain_David-Nillet_la_Veuve_1861.jpeg\n",
      "original_images/Washington_Haggadah_detail.jpg\n",
      "original_images/Washington_Haggadah.jpg\n",
      "original_images/2009CD9135_detail.jpg\n",
      "original_images/2009CD9135.jpg\n",
      "original_images/2009CD9138.jpg\n",
      "original_images/Joiakin_made_prisoner_by_Nabuchodonosor_Alencon_detail.png\n",
      "original_images/Manilhes.png\n",
      "original_images/Cope.jpeg\n",
      "original_images/Cambridge_MA_-_Houghton_MS_Typ_299_f._14r.jpeg\n",
      "original_images/picture_of_edan_larkin.jpg\n",
      "original_images/program.jpg\n",
      "original_images/Screenshot_2024-02-21_at_08.51.18.png\n",
      "original_images/MDR_logo_280.jpg\n",
      "original_images/MDR_logo_280_JdDRKjA.jpg\n",
      "original_images/header_about_Q9Bo9tC.jpg\n",
      "original_images/header_collections_OJQjtkL.jpg\n",
      "original_images/Cambridge_MA_-_Houghton_MS_Typ_299_f._14r_detail.jpg\n",
      "original_images/Pablo.jpg\n",
      "original_images/Griffin_Clare.jpeg\n",
      "original_images/Lara_headshot.jpeg\n",
      "original_images/cole.jpeg\n",
      "original_images/olivia.jpeg\n",
      "original_images/Simon.jpeg\n",
      "original_images/3152558-1.jpg\n",
      "original_images/annie.jpeg\n",
      "original_images/24CY7CNX-YXGQ_original.JPG\n",
      "original_images/Breen.jpg\n",
      "original_images/Bhattacharya.jpg\n",
      "original_images/Findlen.jpg\n",
      "original_images/Cooley.jpg\n",
      "original_images/Gomez.jpg\n",
      "original_images/Stanley-Baker.jpg\n",
      "original_images/De_Vos.jpg\n",
      "original_images/Shopov.jpg\n",
      "original_images/Strocchia.jpg\n",
      "original_images/Smith.jpg\n",
      "original_images/Park.png\n",
      "original_images/Pizzorno.jpg\n",
      "original_images/Apothecary_Jar.jpg\n",
      "original_images/Low.jpg\n",
      "original_images/Detail_Saint_Philibert_Dijon_-_BM_-_ms._0641_copy.jpeg\n",
      "original_images/Saint_Philibert_Dijon_-_BM_-_ms._0641.jpeg\n",
      "original_images/Vue_generale_sur_Apt.JPG\n",
      "original_images/Allen.jpg\n",
      "original_images/Screenshot_2024-01-15_at_10.12.04_AM.png\n",
      "original_images/Azafetida.png\n",
      "original_images/Albucasis_Observations_sur_la_nature_..._btv1b105380445_182.jpg\n",
      "original_images/Screen_Shot_2020-08-20_at_12.26.16_PM.png\n",
      "original_images/eric_nemarich.jpeg\n",
      "original_images/AEL-2018.jpeg\n",
      "original_images/Direct_vs._Indirect_Refereces_to_Enslaved_Persons_in_ASF_MPAP_4.png\n",
      "original_images/SLaveLocales_MPAP4.jpg\n",
      "original_images/Paris_BNF_NAL_1673f.94r_detail.jpg\n",
      "original_images/AeB_Aosta6_-_Copia.jpg\n",
      "original_images/header_workflow_2.jpg\n",
      "original_images/header_platform_2.jpg\n",
      "original_images/header_collections_5.jpg\n",
      "original_images/nurullah-HbZR2Fw52DU-unsplash_cropped.jpg\n",
      "original_images/GlassBeaker_0xm4F5O.jpg\n",
      "original_images/W542SilverGospels.jpeg\n",
      "original_images/Candlestick_Base_with_Interlacing_Dragons.jpg\n",
      "original_images/Seven_Sacraments_Rogier_last_rites.jpeg\n",
      "original_images/RS522_DSC00010-scr.jpeg\n",
      "original_images/cassoneMEt.jpeg\n",
      "original_images/144853001_detail.jpg\n",
      "original_images/Albarello.jpg\n",
      "original_images/IRHT_094244-p.jpg\n",
      "original_images/YalePortolan1403England.jpg\n",
      "original_images/farine.jpeg\n",
      "original_images/IRHT_090441-p_gfazZM3.original.jpg\n",
      "original_images/Masaccio._Desco_da_parto_-_ca._1420_-_Gemaldegalerie_Berlin.jpg\n",
      "original_images/0_Amiens_-_Cathedrale_Notre-Dame_1.jpeg\n",
      "original_images/Saint_Brigitte_and_her_ox.png\n",
      "original_images/Aliment_-_bouillie_de_froment_Paris_BnF_Latin_9333_f.41.jpeg\n",
      "original_images/Coutumes_de_Toulouse__btv1b105090434_65_copy.jpeg\n",
      "original_images/image_12_chateau_dAnnecy.jpg\n",
      "original_images/image_13_patenotrier.png\n",
      "original_images/IRHT_050383-p_ZZDJXCe.jpg\n",
      "original_images/medieval-wedding1.jpg\n",
      "original_images/Textile_with_Brocade_Italian_14th_century.jpeg\n",
      "original_images/Blair.jpg\n",
      "original_images/Smail.png\n",
      "original_images/DALLE_2023-12-15_12.17.15_-_An_early_16th_century_apothecary_shop_inspired.png\n"
     ]
    }
   ],
   "source": [
    "with schema_context('dalme'):\n",
    "    from wagtail.images import get_image_model\n",
    "\n",
    "    Image = get_image_model()\n",
    "\n",
    "    for image in Image.objects.all():\n",
    "        print(image.file)"
   ]
  },
  {
   "cell_type": "code",
   "execution_count": 5,
   "id": "c8965f70",
   "metadata": {},
   "outputs": [
    {
     "name": "stdout",
     "output_type": "stream",
     "text": [
      "[{'id': '92572534-ede1-497d-87e2-ecb919e3370d', 'type': 'main_image', 'value': 394}, {'id': 'd5893be1-52f3-4482-aac3-4bc7e033de0a', 'type': 'text', 'value': '<p data-block-key=\"8pp2a\">The inventories in this collection derive from the second volume of the Basel <i>Beschreib\\xadbüchlein</i> (1475‒1478), a series of nineteen volumes running from 1407 to 1666 found in the State Archive of the city canton of Basel (Switzerland). They were compiled by judges and other officials attached to Basel\\'s court of law. The law court produced inventories for three reasons: in cases of flight (that is, when the owner wished to evade justice); suspicion of heirlessness; and insolvency. Most of the cases edited here arose from suspected in\\xadsolvency or heirlessness.</p>'}, {'id': 'dd670e09-6091-4da9-b0b1-1ac7f93eb827', 'type': 'subsection', 'value': {'body': [{'id': '8f63bf84-eb00-467e-b29a-033d045d1eda', 'type': 'text', 'value': '<p data-block-key=\"qeq28\">The inventories in this collection document the goods of individuals from a broad spectrum of the population, ranging from a physician, a printer, and a gentleman, to a swineherd, a day laborer, and a maid. The amount of wealth is similarly broad, with some inventories covering only half a page and some filling more than ten pages. Nine of the forty-eight record the estates of women.</p>'}], 'collapsed': False, 'subsection': 'The Sample', 'minor_heading': False}}, {'id': 'ed2a4cb0-289f-4e73-a2f5-79e6e82382a6', 'type': 'subsection', 'value': {'body': [{'id': '8d50a2c4-9ad6-49d1-9c74-b616008914d2', 'type': 'text', 'value': '<p data-block-key=\"qeq28\">This collection has been edited by Prof. Dr. Gabriela Signori, Professur für Mittelalterliche Geschichte, Universität Konstanz.</p>'}], 'collapsed': False, 'subsection': 'Owner and contributors', 'minor_heading': False}}, {'id': 'b550329f-a5e5-4b09-a6fa-c975f4d5f8f2', 'type': 'subsection', 'value': {'body': [{'id': '1db7fb5b-6527-4b90-a3b3-76ac9cb315f6', 'type': 'inline_image', 'value': {'image': 402, 'caption': '<p data-block-key=\"5voui\">Cover, StABS GA K 2.</p>', 'image_id': '', 'alignment': 'right', 'dimensions': '200', 'parameters': '', 'resize_rule': 'width', 'show_caption': True}}, {'id': '6e168085-0395-4ebe-b5c4-c761545d7ee5', 'type': 'text', 'value': '<p data-block-key=\"p80l9\">Due to the abundance of everyday items found listed in household inventories, these documents have become highly valued and frequently used sources for European anthropology and for the history of material culture. The significance of the things found in this collection is the focus of Katharina Simon-Muscheid\\'s work, published under the telling title <i>Things at</i> <i>the intersection of social networks</i>, and based mainly on the Basel court inventories of the late 15th and the beginning of the 16th centuries.<a data-footnote=\"b69b0a93-1f50-4154-bf6d-972954cb8f96\" linktype=\"footnote\">✱</a> As the title clearly states, the aim of her work is to dynamize the static inventory by moving things into the center of social relations.<a data-footnote=\"7d7b3b52-6c2d-4989-8902-11fffe298eca\" linktype=\"footnote\">✱</a> In this respect, my present edition of the second volume of the Basel <i>Beschreib\\xadbüchlein</i> (1475‒1478) is also conceived as a tribute to an inspiring colleague who unfortunately passed away far too early. The <i>Beschreibbüchlein</i> are kept in a series of 19 volumes running from 1407 to 1666 in the State Archive of the city canton of Basel (Switzerland). The word <i>Beschreiben</i> In Middle High German means \"describing,\" and is the term usually used for the act of compiling an inventory.</p>'}], 'collapsed': True, 'subsection': 'Essay: Basel Inventories (1475‒1478)', 'minor_heading': False}}, {'id': '6dd6eeeb-1fec-4e4a-8292-cab12655c4cc', 'type': 'subsection', 'value': {'body': [{'id': '6b554c69-4ad0-477a-b066-e4f0a76552d0', 'type': 'text', 'value': '<p data-block-key=\"gc5jt\">The purpose of an inventory, of course, is not to see items in motion, but rather to capture a moment in time when they belonged to one person\\'s estate, so as to prevent their loss to greedy kinsmen or creditors, for example. But above all, the inventory is a legal means used in both civil and criminal jurisdictions — more precisely, as an instrument for securing justice.<a data-footnote=\"5f5f440f-15ca-408c-aab8-0ef1946a9fb0\" linktype=\"footnote\">✱</a> The records of these two fields of law (civil and criminal) are kept in different places in the Basel State Archive. The books of the penal jurisdiction are assigned to the council books in the older, main archive (<i>älteres</i> <i>Hauptarchiv</i>), whereas the books of the civil jurisdiction are ranged in the court archive, which form a section of the <i>ältere Nebenarchive</i>.<a data-footnote=\"ac6d93fd-edbc-44d7-9ab5-f2cba876f600\" linktype=\"footnote\">✱</a> The separation between <i>Haupt</i>- and <i>Nebenarchiv</i>, between politics and justice, is not contemporary; it took place at the end of the 19th century when archives all over Europe were being reorganized, following the spirit of the age.<a data-footnote=\"c85e5e18-166c-4291-b396-53dead2c55f5\" linktype=\"footnote\">✱</a> As witness hearings (<i>Kundschaften</i>), the court inventories were assigned to the court archive because they are subsidiary instruments for finding and securing justice. In both cases their function essentially determines their form.</p>'}, {'id': 'e6452f0f-5856-4f2e-ad53-26141b8b5cb9', 'type': 'html', 'value': '<div class=\"table-container\" id=\"figure-1\">\\r\\n<table class=\"u-table\">\\r\\n  <caption>Figure 1: View of the Basel Court books from the Court Archive</caption>\\r\\n  <tr>\\r\\n    <th class=\"center\">Signature</th>\\r\\n    <th>Content</th> \\r\\n    <th class=\"center\">Volumes</th>\\r\\n    <th class=\"center\">Years</th>\\r\\n  </tr>\\r\\n  <tr>\\r\\n     <td class=\"center\">A</td>\\r\\n     <td>judgements (<i>Urteile</i>)</td>\\r\\n     <td class=\"center\">183</td>\\r\\n     <td class=\"center\">1394–1681</td>\\r\\n  </tr>\\r\\n  <tr>\\r\\n     <td class=\"center\">B</td>\\r\\n     <td>contracts (<I>Fertigungen</i>)</td>\\r\\n     <td class=\"center\">51</td>\\r\\n     <td class=\"center\">1420–1713</td>\\r\\n  </tr>\\r\\n  <tr>\\r\\n     <td class=\"center\">C</td>\\r\\n     <td>debt recognition (<i>Konfessate</i>)</td>\\r\\n     <td class=\"center\">39</td>\\r\\n     <td class=\"center\">1425–1644</td>\\r\\n  </tr>\\r\\n  <tr>\\r\\n     <td class=\"center\">D</td>\\r\\n     <td>witness accounts (<I>Kundschaften</i>)</td>\\r\\n     <td class=\"center\">47</td>\\r\\n     <td class=\"center\">1420–1715</td>\\r\\n  </tr>\\r\\n  <tr>\\r\\n     <td class=\"center\">E</td>\\r\\n     <td>seizures (<I>Arreste</i>, <i>Verbote</i></td>\\r\\n     <td class=\"center\">19</td>\\r\\n     <td class=\"center\">1425–1648</td>\\r\\n  </tr>\\r\\n  <tr>\\r\\n     <td class=\"center\">G</td>\\r\\n     <td>settlements (<I>Verrechnungen</i>)</td>\\r\\n     <td class=\"center\">52</td>\\r\\n     <td class=\"center\">1452–1878</td>\\r\\n  </tr>\\r\\n  <tr>\\r\\n     <td class=\"center\">K</td>\\r\\n     <td>inventories (<i>Beschreibbüchlein</i>)</td>\\r\\n     <td class=\"center\">19</td>\\r\\n     <td class=\"center\">1407–1666</td>\\r\\n  </tr>\\r\\n</table>\\r\\n</div>'}, {'id': 'c60422f6-933b-4b2f-aa19-35fb9f927779', 'type': 'text', 'value': '<p data-block-key=\"5co28\">As far as the inventory is concerned, the form consisted of two parts. Essential information about the act is found at the head of the entry, which includes the inventory\\'s date, the name of the person whose goods are being inventoried, sometimes the place where this person had lived or died, and the administrative staff involved in the proceedings. This information made it possible, if necessary, to connect the inventory to proceedings found elsewhere in the court\\'s archives, including seizures, settlements, and judgments (<a href=\"#figure-2\">Figure 2</a>).</p>'}, {'id': '9a69bfe5-0093-4e53-a6e4-be74f48a025d', 'type': 'html', 'value': '<div class=\"transcription-excerpt\">\\r\\n    <div class=\"transcription\">Anno lxx sex sexta post Corporis Christi ist Joͤrg Richwinß seligen uerlassen gůt von befelch miner herren der reten beschriben <tei-add>vnd</tei-add> funden worden:</div>\\r\\n    <div class=\"translation\">In the year 1476, the sixth day after Corporis Christi (20th juin) the goods of late Georg Richwin have been inventoried by order of the councillors, and there were found:</div>\\r\\n</div>\\r\\n<div class=\"caption\">Example from StABS GA K 2 (1475–1478), fol. 25 (Thursday, 20th June 1476).</div>'}, {'id': '72fb2a9f-fb95-4916-b14e-ac30b6cf64c1', 'type': 'inline_image', 'value': {'image': 401, 'caption': '<p data-block-key=\"czsjj\">Figure 2: Page 25.</p>', 'image_id': 'figure-2', 'alignment': 'right', 'dimensions': '200x300', 'parameters': 'no-repeat top/cover', 'resize_rule': 'background', 'show_caption': True}}, {'id': '6586c3a7-9546-4fe8-b90b-f8bdd6c86e66', 'type': 'text', 'value': '<p data-block-key=\"v4qbf\">The second part of the entry consists of the inventory itself, that is, a list of items. Some inventories fill only half a page whereas others extend over more than ten pages.</p><p data-block-key=\"4tb1d\">According to Basel town law, there were three reasons for compiling an inventory:</p><ol><li data-block-key=\"4u4fp\">In cases of flight, i.e. when an accused person was evading justice,</li><li data-block-key=\"49fi0\">If the deceased died without heirs (not defined in the town law)<a data-footnote=\"646af4ae-1002-42d7-bb3e-f37339e261ba\" linktype=\"footnote\">✱</a>, and</li><li data-block-key=\"8e53a\">In cases of insolvency, for which Middle High German provides no technical term, but describes the persons as \"<i>lúten, der guͤt mit gericht gefroͤnt und bezogen worden were\" (</i>people whose movable and immovable property had been seized).<a data-footnote=\"4b7b7375-111a-470b-8d81-06cb4541490a\" linktype=\"footnote\">✱</a></li></ol><p data-block-key=\"8p0sp\">Thus, the inventory is usually but one step in a chain of legal proceedings (<a href=\"#figure-1\">Figure 1</a>).</p><p data-block-key=\"4729u\">The inventory was compiled by the judge (<i>Schultheiss</i>), the bailiffs, and the court clerk. The compilation of the inventory was supervised by two councilors who accompanied the proceedings from the on-site inventory to the forced sale and the final satisfaction of the creditors. They had to ensure that the costs of the proceedings were kept as low as possible in the interest of the creditors, as it is emphasized in the records.<a data-footnote=\"e1735eba-c504-4d01-8208-5c1ca53a208e\" linktype=\"footnote\">✱</a></p><p data-block-key=\"5pv80\">In the case of suspected insolvency, the creditors usually became actively involved (<i>von an\\xadruͤffung der schultforderen wegen</i>), either individually or as a collective. In the case of flight or suspected death without heirs, on the other hand, the council intervened, either by issuing a recommendation (<i>empfelniß</i>) or an order to take an inventory (<i>von befelch miner herren der reten wegen</i> or <i>geheiss</i>). Most inventories were initiated by the council or other office holders, and most cases are related to suspected in\\xadsolvency or death without heirs. Obviously, insolvency as well as heirlessness were at this time understood as \"state affair.\"<a data-footnote=\"1b5862e6-5843-4852-aefa-a117c76e6877\" linktype=\"footnote\">✱</a></p>'}, {'id': 'fa476793-2808-4664-8fcf-3904b73265a4', 'type': 'html', 'value': '<div class=\"table-container\" id=\"figure-3\">\\r\\n<table class=\"u-table no-border\">\\r\\n  <caption>Figure 3: Distribution of types and initiators for <I>Beschreibbüchlein</i> K 2</caption>\\r\\n  <tr class=\"divider\">\\r\\n    <th>Beschreibbüchlein K 2 (1475–1478)</th>\\r\\n    <th class=\"right\">48 entries</th>\\r\\n  </tr>\\r\\n  <tr>\\r\\n      <td>Councillors, guildmaster, judge, court:</td>\\r\\n  </tr>\\r\\n  <tr>\\r\\n     <td class=\"indented\">befehl, befelch, befelniß</td>\\r\\n     <td class=\"right\">12</td>\\r\\n  </tr>\\r\\n  <tr>\\r\\n     <td class=\"indented\">empfehlung, empfelniß</td>\\r\\n     <td class=\"right\">6</td>\\r\\n  </tr>\\r\\n  <tr>\\r\\n     <td class=\"indented\">geheisen, geheiss</td>\\r\\n     <td class=\"right\">2</td>\\r\\n  </tr>\\r\\n  <tr>\\r\\n      <td>Creditor(s), anruͤffung (appealing to the court):</td>\\r\\n  </tr>\\r\\n  <tr>\\r\\n     <td class=\"indented\">individual creditors</td>\\r\\n     <td class=\"right\">5</td>\\r\\n  </tr>\\r\\n  <tr>\\r\\n     <td class=\"indented\">the creditor collective (schuldforderen)</td>\\r\\n     <td class=\"right\">6</td>\\r\\n  </tr>\\r\\n  <tr>\\r\\n      <td>Others:</td>\\r\\n  </tr>\\r\\n  <tr>\\r\\n     <td class=\"indented\">executors of wills (seelwärter)</td>\\r\\n     <td class=\"right\">1</td>\\r\\n  </tr>\\r\\n  <tr>\\r\\n     <td class=\"indented\">heirs</td>\\r\\n     <td class=\"right\">2</td>\\r\\n  </tr>\\r\\n</table>\\r\\n</div>'}, {'id': '4d325490-42de-4419-9967-33fd600a2f2a', 'type': 'text', 'value': '<p data-block-key=\"v4qbf\">In the case of insolvency or death without heirs, the inventory was usually compiled before the goods\\' seizure and forced sale, which were documented in the settlements books of the court (<i>Verrechnungsbücher</i>). The first time the city council seized the movables of a person designated as <i>bankart</i>, i.e. as an illegitimately born person who died without children, was at the end of the 15th century,<a data-footnote=\"a95bdac0-9e3d-48f4-8b06-54e4d6f51b43\" linktype=\"footnote\">✱</a> although a corresponding entry in the account books is lacking. On the other hand, the court did not ask for an inventory in the case of Ulrich Holzapfel, who was convicted of murder and whose goods had been seized and sold in February of 1477.<a data-footnote=\"a5028e38-69fa-413a-aee0-e302af2c28db\" linktype=\"footnote\">✱</a> It seems that in the case of insolvency, inventories were considered superfluous when the proceeds of the forced sale would go to the city treasury (<i>laden</i>) or if the goods in question were deemed to be too low in value. Be that as it may, at the end of the 15th century the city of Basel chan\\xadged its policy and, in several respects, took on increasingly state-like features.</p><p data-block-key=\"7cccr\">The act of compiling an inventory was done by following an itinerary through the house common throughout most of Europe<a data-footnote=\"e93f2012-c50d-4e28-aa44-5c75ef09f60a\" linktype=\"footnote\">✱</a>: namely, the inventory process would begin at the top of the house, right under the roof, <i>Jtem oben im huß vnder dem tach...</i>, and end in the cellar.<a data-footnote=\"c533cf97-2f04-46e0-ad7d-11c546473905\" linktype=\"footnote\">✱</a> Items listed in each room were often found in boxes, chests, or other containers: <i>Jtem ein kisten darinn</i>... All kinds of movables were recorded, including household goods, tools, and materials used for work. Unlike in other areas of Europe, however, perishable foodstuffs, such as beans, grain, seed, or wine, were seldom listed in the Basel documents. Real estate, on the other hand, followed a different legal logic in the town law. In the 1478 case of a townsman named Wurzeler, for example, his heirs asked for a survey of his real estate that included a house opposite to the warden’s house, a half jucharte of vines and one and a half meadows near the gibbet.<a data-footnote=\"196dcd9f-40f4-4990-9b0c-ed23fdb47eda\" linktype=\"footnote\">✱</a> But this level of scrutiny was the exception, not the rule.</p><p data-block-key=\"f99qu\">Judging from the Basel tax books, the household effects were a part of the taxable assets. Moreover, the liquidation of these assets, or the assets themselves, consistently constituted the resources from which creditors were satisfied after the foreclosure sale. The movables were therefore not only consumer items, but also served as financial security for the very last settlement of one’s life debts. Thus, the inventories are closely connected to the Basel settlements book in which the administration fees and the creditors’ shares are recorded.</p><p data-block-key=\"4pncv\">And all over Europe, too, the household goods found in inventories are very similar in nature. They were material necessities and as such, correspond to the household essentials attested to in German-speaking regions in the so-called <a id=\"77\" linktype=\"page\">poems of household goods</a>.<a data-footnote=\"c0ea303f-1d4b-48cc-b127-0228070ad08b\" linktype=\"footnote\">✱</a> The poems invited the reader-consumer to buy; they displayed, offered, and even created demand! They were conceived as an inventory, for the poems both mimic the length of a typical inventory and guide the reader-consumer from one room to the next, with furniture and items specific to each space. In the poems, acquiring household goods is linked to wedding and New Year\\'s gift giving. A further occasion of gift giving was the birth of a child, and in the case of Nuremberg, relocation.<a data-footnote=\"5e614377-a7ae-4f1e-a07f-b55c8ea42b4a\" linktype=\"footnote\">✱</a></p><p data-block-key=\"4bs6f\">The items listed in the inventories are in general not socially marked: the cobbler, for example, owned the same things as the merchant. The social difference lies instead in the number of items and what they were made of, whether earth or clay, tin-alloy or silver, silk, cotton or wool. Over the years, the description of how items were shaped or formed dropped out of the record, and the court clerk preferred only to use diminutives, such as \"tiny,\" \"small,\" and so on, to describe them. They tell of better times when they deal with used, worn and holey items or keep alive the memory of lost children and wives.</p><p data-block-key=\"8obnl\">The lack of household items is also a strong marker of marginality and legal dependency. This is also true, somewhat paradoxically, with the absence of cre\\xadditors, for the lack of household items usually points to individuals who were only loosely integrated in the urban society, or to legally bound persons who were companions and lodgers. Women are represented in the Basel inventories to varying degrees; in the second volume there are comparatively few—9 out of 48, or about one-fifth (<a href=\"#figure-3\">Figure 3</a>). Their numbers grew in times of economic depression, as seen in volume three (1478–1481).</p>'}], 'collapsed': False, 'subsection': 'Legal Framing', 'minor_heading': True}}, {'id': '360c07f9-f67c-4686-bb1c-84bf04a64580', 'type': 'subsection', 'value': {'body': [{'id': 'c321809d-67f5-4d90-839a-eb5d2689ab44', 'type': 'text', 'value': '<p data-block-key=\"v4qbf\">The aim of the edition is to reproduce the Basel <i>Beschreibbüchlein</i> (1475‒1478) as faithfully as possible. Thus, <code>u</code>/<code>v</code> are not transcribed according to their phonetic value, but according to the spelling in the manuscript.<a data-footnote=\"b5590dc3-a2f2-4dce-9353-92b445496b08\" linktype=\"footnote\">✱</a> Abbreviations and nasal strokes are usually resolved, the latter usually with an <code>n</code>. The abbreviations for shilling (<code>ß</code>), pound (<code>lb</code>), and denarius (<code>d</code>), on the other hand, are retained as such; the Roman numerals (weight, monetary amounts, number, or year) are also not translated into Arabic numerals.<a data-footnote=\"32b58533-6af5-49dc-b092-0e07ff479f6f\" linktype=\"footnote\">✱</a> The <code>j</code> with large serif, the sign for a half unit (money and weights), cannot be represented with ordinary computer fonts; it is reproduced here as <code><s>j</s></code>. Frequently recurring phrases (<i>darzu</i>, <i>darfür</i>, etc.), which are written apart in the original, are brought together to make the text easier to read. Proper names (people, places, rivers, etc.) are written in capital letters, <i>nomina sacra</i> in lower case. Words, letters, or sentences that are crossed out are, to the extent they are decipherable, represented as such. Words or phrases added in the margin or interlinear additions are marked at the appropriate place in the text and again indicated as additions or corrections by means of a note. So are later additions, such as pagination and short comments of the editor. As far as possible, the people named in the inventories were identified in the footnotes with the help of the tax registers (conserved in the older main archive). From 1452 onward, the city kept settlements books related to the forced sale (series G); these make it possible to estimate the value of the inventoried items. The corresponding entries are put in the footnotes.</p>'}, {'id': '7e4798aa-1f57-4e80-960a-dd0847040cee', 'type': 'footnotes_placemarker', 'value': {}}], 'collapsed': False, 'subsection': 'Editorial Guidelines', 'minor_heading': True}}]\n"
     ]
    }
   ],
   "source": [
    "with schema_context('dalme'):\n",
    "    model = apps.get_model(app_label='public', model_name='collection')\n",
    "    test = model.objects.get(pk=117)\n",
    "    body = test.body\n",
    "    \n",
    "    print(body.get_prep_value())\n",
    "    "
   ]
  },
  {
   "cell_type": "code",
   "execution_count": 9,
   "id": "3d267cf9",
   "metadata": {},
   "outputs": [
    {
     "name": "stdout",
     "output_type": "stream",
     "text": [
      "[{'id': '92572534-ede1-497d-87e2-ecb919e3370d', 'type': 'main_image', 'value': 394}, {'id': 'd5893be1-52f3-4482-aac3-4bc7e033de0a', 'type': 'text', 'value': '<p data-block-key=\"8pp2a\">The inventories in this collection derive from the second volume of the Basel <i>Beschreib\\xadbüchlein</i> (1475‒1478), a series of nineteen volumes running from 1407 to 1666 found in the State Archive of the city canton of Basel (Switzerland). They were compiled by judges and other officials attached to Basel\\'s court of law. The law court produced inventories for three reasons: in cases of flight (that is, when the owner wished to evade justice); suspicion of heirlessness; and insolvency. Most of the cases edited here arose from suspected in\\xadsolvency or heirlessness.</p>'}, {'id': 'dd670e09-6091-4da9-b0b1-1ac7f93eb827', 'type': 'subsection', 'value': {'body': [{'id': '8f63bf84-eb00-467e-b29a-033d045d1eda', 'type': 'text', 'value': '<p data-block-key=\"qeq28\">The inventories in this collection document the goods of individuals from a broad spectrum of the population, ranging from a physician, a printer, and a gentleman, to a swineherd, a day laborer, and a maid. The amount of wealth is similarly broad, with some inventories covering only half a page and some filling more than ten pages. Nine of the forty-eight record the estates of women.</p>'}], 'collapsed': False, 'subsection': 'The Sample', 'minor_heading': False}}, {'id': '8f63bf84-eb00-467e-b29a-033d045d1eda', 'type': 'text', 'value': '<p data-block-key=\"qeq28\">The inventories in this collection document the goods of individuals from a broad spectrum of the population, ranging from a physician, a printer, and a gentleman, to a swineherd, a day laborer, and a maid. The amount of wealth is similarly broad, with some inventories covering only half a page and some filling more than ten pages. Nine of the forty-eight record the estates of women.</p>'}, {'id': 'ed2a4cb0-289f-4e73-a2f5-79e6e82382a6', 'type': 'subsection', 'value': {'body': [{'id': '8d50a2c4-9ad6-49d1-9c74-b616008914d2', 'type': 'text', 'value': '<p data-block-key=\"qeq28\">This collection has been edited by Prof. Dr. Gabriela Signori, Professur für Mittelalterliche Geschichte, Universität Konstanz.</p>'}], 'collapsed': False, 'subsection': 'Owner and contributors', 'minor_heading': False}}, {'id': '8d50a2c4-9ad6-49d1-9c74-b616008914d2', 'type': 'text', 'value': '<p data-block-key=\"qeq28\">This collection has been edited by Prof. Dr. Gabriela Signori, Professur für Mittelalterliche Geschichte, Universität Konstanz.</p>'}, {'id': 'b550329f-a5e5-4b09-a6fa-c975f4d5f8f2', 'type': 'subsection', 'value': {'body': [{'id': '1db7fb5b-6527-4b90-a3b3-76ac9cb315f6', 'type': 'inline_image', 'value': {'image': 402, 'caption': '<p data-block-key=\"5voui\">Cover, StABS GA K 2.</p>', 'image_id': '', 'alignment': 'right', 'dimensions': '200', 'parameters': '', 'resize_rule': 'width', 'show_caption': True}}, {'id': '6e168085-0395-4ebe-b5c4-c761545d7ee5', 'type': 'text', 'value': '<p data-block-key=\"p80l9\">Due to the abundance of everyday items found listed in household inventories, these documents have become highly valued and frequently used sources for European anthropology and for the history of material culture. The significance of the things found in this collection is the focus of Katharina Simon-Muscheid\\'s work, published under the telling title <i>Things at</i> <i>the intersection of social networks</i>, and based mainly on the Basel court inventories of the late 15th and the beginning of the 16th centuries.<a data-footnote=\"d121331f-9738-4124-b4ee-1292aa3f89d5\" linktype=\"footnote\">✱</a> As the title clearly states, the aim of her work is to dynamize the static inventory by moving things into the center of social relations.<a data-footnote=\"7b411c79-ed7d-46f1-97b6-519fe7dc0f1a\" linktype=\"footnote\">✱</a> In this respect, my present edition of the second volume of the Basel <i>Beschreib\\xadbüchlein</i> (1475‒1478) is also conceived as a tribute to an inspiring colleague who unfortunately passed away far too early. The <i>Beschreibbüchlein</i> are kept in a series of 19 volumes running from 1407 to 1666 in the State Archive of the city canton of Basel (Switzerland). The word <i>Beschreiben</i> In Middle High German means \"describing,\" and is the term usually used for the act of compiling an inventory.</p>'}], 'collapsed': True, 'subsection': 'Essay: Basel Inventories (1475‒1478)', 'minor_heading': False}}, {'id': '1db7fb5b-6527-4b90-a3b3-76ac9cb315f6', 'type': 'inline_image', 'value': {'image': 402, 'caption': '<p data-block-key=\"5voui\">Cover, StABS GA K 2.</p>', 'image_id': '', 'alignment': 'right', 'dimensions': '200', 'parameters': '', 'resize_rule': 'width', 'show_caption': True}}, {'id': '6e168085-0395-4ebe-b5c4-c761545d7ee5', 'type': 'text', 'value': '<p data-block-key=\"p80l9\">Due to the abundance of everyday items found listed in household inventories, these documents have become highly valued and frequently used sources for European anthropology and for the history of material culture. The significance of the things found in this collection is the focus of Katharina Simon-Muscheid\\'s work, published under the telling title <i>Things at</i> <i>the intersection of social networks</i>, and based mainly on the Basel court inventories of the late 15th and the beginning of the 16th centuries.<a data-footnote=\"d121331f-9738-4124-b4ee-1292aa3f89d5\" linktype=\"footnote\">✱</a> As the title clearly states, the aim of her work is to dynamize the static inventory by moving things into the center of social relations.<a data-footnote=\"7b411c79-ed7d-46f1-97b6-519fe7dc0f1a\" linktype=\"footnote\">✱</a> In this respect, my present edition of the second volume of the Basel <i>Beschreib\\xadbüchlein</i> (1475‒1478) is also conceived as a tribute to an inspiring colleague who unfortunately passed away far too early. The <i>Beschreibbüchlein</i> are kept in a series of 19 volumes running from 1407 to 1666 in the State Archive of the city canton of Basel (Switzerland). The word <i>Beschreiben</i> In Middle High German means \"describing,\" and is the term usually used for the act of compiling an inventory.</p>'}, {'id': '6dd6eeeb-1fec-4e4a-8292-cab12655c4cc', 'type': 'subsection', 'value': {'body': [{'id': '6b554c69-4ad0-477a-b066-e4f0a76552d0', 'type': 'text', 'value': '<p data-block-key=\"gc5jt\">The purpose of an inventory, of course, is not to see items in motion, but rather to capture a moment in time when they belonged to one person\\'s estate, so as to prevent their loss to greedy kinsmen or creditors, for example. But above all, the inventory is a legal means used in both civil and criminal jurisdictions — more precisely, as an instrument for securing justice.<a data-footnote=\"87e33c54-ace8-499f-9066-2fbb04f18b4e\" linktype=\"footnote\">✱</a> The records of these two fields of law (civil and criminal) are kept in different places in the Basel State Archive. The books of the penal jurisdiction are assigned to the council books in the older, main archive (<i>älteres</i> <i>Hauptarchiv</i>), whereas the books of the civil jurisdiction are ranged in the court archive, which form a section of the <i>ältere Nebenarchive</i>.<a data-footnote=\"2d4db542-6c6f-4abe-a707-ddbe333f7a39\" linktype=\"footnote\">✱</a> The separation between <i>Haupt</i>- and <i>Nebenarchiv</i>, between politics and justice, is not contemporary; it took place at the end of the 19th century when archives all over Europe were being reorganized, following the spirit of the age.<a data-footnote=\"4d879d29-bf84-4c75-a335-d179e3808923\" linktype=\"footnote\">✱</a> As witness hearings (<i>Kundschaften</i>), the court inventories were assigned to the court archive because they are subsidiary instruments for finding and securing justice. In both cases their function essentially determines their form.</p>'}, {'id': 'e6452f0f-5856-4f2e-ad53-26141b8b5cb9', 'type': 'html', 'value': '<div class=\"table-container\" id=\"figure-1\">\\r\\n<table class=\"u-table\">\\r\\n  <caption>Figure 1: View of the Basel Court books from the Court Archive</caption>\\r\\n  <tr>\\r\\n    <th class=\"center\">Signature</th>\\r\\n    <th>Content</th> \\r\\n    <th class=\"center\">Volumes</th>\\r\\n    <th class=\"center\">Years</th>\\r\\n  </tr>\\r\\n  <tr>\\r\\n     <td class=\"center\">A</td>\\r\\n     <td>judgements (<i>Urteile</i>)</td>\\r\\n     <td class=\"center\">183</td>\\r\\n     <td class=\"center\">1394–1681</td>\\r\\n  </tr>\\r\\n  <tr>\\r\\n     <td class=\"center\">B</td>\\r\\n     <td>contracts (<I>Fertigungen</i>)</td>\\r\\n     <td class=\"center\">51</td>\\r\\n     <td class=\"center\">1420–1713</td>\\r\\n  </tr>\\r\\n  <tr>\\r\\n     <td class=\"center\">C</td>\\r\\n     <td>debt recognition (<i>Konfessate</i>)</td>\\r\\n     <td class=\"center\">39</td>\\r\\n     <td class=\"center\">1425–1644</td>\\r\\n  </tr>\\r\\n  <tr>\\r\\n     <td class=\"center\">D</td>\\r\\n     <td>witness accounts (<I>Kundschaften</i>)</td>\\r\\n     <td class=\"center\">47</td>\\r\\n     <td class=\"center\">1420–1715</td>\\r\\n  </tr>\\r\\n  <tr>\\r\\n     <td class=\"center\">E</td>\\r\\n     <td>seizures (<I>Arreste</i>, <i>Verbote</i></td>\\r\\n     <td class=\"center\">19</td>\\r\\n     <td class=\"center\">1425–1648</td>\\r\\n  </tr>\\r\\n  <tr>\\r\\n     <td class=\"center\">G</td>\\r\\n     <td>settlements (<I>Verrechnungen</i>)</td>\\r\\n     <td class=\"center\">52</td>\\r\\n     <td class=\"center\">1452–1878</td>\\r\\n  </tr>\\r\\n  <tr>\\r\\n     <td class=\"center\">K</td>\\r\\n     <td>inventories (<i>Beschreibbüchlein</i>)</td>\\r\\n     <td class=\"center\">19</td>\\r\\n     <td class=\"center\">1407–1666</td>\\r\\n  </tr>\\r\\n</table>\\r\\n</div>'}, {'id': 'c60422f6-933b-4b2f-aa19-35fb9f927779', 'type': 'text', 'value': '<p data-block-key=\"5co28\">As far as the inventory is concerned, the form consisted of two parts. Essential information about the act is found at the head of the entry, which includes the inventory\\'s date, the name of the person whose goods are being inventoried, sometimes the place where this person had lived or died, and the administrative staff involved in the proceedings. This information made it possible, if necessary, to connect the inventory to proceedings found elsewhere in the court\\'s archives, including seizures, settlements, and judgments (<a href=\"#figure-2\">Figure 2</a>).</p>'}, {'id': '9a69bfe5-0093-4e53-a6e4-be74f48a025d', 'type': 'html', 'value': '<div class=\"transcription-excerpt\">\\r\\n    <div class=\"transcription\">Anno lxx sex sexta post Corporis Christi ist Joͤrg Richwinß seligen uerlassen gůt von befelch miner herren der reten beschriben <tei-add>vnd</tei-add> funden worden:</div>\\r\\n    <div class=\"translation\">In the year 1476, the sixth day after Corporis Christi (20th juin) the goods of late Georg Richwin have been inventoried by order of the councillors, and there were found:</div>\\r\\n</div>\\r\\n<div class=\"caption\">Example from StABS GA K 2 (1475–1478), fol. 25 (Thursday, 20th June 1476).</div>'}, {'id': '72fb2a9f-fb95-4916-b14e-ac30b6cf64c1', 'type': 'inline_image', 'value': {'image': 401, 'caption': '<p data-block-key=\"czsjj\">Figure 2: Page 25.</p>', 'image_id': 'figure-2', 'alignment': 'right', 'dimensions': '200x300', 'parameters': 'no-repeat top/cover', 'resize_rule': 'background', 'show_caption': True}}, {'id': '6586c3a7-9546-4fe8-b90b-f8bdd6c86e66', 'type': 'text', 'value': '<p data-block-key=\"v4qbf\">The second part of the entry consists of the inventory itself, that is, a list of items. Some inventories fill only half a page whereas others extend over more than ten pages.</p><p data-block-key=\"4tb1d\">According to Basel town law, there were three reasons for compiling an inventory:</p><ol><li data-block-key=\"4u4fp\">In cases of flight, i.e. when an accused person was evading justice,</li><li data-block-key=\"49fi0\">If the deceased died without heirs (not defined in the town law)<a data-footnote=\"2d49cb87-a3e9-479e-aa74-92b70696b39b\" linktype=\"footnote\">✱</a>, and</li><li data-block-key=\"8e53a\">In cases of insolvency, for which Middle High German provides no technical term, but describes the persons as \"<i>lúten, der guͤt mit gericht gefroͤnt und bezogen worden were\" (</i>people whose movable and immovable property had been seized).<a data-footnote=\"688dd5be-d660-4858-949a-6cf314d7393a\" linktype=\"footnote\">✱</a></li></ol><p data-block-key=\"8p0sp\">Thus, the inventory is usually but one step in a chain of legal proceedings (<a href=\"#figure-1\">Figure 1</a>).</p><p data-block-key=\"4729u\">The inventory was compiled by the judge (<i>Schultheiss</i>), the bailiffs, and the court clerk. The compilation of the inventory was supervised by two councilors who accompanied the proceedings from the on-site inventory to the forced sale and the final satisfaction of the creditors. They had to ensure that the costs of the proceedings were kept as low as possible in the interest of the creditors, as it is emphasized in the records.<a data-footnote=\"8856423f-a933-4802-a5de-b412e7be7532\" linktype=\"footnote\">✱</a></p><p data-block-key=\"5pv80\">In the case of suspected insolvency, the creditors usually became actively involved (<i>von an\\xadruͤffung der schultforderen wegen</i>), either individually or as a collective. In the case of flight or suspected death without heirs, on the other hand, the council intervened, either by issuing a recommendation (<i>empfelniß</i>) or an order to take an inventory (<i>von befelch miner herren der reten wegen</i> or <i>geheiss</i>). Most inventories were initiated by the council or other office holders, and most cases are related to suspected in\\xadsolvency or death without heirs. Obviously, insolvency as well as heirlessness were at this time understood as \"state affair.\"<a data-footnote=\"ff552216-1fe2-4921-97a4-b8431177d152\" linktype=\"footnote\">✱</a></p>'}, {'id': 'fa476793-2808-4664-8fcf-3904b73265a4', 'type': 'html', 'value': '<div class=\"table-container\" id=\"figure-3\">\\r\\n<table class=\"u-table no-border\">\\r\\n  <caption>Figure 3: Distribution of types and initiators for <I>Beschreibbüchlein</i> K 2</caption>\\r\\n  <tr class=\"divider\">\\r\\n    <th>Beschreibbüchlein K 2 (1475–1478)</th>\\r\\n    <th class=\"right\">48 entries</th>\\r\\n  </tr>\\r\\n  <tr>\\r\\n      <td>Councillors, guildmaster, judge, court:</td>\\r\\n  </tr>\\r\\n  <tr>\\r\\n     <td class=\"indented\">befehl, befelch, befelniß</td>\\r\\n     <td class=\"right\">12</td>\\r\\n  </tr>\\r\\n  <tr>\\r\\n     <td class=\"indented\">empfehlung, empfelniß</td>\\r\\n     <td class=\"right\">6</td>\\r\\n  </tr>\\r\\n  <tr>\\r\\n     <td class=\"indented\">geheisen, geheiss</td>\\r\\n     <td class=\"right\">2</td>\\r\\n  </tr>\\r\\n  <tr>\\r\\n      <td>Creditor(s), anruͤffung (appealing to the court):</td>\\r\\n  </tr>\\r\\n  <tr>\\r\\n     <td class=\"indented\">individual creditors</td>\\r\\n     <td class=\"right\">5</td>\\r\\n  </tr>\\r\\n  <tr>\\r\\n     <td class=\"indented\">the creditor collective (schuldforderen)</td>\\r\\n     <td class=\"right\">6</td>\\r\\n  </tr>\\r\\n  <tr>\\r\\n      <td>Others:</td>\\r\\n  </tr>\\r\\n  <tr>\\r\\n     <td class=\"indented\">executors of wills (seelwärter)</td>\\r\\n     <td class=\"right\">1</td>\\r\\n  </tr>\\r\\n  <tr>\\r\\n     <td class=\"indented\">heirs</td>\\r\\n     <td class=\"right\">2</td>\\r\\n  </tr>\\r\\n</table>\\r\\n</div>'}, {'id': '4d325490-42de-4419-9967-33fd600a2f2a', 'type': 'text', 'value': '<p data-block-key=\"v4qbf\">In the case of insolvency or death without heirs, the inventory was usually compiled before the goods\\' seizure and forced sale, which were documented in the settlements books of the court (<i>Verrechnungsbücher</i>). The first time the city council seized the movables of a person designated as <i>bankart</i>, i.e. as an illegitimately born person who died without children, was at the end of the 15th century,<a data-footnote=\"4a4194d3-0c6a-4bff-a826-0b95d6ae9611\" linktype=\"footnote\">✱</a> although a corresponding entry in the account books is lacking. On the other hand, the court did not ask for an inventory in the case of Ulrich Holzapfel, who was convicted of murder and whose goods had been seized and sold in February of 1477.<a data-footnote=\"000230a2-da35-4b1c-88df-bb08fbf83413\" linktype=\"footnote\">✱</a> It seems that in the case of insolvency, inventories were considered superfluous when the proceeds of the forced sale would go to the city treasury (<i>laden</i>) or if the goods in question were deemed to be too low in value. Be that as it may, at the end of the 15th century the city of Basel chan\\xadged its policy and, in several respects, took on increasingly state-like features.</p><p data-block-key=\"7cccr\">The act of compiling an inventory was done by following an itinerary through the house common throughout most of Europe<a data-footnote=\"46426e39-8c49-495d-a457-fd9960a1aede\" linktype=\"footnote\">✱</a>: namely, the inventory process would begin at the top of the house, right under the roof, <i>Jtem oben im huß vnder dem tach...</i>, and end in the cellar.<a data-footnote=\"1d7cc87c-7daa-42d3-a7b6-b38708ebf401\" linktype=\"footnote\">✱</a> Items listed in each room were often found in boxes, chests, or other containers: <i>Jtem ein kisten darinn</i>... All kinds of movables were recorded, including household goods, tools, and materials used for work. Unlike in other areas of Europe, however, perishable foodstuffs, such as beans, grain, seed, or wine, were seldom listed in the Basel documents. Real estate, on the other hand, followed a different legal logic in the town law. In the 1478 case of a townsman named Wurzeler, for example, his heirs asked for a survey of his real estate that included a house opposite to the warden’s house, a half jucharte of vines and one and a half meadows near the gibbet.<a data-footnote=\"24d585eb-e4b3-476a-98e5-98a3107722cd\" linktype=\"footnote\">✱</a> But this level of scrutiny was the exception, not the rule.</p><p data-block-key=\"f99qu\">Judging from the Basel tax books, the household effects were a part of the taxable assets. Moreover, the liquidation of these assets, or the assets themselves, consistently constituted the resources from which creditors were satisfied after the foreclosure sale. The movables were therefore not only consumer items, but also served as financial security for the very last settlement of one’s life debts. Thus, the inventories are closely connected to the Basel settlements book in which the administration fees and the creditors’ shares are recorded.</p><p data-block-key=\"4pncv\">And all over Europe, too, the household goods found in inventories are very similar in nature. They were material necessities and as such, correspond to the household essentials attested to in German-speaking regions in the so-called <a id=\"77\" linktype=\"page\">poems of household goods</a>.<a data-footnote=\"88e98d3f-efa9-49df-b91a-9994d5ff97f6\" linktype=\"footnote\">✱</a> The poems invited the reader-consumer to buy; they displayed, offered, and even created demand! They were conceived as an inventory, for the poems both mimic the length of a typical inventory and guide the reader-consumer from one room to the next, with furniture and items specific to each space. In the poems, acquiring household goods is linked to wedding and New Year\\'s gift giving. A further occasion of gift giving was the birth of a child, and in the case of Nuremberg, relocation.<a data-footnote=\"a1700733-a06e-4fda-a40f-38acdb02f04f\" linktype=\"footnote\">✱</a></p><p data-block-key=\"4bs6f\">The items listed in the inventories are in general not socially marked: the cobbler, for example, owned the same things as the merchant. The social difference lies instead in the number of items and what they were made of, whether earth or clay, tin-alloy or silver, silk, cotton or wool. Over the years, the description of how items were shaped or formed dropped out of the record, and the court clerk preferred only to use diminutives, such as \"tiny,\" \"small,\" and so on, to describe them. They tell of better times when they deal with used, worn and holey items or keep alive the memory of lost children and wives.</p><p data-block-key=\"8obnl\">The lack of household items is also a strong marker of marginality and legal dependency. This is also true, somewhat paradoxically, with the absence of cre\\xadditors, for the lack of household items usually points to individuals who were only loosely integrated in the urban society, or to legally bound persons who were companions and lodgers. Women are represented in the Basel inventories to varying degrees; in the second volume there are comparatively few—9 out of 48, or about one-fifth (<a href=\"#figure-3\">Figure 3</a>). Their numbers grew in times of economic depression, as seen in volume three (1478–1481).</p>'}], 'collapsed': False, 'subsection': 'Legal Framing', 'minor_heading': True}}, {'id': '6b554c69-4ad0-477a-b066-e4f0a76552d0', 'type': 'text', 'value': '<p data-block-key=\"gc5jt\">The purpose of an inventory, of course, is not to see items in motion, but rather to capture a moment in time when they belonged to one person\\'s estate, so as to prevent their loss to greedy kinsmen or creditors, for example. But above all, the inventory is a legal means used in both civil and criminal jurisdictions — more precisely, as an instrument for securing justice.<a data-footnote=\"87e33c54-ace8-499f-9066-2fbb04f18b4e\" linktype=\"footnote\">✱</a> The records of these two fields of law (civil and criminal) are kept in different places in the Basel State Archive. The books of the penal jurisdiction are assigned to the council books in the older, main archive (<i>älteres</i> <i>Hauptarchiv</i>), whereas the books of the civil jurisdiction are ranged in the court archive, which form a section of the <i>ältere Nebenarchive</i>.<a data-footnote=\"2d4db542-6c6f-4abe-a707-ddbe333f7a39\" linktype=\"footnote\">✱</a> The separation between <i>Haupt</i>- and <i>Nebenarchiv</i>, between politics and justice, is not contemporary; it took place at the end of the 19th century when archives all over Europe were being reorganized, following the spirit of the age.<a data-footnote=\"4d879d29-bf84-4c75-a335-d179e3808923\" linktype=\"footnote\">✱</a> As witness hearings (<i>Kundschaften</i>), the court inventories were assigned to the court archive because they are subsidiary instruments for finding and securing justice. In both cases their function essentially determines their form.</p>'}, {'id': 'e6452f0f-5856-4f2e-ad53-26141b8b5cb9', 'type': 'html', 'value': '<div class=\"table-container\" id=\"figure-1\">\\r\\n<table class=\"u-table\">\\r\\n  <caption>Figure 1: View of the Basel Court books from the Court Archive</caption>\\r\\n  <tr>\\r\\n    <th class=\"center\">Signature</th>\\r\\n    <th>Content</th> \\r\\n    <th class=\"center\">Volumes</th>\\r\\n    <th class=\"center\">Years</th>\\r\\n  </tr>\\r\\n  <tr>\\r\\n     <td class=\"center\">A</td>\\r\\n     <td>judgements (<i>Urteile</i>)</td>\\r\\n     <td class=\"center\">183</td>\\r\\n     <td class=\"center\">1394–1681</td>\\r\\n  </tr>\\r\\n  <tr>\\r\\n     <td class=\"center\">B</td>\\r\\n     <td>contracts (<I>Fertigungen</i>)</td>\\r\\n     <td class=\"center\">51</td>\\r\\n     <td class=\"center\">1420–1713</td>\\r\\n  </tr>\\r\\n  <tr>\\r\\n     <td class=\"center\">C</td>\\r\\n     <td>debt recognition (<i>Konfessate</i>)</td>\\r\\n     <td class=\"center\">39</td>\\r\\n     <td class=\"center\">1425–1644</td>\\r\\n  </tr>\\r\\n  <tr>\\r\\n     <td class=\"center\">D</td>\\r\\n     <td>witness accounts (<I>Kundschaften</i>)</td>\\r\\n     <td class=\"center\">47</td>\\r\\n     <td class=\"center\">1420–1715</td>\\r\\n  </tr>\\r\\n  <tr>\\r\\n     <td class=\"center\">E</td>\\r\\n     <td>seizures (<I>Arreste</i>, <i>Verbote</i></td>\\r\\n     <td class=\"center\">19</td>\\r\\n     <td class=\"center\">1425–1648</td>\\r\\n  </tr>\\r\\n  <tr>\\r\\n     <td class=\"center\">G</td>\\r\\n     <td>settlements (<I>Verrechnungen</i>)</td>\\r\\n     <td class=\"center\">52</td>\\r\\n     <td class=\"center\">1452–1878</td>\\r\\n  </tr>\\r\\n  <tr>\\r\\n     <td class=\"center\">K</td>\\r\\n     <td>inventories (<i>Beschreibbüchlein</i>)</td>\\r\\n     <td class=\"center\">19</td>\\r\\n     <td class=\"center\">1407–1666</td>\\r\\n  </tr>\\r\\n</table>\\r\\n</div>'}, {'id': 'c60422f6-933b-4b2f-aa19-35fb9f927779', 'type': 'text', 'value': '<p data-block-key=\"5co28\">As far as the inventory is concerned, the form consisted of two parts. Essential information about the act is found at the head of the entry, which includes the inventory\\'s date, the name of the person whose goods are being inventoried, sometimes the place where this person had lived or died, and the administrative staff involved in the proceedings. This information made it possible, if necessary, to connect the inventory to proceedings found elsewhere in the court\\'s archives, including seizures, settlements, and judgments (<a href=\"#figure-2\">Figure 2</a>).</p>'}, {'id': '9a69bfe5-0093-4e53-a6e4-be74f48a025d', 'type': 'html', 'value': '<div class=\"transcription-excerpt\">\\r\\n    <div class=\"transcription\">Anno lxx sex sexta post Corporis Christi ist Joͤrg Richwinß seligen uerlassen gůt von befelch miner herren der reten beschriben <tei-add>vnd</tei-add> funden worden:</div>\\r\\n    <div class=\"translation\">In the year 1476, the sixth day after Corporis Christi (20th juin) the goods of late Georg Richwin have been inventoried by order of the councillors, and there were found:</div>\\r\\n</div>\\r\\n<div class=\"caption\">Example from StABS GA K 2 (1475–1478), fol. 25 (Thursday, 20th June 1476).</div>'}, {'id': '72fb2a9f-fb95-4916-b14e-ac30b6cf64c1', 'type': 'inline_image', 'value': {'image': 401, 'caption': '<p data-block-key=\"czsjj\">Figure 2: Page 25.</p>', 'image_id': 'figure-2', 'alignment': 'right', 'dimensions': '200x300', 'parameters': 'no-repeat top/cover', 'resize_rule': 'background', 'show_caption': True}}, {'id': '6586c3a7-9546-4fe8-b90b-f8bdd6c86e66', 'type': 'text', 'value': '<p data-block-key=\"v4qbf\">The second part of the entry consists of the inventory itself, that is, a list of items. Some inventories fill only half a page whereas others extend over more than ten pages.</p><p data-block-key=\"4tb1d\">According to Basel town law, there were three reasons for compiling an inventory:</p><ol><li data-block-key=\"4u4fp\">In cases of flight, i.e. when an accused person was evading justice,</li><li data-block-key=\"49fi0\">If the deceased died without heirs (not defined in the town law)<a data-footnote=\"2d49cb87-a3e9-479e-aa74-92b70696b39b\" linktype=\"footnote\">✱</a>, and</li><li data-block-key=\"8e53a\">In cases of insolvency, for which Middle High German provides no technical term, but describes the persons as \"<i>lúten, der guͤt mit gericht gefroͤnt und bezogen worden were\" (</i>people whose movable and immovable property had been seized).<a data-footnote=\"688dd5be-d660-4858-949a-6cf314d7393a\" linktype=\"footnote\">✱</a></li></ol><p data-block-key=\"8p0sp\">Thus, the inventory is usually but one step in a chain of legal proceedings (<a href=\"#figure-1\">Figure 1</a>).</p><p data-block-key=\"4729u\">The inventory was compiled by the judge (<i>Schultheiss</i>), the bailiffs, and the court clerk. The compilation of the inventory was supervised by two councilors who accompanied the proceedings from the on-site inventory to the forced sale and the final satisfaction of the creditors. They had to ensure that the costs of the proceedings were kept as low as possible in the interest of the creditors, as it is emphasized in the records.<a data-footnote=\"8856423f-a933-4802-a5de-b412e7be7532\" linktype=\"footnote\">✱</a></p><p data-block-key=\"5pv80\">In the case of suspected insolvency, the creditors usually became actively involved (<i>von an\\xadruͤffung der schultforderen wegen</i>), either individually or as a collective. In the case of flight or suspected death without heirs, on the other hand, the council intervened, either by issuing a recommendation (<i>empfelniß</i>) or an order to take an inventory (<i>von befelch miner herren der reten wegen</i> or <i>geheiss</i>). Most inventories were initiated by the council or other office holders, and most cases are related to suspected in\\xadsolvency or death without heirs. Obviously, insolvency as well as heirlessness were at this time understood as \"state affair.\"<a data-footnote=\"ff552216-1fe2-4921-97a4-b8431177d152\" linktype=\"footnote\">✱</a></p>'}, {'id': 'fa476793-2808-4664-8fcf-3904b73265a4', 'type': 'html', 'value': '<div class=\"table-container\" id=\"figure-3\">\\r\\n<table class=\"u-table no-border\">\\r\\n  <caption>Figure 3: Distribution of types and initiators for <I>Beschreibbüchlein</i> K 2</caption>\\r\\n  <tr class=\"divider\">\\r\\n    <th>Beschreibbüchlein K 2 (1475–1478)</th>\\r\\n    <th class=\"right\">48 entries</th>\\r\\n  </tr>\\r\\n  <tr>\\r\\n      <td>Councillors, guildmaster, judge, court:</td>\\r\\n  </tr>\\r\\n  <tr>\\r\\n     <td class=\"indented\">befehl, befelch, befelniß</td>\\r\\n     <td class=\"right\">12</td>\\r\\n  </tr>\\r\\n  <tr>\\r\\n     <td class=\"indented\">empfehlung, empfelniß</td>\\r\\n     <td class=\"right\">6</td>\\r\\n  </tr>\\r\\n  <tr>\\r\\n     <td class=\"indented\">geheisen, geheiss</td>\\r\\n     <td class=\"right\">2</td>\\r\\n  </tr>\\r\\n  <tr>\\r\\n      <td>Creditor(s), anruͤffung (appealing to the court):</td>\\r\\n  </tr>\\r\\n  <tr>\\r\\n     <td class=\"indented\">individual creditors</td>\\r\\n     <td class=\"right\">5</td>\\r\\n  </tr>\\r\\n  <tr>\\r\\n     <td class=\"indented\">the creditor collective (schuldforderen)</td>\\r\\n     <td class=\"right\">6</td>\\r\\n  </tr>\\r\\n  <tr>\\r\\n      <td>Others:</td>\\r\\n  </tr>\\r\\n  <tr>\\r\\n     <td class=\"indented\">executors of wills (seelwärter)</td>\\r\\n     <td class=\"right\">1</td>\\r\\n  </tr>\\r\\n  <tr>\\r\\n     <td class=\"indented\">heirs</td>\\r\\n     <td class=\"right\">2</td>\\r\\n  </tr>\\r\\n</table>\\r\\n</div>'}, {'id': '4d325490-42de-4419-9967-33fd600a2f2a', 'type': 'text', 'value': '<p data-block-key=\"v4qbf\">In the case of insolvency or death without heirs, the inventory was usually compiled before the goods\\' seizure and forced sale, which were documented in the settlements books of the court (<i>Verrechnungsbücher</i>). The first time the city council seized the movables of a person designated as <i>bankart</i>, i.e. as an illegitimately born person who died without children, was at the end of the 15th century,<a data-footnote=\"4a4194d3-0c6a-4bff-a826-0b95d6ae9611\" linktype=\"footnote\">✱</a> although a corresponding entry in the account books is lacking. On the other hand, the court did not ask for an inventory in the case of Ulrich Holzapfel, who was convicted of murder and whose goods had been seized and sold in February of 1477.<a data-footnote=\"000230a2-da35-4b1c-88df-bb08fbf83413\" linktype=\"footnote\">✱</a> It seems that in the case of insolvency, inventories were considered superfluous when the proceeds of the forced sale would go to the city treasury (<i>laden</i>) or if the goods in question were deemed to be too low in value. Be that as it may, at the end of the 15th century the city of Basel chan\\xadged its policy and, in several respects, took on increasingly state-like features.</p><p data-block-key=\"7cccr\">The act of compiling an inventory was done by following an itinerary through the house common throughout most of Europe<a data-footnote=\"46426e39-8c49-495d-a457-fd9960a1aede\" linktype=\"footnote\">✱</a>: namely, the inventory process would begin at the top of the house, right under the roof, <i>Jtem oben im huß vnder dem tach...</i>, and end in the cellar.<a data-footnote=\"1d7cc87c-7daa-42d3-a7b6-b38708ebf401\" linktype=\"footnote\">✱</a> Items listed in each room were often found in boxes, chests, or other containers: <i>Jtem ein kisten darinn</i>... All kinds of movables were recorded, including household goods, tools, and materials used for work. Unlike in other areas of Europe, however, perishable foodstuffs, such as beans, grain, seed, or wine, were seldom listed in the Basel documents. Real estate, on the other hand, followed a different legal logic in the town law. In the 1478 case of a townsman named Wurzeler, for example, his heirs asked for a survey of his real estate that included a house opposite to the warden’s house, a half jucharte of vines and one and a half meadows near the gibbet.<a data-footnote=\"24d585eb-e4b3-476a-98e5-98a3107722cd\" linktype=\"footnote\">✱</a> But this level of scrutiny was the exception, not the rule.</p><p data-block-key=\"f99qu\">Judging from the Basel tax books, the household effects were a part of the taxable assets. Moreover, the liquidation of these assets, or the assets themselves, consistently constituted the resources from which creditors were satisfied after the foreclosure sale. The movables were therefore not only consumer items, but also served as financial security for the very last settlement of one’s life debts. Thus, the inventories are closely connected to the Basel settlements book in which the administration fees and the creditors’ shares are recorded.</p><p data-block-key=\"4pncv\">And all over Europe, too, the household goods found in inventories are very similar in nature. They were material necessities and as such, correspond to the household essentials attested to in German-speaking regions in the so-called <a id=\"77\" linktype=\"page\">poems of household goods</a>.<a data-footnote=\"88e98d3f-efa9-49df-b91a-9994d5ff97f6\" linktype=\"footnote\">✱</a> The poems invited the reader-consumer to buy; they displayed, offered, and even created demand! They were conceived as an inventory, for the poems both mimic the length of a typical inventory and guide the reader-consumer from one room to the next, with furniture and items specific to each space. In the poems, acquiring household goods is linked to wedding and New Year\\'s gift giving. A further occasion of gift giving was the birth of a child, and in the case of Nuremberg, relocation.<a data-footnote=\"a1700733-a06e-4fda-a40f-38acdb02f04f\" linktype=\"footnote\">✱</a></p><p data-block-key=\"4bs6f\">The items listed in the inventories are in general not socially marked: the cobbler, for example, owned the same things as the merchant. The social difference lies instead in the number of items and what they were made of, whether earth or clay, tin-alloy or silver, silk, cotton or wool. Over the years, the description of how items were shaped or formed dropped out of the record, and the court clerk preferred only to use diminutives, such as \"tiny,\" \"small,\" and so on, to describe them. They tell of better times when they deal with used, worn and holey items or keep alive the memory of lost children and wives.</p><p data-block-key=\"8obnl\">The lack of household items is also a strong marker of marginality and legal dependency. This is also true, somewhat paradoxically, with the absence of cre\\xadditors, for the lack of household items usually points to individuals who were only loosely integrated in the urban society, or to legally bound persons who were companions and lodgers. Women are represented in the Basel inventories to varying degrees; in the second volume there are comparatively few—9 out of 48, or about one-fifth (<a href=\"#figure-3\">Figure 3</a>). Their numbers grew in times of economic depression, as seen in volume three (1478–1481).</p>'}, {'id': '360c07f9-f67c-4686-bb1c-84bf04a64580', 'type': 'subsection', 'value': {'body': [{'id': 'c321809d-67f5-4d90-839a-eb5d2689ab44', 'type': 'text', 'value': '<p data-block-key=\"v4qbf\">The aim of the edition is to reproduce the Basel <i>Beschreibbüchlein</i> (1475‒1478) as faithfully as possible. Thus, <code>u</code>/<code>v</code> are not transcribed according to their phonetic value, but according to the spelling in the manuscript.<a data-footnote=\"98965eeb-e364-4cde-bc55-1d081cdcbd08\" linktype=\"footnote\">✱</a> Abbreviations and nasal strokes are usually resolved, the latter usually with an <code>n</code>. The abbreviations for shilling (<code>ß</code>), pound (<code>lb</code>), and denarius (<code>d</code>), on the other hand, are retained as such; the Roman numerals (weight, monetary amounts, number, or year) are also not translated into Arabic numerals.<a data-footnote=\"8a88a8c7-61ea-4f7b-ad37-945652c22209\" linktype=\"footnote\">✱</a> The <code>j</code> with large serif, the sign for a half unit (money and weights), cannot be represented with ordinary computer fonts; it is reproduced here as <code><s>j</s></code>. Frequently recurring phrases (<i>darzu</i>, <i>darfür</i>, etc.), which are written apart in the original, are brought together to make the text easier to read. Proper names (people, places, rivers, etc.) are written in capital letters, <i>nomina sacra</i> in lower case. Words, letters, or sentences that are crossed out are, to the extent they are decipherable, represented as such. Words or phrases added in the margin or interlinear additions are marked at the appropriate place in the text and again indicated as additions or corrections by means of a note. So are later additions, such as pagination and short comments of the editor. As far as possible, the people named in the inventories were identified in the footnotes with the help of the tax registers (conserved in the older main archive). From 1452 onward, the city kept settlements books related to the forced sale (series G); these make it possible to estimate the value of the inventoried items. The corresponding entries are put in the footnotes.</p>'}, {'id': '7e4798aa-1f57-4e80-960a-dd0847040cee', 'type': 'footnotes_placemarker', 'value': {}}], 'collapsed': False, 'subsection': 'Editorial Guidelines', 'minor_heading': True}}, {'id': 'c321809d-67f5-4d90-839a-eb5d2689ab44', 'type': 'text', 'value': '<p data-block-key=\"v4qbf\">The aim of the edition is to reproduce the Basel <i>Beschreibbüchlein</i> (1475‒1478) as faithfully as possible. Thus, <code>u</code>/<code>v</code> are not transcribed according to their phonetic value, but according to the spelling in the manuscript.<a data-footnote=\"98965eeb-e364-4cde-bc55-1d081cdcbd08\" linktype=\"footnote\">✱</a> Abbreviations and nasal strokes are usually resolved, the latter usually with an <code>n</code>. The abbreviations for shilling (<code>ß</code>), pound (<code>lb</code>), and denarius (<code>d</code>), on the other hand, are retained as such; the Roman numerals (weight, monetary amounts, number, or year) are also not translated into Arabic numerals.<a data-footnote=\"8a88a8c7-61ea-4f7b-ad37-945652c22209\" linktype=\"footnote\">✱</a> The <code>j</code> with large serif, the sign for a half unit (money and weights), cannot be represented with ordinary computer fonts; it is reproduced here as <code><s>j</s></code>. Frequently recurring phrases (<i>darzu</i>, <i>darfür</i>, etc.), which are written apart in the original, are brought together to make the text easier to read. Proper names (people, places, rivers, etc.) are written in capital letters, <i>nomina sacra</i> in lower case. Words, letters, or sentences that are crossed out are, to the extent they are decipherable, represented as such. Words or phrases added in the margin or interlinear additions are marked at the appropriate place in the text and again indicated as additions or corrections by means of a note. So are later additions, such as pagination and short comments of the editor. As far as possible, the people named in the inventories were identified in the footnotes with the help of the tax registers (conserved in the older main archive). From 1452 onward, the city kept settlements books related to the forced sale (series G); these make it possible to estimate the value of the inventoried items. The corresponding entries are put in the footnotes.</p>'}, {'id': '7e4798aa-1f57-4e80-960a-dd0847040cee', 'type': 'footnotes_placemarker', 'value': {}}]\n"
     ]
    }
   ],
   "source": [
    "with schema_context('dalme'):\n",
    "    model = apps.get_model(app_label='public', model_name='collection')\n",
    "    test = model.objects.get(pk=117)\n",
    "    \n",
    "    body = test.body.get_prep_value()\n",
    "    new_body = []\n",
    "    subsection = None\n",
    "    for block in body:\n",
    "        if block.get('type') in ['subsection', 'subsection_end_marker']:\n",
    "            if subsection is None:\n",
    "                subsection = block.copy()\n",
    "            else:\n",
    "                new_body.append(subsection)\n",
    "                if block.get('type') == 'subsection':\n",
    "                    subsection = block.copy()\n",
    "        else:\n",
    "            if subsection is not None:\n",
    "                subsection['value']['body'].append(block)\n",
    "            else:\n",
    "                new_body.append(block)\n",
    "    \n",
    "    \n",
    "    test.body = body.stream_block.to_python(new_body)\n",
    "    "
   ]
  },
  {
   "cell_type": "code",
   "execution_count": null,
   "id": "010b406a",
   "metadata": {},
   "outputs": [],
   "source": []
  },
  {
   "cell_type": "code",
   "execution_count": 2,
   "id": "518b2fdd",
   "metadata": {},
   "outputs": [],
   "source": [
    "REFERENCE_HREF = re.compile(r'(?:(?:http|https)://dalme.org)?/project/bibliography/#([A-Z0-9]{8})')\n",
    "\n",
    "REF_CITATIONS = {\n",
    "    '6YDI5HL6': '(Smith, 2020)',\n",
    "    'WJLVYXYP': '(Sibon, 2011)',\n",
    "    'LYJR5IHM': '(Coulet, 2004)',\n",
    "    'TS749RWH': '(Baratier, 1961)',\n",
    "    '6NUFKTEG': '(Mély & Bishop, 1892)',\n",
    "    'F2FFVVX8': '(Volkert, 1982)',\n",
    "    '3GJ5F9HJ': '(Coulet, 2004)',\n",
    "    'ER34URS8': '(Le Roux de Lincy, 1846)',\n",
    "    '5QK2S98X': '(Barnel, 1999)',\n",
    "    'L9ALQFNF': '(Ripert, Barnel, Bresc, Herbeth, & Colin, 1993)',\n",
    "    'BZ53KGMW': '(Stouff, 1996)',\n",
    "    'IFRJ2YQ6': '(Smail, Pizzorno, & Hay, 2020)',\n",
    "    'UH5EUVZC': '(Villard, 1907)',\n",
    "    'NY7H8NIH': '(Ferrand, 2017)',\n",
    "    'DBB2IVEC': '(Livi, 1928)',\n",
    "    'SA6QKDAR': '(Longhi, 2020)',\n",
    "    'YX4Y4RRJ': '(Barry, 1898)',\n",
    "    'XAQBR8XE': '(Teaching Medieval Slavery and Captivity, n.d.)',\n",
    "    'VZQ5BBTG': '(Origo, 1955)',\n",
    "    'JHH4LIGY': '(Fernandes, Liberato, Marques, & Cunha, 2017)',\n",
    "    '6VZUI7JY': '(Oliver, 2016)',\n",
    "    'ZZXGLVMZ': '(Rigaud, 1996)',\n",
    "    'ZUMTQ5B9': '(Reitzel, 1980)',\n",
    "    '2RUWVY7B': '(Howell, 1996)',\n",
    "}\n"
   ]
  },
  {
   "cell_type": "code",
   "execution_count": 3,
   "id": "a71c27ea",
   "metadata": {},
   "outputs": [],
   "source": [
    "def get_fields_by_type(model, field_types, as_map=False):\n",
    "    # Wagtail subclasses Django fields without redefining the method\n",
    "    # or declaring the __name__ attribute\n",
    "    # so for certain types we need to use the field's class instead\n",
    "    # of calling field.get_internal_type()\n",
    "    filter_by_class = ['RichTextField']\n",
    "\n",
    "    if not isinstance(field_types, list):\n",
    "        field_types = [field_types]\n",
    "\n",
    "    target_types = [t for t in field_types if t not in filter_by_class]\n",
    "    target_classes = [t for t in field_types if t in filter_by_class]\n",
    "\n",
    "    fields = []\n",
    "    for field in model._meta.get_fields():  # noqa: SLF001\n",
    "        try:\n",
    "            field_cls_name = str(field.__class__)[8:-2].split('.')[-1]\n",
    "            if field.get_internal_type() in target_types or field_cls_name in target_classes:\n",
    "                fields.append((field.name, field.get_internal_type()))\n",
    "        except AttributeError:  # it's a GenericForeignKey\n",
    "            continue\n",
    "    return fields if as_map else [i[0] for i in fields]"
   ]
  },
  {
   "cell_type": "code",
   "execution_count": 17,
   "id": "cebff9ca",
   "metadata": {},
   "outputs": [],
   "source": [
    "def markdown_to_html(content):\n",
    "    # <span data-footnote=\\\"For Bons-Enfants, houses of poor grammar-school students attested across northern France and francophone Flanders (as Douai),\n",
    "    # Joan M. Reitzel, &quot;[The Medieval House of Bons-Enfants](http://dalme.org/project/bibliography/#ZUMTQ5B9),&quot; _Viator_ 11 (1980): 179-207.\\\"\n",
    "    # data-note_id=\\\"1fe36ff5-2e03-4890-82b1-71090d6333d7\\\">✱</span>\n",
    "    soup = BeautifulSoup(markdown.markdown(content), features='lxml')\n",
    "    references = soup.find_all('a', href=REFERENCE_HREF)\n",
    "    if references:\n",
    "        soup = convert_references(soup)\n",
    "\n",
    "    return str(soup.body.findChildren(recursive=False))\n",
    "\n",
    "def convert_references(soup):\n",
    "    for ref in soup.find_all('a', href=REFERENCE_HREF):\n",
    "        # format: <a data-biblio=\"54\" data-id=\"R476GUY2\" data-reference=\"(Telliez, 2011)\" linktype=\"reference\">consumption</a>\n",
    "        match = REFERENCE_HREF.fullmatch(ref['href'])\n",
    "        if match:\n",
    "            ref['data-biblio'] = biblio_page_id\n",
    "            ref_id = match.group(1)\n",
    "            try:\n",
    "                citation = REF_CITATIONS[ref_id]\n",
    "            except KeyError:\n",
    "                citation = ''\n",
    "            ref['data-id'] = ref_id\n",
    "            ref['data-reference'] = citation  # TODO: figure out a better way to get the citation!\n",
    "            ref['linktype'] = 'reference'\n",
    "            del ref['href']\n",
    "\n",
    "    return soup\n",
    "\n",
    "def fix_entities(text, page):\n",
    "    print(\"TEXT:\", text)\n",
    "    soup = BeautifulSoup(text, features='lxml')\n",
    "    # references\n",
    "    references = soup.find_all('a', href=REFERENCE_HREF)\n",
    "    if references:\n",
    "        soup = convert_references(soup)\n",
    "\n",
    "    # footnotes\n",
    "    footnotes = soup.find_all('span', attrs={'data-footnote': True})\n",
    "    if footnotes:\n",
    "        for fn in footnotes:\n",
    "            # format: <a data-footnote=\"c847f9da-3780-4085-9426-73e7a0228b3d\" linktype=\"footnote\">✱</a>\n",
    "            fn_content = markdown_to_html(fn['data-footnote'])\n",
    "            with schema_context('dalme'):\n",
    "                from public.models import Footnote\n",
    "\n",
    "                new_footnote = Footnote.objects.create(page=page, text=fn_content)\n",
    "\n",
    "            fn.name = 'a'\n",
    "            fn['data-footnote'] = new_footnote.id\n",
    "            fn['linktype'] = 'footnote'\n",
    "            del fn['data-note_id']\n",
    "\n",
    "    # saved searches\n",
    "    # source format: <a id=\"01d5187e-2752-466e-9e7d-64e51051facd\" linktype=\"saved_search\">storage</a>\n",
    "    # target format: <a id=\"01d5187e-2752-466e-9e7d-64e51051facd\" data-saved-search=\"pansier\" linktype=\"saved_search\">dissemination</a>\n",
    "    saved_searches = soup.find_all('a', attrs={'linktype': 'saved_search'})\n",
    "    if saved_searches:\n",
    "        for ss in saved_searches:\n",
    "            try:\n",
    "                search_obj = SavedSearch.objects.get(pk=ss['id'])\n",
    "                ss['data-saved-search'] = search_obj.name\n",
    "            except:  # noqa: E722\n",
    "                print('Failed to migrate saved search entity in page')\n",
    "\n",
    "    result = str(soup.body.findChildren(recursive=False))\n",
    "    print(\"RESULT:\", result)\n",
    "                \n",
    "    return result\n",
    "\n",
    "def process_content_field(field_value, field_type, obj):\n",
    "    if field_type == 'JSONField':\n",
    "        if isinstance(field_value, dict):\n",
    "            content = json.loads(field_value['body'])\n",
    "            for block in content:\n",
    "                if isinstance(block, dict) and block.get('type') == 'text':  # noqa: SIM102\n",
    "                    if block.get('value') and isinstance(block.get('value'), list):\n",
    "                        block['value'] = fix_entities(block['value'], obj)\n",
    "\n",
    "            field_value['body'] = json.dumps(content)\n",
    "\n",
    "        else:\n",
    "            for block in field_value:\n",
    "                if block.block_type == 'text':\n",
    "                    raw = block.block.get_prep_value(block.value)\n",
    "                    print(\"VALUE\", raw)\n",
    "                    new_content = fix_entities(raw, obj)                    \n",
    "#                     block.value = block.block.to_python(\n",
    "#                         fix_entities(\n",
    "#                             block.block.get_prep_value(block.value),\n",
    "#                             obj,\n",
    "#                         )\n",
    "#                     )\n",
    "\n",
    "    else:\n",
    "        field_value = fix_entities(field_value, obj)\n",
    "\n",
    "    return field_value\n",
    "\n",
    "def biblio_page_id():\n",
    "    with schema_context('dalme'):\n",
    "        from public.models import Bibliography\n",
    "\n",
    "        return Bibliography.objects.first().page_ptr_id\n"
   ]
  },
  {
   "cell_type": "code",
   "execution_count": 18,
   "id": "68b90a9a",
   "metadata": {},
   "outputs": [
    {
     "name": "stdout",
     "output_type": "stream",
     "text": [
      "VALUE <p data-block-key=\"b2whd\">From a collections standpoint, DALME’s main activity is to prepare editions of previously unedited inventories and other lists of objects from a number of European archives. We also re-publish existing <a href=\"/project/bibliography/#editions\">editions</a> of records from a number of locales. We are grateful to publishers who have granted us the necessary permission to re-publish editions in copyright.</p><p data-block-key=\"pr0vu\">Currently, our collections are grouped into two corpora, <i>The Household Inventories of Medieval Europe</i> and <i>The Object as Commodity</i>. Each is based on different record types, and allow scholars to pursue distinct, though complementary, research goals.</p><p data-block-key=\"25pen\"></p>\n",
      "TEXT: <p data-block-key=\"b2whd\">From a collections standpoint, DALME’s main activity is to prepare editions of previously unedited inventories and other lists of objects from a number of European archives. We also re-publish existing <a href=\"/project/bibliography/#editions\">editions</a> of records from a number of locales. We are grateful to publishers who have granted us the necessary permission to re-publish editions in copyright.</p><p data-block-key=\"pr0vu\">Currently, our collections are grouped into two corpora, <i>The Household Inventories of Medieval Europe</i> and <i>The Object as Commodity</i>. Each is based on different record types, and allow scholars to pursue distinct, though complementary, research goals.</p><p data-block-key=\"25pen\"></p>\n",
      "RESULT: [<p data-block-key=\"b2whd\">From a collections standpoint, DALME’s main activity is to prepare editions of previously unedited inventories and other lists of objects from a number of European archives. We also re-publish existing <a href=\"/project/bibliography/#editions\">editions</a> of records from a number of locales. We are grateful to publishers who have granted us the necessary permission to re-publish editions in copyright.</p>, <p data-block-key=\"pr0vu\">Currently, our collections are grouped into two corpora, <i>The Household Inventories of Medieval Europe</i> and <i>The Object as Commodity</i>. Each is based on different record types, and allow scholars to pursue distinct, though complementary, research goals.</p>, <p data-block-key=\"25pen\"></p>]\n"
     ]
    }
   ],
   "source": [
    "targets = {\n",
    "#     'wagtailcore': ['revision'],\n",
    "    'public': [\n",
    "#         'collections',\n",
    "#         'corpus',\n",
    "#         'essay',\n",
    "#         'featuredinventory',\n",
    "#         'featuredobject',\n",
    "#         'features',\n",
    "#         'flat',\n",
    "        'collections',\n",
    "    ],\n",
    "}\n",
    "\n",
    "for app_label, models in targets.items():\n",
    "    for model_name in models:\n",
    "        qualified_name = f'{app_label}_{model_name}'\n",
    "#         print('Processing \"%s\"', qualified_name)\n",
    "        with schema_context('dalme'):\n",
    "            model = apps.get_model(app_label=app_label, model_name=model_name)\n",
    "            target_fields = get_fields_by_type(model, ['JSONField', 'RichTextField'], as_map=True)\n",
    "\n",
    "            for instance in model.objects.all():\n",
    "                updated_fields = []\n",
    "                for field_name, field_type in target_fields:\n",
    "                    field_value = getattr(instance, field_name, None)\n",
    "                    if field_value:\n",
    "                        process_content_field(field_value, field_type, instance)\n",
    "#                         updated_fields.append(field_name)\n",
    "#                         setattr(\n",
    "#                             instance,\n",
    "#                             field_name,\n",
    "#                             process_content_field(field_value, field_type, instance),\n",
    "#                         )\n",
    "\n",
    "#                 instance.save(update_fields=updated_fields)"
   ]
  },
  {
   "cell_type": "code",
   "execution_count": null,
   "id": "fb1d9382",
   "metadata": {},
   "outputs": [],
   "source": []
  }
 ],
 "metadata": {
  "kernelspec": {
   "display_name": "Django Shell-Plus",
   "language": "python",
   "name": "django_extensions"
  },
  "language_info": {
   "codemirror_mode": {
    "name": "ipython",
    "version": 3
   },
   "file_extension": ".py",
   "mimetype": "text/x-python",
   "name": "python",
   "nbconvert_exporter": "python",
   "pygments_lexer": "ipython3",
   "version": "3.11.9"
  }
 },
 "nbformat": 4,
 "nbformat_minor": 5
}

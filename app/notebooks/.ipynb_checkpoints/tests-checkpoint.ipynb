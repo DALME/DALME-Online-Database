{
 "cells": [
  {
   "cell_type": "code",
   "execution_count": 1,
   "id": "887cc29c",
   "metadata": {},
   "outputs": [],
   "source": [
    "import os\n",
    "import re\n",
    "import json\n",
    "\n",
    "import markdown\n",
    "from bs4 import BeautifulSoup\n",
    "from django_tenants.utils import schema_context\n",
    "\n",
    "from django.apps import apps\n",
    "from django.db import connection\n",
    "from django.contrib.contenttypes.models import ContentType"
   ]
  },
  {
   "cell_type": "code",
   "execution_count": 2,
   "id": "210c087e",
   "metadata": {},
   "outputs": [],
   "source": [
    "\n",
    "REFERENCE_HREF = re.compile(r'(?:(?:http|https)://dalme.org)?/project/bibliography/#([A-Z0-9]{8})')\n",
    "BIBLIO_IDS = []\n"
   ]
  },
  {
   "cell_type": "code",
   "execution_count": 3,
   "id": "c29b666f",
   "metadata": {},
   "outputs": [],
   "source": [
    "def get_class_name(obj):\n",
    "    return str(obj.__class__)[8:-2].split('.')[-1]\n",
    "\n",
    "def get_fields_by_type(model, field_types, as_map=False):\n",
    "    # Wagtail subclasses Django fields without redefining the method\n",
    "    # or declaring the __name__ attribute\n",
    "    # so for certain types we need to use the field's class instead\n",
    "    # of calling field.get_internal_type()\n",
    "    filter_by_class = ['RichTextField']\n",
    "\n",
    "    if not isinstance(field_types, list):\n",
    "        field_types = [field_types]\n",
    "\n",
    "    target_types = [t for t in field_types if t not in filter_by_class]\n",
    "    target_classes = [t for t in field_types if t in filter_by_class]\n",
    "\n",
    "    fields = []\n",
    "    for field in model._meta.get_fields():  # noqa: SLF001\n",
    "        try:\n",
    "            field_cls_name = get_class_name(field)\n",
    "            if field.get_internal_type() in target_types or field_cls_name in target_classes:\n",
    "                fields.append((field.name, field.get_internal_type()))\n",
    "        except AttributeError:  # it's a GenericForeignKey\n",
    "            continue\n",
    "    return fields if as_map else [i[0] for i in fields]\n"
   ]
  },
  {
   "cell_type": "code",
   "execution_count": 4,
   "id": "1639e437",
   "metadata": {},
   "outputs": [],
   "source": [
    "\n",
    "def markdown_to_html(content):\n",
    "    # <span data-footnote=\\\"For Bons-Enfants, houses of poor grammar-school students attested across northern France and francophone Flanders (as Douai),\n",
    "    # Joan M. Reitzel, &quot;[The Medieval House of Bons-Enfants](http://dalme.org/project/bibliography/#ZUMTQ5B9),&quot; _Viator_ 11 (1980): 179-207.\\\"\n",
    "    # data-note_id=\\\"1fe36ff5-2e03-4890-82b1-71090d6333d7\\\">✱</span>\n",
    "    soup = BeautifulSoup(markdown.markdown(content), features='lxml')\n",
    "    references = soup.find_all('a', href=REFERENCE_HREF)\n",
    "    if references:\n",
    "        soup = convert_references(soup)\n",
    "\n",
    "    return str(soup.body.findChildren(recursive=False))\n",
    "\n",
    "def convert_references(soup):\n",
    "    for ref in soup.find_all('a', href=REFERENCE_HREF):\n",
    "        # format: <a data-biblio=\"54\" data-id=\"R476GUY2\" data-reference=\"(Telliez, 2011)\" linktype=\"reference\">consumption</a>\n",
    "        match = REFERENCE_HREF.fullmatch(ref['href'])\n",
    "        if match:\n",
    "            ref['data-biblio'] = biblio_page_id()\n",
    "            ref_id = match.group(1)\n",
    "            BIBLIO_IDS.append(ref_id)\n",
    "            ref['data-id'] = ref_id\n",
    "            # ref['data-reference'] = TODO: figure out a way to get the citation!\n",
    "            ref['linktype'] = 'reference'\n",
    "            del ref['href']\n",
    "\n",
    "    return soup\n",
    "\n",
    "def fix_entities(text, page):\n",
    "    soup = BeautifulSoup(text, features='lxml')\n",
    "    # references\n",
    "    references = soup.find_all('a', href=REFERENCE_HREF)\n",
    "    if references:\n",
    "        soup = convert_references(soup)\n",
    "\n",
    "    # footnotes\n",
    "    footnotes = soup.find_all('span', attrs={'data-footnote': True})\n",
    "    if footnotes:\n",
    "        for fn in footnotes:\n",
    "            # format: <a data-footnote=\"c847f9da-3780-4085-9426-73e7a0228b3d\" linktype=\"footnote\">✱</a>\n",
    "            fn_content = markdown_to_html(fn['data-footnote'])\n",
    "            with schema_context('dalme'):\n",
    "                from public.models import Footnote\n",
    "\n",
    "                new_footnote = Footnote.objects.create(page=page, text=fn_content)\n",
    "\n",
    "            fn.name = 'a'\n",
    "            fn['data-footnote'] = new_footnote.id\n",
    "            fn['linktype'] = 'footnote'\n",
    "            del fn['data-note_id']\n",
    "\n",
    "    return str(soup.body.findChildren(recursive=False))\n",
    "\n",
    "def process_content_field(field_value, field_type, obj):\n",
    "    if field_type == 'JSONField':\n",
    "        if isinstance(field_value, dict):\n",
    "            content = json.loads(field_value['body'])\n",
    "            for block in content:\n",
    "                if isinstance(block, dict) and block.get('type') == 'text':  # noqa: SIM102\n",
    "                    if block.get('value') and isinstance(block.get('value'), list):\n",
    "                        block['value'] = fix_entities(block['value'], obj)\n",
    "\n",
    "            field_value['body'] = json.dumps(content)\n",
    "            \n",
    "        else:\n",
    "            for block in field_value:\n",
    "                if block.block_type == 'text':\n",
    "                    block.value = block.to_python(\n",
    "                        fix_entities(block.get_prep_value(), obj)\n",
    "                    )\n",
    "\n",
    "    else:\n",
    "        field_value = fix_entities(field_value, obj)\n",
    "\n",
    "    return field_value\n",
    "\n",
    "def biblio_page_id():\n",
    "    with schema_context('dalme'):\n",
    "        from public.models import Bibliography\n",
    "\n",
    "        return Bibliography.objects.first().page_ptr_id\n"
   ]
  },
  {
   "cell_type": "code",
   "execution_count": 5,
   "id": "1391b07c",
   "metadata": {},
   "outputs": [
    {
     "name": "stdout",
     "output_type": "stream",
     "text": [
      "Processing wagtailcore_revision\n",
      "Processing public_collection\n"
     ]
    },
    {
     "ename": "AttributeError",
     "evalue": "'StreamChild' object has no attribute 'to_python'",
     "output_type": "error",
     "traceback": [
      "\u001b[0;31m---------------------------------------------------------------------------\u001b[0m",
      "\u001b[0;31mAttributeError\u001b[0m                            Traceback (most recent call last)",
      "Cell \u001b[0;32mIn[5], line 33\u001b[0m\n\u001b[1;32m     28\u001b[0m                     \u001b[38;5;28;01mif\u001b[39;00m field_value:\n\u001b[1;32m     29\u001b[0m                         updated_fields\u001b[38;5;241m.\u001b[39mappend(field_name)\n\u001b[1;32m     30\u001b[0m                         \u001b[38;5;28msetattr\u001b[39m(\n\u001b[1;32m     31\u001b[0m                             instance, \n\u001b[1;32m     32\u001b[0m                             field_name, \n\u001b[0;32m---> 33\u001b[0m                             \u001b[43mprocess_content_field\u001b[49m\u001b[43m(\u001b[49m\u001b[43mfield_value\u001b[49m\u001b[43m,\u001b[49m\u001b[43m \u001b[49m\u001b[43mfield_type\u001b[49m\u001b[43m,\u001b[49m\u001b[43m \u001b[49m\u001b[43minstance\u001b[49m\u001b[43m)\u001b[49m,\n\u001b[1;32m     34\u001b[0m                         )\n\u001b[1;32m     36\u001b[0m                 instance\u001b[38;5;241m.\u001b[39msave(update_fields\u001b[38;5;241m=\u001b[39mupdated_fields)\n\u001b[1;32m     38\u001b[0m \u001b[38;5;28mprint\u001b[39m(BIBLIO_IDS)\n",
      "Cell \u001b[0;32mIn[4], line 66\u001b[0m, in \u001b[0;36mprocess_content_field\u001b[0;34m(field_value, field_type, obj)\u001b[0m\n\u001b[1;32m     64\u001b[0m         \u001b[38;5;28;01mfor\u001b[39;00m block \u001b[38;5;129;01min\u001b[39;00m field_value:\n\u001b[1;32m     65\u001b[0m             \u001b[38;5;28;01mif\u001b[39;00m block\u001b[38;5;241m.\u001b[39mblock_type \u001b[38;5;241m==\u001b[39m \u001b[38;5;124m'\u001b[39m\u001b[38;5;124mtext\u001b[39m\u001b[38;5;124m'\u001b[39m:\n\u001b[0;32m---> 66\u001b[0m                 block\u001b[38;5;241m.\u001b[39mvalue \u001b[38;5;241m=\u001b[39m \u001b[43mblock\u001b[49m\u001b[38;5;241;43m.\u001b[39;49m\u001b[43mto_python\u001b[49m(\n\u001b[1;32m     67\u001b[0m                     fix_entities(block\u001b[38;5;241m.\u001b[39mget_prep_value(), obj)\n\u001b[1;32m     68\u001b[0m                 )\n\u001b[1;32m     70\u001b[0m \u001b[38;5;28;01melse\u001b[39;00m:\n\u001b[1;32m     71\u001b[0m     field_value \u001b[38;5;241m=\u001b[39m fix_entities(field_value, obj)\n",
      "\u001b[0;31mAttributeError\u001b[0m: 'StreamChild' object has no attribute 'to_python'"
     ]
    }
   ],
   "source": [
    "targets = {\n",
    "            'wagtailcore': ['revision'],\n",
    "            'public': [\n",
    "                # 'bibliography',\n",
    "                'collection',\n",
    "                'collections',\n",
    "                'corpus',\n",
    "                'essay',\n",
    "                'featuredinventory',\n",
    "                'featuredobject',\n",
    "                'features',\n",
    "                'flat',\n",
    "            ],\n",
    "        }\n",
    "\n",
    "for app_label, models in targets.items():\n",
    "    for model_name in models:\n",
    "        qualified_name = f'{app_label}_{model_name}'\n",
    "        print(f'Processing {qualified_name}')\n",
    "        with schema_context('dalme'):\n",
    "            model = apps.get_model(app_label=app_label, model_name=model_name)\n",
    "            target_fields = get_fields_by_type(model, ['JSONField', 'RichTextField'], as_map=True)\n",
    "\n",
    "            for instance in model.objects.all():\n",
    "                updated_fields = []\n",
    "                for field_name, field_type in target_fields:\n",
    "                    field_value = getattr(instance, field_name, None)\n",
    "                    if field_value:\n",
    "                        updated_fields.append(field_name)\n",
    "                        setattr(\n",
    "                            instance, \n",
    "                            field_name, \n",
    "                            process_content_field(field_value, field_type, instance),\n",
    "                        )\n",
    "\n",
    "                instance.save(update_fields=updated_fields)\n",
    "                \n",
    "print(BIBLIO_IDS)"
   ]
  },
  {
   "cell_type": "code",
   "execution_count": 10,
   "id": "67aff75c",
   "metadata": {},
   "outputs": [
    {
     "name": "stdout",
     "output_type": "stream",
     "text": [
      "24\n"
     ]
    },
    {
     "ename": "TypeError",
     "evalue": "the JSON object must be str, bytes or bytearray, not RawDataView",
     "output_type": "error",
     "traceback": [
      "\u001b[0;31m---------------------------------------------------------------------------\u001b[0m",
      "\u001b[0;31mTypeError\u001b[0m                                 Traceback (most recent call last)",
      "Cell \u001b[0;32mIn[10], line 18\u001b[0m\n\u001b[1;32m     15\u001b[0m         \u001b[38;5;28;01mfor\u001b[39;00m change \u001b[38;5;129;01min\u001b[39;00m changes:\n\u001b[1;32m     16\u001b[0m             payload\u001b[38;5;241m.\u001b[39minsert(\u001b[38;5;241m*\u001b[39mchange)\n\u001b[0;32m---> 18\u001b[0m     target\u001b[38;5;241m.\u001b[39mbody \u001b[38;5;241m=\u001b[39m \u001b[43mjson\u001b[49m\u001b[38;5;241;43m.\u001b[39;49m\u001b[43mloads\u001b[49m\u001b[43m(\u001b[49m\u001b[43mpayload\u001b[49m\u001b[43m)\u001b[49m\n\u001b[1;32m     19\u001b[0m     target\u001b[38;5;241m.\u001b[39msave()\n\u001b[1;32m     23\u001b[0m \u001b[38;5;66;03m#     for block in payload:\u001b[39;00m\n\u001b[1;32m     24\u001b[0m \u001b[38;5;66;03m#         if block.block_type == 'text':\u001b[39;00m\n\u001b[1;32m     25\u001b[0m \u001b[38;5;66;03m#             block.value = block.block.to_python(fix_entities(block.block.get_prep_value(block.value), target))\u001b[39;00m\n\u001b[0;32m   (...)\u001b[0m\n\u001b[1;32m     29\u001b[0m \u001b[38;5;66;03m#     target.body = payload\u001b[39;00m\n\u001b[1;32m     30\u001b[0m \u001b[38;5;66;03m#     target.save()\u001b[39;00m\n",
      "File \u001b[0;32m/usr/local/lib/python3.11/json/__init__.py:339\u001b[0m, in \u001b[0;36mloads\u001b[0;34m(s, cls, object_hook, parse_float, parse_int, parse_constant, object_pairs_hook, **kw)\u001b[0m\n\u001b[1;32m    337\u001b[0m \u001b[38;5;28;01melse\u001b[39;00m:\n\u001b[1;32m    338\u001b[0m     \u001b[38;5;28;01mif\u001b[39;00m \u001b[38;5;129;01mnot\u001b[39;00m \u001b[38;5;28misinstance\u001b[39m(s, (\u001b[38;5;28mbytes\u001b[39m, \u001b[38;5;28mbytearray\u001b[39m)):\n\u001b[0;32m--> 339\u001b[0m         \u001b[38;5;28;01mraise\u001b[39;00m \u001b[38;5;167;01mTypeError\u001b[39;00m(\u001b[38;5;124mf\u001b[39m\u001b[38;5;124m'\u001b[39m\u001b[38;5;124mthe JSON object must be str, bytes or bytearray, \u001b[39m\u001b[38;5;124m'\u001b[39m\n\u001b[1;32m    340\u001b[0m                         \u001b[38;5;124mf\u001b[39m\u001b[38;5;124m'\u001b[39m\u001b[38;5;124mnot \u001b[39m\u001b[38;5;132;01m{\u001b[39;00ms\u001b[38;5;241m.\u001b[39m\u001b[38;5;18m__class__\u001b[39m\u001b[38;5;241m.\u001b[39m\u001b[38;5;18m__name__\u001b[39m\u001b[38;5;132;01m}\u001b[39;00m\u001b[38;5;124m'\u001b[39m)\n\u001b[1;32m    341\u001b[0m     s \u001b[38;5;241m=\u001b[39m s\u001b[38;5;241m.\u001b[39mdecode(detect_encoding(s), \u001b[38;5;124m'\u001b[39m\u001b[38;5;124msurrogatepass\u001b[39m\u001b[38;5;124m'\u001b[39m)\n\u001b[1;32m    343\u001b[0m \u001b[38;5;28;01mif\u001b[39;00m (\u001b[38;5;28mcls\u001b[39m \u001b[38;5;129;01mis\u001b[39;00m \u001b[38;5;28;01mNone\u001b[39;00m \u001b[38;5;129;01mand\u001b[39;00m object_hook \u001b[38;5;129;01mis\u001b[39;00m \u001b[38;5;28;01mNone\u001b[39;00m \u001b[38;5;129;01mand\u001b[39;00m\n\u001b[1;32m    344\u001b[0m         parse_int \u001b[38;5;129;01mis\u001b[39;00m \u001b[38;5;28;01mNone\u001b[39;00m \u001b[38;5;129;01mand\u001b[39;00m parse_float \u001b[38;5;129;01mis\u001b[39;00m \u001b[38;5;28;01mNone\u001b[39;00m \u001b[38;5;129;01mand\u001b[39;00m\n\u001b[1;32m    345\u001b[0m         parse_constant \u001b[38;5;129;01mis\u001b[39;00m \u001b[38;5;28;01mNone\u001b[39;00m \u001b[38;5;129;01mand\u001b[39;00m object_pairs_hook \u001b[38;5;129;01mis\u001b[39;00m \u001b[38;5;28;01mNone\u001b[39;00m \u001b[38;5;129;01mand\u001b[39;00m \u001b[38;5;129;01mnot\u001b[39;00m kw):\n",
      "\u001b[0;31mTypeError\u001b[0m: the JSON object must be str, bytes or bytearray, not RawDataView"
     ]
    }
   ],
   "source": [
    "with schema_context('dalme'):\n",
    "    model = apps.get_model(app_label='public', model_name='Collection')\n",
    "    target = model.objects.first()\n",
    "    payload = target.body.raw_data\n",
    "    \n",
    "    changes = []\n",
    "    \n",
    "    for idx, block in enumerate(payload):\n",
    "        if block['type'] == 'text':\n",
    "            block['value'] = fix_entities(block['value'], target)\n",
    "            changes.append((idx, block))\n",
    "    \n",
    "    if changes:\n",
    "        print(len(changes))\n",
    "        for change in changes:\n",
    "            payload.insert(*change)\n",
    "    \n",
    "    target.body = payload\n",
    "    target.save()\n",
    "        \n",
    "        \n",
    "\n",
    "#     for block in payload:\n",
    "#         if block.block_type == 'text':\n",
    "#             block.value = block.block.to_python(fix_entities(block.block.get_prep_value(block.value), target))\n",
    "#             print(block.get_prep_value())\n",
    "#             print(block.block.raw_data)\n",
    "    \n",
    "#     target.body = payload\n",
    "#     target.save()\n",
    "\n",
    "\n",
    "    \n",
    "    "
   ]
  },
  {
   "cell_type": "code",
   "execution_count": 8,
   "id": "94859335",
   "metadata": {},
   "outputs": [
    {
     "name": "stdout",
     "output_type": "stream",
     "text": [
      "(2, {'id': '6c96ccc3-06cf-4441-8dd9-5670fe310f43', 'type': 'text', 'value': '[<p data-block-key=\"z0knd\">Since the early Middle Ages, cathedral communities and religious houses maintained ecclesiastical inventories, that is, itemized lists of the objects, books, vestments, and accrued “stuff” stored in the institution’s treasury or sacristy. According to <a data-biblio=\"54\" data-id=\"6NUFKTEG\" linktype=\"reference\">de Mely</a>, the earliest surviving ecclesiastical inventory is that from the abbey of St.-Riquier in Picardy.<a data-footnote=\"3fa07183-8bc2-4d76-838e-e4a714d40f64\" linktype=\"footnote\">✱</a></p>, <p data-block-key=\"cdgln\">The inventories vary in what they record, but most list or briefly detail the relics, books, liturgical objects, and vestments collected and preserved, and often recorded the names of associated donors as the objects passed from the secular world into the sacred. Indeed, since the church is an institution that does not die, objects in ecclesiastical collections were preserved over generations, in many cases surviving from the medieval period into the modern context.</p>, <p data-block-key=\"cado5\">The greatest threats to ecclesiastical objects were debts encumbered by institutions, which often used their treasure or plate as pawnable items, and religious wars or conflicts over reform including the German Wars of Religion, the Huguenot campaigns of destruction, the English Reformation, and the French Revolution. Moments of debt and war also provided the context for inventorying or re-evaluating an institution’s treasured collections.</p>, <p data-block-key=\"2dhit\">Over the years, the lists became longer and more detailed reflecting accumulated gifts but also indicative of a greater attention to detail and distinction within the descriptions of objects. By the seventeenth century, some inventories could span dozens of paper pages, producing descriptions that reflect antiquarian taste for detail, categorization, and material significance. Because religious institutions continued to exist even after the individuals charged with their care had died, it is often possible to track the same objects through the years, as they appear and reappear in successive inventories of the institutional holdings.</p>, <p data-block-key=\"1ak9u\">Ecclesiastical inventories also offer a robust and largely consistent vocabulary of description, measuring gold, silver, and gilt work in marks or pounds; referencing a vast array of liturgical vessels, books, and portable objects; and indexing in tantalizing detail countless varieties of cloth, vestiture, and reworked materials. Most ecclesiastical inventories were written in Latin and as texts held a para- or quasi-liturgical status as they were kept or stored in the sacristy or treasury and sometimes read from during specific ceremonies or offices. The vocabulary, in turn, tends to be more regular with fewer vernacular insertions or inconsistencies.</p>]'})\n"
     ]
    }
   ],
   "source": [
    "print(changes[1])"
   ]
  },
  {
   "cell_type": "code",
   "execution_count": 4,
   "id": "80cf1e1d",
   "metadata": {},
   "outputs": [
    {
     "ename": "NameError",
     "evalue": "name 'Bibliography' is not defined",
     "output_type": "error",
     "traceback": [
      "\u001b[0;31m---------------------------------------------------------------------------\u001b[0m",
      "\u001b[0;31mNameError\u001b[0m                                 Traceback (most recent call last)",
      "Cell \u001b[0;32mIn[4], line 4\u001b[0m\n\u001b[1;32m      1\u001b[0m \u001b[38;5;28;01mwith\u001b[39;00m schema_context(\u001b[38;5;124m'\u001b[39m\u001b[38;5;124mdalme\u001b[39m\u001b[38;5;124m'\u001b[39m):\n\u001b[1;32m      2\u001b[0m     \u001b[38;5;28;01mfrom\u001b[39;00m \u001b[38;5;21;01mpublic\u001b[39;00m\u001b[38;5;21;01m.\u001b[39;00m\u001b[38;5;21;01mmodels\u001b[39;00m \u001b[38;5;28;01mimport\u001b[39;00m Collection\n\u001b[0;32m----> 4\u001b[0m     biblio_page \u001b[38;5;241m=\u001b[39m \u001b[43mBibliography\u001b[49m\u001b[38;5;241m.\u001b[39mobjects\u001b[38;5;241m.\u001b[39mfirst()\n\u001b[1;32m      5\u001b[0m     body \u001b[38;5;241m=\u001b[39m biblio_page\u001b[38;5;241m.\u001b[39mbody\u001b[38;5;241m.\u001b[39mget_prep_value()\n\u001b[1;32m      6\u001b[0m     \u001b[38;5;28;01mfor\u001b[39;00m block \u001b[38;5;129;01min\u001b[39;00m body:\n",
      "\u001b[0;31mNameError\u001b[0m: name 'Bibliography' is not defined"
     ]
    }
   ],
   "source": [
    "with schema_context('dalme'):\n",
    "    from public.models import Collection\n",
    "\n",
    "    c_page = Collection.objects.first()\n",
    "    body = c_page.body.get_prep_value()\n",
    "    for block in body:\n",
    "        if block.get('type') == 'bibliography':\n",
    "            block['value'] = block['value']['collection']\n",
    "    \n",
    "    biblio_page.body = body\n",
    "#     biblio_page.body = biblio_page.body.block.to_python(body)\n",
    "\n",
    "#     biblio_page.save(update_fields=['body'])"
   ]
  },
  {
   "cell_type": "code",
   "execution_count": 9,
   "id": "70360a6a",
   "metadata": {},
   "outputs": [
    {
     "name": "stdout",
     "output_type": "stream",
     "text": [
      "str\n"
     ]
    }
   ],
   "source": [
    "with schema_context('dalme'):\n",
    "    model = apps.get_model(app_label='wagtailcore', model_name='revision')\n",
    "    target = model.objects.first()\n",
    "    print(get_class_name(target.content['body']))\n",
    "#     payload = target.body\n",
    "#     for block in payload:\n",
    "#         if block.block_type == 'text':\n",
    "#             block.value = block.block.to_python(fix_entities(block.block.get_prep_value(block.value), target))\n",
    "    \n",
    "#     target.body = payload\n",
    "#     target.save()\n"
   ]
  },
  {
   "cell_type": "code",
   "execution_count": 19,
   "id": "1a611639",
   "metadata": {},
   "outputs": [],
   "source": [
    "with schema_context('dalme'):\n",
    "    from wagtail.models import Page, Revision\n",
    "    from public.extensions.team.models import TeamRole, TeamMember\n",
    "    \n",
    "    \n",
    "    ROLES = {\n",
    "        'Project Team': TeamRole.objects.create(role='Core Team'),\n",
    "        'Contributors': TeamRole.objects.create(role='Contributor'),\n",
    "        'Advisory Board': TeamRole.objects.create(role='Advisory Board'),\n",
    "    }\n",
    "\n",
    "    people_page = Page.objects.get(title='People').specific\n",
    "    current_role = None\n",
    "    \n",
    "    for block in people_page.body:\n",
    "        if block.block_type == 'subsection':\n",
    "            block_value = block.block.get_prep_value(block.value)\n",
    "            current_role = ROLES.get(block_value.get('subsection'))\n",
    "        \n",
    "        elif block.block_type == 'person':\n",
    "            block_value = block.block.get_prep_value(block.value)\n",
    "            tm = TeamMember.objects.create(\n",
    "                name=block_value.get('name'),\n",
    "                title=block_value.get('job'),\n",
    "                affiliation=block_value.get('institution'),\n",
    "                url=block_value.get('url'),\n",
    "                photo_id=block_value.get('photo'),\n",
    "            )\n",
    "            tm.roles.add(current_role)\n",
    "\n",
    "\n",
    "            \n",
    "\n",
    "\n"
   ]
  },
  {
   "cell_type": "code",
   "execution_count": 41,
   "id": "a1e34ff7",
   "metadata": {},
   "outputs": [
    {
     "name": "stdout",
     "output_type": "stream",
     "text": [
      "StreamValue\n"
     ]
    }
   ],
   "source": [
    "with schema_context('dalme'):\n",
    "    model = apps.get_model(app_label='public', model_name='Essay')\n",
    "    target = model.objects.first()\n",
    "    print(get_class_name(target.body))\n",
    "#     payload = target.body\n",
    "#     for block in payload:\n",
    "#         if block.block_type == 'text':\n",
    "#             block.value = block.block.to_python(fix_entities(block.block.get_prep_value(block.value), target))\n",
    "    \n",
    "#     target.body = payload\n",
    "#     target.save()\n"
   ]
  },
  {
   "cell_type": "code",
   "execution_count": null,
   "id": "6ae55028",
   "metadata": {},
   "outputs": [],
   "source": []
  }
 ],
 "metadata": {
  "kernelspec": {
   "display_name": "Django Shell-Plus",
   "language": "python",
   "name": "django_extensions"
  },
  "language_info": {
   "codemirror_mode": {
    "name": "ipython",
    "version": 3
   },
   "file_extension": ".py",
   "mimetype": "text/x-python",
   "name": "python",
   "nbconvert_exporter": "python",
   "pygments_lexer": "ipython3",
   "version": "3.11.9"
  }
 },
 "nbformat": 4,
 "nbformat_minor": 5
}
